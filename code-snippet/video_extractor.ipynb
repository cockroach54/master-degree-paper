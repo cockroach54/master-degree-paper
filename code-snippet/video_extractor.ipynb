{
 "cells": [
  {
   "cell_type": "markdown",
   "metadata": {},
   "source": [
    "---\n",
    "# LG Smart Mirror Image Extraction\n",
    "> - 물체가 녹화된 비디오에서 자동으로 이미지 추출\n",
    "- 배경제거와 통계적 처리기법을 활용"
   ]
  },
  {
   "cell_type": "code",
   "execution_count": 1,
   "metadata": {
    "collapsed": true,
    "scrolled": true
   },
   "outputs": [],
   "source": [
    "import cv2\n",
    "from matplotlib import pyplot as plt\n",
    "import math\n",
    "import numpy as np\n",
    "import statistics\n",
    "import subprocess\n",
    "import os, shutil, platform\n",
    "import pandas as pd\n",
    "from glob import glob\n",
    "from tqdm import tqdm_notebook as tqdm\n",
    "from time import sleep\n",
    "from sklearn.cluster import KMeans\n",
    "from sklearn.decomposition import PCA\n",
    "from collections import Counter\n",
    "\n",
    "class ImageExtractor:\n",
    "    def __init__(self, rootPath, filename):\n",
    "        self.data = []\n",
    "        self.os = platform.system() # Windows, Linux\n",
    "        self.cap = None\n",
    "        self.errorArr = []\n",
    "        self.rawDirPath = \"\"\n",
    "        self.distArrFilitered_flat=[]  # 센터 거리값 규칙 통과한 것들 flat하게 저장\n",
    "        self.imageWidth = 224 # 추출할 이미지 너비\n",
    "        self.imageHeight = 224 # 추출할 이미지 높이 \n",
    "        self.CONSTANT_RATIO = False # 추출할 이미지 리사이징할때 ratio warp할지\n",
    "        self.n_cluster = 5 # 히스토그램 클러스터 개수\n",
    "        self.SHOW_KMEANS_PLOT = False # kmeans plot 보여줄지\n",
    "        self.candidateImages = []\n",
    "        self.itemName = os.path.splitext(filename)[0]\n",
    "        self.rootPath = rootPath\n",
    "        self.videoPath = os.path.join(self.rootPath, \"videos\", filename)\n",
    "        self.videoResizedPath = os.path.join(self.rootPath, \"videos_resized\", filename)\n",
    "        self.videoResizedDirPath = os.path.join(self.rootPath, \"videos_resized\")\n",
    "        self.imgDirPath = os.path.join(self.rootPath, \"images\", self.itemName)\n",
    "        self.imgExtDirPath = os.path.join(self.rootPath, \"images_ext\", self.itemName)\n",
    "        self.cam_model = None\n",
    "        \n",
    "        assert bool(self.itemName), \"itemName should not be null value.\"\n",
    "\n",
    "    # get video length for metadata crashed file\n",
    "    def get_video_length(self, infilename):\n",
    "        cnt=0\n",
    "        self.cap = cv2.VideoCapture(infilename)\n",
    "        while(True):\n",
    "            ret, frame = self.cap.read()\n",
    "            if ret:\n",
    "                cnt+=1\n",
    "            else: break\n",
    "        self.videoLength = cnt\n",
    "        self.cap.release()\n",
    "        return cnt\n",
    "\n",
    "    # 비디오 정보 가져오기(비디오용)\n",
    "    def get_video_info(self, infilename):\n",
    "        self.cap = cv2.VideoCapture(infilename)\n",
    "        if not self.cap.isOpened():\n",
    "            print(\"could not open :\", infilename)\n",
    "            exit(0)\n",
    "\n",
    "        self.videoLength = int(self.cap.get(cv2.CAP_PROP_FRAME_COUNT))\n",
    "        self.videoWidth = int(self.cap.get(cv2.CAP_PROP_FRAME_WIDTH))\n",
    "        self.videoHeight = int(self.cap.get(cv2.CAP_PROP_FRAME_HEIGHT))\n",
    "        self.fps = self.cap.get(cv2.CAP_PROP_FPS)\n",
    "        self.adjCenter = [self.videoWidth/2, self.videoHeight/2] # 처음엔 중심부터 탐색\n",
    "        self.cap.release()\n",
    "        return\n",
    "\n",
    "    # 비디오 리사이징(비디오용)\n",
    "    def resizeVideo(self, mode=\"resize\", crop_scsle_ratio=[0.2,0.2,0.6,0.6]):\n",
    "        \"\"\"\n",
    "        @params mode: 'resize', 'crop'\n",
    "        @params crop_scsle_ratio: [x,y,h,w] required only for 'crop' mode\n",
    "        \"\"\"\n",
    "        # get original video meta infomation\n",
    "        self.get_video_info(self.videoPath)\n",
    "\n",
    "        # 리사이징된 비디오 파일 저장 패스\n",
    "        if not os.path.isdir(self.videoResizedDirPath): os.makedirs(self.videoResizedDirPath)\n",
    "\n",
    "        # make resized video\n",
    "        if os.path.isfile(self.videoResizedPath):\n",
    "            print('[Notice]:', self.videoResizedPath, 'aleady exist. remove it!')     \n",
    "            os.remove(self.videoResizedPath)       \n",
    "\n",
    "        # 비디오 스케일 종횡비 결정\n",
    "        if mode=='crop':\n",
    "            r_xx, r_yy, r_ww, r_hh = crop_scsle_ratio\n",
    "            ww=int(self.videoWidth*r_ww)\n",
    "            hh=int(self.videoHeight*r_hh)\n",
    "            xx=int(self.videoWidth*r_xx)\n",
    "            yy=int(self.videoHeight*r_yy)\n",
    "            crop = \"crop=%d:%d:%d:%d,fps=30\"%(ww,hh,xx,yy) # w,h,x,y\n",
    "            command = ['ffmpeg', '-i', self.videoPath, '-filter:v', crop, self.videoResizedPath]\n",
    "        elif mode=='resize':\n",
    "            # 'ffmpeg -i \"video/190703/AGE20_S-essence cover tx.mp4\" -vf scale=-1:960 video/resized/out.mp4'        \n",
    "            if self.videoWidth>1000 or self.videoHeight>1000:\n",
    "                w = int(self.videoWidth/2)\n",
    "                h = int(self.videoHeight/2)\n",
    "                # scale = \"scale=-1:%d\"%(h)\n",
    "                scale = \"scale=iw/2:-1\"\n",
    "                # scale = \"scale=%d:%d\"%(w,h) # 이거 하면 원본 oritation 정보 잃어버림\n",
    "                command = ['ffmpeg', '-i', self.videoPath, '-vf', scale, self.videoResizedPath]\n",
    "            else: # just copy and rename video file\n",
    "                if self.os == 'Windows':\n",
    "                    command = ['cmd', '\\/c', 'copy', self.videoPath, self.videoResizedPath]\n",
    "                elif self.os == 'Linuix':\n",
    "                    command = ['cp', self.videoPath, self.videoResizedPath]\n",
    "\n",
    "        print('[Command]: \\n', command)\n",
    "        # 커맨드 실행    \n",
    "        try:\n",
    "            cmd_res = subprocess.check_output(command)\n",
    "            print(cmd_res)\n",
    "            print('[self.videoResizedPath]:', self.videoResizedPath)\n",
    "            self.get_video_info(self.videoResizedPath)\n",
    "        except:\n",
    "            print('***[Error occured]: ffmpeg', self.videoResizedPath)\n",
    "\n",
    "        return\n",
    "\n",
    "    # 카메라 중심에서의 거리계산 \n",
    "    def calcDist(self, d):\n",
    "#         cx = self.videoWidth/2\n",
    "#         cy = self.videoHeight/2\n",
    "        cx = self.adjCenter[0]\n",
    "        cy = self.adjCenter[1]\n",
    "        x=d[0]; y=d[1]; width=d[2]; height=d[3]\n",
    "        x_c = x+width/2\n",
    "        y_c = y+height/2\n",
    "        dist = math.sqrt((cx-x_c)**2 + (cy-y_c)**2)\n",
    "        return (d, dist)\n",
    "\n",
    "    # 면적비를 이용해 유효한 사각영역 계산\n",
    "    def mergeRect(self, rectArr, PreFrameArea, PreRect, ratio=.8):\n",
    "        # dist threshold 기준 계산\n",
    "        distArr = np.array([e[-1] for e in rectArr])\n",
    "        distDiffArr = distArr[1:] - distArr[:-1]\n",
    "        if len(rectArr)>2: threshold = statistics.median(distDiffArr)*10 # 10은 사후 검토값이므로 바뀔 수 있음\n",
    "        else: threshold = math.inf\n",
    "\n",
    "        finRec = (int(self.videoWidth/2), int(self.videoHeight/2) ,0,0)\n",
    "        netArea = self.videoHeight*self.videoWidth\n",
    "        prewidth = PreRect[2]-PreRect[0]\n",
    "        preheight = PreRect[3]-PreRect[1]\n",
    "        precalcArea = math.inf\n",
    "        predist=math.inf\n",
    "        self.distArrFilitered_flat.append(0)\n",
    "        for rect in rectArr:\n",
    "            rectOnly, dist = rect\n",
    "            x = min(finRec[0], rectOnly[0])\n",
    "            y = min(finRec[1], rectOnly[1])\n",
    "            x2= max(finRec[2], rectOnly[0]+rectOnly[2])\n",
    "            y2= max(finRec[3], rectOnly[1]+rectOnly[3])\n",
    "            width = x2-x\n",
    "            height = y2-y\n",
    "\n",
    "            # 사각 영역 합치는 주요 규칙\n",
    "            if self.calcArea([x, y, x2, y2])> netArea*ratio: break # 전체면적 비율 제한 (ratio 이상시 멈춤)\n",
    "            if self.calcArea([x, y, x2, y2])> netArea*0.2: # 초반에 전체면적대비 20%까지는 아래 조건들 무시\n",
    "                # if dist>predist*1.8: break\n",
    "                if dist-predist>threshold: break # 센터 거리값으로 제한 - 우하단에 멀리있는거 머지하는것 방지. 너무 초기에는 작동안해야 함.\n",
    "                if self.calcArea((x,y,x2,y2)) > precalcArea*1.8: break # 합치다가 갑자기 늘어나는 면적 비율 제한 (1.8배 이상시 멈춤)\n",
    "\n",
    "            if self.calcArea([x, y, x2, y2])> PreFrameArea*1.8: break # 이전 프레임에서 그린 rect보다 갑자기 늘어나는 면적 비율 제한\n",
    "            if width/prewidth>1.8 or height/preheight>1.8: break # 이전 프레임에서 그린 rect 보다 width, height 가 1.8배 늘어나는 것 제한\n",
    "            self.distArrFilitered_flat.append(dist)\n",
    "            finRec = (x,y,x2,y2)\n",
    "            precalcArea = self.calcArea(finRec)\n",
    "            predist = dist\n",
    "            # print(self.calcArea(finRec), netArea*ratio)\n",
    "        return finRec\n",
    "\n",
    "    # 카메라 중점부터 사각영역 합치기\n",
    "    def mergeByDist(self, data, PreFrameArea, PreRect, ratio=.8):    \n",
    "        rects = [self.calcDist(d) for d in data]\n",
    "        rects = sorted(rects, key=lambda x: x[-1]) # 중점 거리순으로 소팅\n",
    "        # rects = np.array(rects)\n",
    "        # pprint.pprint(rects)\n",
    "        return self.mergeRect(rects, PreFrameArea, PreRect, ratio)\n",
    "\n",
    "    # 사각형 면적 계산\n",
    "    def calcArea(self, rect):\n",
    "        return (rect[2]-rect[0])*(rect[3]-rect[1])\n",
    "\n",
    "    # 검출영역 히스토그램 저장전 trim 및 ratio 후처리\n",
    "    def trimImage(self, frame, detectedRect_orig):\n",
    "        width, height = self.imageWidth, self.imageHeight\n",
    "        ratio = height/width\n",
    "        detectedRect= list(detectedRect_orig)\n",
    "\n",
    "        detectedRect_width = detectedRect[2]-detectedRect[0]\n",
    "        detectedRect_height = detectedRect[3]-detectedRect[1]\n",
    "        \n",
    "        # trim image\n",
    "        img_trim = frame[detectedRect[1]:detectedRect[3], detectedRect[0]:detectedRect[2]] # y1, y2, x1, x2   \n",
    "        # image resizing\n",
    "        try:\n",
    "            if self.CONSTANT_RATIO: img_trim = cv2.resize(img_trim, (width, height), interpolation=cv2.INTER_CUBIC)\n",
    "\n",
    "            if(len(self.candidateImages)==0): self.candidateImages = np.stack([img_trim])\n",
    "            else: self.candidateImages = np.concatenate([self.candidateImages, [img_trim]]) # 히스토그램 이상값 검출용 저장\n",
    "        except: print('[Trim Error]:', img_trim.shape)\n",
    "            \n",
    "        return detectedRect\n",
    "\n",
    "    def _fit_KMeans(self, data, k):\n",
    "        model = KMeans(n_clusters=k, init=\"k-means++\", max_iter=100, random_state=8).fit(data)\n",
    "        centroids = model.cluster_centers_\n",
    "        \n",
    "        if(self.SHOW_KMEANS_PLOT):\n",
    "            pca = PCA(n_components=2)\n",
    "            transformed = pca.fit_transform(data)\n",
    "            transformed_centroids = pca.transform(centroids)\n",
    "\n",
    "            plt.figure(figsize=(8, 8))\n",
    "            plt.scatter(transformed[:,0], transformed[:,1], marker='o', c=model.labels_)\n",
    "            plt.scatter(transformed_centroids[:,0], transformed_centroids[:,1], marker='x', c='r')\n",
    "            for i in range(len(data)): plt.annotate(i, (transformed[i,0], transformed[i,1]))\n",
    "            for i in range(len(transformed_centroids)):\n",
    "                plt.annotate(i, (transformed_centroids[i,0], transformed_centroids[i,1]))\n",
    "\n",
    "            plt.grid(False)\n",
    "            plt.title(\"PCA&K-Means: k={}, iteration={}, score={:5.2f}\".format(k, k*10, model.score(data)))\n",
    "            plt.show()\n",
    "            \n",
    "        return model\n",
    "\n",
    "    def saveImage(self):\n",
    "        #  image histogram 계산\n",
    "        hists_r = list(map(lambda x: cv2.calcHist([x], [0], mask=None, histSize=[256], ranges=[0,256]), self.candidateImages))\n",
    "        hists_g = list(map(lambda x: cv2.calcHist([x], [1], mask=None, histSize=[256], ranges=[0,256]), self.candidateImages))\n",
    "        hists_b = list(map(lambda x: cv2.calcHist([x], [2], mask=None, histSize=[256], ranges=[0,256]), self.candidateImages))\n",
    "        hists_r = np.array(hists_r).squeeze()\n",
    "        hists_g = np.array(hists_g).squeeze()\n",
    "        hists_b = np.array(hists_b).squeeze()    \n",
    "        self.hists = np.concatenate([hists_r, hists_g, hists_b], axis=1) # n_imgs X 256*3\n",
    " \n",
    "        if(len(self.hists)<self.n_cluster):\n",
    "            print('[kmeans]: n_images -', len(self.hists), ', n_clusters -', self.n_cluster)\n",
    "            print('[kmeans]: set k=', len(self.hists))\n",
    "            kmeans = self._fit_KMeans(self.hists, len(self.hists))\n",
    "        else: kmeans = self._fit_KMeans(self.hists, self.n_cluster)\n",
    "        cluster_labels = Counter(kmeans.labels_) # 클러스터별 이미지 개수\n",
    "        cluster_dists = []\n",
    "        for i in range(len(kmeans.cluster_centers_)):\n",
    "            dist = np.linalg.norm((kmeans.cluster_centers_[i]-kmeans.cluster_centers_), axis=1)\n",
    "            dist = dist/math.sqrt(cluster_labels[i]) # 개수 많은 것은 주요 클러스터이므로 보정\n",
    "            cluster_dists.append(dist)\n",
    "        cluster_dists = np.array(cluster_dists)\n",
    "        # 나머지 클러스터들과의 가까운 것(특이값 제외) 순으로 정렬\n",
    "        # 최대 3개의 클러스터 사용\n",
    "        major_cluster = cluster_dists.sum(axis=1).argsort()[:3]\n",
    "        if(self.SHOW_KMEANS_PLOT): print('[major cluster]:', major_cluster)\n",
    "\n",
    "        self.filtered_idx = [idx in major_cluster for idx in kmeans.labels_ ]\n",
    "\n",
    "        imgDirOrig = self.imgExtDirPath\n",
    "        if not os.path.isdir(imgDirOrig): os.makedirs(imgDirOrig)\n",
    "\n",
    "        imgDirTemp = os.path.join(self.rootPath, \"temp\")\n",
    "        if not os.path.isdir(imgDirTemp): os.makedirs(imgDirTemp)\n",
    "    \n",
    "        try:\n",
    "            for idx, img_trim in enumerate(self.candidateImages[self.filtered_idx]):\n",
    "                # mask image using CAM\n",
    "                if(self.cam_model is not None):\n",
    "                    image = img_trim[:,:,::-1].copy() # GBR to RGB\n",
    "                    images_normal = self.cam_model.trans_normal(image).unsqueeze(0)\n",
    "                    images_normal = images_normal.to(self.cam_model.device)\n",
    "                    cams_scaled, masks_np = self.cam_model.getCAM(images_normal)\n",
    "                    img_trim = img_trim*masks_np[0]\n",
    "\n",
    "                imgPathOrig = os.path.join(imgDirOrig, str(self.itemName)+'_'+str(idx)+'.jpg')    \n",
    "                imgPath = os.path.join(imgDirTemp, \"temp\"+'_'+str(idx)+'.jpg')\n",
    "                cv2.imwrite(imgPath, img_trim) # 이미지 저장\n",
    "                os.rename(imgPath, imgPathOrig) #  opencv 한글 패스 저장 안되므로 temp에 만들고 이름 수정 \n",
    "                \n",
    "                imgPathOrigFlip = os.path.join(imgDirOrig, str(self.itemName)+'_flip_'+str(idx)+'.jpg')    \n",
    "                imgPathFlip = os.path.join(imgDirTemp, \"temp\"+'_flip_'+str(idx)+'.jpg')\n",
    "                cv2.imwrite(imgPathFlip, np.array(img_trim)[:,::-1,:].copy()) # vertical flip 저장\n",
    "                os.rename(imgPathFlip, imgPathOrigFlip) #  opencv 한글 패스 저장 안되므로 temp에 만들고 이름 수정 \n",
    "        except Exception as ex:\n",
    "            print('[Save Img Error:]', imgDirOrig, ex)\n",
    "\n",
    "        shutil.rmtree(imgDirTemp)\n",
    "        return\n",
    "    \n",
    "    def weight_array(self, ar, weights):\n",
    "        zipped = zip(ar, weights)\n",
    "        weighted = []\n",
    "        for i in zipped:\n",
    "            for j in range(i[1]):\n",
    "                weighted.append(i[0])\n",
    "        return np.array(weighted)    \n",
    "\n",
    "    def preprocessVideo(self, merge_ratio_limit=0.7, SHOW_IMAGE = True):\n",
    "        self.get_video_length(self.videoResizedPath)\n",
    "        self.get_video_info(self.videoResizedPath)\n",
    "        self.cap = cv2.VideoCapture(self.videoResizedPath)\n",
    "\n",
    "        # 옵션 설명 http://layer0.authentise.com/segment-background-using-computer-vision.html\n",
    "        fgbg = cv2.createBackgroundSubtractorMOG2(varThreshold=100, detectShadows=False)\n",
    "\n",
    "        allData = [] # merged rect 저장하는 배열\n",
    "        mergedAreas = [] # merged rect 넓이만저장하는 배열\n",
    "        RectArea = self.videoHeight*self.videoWidth # initiation for put preframeArea to mergeRect \n",
    "        mergedRect= (0,0,self.videoWidth,self.videoHeight)\n",
    "        self.candidateImages = []\n",
    "\n",
    "        for i in tqdm(range(self.videoLength)):\n",
    "            ret, frame = self.cap.read()\n",
    "            if ret:\n",
    "                fgmask = fgbg.apply(frame)     \n",
    "                edge = cv2.Canny(fgmask, 0,200) # bgmask에 canny edge detection 적용\n",
    "                nlabels, _labels, stats, centroids = cv2.connectedComponentsWithStats(edge)\n",
    "\n",
    "                data = []\n",
    "                for index, centroid in enumerate(centroids):\n",
    "                    if stats[index][0] == 0 and stats[index][1] == 0:  #x,y\n",
    "                        continue\n",
    "                    if np.any(np.isnan(centroid)):\n",
    "                        continue\n",
    "\n",
    "                    x, y, width, height, area = stats[index]\n",
    "                    centerX, centerY = int(centroid[0]), int(centroid[1])\n",
    "\n",
    "                    if area > 20: #  컨벡스헐 크기\n",
    "                        # 유효한 값만 저장\n",
    "                        data.append(stats[index])\n",
    "\n",
    "                        if(SHOW_IMAGE):\n",
    "                            cv2.circle(frame, (centerX, centerY), 1, (0, 255, 0), 2)\n",
    "                            cv2.rectangle(frame, (x, y), (x + width, y + height), (0, 255, 0))\n",
    "\n",
    "                data = np.array(data)\n",
    "#                 self.data.append(data)\n",
    "                if(len(data)>0):\n",
    "#                     self.adjCenter = np.average(data[:,:2], axis=0, weights=data[:,-1])\n",
    "                    self.adjCenter = np.median(self.weight_array(data[:,:2], data[:,-1]), axis=0) # area weighted median이용 해서 머지 시작점 계산\n",
    "\n",
    "                # 머지된 사각형 그리기\n",
    "                mergedRect = self.mergeByDist(data, RectArea, mergedRect, ratio=merge_ratio_limit)\n",
    "                cv2.rectangle(frame, (mergedRect[0], mergedRect[1]), (mergedRect[2], mergedRect[3]), (0, 0, 255), 2)\n",
    "                RectArea = self.calcArea(mergedRect)\n",
    "                mergedAreas.append(RectArea)\n",
    "\n",
    "                if(SHOW_IMAGE):\n",
    "                    cv2.putText(frame, str(len(allData))+' RectArea '+str(RectArea), \\\n",
    "                                (30,self.videoHeight-30),cv2.FONT_HERSHEY_SIMPLEX, 1, (100,0,225), 3) # 프레임 id, 선별영역 넓이\n",
    "                    cv2.circle(frame, (int(self.adjCenter[0]), int(self.adjCenter[1])), 1, (0,0,225), 6) # 중심점 렌더\n",
    "                    cv2.putText(frame, str(len(data)), (30,30), cv2.FONT_HERSHEY_SIMPLEX, 1, (0,0,225), 3) # 엣지 컨벡스헐 개수\n",
    "                    # 영역 각각 그리기\n",
    "                    cv2.imshow('bgsub', fgmask)\n",
    "                    cv2.imshow('edge', edge)\n",
    "                    cv2.imshow('frame',frame)\n",
    "\n",
    "\n",
    "                k = cv2.waitKey(1) & 0xff \n",
    "                if k == 27: # esc\n",
    "                    break\n",
    "\n",
    "                allData.append(mergedRect)  \n",
    "            else: break\n",
    "\n",
    "        cv2.destroyAllWindows()    \n",
    "        self.allData = allData\n",
    "        self.mergedAreas = mergedAreas\n",
    "        return\n",
    "\n",
    "    def getStatistics(self, SHOW_PLOT=True):\n",
    "        # -------------- 모든 유효한 dist 확인 -------------------\n",
    "        if(SHOW_PLOT):\n",
    "            print(\"distArrFilitered_flat_median:\", statistics.median(self.distArrFilitered_flat))\n",
    "            data_dist = np.array(self.distArrFilitered_flat[:1000])\n",
    "            plt.figure(figsize=(18,9))\n",
    "            plt.plot(data_dist[:], label=\"distArrFilitered_flat\")\n",
    "            plt.plot(data_dist[1:]-data_dist[:-1], label=\"distArrFilitered_flat diff\")\n",
    "            plt.legend(loc='upper right')\n",
    "            plt.title(\"Dist per frame\")\n",
    "            plt.show()\n",
    "\n",
    "        # --------------- 병합된 면적에서 + - 1.5 sigma 확인 (mean값 사용) -----------------------\n",
    "        mergedAreas = np.array(self.mergedAreas)\n",
    "        diff = abs(mergedAreas[1:] - mergedAreas[:-1])\n",
    "        diff_median = statistics.median(diff)\n",
    "        diff_mean = np.sum(diff)/len(diff)\n",
    "\n",
    "        # 통계량 계산\n",
    "        var= sum([math.pow(i, 2) for i in mergedAreas]) / len(mergedAreas) - math.pow(mergedAreas.mean(), 2)\n",
    "        std = math.sqrt(var)\n",
    "        upperBound = mergedAreas.mean()+ std*1.5\n",
    "        lowerBound = mergedAreas.mean()- std\n",
    "\n",
    "        # print(\"diff_median:\", diff_median, \", diff_mean:\", diff_mean)\n",
    "\n",
    "        if(SHOW_PLOT):\n",
    "            plt.figure(figsize=(18,9))\n",
    "            plt.plot(mergedAreas, label=\"mergedArea\")\n",
    "            plt.plot(abs(mergedAreas[1:] - mergedAreas[:-1]), label=\"mergedArea diff\")\n",
    "            plt.axhline(upperBound, color='r')\n",
    "            plt.axhline(lowerBound, color='r')\n",
    "            plt.legend(loc='upper right')\n",
    "            plt.title(\"Merged Rect Area\")\n",
    "            plt.show()\n",
    "\n",
    "        # ------------------ 면적비 차분 통계량 (median값 사용) -------------------------\n",
    "        mergedAreas = np.array(self.mergedAreas)\n",
    "        diff_ratio = abs(mergedAreas[1:] - mergedAreas[:-1])/mergedAreas[1:]\n",
    "        diff_ratio_median = statistics.median(diff_ratio)\n",
    "        diff_ratio_mean = np.sum(diff_ratio)/len(diff_ratio)\n",
    "\n",
    "        if(SHOW_PLOT):    \n",
    "            print('diff_ratio_median:', diff_ratio_median, ', diff_ratio_mean:', diff_ratio_mean)\n",
    "            plt.figure(figsize=(18,9))\n",
    "            plt.plot(diff_ratio, label=\"abs area ratio\")\n",
    "            plt.axhline(diff_ratio_median*7, color='r')\n",
    "            plt.axhline(diff_ratio_mean, color='g')\n",
    "            plt.legend(loc='upper right')\n",
    "            plt.title(\"Absolute area ratio\")\n",
    "            plt.show()\n",
    "\n",
    "        # ------------------- 24프레임 단위로 윈도윙 보정 -----------------------\n",
    "        meanArea24Frame=[]\n",
    "        referenceAllData=[(0, i) for i in self.allData]\n",
    "\n",
    "        if(len(mergedAreas)>=24):\n",
    "            #0-23 frame mean\n",
    "            sum_ = 0\n",
    "            for i in range(0, 24):\n",
    "                sum_ += mergedAreas[i]\n",
    "                meanArea24Frame.append(sum_/(i+1))\n",
    "\n",
    "            #24-end 24 frame mean\n",
    "            for i in range(24,len(mergedAreas)):\n",
    "                sum_ = 0\n",
    "                for j in range(24):\n",
    "                    sum_ += mergedAreas[i-j]\n",
    "                meanArea24Frame.append(sum_/24)\n",
    "\n",
    "            #check Area is much more bigger than mean (in this case twice)\n",
    "            for i in range(len(mergedAreas)):\n",
    "                # print(i, meanArea24Frame[i], mergedAreas[i])\n",
    "                if(mergedAreas[i]/meanArea24Frame[i] > 2):\n",
    "                    # print(i, 'data :',mergedAreas[i], 'mean :',meanArea24Frame[i])\n",
    "                    j = 0\n",
    "                    while(1):\n",
    "                        j += 1\n",
    "                        if(mergedAreas[i-j]/meanArea24Frame[i-j] < 2):\n",
    "                            referenceAllData[i] = (1,self.allData[i-j])\n",
    "                            # print(i, i-j, self.allData[i], self.allData[i-j],referenceAllData[i])\n",
    "                            break\n",
    "\n",
    "        self.statistics = {\n",
    "          \"upperBound\":upperBound, \n",
    "          \"lowerBound\":lowerBound, \n",
    "          \"diff_ratio_mean\":diff_ratio_mean, \n",
    "          \"diff_ratio_median\":diff_ratio_median,\n",
    "          \"referenceAllData\":referenceAllData\n",
    "        }\n",
    "        return\n",
    "\n",
    "    def extractImages(self, interval=5, SHOW_IMAGE = True):\n",
    "        print('[Extract Images]:', self.itemName)\n",
    "        idx = 0\n",
    "        shrink_ratio = 0.5 #  abnormal 관측시 5%씩 증감\n",
    "        shrink_ratio_s = 0.5\n",
    "        margin = 0.02 # 검출영역 마진\n",
    "        cnt = 0 # 저장용 프레임 체크용\n",
    "        preRect = []\n",
    "        detectedRect= [0,0,0,0]\n",
    "\n",
    "        # 추출될 이미지 저장 폴더 비우기... 비동기 버그 때문에 sleep넣음 \n",
    "        if os.path.isdir(self.imgExtDirPath): shutil.rmtree(self.imgExtDirPath)\n",
    "        sleep(0.1)\n",
    "        os.makedirs(self.imgExtDirPath)\n",
    "\n",
    "        self.cap = cv2.VideoCapture(self.videoResizedPath)\n",
    "        for i in tqdm(range(self.videoLength)):\n",
    "            ret, frame = self.cap.read()\n",
    "            if ret:\n",
    "                mergedRect = self.allData[idx]\n",
    "                frame_for_save = frame.copy()\n",
    "                if bool(preRect):\n",
    "                    # 갑작스럽게 영역의 수축/팽창이 일어나는 경우\n",
    "                    diff_area = self.calcArea(mergedRect)-self.calcArea(preRect)\n",
    "                    # 이전 영역대비 수축/팽창 비율 에러 윈도윙 보정 적용, calcArea(preRect)는 0이 아니어야함\n",
    "                    if self.statistics['referenceAllData'][idx][0] or (self.calcArea(preRect)!=0 and self.statistics['diff_ratio_median'] < abs(diff_area)/self.calcArea(preRect)):                        \n",
    "                        if(self.statistics['referenceAllData'][idx][0]):\n",
    "                            preRect = self.statistics['referenceAllData'][idx][1]\n",
    "\n",
    "                        if diff_area>0: # 갑자기 커지는 경우\n",
    "                            cv2.putText(frame, str(idx)+' abnormal dilation', (40,40), cv2.FONT_HERSHEY_SIMPLEX, 1, (0,0,225), 3)\n",
    "                            # 이전 프레임보다 줄어들면 안됨... 어차피 팽창하는 경우라\n",
    "                            x = max(preRect[0]*(1-shrink_ratio)+mergedRect[0]*shrink_ratio, 0)\n",
    "                            y = max(preRect[1]*(1-shrink_ratio)+mergedRect[1]*shrink_ratio, 0)\n",
    "                            x2 = min(preRect[2]*(1-shrink_ratio)+mergedRect[2]*shrink_ratio, self.videoWidth)\n",
    "                            y2 = min(preRect[3]*(1-shrink_ratio)+mergedRect[3]*shrink_ratio, self.videoHeight) \n",
    "                            if (x2-x)>(mergedRect[2]-mergedRect[0]):\n",
    "                                x = mergedRect[0]\n",
    "                                x2 = mergedRect[2]\n",
    "                            if (y2-y)>(mergedRect[3]-mergedRect[1]):\n",
    "                                y = mergedRect[1]\n",
    "                                y2 = mergedRect[3]\n",
    "\n",
    "                        else: # 갑자기 작아지는 경우\n",
    "                            cv2.putText(frame, str(idx)+' abnormal shrinkage', (40,40), cv2.FONT_HERSHEY_SIMPLEX, 1, (0,0,225), 3)        \n",
    "                            x = preRect[0]*(1-shrink_ratio_s)+mergedRect[0]*shrink_ratio_s\n",
    "                            y = preRect[1]*(1-shrink_ratio_s)+mergedRect[1]*shrink_ratio_s\n",
    "                            x2 = preRect[2]*(1-shrink_ratio_s)+mergedRect[2]*shrink_ratio_s\n",
    "                            y2 = preRect[3]*(1-shrink_ratio_s)+mergedRect[3]*shrink_ratio_s\n",
    "\n",
    "                        mergedRect = (int(x), int(y), int(x2), int(y2))\n",
    "\n",
    "                    # 마진 넣기\n",
    "                    width = preRect[2]-preRect[0]\n",
    "                    height = preRect[3]-preRect[1]\n",
    "                    detectedRect = (int(max(mergedRect[0]-width*margin/2, 0)),\n",
    "                                    int(max(mergedRect[1]-height*margin/2, 0)),\n",
    "                                    int(min(mergedRect[2]+width*margin/2, self.videoWidth)),\n",
    "                                    int(min(mergedRect[3]+height*margin/2, self.videoHeight)) )\n",
    "                    if(self.calcArea(detectedRect) > self.statistics['upperBound']): cv2.putText(frame, 'UPPER BOUND', (detectedRect[0], detectedRect[1]+40), cv2.FONT_HERSHEY_SIMPLEX, 1, (0,0,225), 3)        \n",
    "                    elif(self.calcArea(detectedRect) < self.statistics['lowerBound']): cv2.putText(frame, 'LOWER BOUND', (detectedRect[0], detectedRect[1]+40), cv2.FONT_HERSHEY_SIMPLEX, 1, (0,0,225), 3)        \n",
    "                    else: \n",
    "                        cnt+=1\n",
    "                        # n번째마다 저장\n",
    "                        if(cnt%interval==0): \n",
    "                            trimedRect = self.trimImage(frame_for_save, detectedRect)\n",
    "                            cv2.putText(frame, 'Candidate image', (40, self.videoHeight), cv2.FONT_HERSHEY_SIMPLEX, 1, (225,0,0), 3)        \n",
    "                            cv2.rectangle(frame, (trimedRect[0], trimedRect[1]), (trimedRect[2], trimedRect[3]), (255, 0, 0), 2)        \n",
    "\n",
    "                if idx>0: # 첫 프레임 무시\n",
    "                    preRect = mergedRect          \n",
    "\n",
    "                if SHOW_IMAGE:\n",
    "                    cv2.rectangle(frame, (mergedRect[0], mergedRect[1]), (mergedRect[2], mergedRect[3]), (0, 0, 255), 2)\n",
    "                    cv2.rectangle(frame, (detectedRect[0], detectedRect[1]), (detectedRect[2], detectedRect[3]), (0, 255, 255), 2)\n",
    "                    cv2.imshow('frame',frame)\n",
    "\n",
    "                k = cv2.waitKey(1) & 0xff \n",
    "                if k == 27: # esc\n",
    "                    break\n",
    "\n",
    "            else: break\n",
    "            idx += 1    \n",
    "\n",
    "        if self.cap: self.cap.release()\n",
    "        self.saveImage()\n",
    "        cv2.destroyAllWindows()      \n",
    "        return  "
   ]
  },
  {
   "cell_type": "code",
   "execution_count": 3,
   "metadata": {
    "scrolled": false
   },
   "outputs": [
    {
     "data": {
      "application/vnd.jupyter.widget-view+json": {
       "model_id": "ae77fe6dddb34273a8d4e3a520d7c357",
       "version_major": 2,
       "version_minor": 0
      },
      "text/plain": [
       "A Jupyter Widget"
      ]
     },
     "metadata": {},
     "output_type": "display_data"
    },
    {
     "name": "stdout",
     "output_type": "stream",
     "text": [
      "\n",
      "[Extract Images]: AHC-ONLY FOR MAN LOTION\n"
     ]
    },
    {
     "data": {
      "application/vnd.jupyter.widget-view+json": {
       "model_id": "9d662bb5830f450990b29e782ac631fe",
       "version_major": 2,
       "version_minor": 0
      },
      "text/plain": [
       "A Jupyter Widget"
      ]
     },
     "metadata": {},
     "output_type": "display_data"
    },
    {
     "name": "stdout",
     "output_type": "stream",
     "text": [
      "\n"
     ]
    },
    {
     "data": {
      "image/png": "[encoded data removed]",
      "text/plain": [
       "<Figure size 576x576 with 1 Axes>"
      ]
     },
     "metadata": {},
     "output_type": "display_data"
    },
    {
     "name": "stdout",
     "output_type": "stream",
     "text": [
      "[major cluster]: [3 1 2]\n"
     ]
    }
   ],
   "source": [
    "# 비디오 ratio 결정\n",
    "extractor.CONSTANT_RATIO = True\n",
    "# 비디오 리사이즈\n",
    "# extractor.resizeVideo(mode='crop') # mode: 'resize', 'crop'\n",
    "# 비디오 전처리\n",
    "extractor.preprocessVideo(merge_ratio_limit=.75, SHOW_IMAGE=True)\n",
    "# 통계량 추출\n",
    "extractor.getStatistics(SHOW_PLOT=False)\n",
    "# 결과 이미지 영역 크롭\n",
    "extractor.extractImages(interval=15, SHOW_IMAGE=True)"
   ]
  },
  {
   "cell_type": "code",
   "execution_count": 9,
   "metadata": {},
   "outputs": [
    {
     "data": {
      "application/vnd.jupyter.widget-view+json": {
       "model_id": "bd5659d0e4aa4c5d8f9de1c045686ac0",
       "version_major": 2,
       "version_minor": 0
      },
      "text/plain": [
       "A Jupyter Widget"
      ]
     },
     "metadata": {},
     "output_type": "display_data"
    },
    {
     "name": "stdout",
     "output_type": "stream",
     "text": [
      "('AHC-AGELESS REAL EYE CREAM FOR FACE', '.mp4')\n",
      "[Command]: \n",
      " ['ffmpeg', '-i', '.\\\\new-cosmetic-office\\\\videos\\\\AHC-AGELESS REAL EYE CREAM FOR FACE.mp4', '-vf', 'scale=iw/2:-1', '.\\\\new-cosmetic-office\\\\videos_resized\\\\AHC-AGELESS REAL EYE CREAM FOR FACE.mp4']\n",
      "b''\n",
      "[self.videoResizedPath]: .\\new-cosmetic-office\\videos_resized\\AHC-AGELESS REAL EYE CREAM FOR FACE.mp4\n"
     ]
    },
    {
     "data": {
      "application/vnd.jupyter.widget-view+json": {
       "model_id": "717d3b39cab84cfdbd3053f00e303155",
       "version_major": 2,
       "version_minor": 0
      },
      "text/plain": [
       "A Jupyter Widget"
      ]
     },
     "metadata": {},
     "output_type": "display_data"
    },
    {
     "name": "stdout",
     "output_type": "stream",
     "text": [
      "[Extract Images]: AHC-AGELESS REAL EYE CREAM FOR FACE\n"
     ]
    },
    {
     "data": {
      "application/vnd.jupyter.widget-view+json": {
       "model_id": "4aee05d4986b4badb8bd8f0084dfff75",
       "version_major": 2,
       "version_minor": 0
      },
      "text/plain": [
       "A Jupyter Widget"
      ]
     },
     "metadata": {},
     "output_type": "display_data"
    },
    {
     "name": "stdout",
     "output_type": "stream",
     "text": [
      "('AHC-Aura Secret Toneup Cream', '.mp4')\n",
      "[Command]: \n",
      " ['ffmpeg', '-i', '.\\\\new-cosmetic-office\\\\videos\\\\AHC-Aura Secret Toneup Cream.mp4', '-vf', 'scale=iw/2:-1', '.\\\\new-cosmetic-office\\\\videos_resized\\\\AHC-Aura Secret Toneup Cream.mp4']\n",
      "b''\n",
      "[self.videoResizedPath]: .\\new-cosmetic-office\\videos_resized\\AHC-Aura Secret Toneup Cream.mp4\n"
     ]
    },
    {
     "data": {
      "application/vnd.jupyter.widget-view+json": {
       "model_id": "7564ee79f0b64c7492833b746da9c28b",
       "version_major": 2,
       "version_minor": 0
      },
      "text/plain": [
       "A Jupyter Widget"
      ]
     },
     "metadata": {},
     "output_type": "display_data"
    },
    {
     "name": "stdout",
     "output_type": "stream",
     "text": [
      "[Extract Images]: AHC-Aura Secret Toneup Cream\n"
     ]
    },
    {
     "data": {
      "application/vnd.jupyter.widget-view+json": {
       "model_id": "75a5833a8e854358a8571d581b019729",
       "version_major": 2,
       "version_minor": 0
      },
      "text/plain": [
       "A Jupyter Widget"
      ]
     },
     "metadata": {},
     "output_type": "display_data"
    },
    {
     "name": "stdout",
     "output_type": "stream",
     "text": [
      "('AHC-ONLY FOR MAN LOTION', '.mp4')\n",
      "[Command]: \n",
      " ['ffmpeg', '-i', '.\\\\new-cosmetic-office\\\\videos\\\\AHC-ONLY FOR MAN LOTION.mp4', '-vf', 'scale=iw/2:-1', '.\\\\new-cosmetic-office\\\\videos_resized\\\\AHC-ONLY FOR MAN LOTION.mp4']\n",
      "b''\n",
      "[self.videoResizedPath]: .\\new-cosmetic-office\\videos_resized\\AHC-ONLY FOR MAN LOTION.mp4\n"
     ]
    },
    {
     "data": {
      "application/vnd.jupyter.widget-view+json": {
       "model_id": "f70d39b1648c47959c29bcd4d709f1ea",
       "version_major": 2,
       "version_minor": 0
      },
      "text/plain": [
       "A Jupyter Widget"
      ]
     },
     "metadata": {},
     "output_type": "display_data"
    },
    {
     "name": "stdout",
     "output_type": "stream",
     "text": [
      "[Extract Images]: AHC-ONLY FOR MAN LOTION\n"
     ]
    },
    {
     "data": {
      "application/vnd.jupyter.widget-view+json": {
       "model_id": "c72f62ca285e4b3fbf3bd5337af67142",
       "version_major": 2,
       "version_minor": 0
      },
      "text/plain": [
       "A Jupyter Widget"
      ]
     },
     "metadata": {},
     "output_type": "display_data"
    },
    {
     "name": "stdout",
     "output_type": "stream",
     "text": [
      "('APIEU-데카소사이드 시카 겔 데이크림', '.mp4')\n",
      "[Command]: \n",
      " ['ffmpeg', '-i', '.\\\\new-cosmetic-office\\\\videos\\\\APIEU-데카소사이드 시카 겔 데이크림.mp4', '-vf', 'scale=iw/2:-1', '.\\\\new-cosmetic-office\\\\videos_resized\\\\APIEU-데카소사이드 시카 겔 데이크림.mp4']\n",
      "b''\n",
      "[self.videoResizedPath]: .\\new-cosmetic-office\\videos_resized\\APIEU-데카소사이드 시카 겔 데이크림.mp4\n"
     ]
    },
    {
     "data": {
      "application/vnd.jupyter.widget-view+json": {
       "model_id": "e879c8b831e849359243e483f0416db1",
       "version_major": 2,
       "version_minor": 0
      },
      "text/plain": [
       "A Jupyter Widget"
      ]
     },
     "metadata": {},
     "output_type": "display_data"
    },
    {
     "name": "stdout",
     "output_type": "stream",
     "text": [
      "[Extract Images]: APIEU-데카소사이드 시카 겔 데이크림\n"
     ]
    },
    {
     "data": {
      "application/vnd.jupyter.widget-view+json": {
       "model_id": "59e9540be22e4cbc94a06632de47c4b9",
       "version_major": 2,
       "version_minor": 0
      },
      "text/plain": [
       "A Jupyter Widget"
      ]
     },
     "metadata": {},
     "output_type": "display_data"
    },
    {
     "name": "stdout",
     "output_type": "stream",
     "text": [
      "('APIEU-스타트업 포어 프라이머', '.mp4')\n",
      "[Command]: \n",
      " ['ffmpeg', '-i', '.\\\\new-cosmetic-office\\\\videos\\\\APIEU-스타트업 포어 프라이머.mp4', '-vf', 'scale=iw/2:-1', '.\\\\new-cosmetic-office\\\\videos_resized\\\\APIEU-스타트업 포어 프라이머.mp4']\n",
      "b''\n",
      "[self.videoResizedPath]: .\\new-cosmetic-office\\videos_resized\\APIEU-스타트업 포어 프라이머.mp4\n"
     ]
    },
    {
     "data": {
      "application/vnd.jupyter.widget-view+json": {
       "model_id": "ed4f3b9e94544a22a0e4a5e9244db76c",
       "version_major": 2,
       "version_minor": 0
      },
      "text/plain": [
       "A Jupyter Widget"
      ]
     },
     "metadata": {},
     "output_type": "display_data"
    },
    {
     "name": "stdout",
     "output_type": "stream",
     "text": [
      "[Extract Images]: APIEU-스타트업 포어 프라이머\n"
     ]
    },
    {
     "data": {
      "application/vnd.jupyter.widget-view+json": {
       "model_id": "cc9d443ba2594682928fd8ac99ade08a",
       "version_major": 2,
       "version_minor": 0
      },
      "text/plain": [
       "A Jupyter Widget"
      ]
     },
     "metadata": {},
     "output_type": "display_data"
    },
    {
     "name": "stdout",
     "output_type": "stream",
     "text": [
      "('BANILACO-프라임 프라이머 클래식', '.mp4')\n",
      "[Command]: \n",
      " ['ffmpeg', '-i', '.\\\\new-cosmetic-office\\\\videos\\\\BANILACO-프라임 프라이머 클래식.mp4', '-vf', 'scale=iw/2:-1', '.\\\\new-cosmetic-office\\\\videos_resized\\\\BANILACO-프라임 프라이머 클래식.mp4']\n",
      "b''\n",
      "[self.videoResizedPath]: .\\new-cosmetic-office\\videos_resized\\BANILACO-프라임 프라이머 클래식.mp4\n"
     ]
    },
    {
     "data": {
      "application/vnd.jupyter.widget-view+json": {
       "model_id": "2b0ef5803cbf427687fad3b304742291",
       "version_major": 2,
       "version_minor": 0
      },
      "text/plain": [
       "A Jupyter Widget"
      ]
     },
     "metadata": {},
     "output_type": "display_data"
    },
    {
     "name": "stdout",
     "output_type": "stream",
     "text": [
      "[Extract Images]: BANILACO-프라임 프라이머 클래식\n"
     ]
    },
    {
     "data": {
      "application/vnd.jupyter.widget-view+json": {
       "model_id": "a4ad76e4adec465aafc8950c747a0561",
       "version_major": 2,
       "version_minor": 0
      },
      "text/plain": [
       "A Jupyter Widget"
      ]
     },
     "metadata": {},
     "output_type": "display_data"
    },
    {
     "name": "stdout",
     "output_type": "stream",
     "text": [
      "('BELIF-The true cream AQUA BOMB', '.mp4')\n",
      "[Command]: \n",
      " ['ffmpeg', '-i', '.\\\\new-cosmetic-office\\\\videos\\\\BELIF-The true cream AQUA BOMB.mp4', '-vf', 'scale=iw/2:-1', '.\\\\new-cosmetic-office\\\\videos_resized\\\\BELIF-The true cream AQUA BOMB.mp4']\n",
      "b''\n",
      "[self.videoResizedPath]: .\\new-cosmetic-office\\videos_resized\\BELIF-The true cream AQUA BOMB.mp4\n"
     ]
    },
    {
     "data": {
      "application/vnd.jupyter.widget-view+json": {
       "model_id": "c3f9fafad4524389a2d4260d6d943635",
       "version_major": 2,
       "version_minor": 0
      },
      "text/plain": [
       "A Jupyter Widget"
      ]
     },
     "metadata": {},
     "output_type": "display_data"
    },
    {
     "name": "stdout",
     "output_type": "stream",
     "text": [
      "[Extract Images]: BELIF-The true cream AQUA BOMB\n"
     ]
    },
    {
     "data": {
      "application/vnd.jupyter.widget-view+json": {
       "model_id": "6e316de392d943f0b6bcf53f7fa83202",
       "version_major": 2,
       "version_minor": 0
      },
      "text/plain": [
       "A Jupyter Widget"
      ]
     },
     "metadata": {},
     "output_type": "display_data"
    },
    {
     "name": "stdout",
     "output_type": "stream",
     "text": [
      "('CLIO-스파클링 라인 프리즘 에어 아이섀도우', '.mp4')\n",
      "[Command]: \n",
      " ['ffmpeg', '-i', '.\\\\new-cosmetic-office\\\\videos\\\\CLIO-스파클링 라인 프리즘 에어 아이섀도우.mp4', '-vf', 'scale=iw/2:-1', '.\\\\new-cosmetic-office\\\\videos_resized\\\\CLIO-스파클링 라인 프리즘 에어 아이섀도우.mp4']\n",
      "b''\n",
      "[self.videoResizedPath]: .\\new-cosmetic-office\\videos_resized\\CLIO-스파클링 라인 프리즘 에어 아이섀도우.mp4\n"
     ]
    },
    {
     "data": {
      "application/vnd.jupyter.widget-view+json": {
       "model_id": "73a2f108404745afa07dc439ef9a1e37",
       "version_major": 2,
       "version_minor": 0
      },
      "text/plain": [
       "A Jupyter Widget"
      ]
     },
     "metadata": {},
     "output_type": "display_data"
    },
    {
     "name": "stdout",
     "output_type": "stream",
     "text": [
      "[Extract Images]: CLIO-스파클링 라인 프리즘 에어 아이섀도우\n"
     ]
    },
    {
     "data": {
      "application/vnd.jupyter.widget-view+json": {
       "model_id": "cf6c6bf9f9dc487cb4bcf750884e4746",
       "version_major": 2,
       "version_minor": 0
      },
      "text/plain": [
       "A Jupyter Widget"
      ]
     },
     "metadata": {},
     "output_type": "display_data"
    },
    {
     "name": "stdout",
     "output_type": "stream",
     "text": [
      "('FERRAGAMO-INCANTO CHARMS', '.mp4')\n",
      "[Command]: \n",
      " ['ffmpeg', '-i', '.\\\\new-cosmetic-office\\\\videos\\\\FERRAGAMO-INCANTO CHARMS.mp4', '-vf', 'scale=iw/2:-1', '.\\\\new-cosmetic-office\\\\videos_resized\\\\FERRAGAMO-INCANTO CHARMS.mp4']\n",
      "b''\n",
      "[self.videoResizedPath]: .\\new-cosmetic-office\\videos_resized\\FERRAGAMO-INCANTO CHARMS.mp4\n"
     ]
    },
    {
     "data": {
      "application/vnd.jupyter.widget-view+json": {
       "model_id": "1523a87926674e8e8ed2b93b7b59766e",
       "version_major": 2,
       "version_minor": 0
      },
      "text/plain": [
       "A Jupyter Widget"
      ]
     },
     "metadata": {},
     "output_type": "display_data"
    },
    {
     "name": "stdout",
     "output_type": "stream",
     "text": [
      "[Extract Images]: FERRAGAMO-INCANTO CHARMS\n"
     ]
    },
    {
     "data": {
      "application/vnd.jupyter.widget-view+json": {
       "model_id": "65e4c1f6db114063b2fafa1eeab09a0e",
       "version_major": 2,
       "version_minor": 0
      },
      "text/plain": [
       "A Jupyter Widget"
      ]
     },
     "metadata": {},
     "output_type": "display_data"
    },
    {
     "name": "stdout",
     "output_type": "stream",
     "text": [
      "('FERRARI-SCUDERIA BLACK EAU DE TOILETTE SPRAY', '.mp4')\n",
      "[Command]: \n",
      " ['ffmpeg', '-i', '.\\\\new-cosmetic-office\\\\videos\\\\FERRARI-SCUDERIA BLACK EAU DE TOILETTE SPRAY.mp4', '-vf', 'scale=iw/2:-1', '.\\\\new-cosmetic-office\\\\videos_resized\\\\FERRARI-SCUDERIA BLACK EAU DE TOILETTE SPRAY.mp4']\n",
      "b''\n",
      "[self.videoResizedPath]: .\\new-cosmetic-office\\videos_resized\\FERRARI-SCUDERIA BLACK EAU DE TOILETTE SPRAY.mp4\n"
     ]
    },
    {
     "data": {
      "application/vnd.jupyter.widget-view+json": {
       "model_id": "e34ba07788834d958b6fb602881f69ef",
       "version_major": 2,
       "version_minor": 0
      },
      "text/plain": [
       "A Jupyter Widget"
      ]
     },
     "metadata": {},
     "output_type": "display_data"
    },
    {
     "name": "stdout",
     "output_type": "stream",
     "text": [
      "[Extract Images]: FERRARI-SCUDERIA BLACK EAU DE TOILETTE SPRAY\n"
     ]
    },
    {
     "data": {
      "application/vnd.jupyter.widget-view+json": {
       "model_id": "35c4c3119cbb4ab8984c724454cb017b",
       "version_major": 2,
       "version_minor": 0
      },
      "text/plain": [
       "A Jupyter Widget"
      ]
     },
     "metadata": {},
     "output_type": "display_data"
    },
    {
     "name": "stdout",
     "output_type": "stream",
     "text": [
      "('FROMNATURE-에이지 인텐스 트리트먼트 에센스', '.mp4')\n",
      "[Command]: \n",
      " ['ffmpeg', '-i', '.\\\\new-cosmetic-office\\\\videos\\\\FROMNATURE-에이지 인텐스 트리트먼트 에센스.mp4', '-vf', 'scale=iw/2:-1', '.\\\\new-cosmetic-office\\\\videos_resized\\\\FROMNATURE-에이지 인텐스 트리트먼트 에센스.mp4']\n",
      "b''\n",
      "[self.videoResizedPath]: .\\new-cosmetic-office\\videos_resized\\FROMNATURE-에이지 인텐스 트리트먼트 에센스.mp4\n"
     ]
    },
    {
     "data": {
      "application/vnd.jupyter.widget-view+json": {
       "model_id": "ad23e0d384114ebbb63f0108fefdeaad",
       "version_major": 2,
       "version_minor": 0
      },
      "text/plain": [
       "A Jupyter Widget"
      ]
     },
     "metadata": {},
     "output_type": "display_data"
    },
    {
     "name": "stdout",
     "output_type": "stream",
     "text": [
      "[Extract Images]: FROMNATURE-에이지 인텐스 트리트먼트 에센스\n"
     ]
    },
    {
     "data": {
      "application/vnd.jupyter.widget-view+json": {
       "model_id": "613be62fe84d4fbaa7662d17f36f6d99",
       "version_major": 2,
       "version_minor": 0
      },
      "text/plain": [
       "A Jupyter Widget"
      ]
     },
     "metadata": {},
     "output_type": "display_data"
    },
    {
     "name": "stdout",
     "output_type": "stream",
     "text": [
      "('GENABELLE-LASOR SOOTHING SUNSCREEN', '.mp4')\n",
      "[Command]: \n",
      " ['ffmpeg', '-i', '.\\\\new-cosmetic-office\\\\videos\\\\GENABELLE-LASOR SOOTHING SUNSCREEN.mp4', '-vf', 'scale=iw/2:-1', '.\\\\new-cosmetic-office\\\\videos_resized\\\\GENABELLE-LASOR SOOTHING SUNSCREEN.mp4']\n",
      "b''\n",
      "[self.videoResizedPath]: .\\new-cosmetic-office\\videos_resized\\GENABELLE-LASOR SOOTHING SUNSCREEN.mp4\n"
     ]
    },
    {
     "data": {
      "application/vnd.jupyter.widget-view+json": {
       "model_id": "328b060707a346bf9bac98209164118d",
       "version_major": 2,
       "version_minor": 0
      },
      "text/plain": [
       "A Jupyter Widget"
      ]
     },
     "metadata": {},
     "output_type": "display_data"
    },
    {
     "name": "stdout",
     "output_type": "stream",
     "text": [
      "[Extract Images]: GENABELLE-LASOR SOOTHING SUNSCREEN\n"
     ]
    },
    {
     "data": {
      "application/vnd.jupyter.widget-view+json": {
       "model_id": "75d80a10a7e44a95997ed6d14cfa0ce5",
       "version_major": 2,
       "version_minor": 0
      },
      "text/plain": [
       "A Jupyter Widget"
      ]
     },
     "metadata": {},
     "output_type": "display_data"
    },
    {
     "name": "stdout",
     "output_type": "stream",
     "text": [
      "('GREEN FINGER-KIDS FACIAL LOTION', '.mp4')\n",
      "[Command]: \n",
      " ['ffmpeg', '-i', '.\\\\new-cosmetic-office\\\\videos\\\\GREEN FINGER-KIDS FACIAL LOTION.mp4', '-vf', 'scale=iw/2:-1', '.\\\\new-cosmetic-office\\\\videos_resized\\\\GREEN FINGER-KIDS FACIAL LOTION.mp4']\n",
      "b''\n",
      "[self.videoResizedPath]: .\\new-cosmetic-office\\videos_resized\\GREEN FINGER-KIDS FACIAL LOTION.mp4\n"
     ]
    },
    {
     "data": {
      "application/vnd.jupyter.widget-view+json": {
       "model_id": "280faf29f13944d68817a52f30770ae7",
       "version_major": 2,
       "version_minor": 0
      },
      "text/plain": [
       "A Jupyter Widget"
      ]
     },
     "metadata": {},
     "output_type": "display_data"
    },
    {
     "name": "stdout",
     "output_type": "stream",
     "text": [
      "[Extract Images]: GREEN FINGER-KIDS FACIAL LOTION\n"
     ]
    },
    {
     "data": {
      "application/vnd.jupyter.widget-view+json": {
       "model_id": "aff7cb9151344bd88d08c27311d35682",
       "version_major": 2,
       "version_minor": 0
      },
      "text/plain": [
       "A Jupyter Widget"
      ]
     },
     "metadata": {},
     "output_type": "display_data"
    },
    {
     "name": "stdout",
     "output_type": "stream",
     "text": [
      "('HERA-BLACK CUSHION', '.mp4')\n",
      "[Command]: \n",
      " ['ffmpeg', '-i', '.\\\\new-cosmetic-office\\\\videos\\\\HERA-BLACK CUSHION.mp4', '-vf', 'scale=iw/2:-1', '.\\\\new-cosmetic-office\\\\videos_resized\\\\HERA-BLACK CUSHION.mp4']\n",
      "b''\n",
      "[self.videoResizedPath]: .\\new-cosmetic-office\\videos_resized\\HERA-BLACK CUSHION.mp4\n"
     ]
    },
    {
     "data": {
      "application/vnd.jupyter.widget-view+json": {
       "model_id": "8521097e02204f999703c0839889a15f",
       "version_major": 2,
       "version_minor": 0
      },
      "text/plain": [
       "A Jupyter Widget"
      ]
     },
     "metadata": {},
     "output_type": "display_data"
    },
    {
     "name": "stdout",
     "output_type": "stream",
     "text": [
      "[Extract Images]: HERA-BLACK CUSHION\n"
     ]
    },
    {
     "data": {
      "application/vnd.jupyter.widget-view+json": {
       "model_id": "862a0c63eee141fca1e2e8b2dbcb2fdb",
       "version_major": 2,
       "version_minor": 0
      },
      "text/plain": [
       "A Jupyter Widget"
      ]
     },
     "metadata": {},
     "output_type": "display_data"
    },
    {
     "name": "stdout",
     "output_type": "stream",
     "text": [
      "('HOLIKA HOLIKA-GOOD CERA SUPER CERAMIDE MIST', '.mp4')\n",
      "[Command]: \n",
      " ['ffmpeg', '-i', '.\\\\new-cosmetic-office\\\\videos\\\\HOLIKA HOLIKA-GOOD CERA SUPER CERAMIDE MIST.mp4', '-vf', 'scale=iw/2:-1', '.\\\\new-cosmetic-office\\\\videos_resized\\\\HOLIKA HOLIKA-GOOD CERA SUPER CERAMIDE MIST.mp4']\n",
      "b''\n",
      "[self.videoResizedPath]: .\\new-cosmetic-office\\videos_resized\\HOLIKA HOLIKA-GOOD CERA SUPER CERAMIDE MIST.mp4\n"
     ]
    },
    {
     "data": {
      "application/vnd.jupyter.widget-view+json": {
       "model_id": "ae8fa4b7fd7d4072af60daf1222a9bff",
       "version_major": 2,
       "version_minor": 0
      },
      "text/plain": [
       "A Jupyter Widget"
      ]
     },
     "metadata": {},
     "output_type": "display_data"
    },
    {
     "name": "stdout",
     "output_type": "stream",
     "text": [
      "[Extract Images]: HOLIKA HOLIKA-GOOD CERA SUPER CERAMIDE MIST\n"
     ]
    },
    {
     "data": {
      "application/vnd.jupyter.widget-view+json": {
       "model_id": "66a94ee18f434f3fa2f317810364a709",
       "version_major": 2,
       "version_minor": 0
      },
      "text/plain": [
       "A Jupyter Widget"
      ]
     },
     "metadata": {},
     "output_type": "display_data"
    },
    {
     "name": "stdout",
     "output_type": "stream",
     "text": [
      "('ILLIYOON-세라마이드 아토 수딩 젤', '.mp4')\n",
      "[Command]: \n",
      " ['ffmpeg', '-i', '.\\\\new-cosmetic-office\\\\videos\\\\ILLIYOON-세라마이드 아토 수딩 젤.mp4', '-vf', 'scale=iw/2:-1', '.\\\\new-cosmetic-office\\\\videos_resized\\\\ILLIYOON-세라마이드 아토 수딩 젤.mp4']\n",
      "b''\n",
      "[self.videoResizedPath]: .\\new-cosmetic-office\\videos_resized\\ILLIYOON-세라마이드 아토 수딩 젤.mp4\n"
     ]
    },
    {
     "data": {
      "application/vnd.jupyter.widget-view+json": {
       "model_id": "96d8a06b91764fdd8b94cd40f1106aeb",
       "version_major": 2,
       "version_minor": 0
      },
      "text/plain": [
       "A Jupyter Widget"
      ]
     },
     "metadata": {},
     "output_type": "display_data"
    },
    {
     "name": "stdout",
     "output_type": "stream",
     "text": [
      "[Extract Images]: ILLIYOON-세라마이드 아토 수딩 젤\n"
     ]
    },
    {
     "data": {
      "application/vnd.jupyter.widget-view+json": {
       "model_id": "6493a1b8df554916a98f55c59c7f8f88",
       "version_major": 2,
       "version_minor": 0
      },
      "text/plain": [
       "A Jupyter Widget"
      ]
     },
     "metadata": {},
     "output_type": "display_data"
    },
    {
     "name": "stdout",
     "output_type": "stream",
     "text": [
      "('INNISFREE-ALOE REVITAL SOOTHING GEL', '.mp4')\n",
      "[Command]: \n",
      " ['ffmpeg', '-i', '.\\\\new-cosmetic-office\\\\videos\\\\INNISFREE-ALOE REVITAL SOOTHING GEL.mp4', '-vf', 'scale=iw/2:-1', '.\\\\new-cosmetic-office\\\\videos_resized\\\\INNISFREE-ALOE REVITAL SOOTHING GEL.mp4']\n",
      "b''\n",
      "[self.videoResizedPath]: .\\new-cosmetic-office\\videos_resized\\INNISFREE-ALOE REVITAL SOOTHING GEL.mp4\n"
     ]
    },
    {
     "data": {
      "application/vnd.jupyter.widget-view+json": {
       "model_id": "eaa0ae109e164dbebb282f13c4896255",
       "version_major": 2,
       "version_minor": 0
      },
      "text/plain": [
       "A Jupyter Widget"
      ]
     },
     "metadata": {},
     "output_type": "display_data"
    },
    {
     "name": "stdout",
     "output_type": "stream",
     "text": [
      "[Extract Images]: INNISFREE-ALOE REVITAL SOOTHING GEL\n"
     ]
    },
    {
     "data": {
      "application/vnd.jupyter.widget-view+json": {
       "model_id": "6c3ae9a5c23942458dfb529327c5da6d",
       "version_major": 2,
       "version_minor": 0
      },
      "text/plain": [
       "A Jupyter Widget"
      ]
     },
     "metadata": {},
     "output_type": "display_data"
    },
    {
     "name": "stdout",
     "output_type": "stream",
     "text": [
      "('INNISFREE-GREEN TEA SEED ESSENC IN LOTION', '.mp4')\n",
      "[Command]: \n",
      " ['ffmpeg', '-i', '.\\\\new-cosmetic-office\\\\videos\\\\INNISFREE-GREEN TEA SEED ESSENC IN LOTION.mp4', '-vf', 'scale=iw/2:-1', '.\\\\new-cosmetic-office\\\\videos_resized\\\\INNISFREE-GREEN TEA SEED ESSENC IN LOTION.mp4']\n",
      "b''\n",
      "[self.videoResizedPath]: .\\new-cosmetic-office\\videos_resized\\INNISFREE-GREEN TEA SEED ESSENC IN LOTION.mp4\n"
     ]
    },
    {
     "data": {
      "application/vnd.jupyter.widget-view+json": {
       "model_id": "aa741397f59c4f708639ca5f2c5cb547",
       "version_major": 2,
       "version_minor": 0
      },
      "text/plain": [
       "A Jupyter Widget"
      ]
     },
     "metadata": {},
     "output_type": "display_data"
    },
    {
     "name": "stdout",
     "output_type": "stream",
     "text": [
      "[Extract Images]: INNISFREE-GREEN TEA SEED ESSENC IN LOTION\n"
     ]
    },
    {
     "data": {
      "application/vnd.jupyter.widget-view+json": {
       "model_id": "6de9e79593f9496db1831c09cadf5721",
       "version_major": 2,
       "version_minor": 0
      },
      "text/plain": [
       "A Jupyter Widget"
      ]
     },
     "metadata": {},
     "output_type": "display_data"
    },
    {
     "name": "stdout",
     "output_type": "stream",
     "text": [
      "('INNISFREE-JEJU CHERRY BLOSSOM SKIN', '.mp4')\n",
      "[Command]: \n",
      " ['ffmpeg', '-i', '.\\\\new-cosmetic-office\\\\videos\\\\INNISFREE-JEJU CHERRY BLOSSOM SKIN.mp4', '-vf', 'scale=iw/2:-1', '.\\\\new-cosmetic-office\\\\videos_resized\\\\INNISFREE-JEJU CHERRY BLOSSOM SKIN.mp4']\n",
      "b''\n",
      "[self.videoResizedPath]: .\\new-cosmetic-office\\videos_resized\\INNISFREE-JEJU CHERRY BLOSSOM SKIN.mp4\n"
     ]
    },
    {
     "data": {
      "application/vnd.jupyter.widget-view+json": {
       "model_id": "f7e06f1e97ed41fdb7b38b4870400742",
       "version_major": 2,
       "version_minor": 0
      },
      "text/plain": [
       "A Jupyter Widget"
      ]
     },
     "metadata": {},
     "output_type": "display_data"
    },
    {
     "name": "stdout",
     "output_type": "stream",
     "text": [
      "[Extract Images]: INNISFREE-JEJU CHERRY BLOSSOM SKIN\n"
     ]
    },
    {
     "data": {
      "application/vnd.jupyter.widget-view+json": {
       "model_id": "4564dc8c6fe243839c6c73cad6f11ed9",
       "version_major": 2,
       "version_minor": 0
      },
      "text/plain": [
       "A Jupyter Widget"
      ]
     },
     "metadata": {},
     "output_type": "display_data"
    },
    {
     "name": "stdout",
     "output_type": "stream",
     "text": [
      "('INNISFREE-NO SEBUM Mineral Powder', '.mp4')\n",
      "[Command]: \n",
      " ['ffmpeg', '-i', '.\\\\new-cosmetic-office\\\\videos\\\\INNISFREE-NO SEBUM Mineral Powder.mp4', '-vf', 'scale=iw/2:-1', '.\\\\new-cosmetic-office\\\\videos_resized\\\\INNISFREE-NO SEBUM Mineral Powder.mp4']\n",
      "b''\n",
      "[self.videoResizedPath]: .\\new-cosmetic-office\\videos_resized\\INNISFREE-NO SEBUM Mineral Powder.mp4\n"
     ]
    },
    {
     "data": {
      "application/vnd.jupyter.widget-view+json": {
       "model_id": "400b0431918f4a6b83c816ae225444ef",
       "version_major": 2,
       "version_minor": 0
      },
      "text/plain": [
       "A Jupyter Widget"
      ]
     },
     "metadata": {},
     "output_type": "display_data"
    },
    {
     "name": "stdout",
     "output_type": "stream",
     "text": [
      "[Extract Images]: INNISFREE-NO SEBUM Mineral Powder\n"
     ]
    },
    {
     "data": {
      "application/vnd.jupyter.widget-view+json": {
       "model_id": "41bce7c5215c4e73aa63fdea59a664c8",
       "version_major": 2,
       "version_minor": 0
      },
      "text/plain": [
       "A Jupyter Widget"
      ]
     },
     "metadata": {},
     "output_type": "display_data"
    },
    {
     "name": "stdout",
     "output_type": "stream",
     "text": [
      "('INNISFREE-마이 블러셔 햇살 가득 장미', '.mp4')\n",
      "[Command]: \n",
      " ['ffmpeg', '-i', '.\\\\new-cosmetic-office\\\\videos\\\\INNISFREE-마이 블러셔 햇살 가득 장미.mp4', '-vf', 'scale=iw/2:-1', '.\\\\new-cosmetic-office\\\\videos_resized\\\\INNISFREE-마이 블러셔 햇살 가득 장미.mp4']\n",
      "b''\n",
      "[self.videoResizedPath]: .\\new-cosmetic-office\\videos_resized\\INNISFREE-마이 블러셔 햇살 가득 장미.mp4\n"
     ]
    },
    {
     "data": {
      "application/vnd.jupyter.widget-view+json": {
       "model_id": "36e283e2945945e78a9cd3c02458d716",
       "version_major": 2,
       "version_minor": 0
      },
      "text/plain": [
       "A Jupyter Widget"
      ]
     },
     "metadata": {},
     "output_type": "display_data"
    },
    {
     "name": "stdout",
     "output_type": "stream",
     "text": [
      "[Extract Images]: INNISFREE-마이 블러셔 햇살 가득 장미\n"
     ]
    },
    {
     "data": {
      "application/vnd.jupyter.widget-view+json": {
       "model_id": "ae14d3a1d21a468a8409ca91cb8ea0a5",
       "version_major": 2,
       "version_minor": 0
      },
      "text/plain": [
       "A Jupyter Widget"
      ]
     },
     "metadata": {},
     "output_type": "display_data"
    },
    {
     "name": "stdout",
     "output_type": "stream",
     "text": [
      "('ISOI-인텐시브 에너자이징크림', '.mp4')\n",
      "[Command]: \n",
      " ['ffmpeg', '-i', '.\\\\new-cosmetic-office\\\\videos\\\\ISOI-인텐시브 에너자이징크림.mp4', '-vf', 'scale=iw/2:-1', '.\\\\new-cosmetic-office\\\\videos_resized\\\\ISOI-인텐시브 에너자이징크림.mp4']\n",
      "b''\n",
      "[self.videoResizedPath]: .\\new-cosmetic-office\\videos_resized\\ISOI-인텐시브 에너자이징크림.mp4\n"
     ]
    },
    {
     "data": {
      "application/vnd.jupyter.widget-view+json": {
       "model_id": "1744837847f148c69adaae8a23db3fc2",
       "version_major": 2,
       "version_minor": 0
      },
      "text/plain": [
       "A Jupyter Widget"
      ]
     },
     "metadata": {},
     "output_type": "display_data"
    },
    {
     "name": "stdout",
     "output_type": "stream",
     "text": [
      "[Extract Images]: ISOI-인텐시브 에너자이징크림\n"
     ]
    },
    {
     "data": {
      "application/vnd.jupyter.widget-view+json": {
       "model_id": "786d28b304394dcfb439b6792f2a8789",
       "version_major": 2,
       "version_minor": 0
      },
      "text/plain": [
       "A Jupyter Widget"
      ]
     },
     "metadata": {},
     "output_type": "display_data"
    },
    {
     "name": "stdout",
     "output_type": "stream",
     "text": [
      "('MACQUEEN-쥬얼포텐 아이글리터', '.mp4')\n",
      "[Command]: \n",
      " ['ffmpeg', '-i', '.\\\\new-cosmetic-office\\\\videos\\\\MACQUEEN-쥬얼포텐 아이글리터.mp4', '-vf', 'scale=iw/2:-1', '.\\\\new-cosmetic-office\\\\videos_resized\\\\MACQUEEN-쥬얼포텐 아이글리터.mp4']\n",
      "b''\n",
      "[self.videoResizedPath]: .\\new-cosmetic-office\\videos_resized\\MACQUEEN-쥬얼포텐 아이글리터.mp4\n"
     ]
    },
    {
     "data": {
      "application/vnd.jupyter.widget-view+json": {
       "model_id": "d51b63ecd6b24ff3851f16cb7e7c18ec",
       "version_major": 2,
       "version_minor": 0
      },
      "text/plain": [
       "A Jupyter Widget"
      ]
     },
     "metadata": {},
     "output_type": "display_data"
    },
    {
     "name": "stdout",
     "output_type": "stream",
     "text": [
      "[Extract Images]: MACQUEEN-쥬얼포텐 아이글리터\n"
     ]
    },
    {
     "data": {
      "application/vnd.jupyter.widget-view+json": {
       "model_id": "07a0919f1b39456dbdd9136c4d3f011c",
       "version_major": 2,
       "version_minor": 0
      },
      "text/plain": [
       "A Jupyter Widget"
      ]
     },
     "metadata": {},
     "output_type": "display_data"
    },
    {
     "name": "stdout",
     "output_type": "stream",
     "text": [
      "('MISSHA-레이어 블러링 모공커버 프라이머', '.mp4')\n",
      "[Command]: \n",
      " ['ffmpeg', '-i', '.\\\\new-cosmetic-office\\\\videos\\\\MISSHA-레이어 블러링 모공커버 프라이머.mp4', '-vf', 'scale=iw/2:-1', '.\\\\new-cosmetic-office\\\\videos_resized\\\\MISSHA-레이어 블러링 모공커버 프라이머.mp4']\n",
      "b''\n",
      "[self.videoResizedPath]: .\\new-cosmetic-office\\videos_resized\\MISSHA-레이어 블러링 모공커버 프라이머.mp4\n"
     ]
    },
    {
     "data": {
      "application/vnd.jupyter.widget-view+json": {
       "model_id": "09cf6f0346484fbdb87970ab010e4385",
       "version_major": 2,
       "version_minor": 0
      },
      "text/plain": [
       "A Jupyter Widget"
      ]
     },
     "metadata": {},
     "output_type": "display_data"
    },
    {
     "name": "stdout",
     "output_type": "stream",
     "text": [
      "[Extract Images]: MISSHA-레이어 블러링 모공커버 프라이머\n"
     ]
    },
    {
     "data": {
      "application/vnd.jupyter.widget-view+json": {
       "model_id": "93ef051e2b624e9aab414bf998169b6a",
       "version_major": 2,
       "version_minor": 0
      },
      "text/plain": [
       "A Jupyter Widget"
      ]
     },
     "metadata": {},
     "output_type": "display_data"
    },
    {
     "name": "stdout",
     "output_type": "stream",
     "text": [
      "('NEUTROGENA-HAND CREAM', '.mp4')\n",
      "[Command]: \n",
      " ['ffmpeg', '-i', '.\\\\new-cosmetic-office\\\\videos\\\\NEUTROGENA-HAND CREAM.mp4', '-vf', 'scale=iw/2:-1', '.\\\\new-cosmetic-office\\\\videos_resized\\\\NEUTROGENA-HAND CREAM.mp4']\n",
      "b''\n",
      "[self.videoResizedPath]: .\\new-cosmetic-office\\videos_resized\\NEUTROGENA-HAND CREAM.mp4\n"
     ]
    },
    {
     "data": {
      "application/vnd.jupyter.widget-view+json": {
       "model_id": "5dd4561651a04b45af89671fad703b5f",
       "version_major": 2,
       "version_minor": 0
      },
      "text/plain": [
       "A Jupyter Widget"
      ]
     },
     "metadata": {},
     "output_type": "display_data"
    },
    {
     "name": "stdout",
     "output_type": "stream",
     "text": [
      "[Extract Images]: NEUTROGENA-HAND CREAM\n"
     ]
    },
    {
     "data": {
      "application/vnd.jupyter.widget-view+json": {
       "model_id": "537b6edd19024972ac17439e076c0858",
       "version_major": 2,
       "version_minor": 0
      },
      "text/plain": [
       "A Jupyter Widget"
      ]
     },
     "metadata": {},
     "output_type": "display_data"
    },
    {
     "name": "stdout",
     "output_type": "stream",
     "text": [
      "('PERIPERA-핑크의순간 컬렉션 잉크 컬러 마스카라', '.mp4')\n",
      "[Command]: \n",
      " ['ffmpeg', '-i', '.\\\\new-cosmetic-office\\\\videos\\\\PERIPERA-핑크의순간 컬렉션 잉크 컬러 마스카라.mp4', '-vf', 'scale=iw/2:-1', '.\\\\new-cosmetic-office\\\\videos_resized\\\\PERIPERA-핑크의순간 컬렉션 잉크 컬러 마스카라.mp4']\n",
      "b''\n",
      "[self.videoResizedPath]: .\\new-cosmetic-office\\videos_resized\\PERIPERA-핑크의순간 컬렉션 잉크 컬러 마스카라.mp4\n"
     ]
    },
    {
     "data": {
      "application/vnd.jupyter.widget-view+json": {
       "model_id": "2e7291e6409c475b8a8412b491be1c68",
       "version_major": 2,
       "version_minor": 0
      },
      "text/plain": [
       "A Jupyter Widget"
      ]
     },
     "metadata": {},
     "output_type": "display_data"
    },
    {
     "name": "stdout",
     "output_type": "stream",
     "text": [
      "[Extract Images]: PERIPERA-핑크의순간 컬렉션 잉크 컬러 마스카라\n"
     ]
    },
    {
     "data": {
      "application/vnd.jupyter.widget-view+json": {
       "model_id": "fa60706d4eaf4010a8ba7a6481f1ab0a",
       "version_major": 2,
       "version_minor": 0
      },
      "text/plain": [
       "A Jupyter Widget"
      ]
     },
     "metadata": {},
     "output_type": "display_data"
    },
    {
     "name": "stdout",
     "output_type": "stream",
     "text": [
      "('RIRE-BUBLE BUBLE LIP MASK', '.mp4')\n",
      "[Command]: \n",
      " ['ffmpeg', '-i', '.\\\\new-cosmetic-office\\\\videos\\\\RIRE-BUBLE BUBLE LIP MASK.mp4', '-vf', 'scale=iw/2:-1', '.\\\\new-cosmetic-office\\\\videos_resized\\\\RIRE-BUBLE BUBLE LIP MASK.mp4']\n",
      "b''\n",
      "[self.videoResizedPath]: .\\new-cosmetic-office\\videos_resized\\RIRE-BUBLE BUBLE LIP MASK.mp4\n"
     ]
    },
    {
     "data": {
      "application/vnd.jupyter.widget-view+json": {
       "model_id": "a31c770ea90f439ebf51ee99da3061e6",
       "version_major": 2,
       "version_minor": 0
      },
      "text/plain": [
       "A Jupyter Widget"
      ]
     },
     "metadata": {},
     "output_type": "display_data"
    },
    {
     "name": "stdout",
     "output_type": "stream",
     "text": [
      "[Extract Images]: RIRE-BUBLE BUBLE LIP MASK\n"
     ]
    },
    {
     "data": {
      "application/vnd.jupyter.widget-view+json": {
       "model_id": "cb71b26f9f324936a5d9fadcdf44bb10",
       "version_major": 2,
       "version_minor": 0
      },
      "text/plain": [
       "A Jupyter Widget"
      ]
     },
     "metadata": {},
     "output_type": "display_data"
    },
    {
     "name": "stdout",
     "output_type": "stream",
     "text": [
      "('ROKKISS-카렌듈라 에멀젼', '.mp4')\n",
      "[Command]: \n",
      " ['ffmpeg', '-i', '.\\\\new-cosmetic-office\\\\videos\\\\ROKKISS-카렌듈라 에멀젼.mp4', '-vf', 'scale=iw/2:-1', '.\\\\new-cosmetic-office\\\\videos_resized\\\\ROKKISS-카렌듈라 에멀젼.mp4']\n",
      "b''\n",
      "[self.videoResizedPath]: .\\new-cosmetic-office\\videos_resized\\ROKKISS-카렌듈라 에멀젼.mp4\n"
     ]
    },
    {
     "data": {
      "application/vnd.jupyter.widget-view+json": {
       "model_id": "3e28beeb2b60466098da0e58826ff3f9",
       "version_major": 2,
       "version_minor": 0
      },
      "text/plain": [
       "A Jupyter Widget"
      ]
     },
     "metadata": {},
     "output_type": "display_data"
    },
    {
     "name": "stdout",
     "output_type": "stream",
     "text": [
      "[Extract Images]: ROKKISS-카렌듈라 에멀젼\n"
     ]
    },
    {
     "data": {
      "application/vnd.jupyter.widget-view+json": {
       "model_id": "1a8c2ef056bc40eaa1b95503c1499260",
       "version_major": 2,
       "version_minor": 0
      },
      "text/plain": [
       "A Jupyter Widget"
      ]
     },
     "metadata": {},
     "output_type": "display_data"
    },
    {
     "name": "stdout",
     "output_type": "stream",
     "text": [
      "('SENKA-PERFECT WHIP', '.mp4')\n",
      "[Command]: \n",
      " ['ffmpeg', '-i', '.\\\\new-cosmetic-office\\\\videos\\\\SENKA-PERFECT WHIP.mp4', '-vf', 'scale=iw/2:-1', '.\\\\new-cosmetic-office\\\\videos_resized\\\\SENKA-PERFECT WHIP.mp4']\n",
      "b''\n",
      "[self.videoResizedPath]: .\\new-cosmetic-office\\videos_resized\\SENKA-PERFECT WHIP.mp4\n"
     ]
    },
    {
     "data": {
      "application/vnd.jupyter.widget-view+json": {
       "model_id": "5d824ead0e9047c7978b897f07bcf846",
       "version_major": 2,
       "version_minor": 0
      },
      "text/plain": [
       "A Jupyter Widget"
      ]
     },
     "metadata": {},
     "output_type": "display_data"
    },
    {
     "name": "stdout",
     "output_type": "stream",
     "text": [
      "[Extract Images]: SENKA-PERFECT WHIP\n"
     ]
    },
    {
     "data": {
      "application/vnd.jupyter.widget-view+json": {
       "model_id": "82d7229c64574916a22c41b0c2115f6e",
       "version_major": 2,
       "version_minor": 0
      },
      "text/plain": [
       "A Jupyter Widget"
      ]
     },
     "metadata": {},
     "output_type": "display_data"
    },
    {
     "name": "stdout",
     "output_type": "stream",
     "text": [
      "('TONYMOLY-피키비키 아트 팝 코렉팅 베이스', '.mp4')\n",
      "[Command]: \n",
      " ['ffmpeg', '-i', '.\\\\new-cosmetic-office\\\\videos\\\\TONYMOLY-피키비키 아트 팝 코렉팅 베이스.mp4', '-vf', 'scale=iw/2:-1', '.\\\\new-cosmetic-office\\\\videos_resized\\\\TONYMOLY-피키비키 아트 팝 코렉팅 베이스.mp4']\n",
      "b''\n",
      "[self.videoResizedPath]: .\\new-cosmetic-office\\videos_resized\\TONYMOLY-피키비키 아트 팝 코렉팅 베이스.mp4\n"
     ]
    },
    {
     "data": {
      "application/vnd.jupyter.widget-view+json": {
       "model_id": "a04a9b299f294ddea643d09687c935f1",
       "version_major": 2,
       "version_minor": 0
      },
      "text/plain": [
       "A Jupyter Widget"
      ]
     },
     "metadata": {},
     "output_type": "display_data"
    },
    {
     "name": "stdout",
     "output_type": "stream",
     "text": [
      "[Extract Images]: TONYMOLY-피키비키 아트 팝 코렉팅 베이스\n"
     ]
    },
    {
     "data": {
      "application/vnd.jupyter.widget-view+json": {
       "model_id": "2a737b49ffa24c429d7245cb19595c58",
       "version_major": 2,
       "version_minor": 0
      },
      "text/plain": [
       "A Jupyter Widget"
      ]
     },
     "metadata": {},
     "output_type": "display_data"
    },
    {
     "name": "stdout",
     "output_type": "stream",
     "text": [
      "('VICHY-오 떼르말 미네랄 온천수 미스트', '.mp4')\n",
      "[Command]: \n",
      " ['ffmpeg', '-i', '.\\\\new-cosmetic-office\\\\videos\\\\VICHY-오 떼르말 미네랄 온천수 미스트.mp4', '-vf', 'scale=iw/2:-1', '.\\\\new-cosmetic-office\\\\videos_resized\\\\VICHY-오 떼르말 미네랄 온천수 미스트.mp4']\n",
      "b''\n",
      "[self.videoResizedPath]: .\\new-cosmetic-office\\videos_resized\\VICHY-오 떼르말 미네랄 온천수 미스트.mp4\n"
     ]
    },
    {
     "data": {
      "application/vnd.jupyter.widget-view+json": {
       "model_id": "f767ce7a814345999c0ffadabf3a34f9",
       "version_major": 2,
       "version_minor": 0
      },
      "text/plain": [
       "A Jupyter Widget"
      ]
     },
     "metadata": {},
     "output_type": "display_data"
    },
    {
     "name": "stdout",
     "output_type": "stream",
     "text": [
      "[Extract Images]: VICHY-오 떼르말 미네랄 온천수 미스트\n"
     ]
    },
    {
     "data": {
      "application/vnd.jupyter.widget-view+json": {
       "model_id": "16c6f6c4a1ae4eefa2f8f0520f9c3e53",
       "version_major": 2,
       "version_minor": 0
      },
      "text/plain": [
       "A Jupyter Widget"
      ]
     },
     "metadata": {},
     "output_type": "display_data"
    },
    {
     "name": "stdout",
     "output_type": "stream",
     "text": [
      "\n"
     ]
    }
   ],
   "source": [
    "\"\"\"\n",
    "폴더 전체 추출할때\n",
    "비디오는 [rootPath]/videos 내에 있어야 한다\n",
    "\"\"\"\n",
    "rootPath = \".\\\\new-cosmetic-office\"\n",
    "for fileName in tqdm(os.listdir(os.path.join(rootPath, 'videos'))):\n",
    "    print(os.path.splitext(fileName))\n",
    "    extractor = ImageExtractor(rootPath, fileName)  \n",
    "    # extractor.adjCenter = [extractor.videoWidth/2, extractor.videoHeight/2]\n",
    "    # 비디오 ratio 결정\n",
    "    extractor.CONSTANT_RATIO = True\n",
    "    # 비디오 리사이즈\n",
    "    extractor.resizeVideo()\n",
    "    # 비디오 전처리\n",
    "    extractor.preprocessVideo(merge_ratio_limit=0.75, SHOW_IMAGE=False)\n",
    "    # 통계량 추출\n",
    "    extractor.getStatistics(SHOW_PLOT=False)\n",
    "    # 결과 이미지 영역 크롭\n",
    "    extractor.extractImages(interval=15, SHOW_IMAGE=False)"
   ]
  },
  {
   "cell_type": "code",
   "execution_count": 6,
   "metadata": {
    "collapsed": true
   },
   "outputs": [],
   "source": [
    "extractor.cap.release()\n",
    "cv2.destroyAllWindows()      "
   ]
  },
  {
   "cell_type": "code",
   "execution_count": 14,
   "metadata": {
    "scrolled": false
   },
   "outputs": [
    {
     "data": {
      "application/vnd.jupyter.widget-view+json": {
       "model_id": "7ffa8ab6e5b64f698247ac89f07dec1b",
       "version_major": 2,
       "version_minor": 0
      },
      "text/plain": [
       "A Jupyter Widget"
      ]
     },
     "metadata": {},
     "output_type": "display_data"
    },
    {
     "name": "stdout",
     "output_type": "stream",
     "text": [
      "AHC-AGELESS REAL EYE CREAM FOR FACE\n",
      "AHC-Aura Secret Toneup Cream\n",
      "AHC-ONLY FOR MAN LOTION\n",
      "APIEU-데카소사이드 시카 겔 데이크림\n",
      "APIEU-스타트업 포어 프라이머\n",
      "BANILACO-프라임 프라이머 클래식\n",
      "BELIF-The true cream AQUA BOMB\n",
      "CLIO-스파클링 라인 프리즘 에어 아이섀도우\n",
      "FERRAGAMO-INCANTO CHARMS\n",
      "FERRARI-SCUDERIA BLACK EAU DE TOILETTE SPRAY\n",
      "FROMNATURE-에이지 인텐스 트리트먼트 에센스\n",
      "GENABELLE-LASOR SOOTHING SUNSCREEN\n",
      "GREEN FINGER-KIDS FACIAL LOTION\n",
      "HERA-BLACK CUSHION\n",
      "HOLIKA HOLIKA-GOOD CERA SUPER CERAMIDE MIST\n",
      "ILLIYOON-세라마이드 아토 수딩 젤\n",
      "INNISFREE-ALOE REVITAL SOOTHING GEL\n",
      "INNISFREE-GREEN TEA SEED ESSENC IN LOTION\n",
      "INNISFREE-JEJU CHERRY BLOSSOM SKIN\n",
      "INNISFREE-NO SEBUM Mineral Powder\n",
      "INNISFREE-마이 블러셔 햇살 가득 장미\n",
      "ISOI-인텐시브 에너자이징크림\n",
      "MACQUEEN-쥬얼포텐 아이글리터\n",
      "MISSHA-레이어 블러링 모공커버 프라이머\n",
      "NEUTROGENA-HAND CREAM\n",
      "PERIPERA-핑크의순간 컬렉션 잉크 컬러 마스카라\n",
      "RIRE-BUBLE BUBLE LIP MASK\n",
      "ROKKISS-카렌듈라 에멀젼\n",
      "SENKA-PERFECT WHIP\n",
      "TONYMOLY-피키비키 아트 팝 코렉팅 베이스\n",
      "VICHY-오 떼르말 미네랄 온천수 미스트\n",
      "\n"
     ]
    }
   ],
   "source": [
    "\"\"\"\n",
    "비디오 처리없이 그냥 원본 프레임 샘플링\n",
    "\"\"\"\n",
    "rootPath = \".\\\\new-cosmetic-office\"\n",
    "for fileName in tqdm(os.listdir(os.path.join(rootPath, 'videos_resized'))):\n",
    "    fn, ext =  os.path.splitext(fileName)\n",
    "    imgExtDirPath = os.path.join(rootPath, \"images_full\", fn)\n",
    "    print(fn)\n",
    "    cap = cv2.VideoCapture(os.path.join(rootPath, 'videos_resized', fileName))\n",
    "    idx = 0\n",
    "    cnt = 0\n",
    "    imgDirOrig = imgExtDirPath\n",
    "    if not os.path.isdir(imgDirOrig): os.makedirs(imgDirOrig)            \n",
    "    imgDirTemp = os.path.join(rootPath, \"temp\")\n",
    "    if not os.path.isdir(imgDirTemp): os.makedirs(imgDirTemp)\n",
    "    while(True):\n",
    "        ret, frame = cap.read()\n",
    "        if ret:            \n",
    "            cnt += 1\n",
    "            if(cnt%20==0):\n",
    "                try:\n",
    "                    imgPathOrig = os.path.join(imgDirOrig, str(fn)+'_'+str(idx)+'.jpg')    \n",
    "                    imgPath = os.path.join(imgDirTemp, \"temp\"+'_'+str(idx)+'.jpg')\n",
    "                    cv2.imwrite(imgPath, frame) # 이미지 저장\n",
    "                    os.rename(imgPath, imgPathOrig) #  opencv 한글 패스 저장 안되므로 temp에 만들고 이름 수정 \n",
    "                    idx+=1\n",
    "                except:\n",
    "                    print('[Save Img Error:]', imgPath)            \n",
    "        else: break\n",
    "    cap.release()\n",
    "    shutil.rmtree(imgDirTemp)"
   ]
  }
 ],
 "metadata": {
  "kernelspec": {
   "display_name": "Python [default]",
   "language": "python",
   "name": "python3"
  },
  "language_info": {
   "codemirror_mode": {
    "name": "ipython",
    "version": 3
   },
   "file_extension": ".py",
   "mimetype": "text/x-python",
   "name": "python",
   "nbconvert_exporter": "python",
   "pygments_lexer": "ipython3",
   "version": "3.6.5"
  }
 },
 "nbformat": 4,
 "nbformat_minor": 2
}
