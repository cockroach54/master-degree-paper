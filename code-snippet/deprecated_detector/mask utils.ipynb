{
 "cells": [
  {
   "cell_type": "code",
   "execution_count": 2,
   "metadata": {
    "collapsed": true
   },
   "outputs": [],
   "source": [
    "import cv2\n",
    "from matplotlib import pyplot as plt\n",
    "import numpy as np\n",
    "import os\n",
    "from tqdm import tqdm_notebook as tqdm\n",
    "# https://opencv-python.readthedocs.io/en/latest/doc/07.imageArithmetic/imageArithmetic.html"
   ]
  },
  {
   "cell_type": "code",
   "execution_count": 9,
   "metadata": {
    "collapsed": true
   },
   "outputs": [],
   "source": [
    "label_path = 'lg-img-seg-label2'\n",
    "img_path = 'lg-img-seg-train2'\n",
    "\n",
    "masks = os.listdir(label_path)\n",
    "images = os.listdir(img_path)"
   ]
  },
  {
   "cell_type": "code",
   "execution_count": 163,
   "metadata": {},
   "outputs": [
    {
     "data": {
      "application/vnd.jupyter.widget-view+json": {
       "model_id": "aa9e29d9dfd6468e8ead0284af52a790",
       "version_major": 2,
       "version_minor": 0
      },
      "text/plain": [
       "A Jupyter Widget"
      ]
     },
     "metadata": {},
     "output_type": "display_data"
    },
    {
     "name": "stdout",
     "output_type": "stream",
     "text": [
      "\n"
     ]
    }
   ],
   "source": [
    "# 이미지 전체 마스크\n",
    "assert len(masks)==len(images), 'len error'\n",
    "new_dir = 'masked_images'\n",
    "os.mkdir(new_dir)\n",
    "for i in tqdm(range(len(masks))):\n",
    "    mask = cv2.imread(os.path.join(label_path, masks[i]))\n",
    "    image = cv2.imread(os.path.join(img_path, images[i]))\n",
    "\n",
    "    mask = cv2.cvtColor(mask, cv2.COLOR_BGR2GRAY)\n",
    "    ret, mask = cv2.threshold(mask, 10, 255, cv2.THRESH_BINARY)\n",
    "\n",
    "    masked_im = cv2.bitwise_and(image, image, mask=mask)\n",
    "    cv2.imwrite(os.path.join(new_dir, images[i]), masked_im)\n",
    "    # cv2.imshow(\"image\", tt)\n",
    "    # cv2.waitKey(0)\n",
    "    # cv2.destroyAllWindows()  "
   ]
  },
  {
   "cell_type": "code",
   "execution_count": 158,
   "metadata": {},
   "outputs": [
    {
     "data": {
      "text/plain": [
       "(291, 450, 1689, 866)"
      ]
     },
     "execution_count": 158,
     "metadata": {},
     "output_type": "execute_result"
    }
   ],
   "source": [
    "x1, y1, x2, y2"
   ]
  },
  {
   "cell_type": "code",
   "execution_count": 159,
   "metadata": {
    "collapsed": true
   },
   "outputs": [],
   "source": [
    "def getOrdi(mask):\n",
    "    \"\"\"\n",
    "    max/min x,y 좌표 구하기\n",
    "    \"\"\"\n",
    "    mask_list = mask.tolist()\n",
    "    mask_T_list = mask.T.tolist()\n",
    "    # x1, y1, x2, y2\n",
    "    x1 = float('inf')\n",
    "    x2 = float('-inf')\n",
    "    y1 = float('inf')\n",
    "    y2 = float('-inf')\n",
    "\n",
    "    for row in mask_list:\n",
    "        try:\n",
    "            xmin = row.index(255)\n",
    "            xmax = len(row)-row[::-1].index(255)-1\n",
    "            if x1>xmin: x1=xmin\n",
    "            if x2<xmax: x2=xmax\n",
    "        except: pass\n",
    "    for row in mask_T_list:\n",
    "        try:\n",
    "            xmin = row.index(255)\n",
    "            xmax = len(row)-row[::-1].index(255)-1\n",
    "            if y1>xmin: y1=xmin\n",
    "            if y2<xmax: y2=xmax        \n",
    "        except: pass\n",
    "    return x1, y1, x2, y2"
   ]
  },
  {
   "cell_type": "code",
   "execution_count": 203,
   "metadata": {},
   "outputs": [
    {
     "data": {
      "application/vnd.jupyter.widget-view+json": {
       "model_id": "1724ac34c1154d3bbc4063282785fdd1",
       "version_major": 2,
       "version_minor": 0
      },
      "text/plain": [
       "A Jupyter Widget"
      ]
     },
     "metadata": {},
     "output_type": "display_data"
    },
    {
     "name": "stdout",
     "output_type": "stream",
     "text": [
      "\n"
     ]
    }
   ],
   "source": [
    "#  컨투어 박스\n",
    "#  https://datascienceschool.net/view-notebook/f9f8983941254a34bf0fee42c66c5539/\n",
    "from time import sleep\n",
    "assert len(masks)==len(images), 'len error'\n",
    "new_dir = 'images_trimed'\n",
    "os.mkdir(new_dir)\n",
    "for i in tqdm(range(len(masks))):\n",
    "    mask = cv2.imread(os.path.join(label_path, masks[i]))\n",
    "    image = cv2.imread(os.path.join(img_path, images[i]))\n",
    "\n",
    "    mask = cv2.cvtColor(mask, cv2.COLOR_BGR2GRAY)\n",
    "    ret, mask = cv2.threshold(mask, 10, 255, cv2.THRESH_BINARY)\n",
    "    x,y,x2,y2 = getOrdi(mask)\n",
    "\n",
    "#     masked_im = cv2.bitwise_and(image, image, mask=mask)\n",
    "    masked_im = image\n",
    "    masked_im_trimed = masked_im[y:y2, x:x2]\n",
    "    # cv2.imwrite('aa.jpg', masked_im_trimed)\n",
    "    cv2.imwrite(os.path.join(new_dir, images[i]), masked_im_trimed)\n",
    "    # cv2.imshow(\"image\", tt)\n",
    "    # cv2.waitKey(0)\n",
    "    # cv2.destroyAllWindows()  "
   ]
  },
  {
   "cell_type": "markdown",
   "metadata": {},
   "source": [
    "---\n",
    "# dir"
   ]
  },
  {
   "cell_type": "code",
   "execution_count": 4,
   "metadata": {
    "collapsed": true
   },
   "outputs": [],
   "source": [
    "class_path = 'C:\\\\Users\\\\LSW\\\\Desktop\\\\Smart_mirror\\\\Yolo_mark\\\\x64\\\\Release\\\\cosmetic-data\\\\obj.names'\n",
    "with open(class_path, 'r', encoding='utf-8') as f:\n",
    "    classes = [c for c in f.read().split('\\n')]"
   ]
  },
  {
   "cell_type": "code",
   "execution_count": 5,
   "metadata": {
    "collapsed": true
   },
   "outputs": [],
   "source": [
    "path = 'images_trimed_10shot_class'\n",
    "os.mkdir(path)\n",
    "for c in classes:\n",
    "    os.mkdir(os.path.join(path, c))"
   ]
  },
  {
   "cell_type": "code",
   "execution_count": 7,
   "metadata": {
    "collapsed": true
   },
   "outputs": [],
   "source": [
    "# set([m.split(' ')[0] for m in masks])\n",
    "orig2class = {\n",
    "        '2RIRE-BUBLE':'RIRE-BUBLE BUBLE LIP MASK',\n",
    "        'AHC-AGELESS':'AHC-AGELESS REAL EYE CREAM FOR FACE',\n",
    "        'AHC-Aura':'AHC-Aura Secret Toneup Cream',\n",
    "        'AHC-ONLY':'AHC-ONLY FOR MAN LOTION',\n",
    "        'APIEU-a':'APIEU-스타트업 포어 프라이머',\n",
    "        'APIEU-b':'APIEU-데카소사이드 시카 겔 데이크림',\n",
    "        'BANILACO':'BANILACO-프라임 프라이머 클래식',\n",
    "        'BELIF-The':'BELIF-The true cream AQUA BOMB',\n",
    "        'CLIO':'CLIO-스파클링 라인 프리즘 에어 아이섀도우',\n",
    "        'FERRAGAMO-INCANTO':'FERRAGAMO-INCANTO CHARMS',\n",
    "        'FERRARI-SCUDERIA':'FERRARI-SCUDERIA BLACK EAU DE TOILETTE SPRAY',\n",
    "        'FROMNATURE':'FROMNATURE-에이지 인텐스 트리트먼트 에센스',\n",
    "        'GENABELLE-LASOR':'GENABELLE-LASOR SOOTHING SUNSCREEN',\n",
    "        'GREEN':'GREEN FINGER-KIDS FACIAL LOTION',\n",
    "        'HERA-BLACK':'HERA-BLACK CUSHION',\n",
    "        'HOLIKA':'HOLIKA HOLIKA-GOOD CERA SUPER CERAMIDE MIST',\n",
    "        'ILLIYOON':'ILLIYOON-세라마이드 아토 수딩 젤',\n",
    "        'INNISFREE':'INNISFREE-마이 블러셔 햇살 가득 장미',\n",
    "        'INNISFREE-ALOE':'INNISFREE-ALOE REVITAL SOOTHING GEL',\n",
    "        'INNISFREE-GREEN':'INNISFREE-GREEN TEA SEED ESSENC IN LOTION',\n",
    "        'INNISFREE-JEJU':'INNISFREE-JEJU CHERRY BLOSSOM SKIN',\n",
    "        'INNISFREE-NO':'INNISFREE-NO SEBUM Mineral Powder',\n",
    "        'ISOI':'ISOI-인텐시브 에너자이징크림',\n",
    "        'MACQUEEN':'MACQUEEN-쥬얼포텐 아이글리터',\n",
    "        'MISSHA':'MISSHA-레이어 블러링 모공커버 프라이머',\n",
    "        'NEUTROGENA-HAND':'NEUTROGENA-HAND CREAM',\n",
    "        'PERIPERA':'PERIPERA-핑크의순간 컬렉션 잉크 컬러 마스카라',\n",
    "        'ROKKISS':'ROKKISS-카렌듈라 에멀젼',\n",
    "        'SENKA-PERFECT':'SENKA-PERFECT WHIP',\n",
    "        'TONYMOLY':'TONYMOLY-피키비키 아트 팝 코렉팅 베이스',\n",
    "        'VICHY':'VICHY-오 떼르말 미네랄 온천수 미스트'\n",
    "     }"
   ]
  },
  {
   "cell_type": "code",
   "execution_count": 11,
   "metadata": {
    "collapsed": true,
    "scrolled": true
   },
   "outputs": [],
   "source": [
    "import shutil\n",
    "# shutil.copy('sample.pdf', 'file.pdf')\n",
    "orig_dir = 'images_trimed_10shot'\n",
    "new_dir = 'images_trimed_10shot_class'\n",
    "for m in masks:\n",
    "    orig_path = os.path.join(orig_dir, m)\n",
    "    new_path = os.path.join(new_dir, orig2class[m.split(' ')[0]], m)\n",
    "    try: shutil.copy(orig_path, new_path)\n",
    "    except: pass"
   ]
  }
 ],
 "metadata": {
  "kernelspec": {
   "display_name": "Python 3",
   "language": "python",
   "name": "python3"
  },
  "language_info": {
   "codemirror_mode": {
    "name": "ipython",
    "version": 3
   },
   "file_extension": ".py",
   "mimetype": "text/x-python",
   "name": "python",
   "nbconvert_exporter": "python",
   "pygments_lexer": "ipython3",
   "version": "3.6.2"
  }
 },
 "nbformat": 4,
 "nbformat_minor": 2
}
