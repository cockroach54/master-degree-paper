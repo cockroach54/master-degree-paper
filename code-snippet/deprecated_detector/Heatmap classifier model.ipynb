{
 "cells": [
  {
   "cell_type": "markdown",
   "metadata": {},
   "source": [
    "# Heatmap classifier model"
   ]
  },
  {
   "cell_type": "code",
   "execution_count": 1,
   "metadata": {
    "collapsed": true
   },
   "outputs": [],
   "source": [
    "import torch\n",
    "import torch.nn as nn\n",
    "from torch.utils.data import Dataset\n",
    "from torchvision import datasets, models, transforms\n",
    "import cv2\n",
    "from PIL import Image\n",
    "import numpy as np\n",
    "import pandas as pd\n",
    "import os"
   ]
  },
  {
   "cell_type": "code",
   "execution_count": 2,
   "metadata": {},
   "outputs": [],
   "source": [
    "import pickle\n",
    "\n",
    "class HeatmapDataset(Dataset):\n",
    "    \"\"\"My dataset.\"\"\"\n",
    "\n",
    "    def __init__(self, pickle_path, transform=None, n_sample=None):\n",
    "        super(HeatmapDataset, self).__init__()\n",
    "        self.pickle_path = pickle_path\n",
    "        self.transform = transform\n",
    "        \n",
    "        # load\n",
    "        with open(pickle_path, 'rb') as f:\n",
    "            data = pickle.load(f)\n",
    "            self.boxes_data = torch.tensor(data['boxes'])\n",
    "            self.heatmap_data = torch.tensor(data['heatmaps'])\n",
    "            self.targets = torch.tensor(data['targets'])\n",
    "            \n",
    "        # n개만 샘플링 - validation용\n",
    "        if(n_sample is not None):\n",
    "            sample_indices = np.random.choice(len(self.heatmap_data), n_sample, replace=False)\n",
    "            self.boxes_data = self.boxes_data[sample_indices]\n",
    "            self.heatmap_data = self.heatmap_data[sample_indices]\n",
    "            self.targets = self.targets[sample_indices]\n",
    "\n",
    "        self.n_classes = self.targets.max().item() + 1\n",
    "        assert len(self.heatmap_data)==len(self.boxes_data), \"num_heatmap != num_box\"\n",
    "\n",
    "    def __len__(self):\n",
    "        return len(self.heatmap_data)\n",
    "\n",
    "    def __getitem__(self, idx):\n",
    "        heatmap = self.heatmap_data[idx]\n",
    "        bboxes = self.boxes_data[idx]\n",
    "        targets = self.targets[idx]\n",
    "        \n",
    "        if self.transform:\n",
    "            heatmap = self.transform(heatmap).unsqueeze(0)\n",
    "\n",
    "        one_hot = torch.zeros(self.n_classes)\n",
    "        one_hot[targets.squeeze().long()] = 1\n",
    "        #  현재 프레임당 bbox 1개씩 뿐이라 sqaueeze힌것. 여러개땐 차원 고려해야함\n",
    "        return heatmap.float(), bboxes.squeeze().float(), one_hot\n",
    "\n",
    "# def myCollate(batch):\n",
    "#     img_list = []\n",
    "#     box_list = []\n",
    "#     for img, box in batch:\n",
    "#         img_list.append(img)\n",
    "#         box_list.append(box)\n",
    "#     return torch.stack(img_list), torch.stack(box_list)"
   ]
  },
  {
   "cell_type": "code",
   "execution_count": 3,
   "metadata": {},
   "outputs": [
    {
     "name": "stdout",
     "output_type": "stream",
     "text": [
      "{'train': 1599, 'val': 100}\n"
     ]
    }
   ],
   "source": [
    "pickle_path = 'heatmap_composed.pickle'\n",
    "pickle_val_path = 'heatmap_composed_val.pickle'\n",
    "\n",
    "my_dataset = HeatmapDataset(pickle_path)\n",
    "my_dataset_val = HeatmapDataset(pickle_val_path, n_sample=100)\n",
    "\n",
    "\n",
    "my_loader = torch.utils.data.DataLoader(my_dataset, batch_size=4, #collate_fn=myCollate,\n",
    "                                          shuffle=True, num_workers=0)\n",
    "my_loader_val = torch.utils.data.DataLoader(my_dataset_val, batch_size=4, #collate_fn=myCollate,\n",
    "                                          shuffle=True, num_workers=0)\n",
    "\n",
    "\n",
    "dataloaders = {\n",
    "    'train': my_loader,\n",
    "    'val': my_loader_val\n",
    "}\n",
    "dataset_sizes = {\n",
    "    'train': len(my_dataset),\n",
    "    'val': len(my_dataset_val)\n",
    "}\n",
    "# i,b = next(iter(my_loader))\n",
    "# i.shape, b.shape\n",
    "\n",
    "print(dataset_sizes)"
   ]
  },
  {
   "cell_type": "code",
   "execution_count": 43,
   "metadata": {
    "collapsed": true
   },
   "outputs": [],
   "source": [
    "my_loader_test = torch.utils.data.DataLoader(my_dataset_val, batch_size=2, #collate_fn=myCollate,\n",
    "                                          shuffle=True, num_workers=0)\n",
    "\n",
    "loader = iter(my_loader_test)\n",
    "\n",
    "def cvt_yolobox(bboxes_yolo, size):\n",
    "    \"\"\"\n",
    "    size - original [w,h]\n",
    "    np.array\n",
    "    yolo(cx,cy,w,h) to x,y,w,h\n",
    "    \"\"\"\n",
    "    bboxes = bboxes_yolo.copy() # x,y,w,h\n",
    "\n",
    "    bboxes[:,0] = (bboxes_yolo[:,0] - bboxes_yolo[:,2]/2)*size[1] # x\n",
    "    bboxes[:,1] = (bboxes_yolo[:,1] - bboxes_yolo[:,3]/2)*size[0] # y\n",
    "    bboxes[:,2] = bboxes_yolo[:,2]*size[1]\n",
    "    bboxes[:,3] = bboxes_yolo[:,3]*size[0]\n",
    "    bboxes = bboxes.astype(np.int)\n",
    "    return bboxes"
   ]
  },
  {
   "cell_type": "code",
   "execution_count": 44,
   "metadata": {},
   "outputs": [],
   "source": [
    "heatmap, box, target= loader.next()\n",
    "box = box.cpu().numpy() \n",
    "# box = cvt_yolobox(box, heatmap.shape[-2:])"
   ]
  },
  {
   "cell_type": "code",
   "execution_count": 45,
   "metadata": {},
   "outputs": [
    {
     "data": {
      "text/plain": [
       "(tensor([[0., 0., 0., 0., 0., 0., 0., 0., 0., 1., 0., 0., 0., 0., 0., 0., 0., 0.,\n",
       "          0., 0., 0., 0., 0., 0., 0., 0., 0., 0., 0., 0., 0.],\n",
       "         [0., 0., 0., 1., 0., 0., 0., 0., 0., 0., 0., 0., 0., 0., 0., 0., 0., 0.,\n",
       "          0., 0., 0., 0., 0., 0., 0., 0., 0., 0., 0., 0., 0.]]),\n",
       " array([[0.498437, 0.567361, 0.321875, 0.293056],\n",
       "        [0.607031, 0.518056, 0.54375 , 0.341667]], dtype=float32))"
      ]
     },
     "execution_count": 45,
     "metadata": {},
     "output_type": "execute_result"
    }
   ],
   "source": [
    "target, box"
   ]
  },
  {
   "cell_type": "code",
   "execution_count": 51,
   "metadata": {},
   "outputs": [
    {
     "data": {
      "text/plain": [
       "[torch.Size([2, 31, 224, 224]), (2, 4), torch.Size([2, 1])]"
      ]
     },
     "execution_count": 51,
     "metadata": {},
     "output_type": "execute_result"
    }
   ],
   "source": [
    "[i.shape for i in [heatmap, box, target]]"
   ]
  },
  {
   "cell_type": "code",
   "execution_count": 5,
   "metadata": {},
   "outputs": [],
   "source": [
    "multihead_attn = nn.MultiheadAttention(embed_dim=512, num_heads=8)\n",
    "# attn_output, attn_output_weights = multihead_attn(query, key, value)"
   ]
  },
  {
   "cell_type": "code",
   "execution_count": 31,
   "metadata": {},
   "outputs": [
    {
     "data": {
      "text/plain": [
       "torch.Size([31, 2, 512])"
      ]
     },
     "execution_count": 31,
     "metadata": {},
     "output_type": "execute_result"
    }
   ],
   "source": [
    "hh = model.backbone(heatmap.transpose(0,1).reshape(-1,1,224,224).cuda().float()) # 62,512 \n",
    "hh = hh.reshape(-1, 2, 512) # 31,2,512\n",
    "hh.shape"
   ]
  },
  {
   "cell_type": "code",
   "execution_count": 32,
   "metadata": {},
   "outputs": [],
   "source": [
    "multihead_attn.to('cuda')\n",
    "attn_output, attn_output_weights = multihead_attn(hh, hh, hh) # q,k,v - L,N,E - 31,8,512"
   ]
  },
  {
   "cell_type": "code",
   "execution_count": 33,
   "metadata": {},
   "outputs": [
    {
     "data": {
      "text/plain": [
       "(torch.Size([31, 2, 512]),\n",
       " torch.Size([2, 31, 31]),\n",
       " tensor([8, 5], dtype=torch.int32))"
      ]
     },
     "execution_count": 33,
     "metadata": {},
     "output_type": "execute_result"
    }
   ],
   "source": [
    "attn_output.shape, attn_output_weights.shape, target.squeeze(1)"
   ]
  },
  {
   "cell_type": "code",
   "execution_count": 38,
   "metadata": {},
   "outputs": [
    {
     "data": {
      "text/plain": [
       "torch.Size([2, 31, 512])"
      ]
     },
     "execution_count": 38,
     "metadata": {},
     "output_type": "execute_result"
    }
   ],
   "source": [
    "res = attn_output.transpose(0,1)\n",
    "res.shape"
   ]
  },
  {
   "cell_type": "code",
   "execution_count": 39,
   "metadata": {},
   "outputs": [
    {
     "data": {
      "text/plain": [
       "torch.Size([62, 512])"
      ]
     },
     "execution_count": 39,
     "metadata": {},
     "output_type": "execute_result"
    }
   ],
   "source": [
    "res2 = res.reshape(-1,512)\n",
    "res2.shape"
   ]
  },
  {
   "cell_type": "code",
   "execution_count": 49,
   "metadata": {},
   "outputs": [
    {
     "data": {
      "text/plain": [
       "Sequential(\n",
       "  (0): Linear(in_features=512, out_features=128, bias=True)\n",
       "  (1): ReLU()\n",
       "  (2): Linear(in_features=128, out_features=32, bias=True)\n",
       "  (3): ReLU()\n",
       "  (4): Linear(in_features=32, out_features=1, bias=True)\n",
       ")"
      ]
     },
     "execution_count": 49,
     "metadata": {},
     "output_type": "execute_result"
    }
   ],
   "source": [
    "linear = nn.Sequential(\n",
    "            nn.Linear(512, 128),\n",
    "            nn.ReLU(),\n",
    "            nn.Linear(128, 32),\n",
    "            nn.ReLU(),\n",
    "            nn.Linear(32, 1),\n",
    "        )\n",
    "linear.to('cuda')"
   ]
  },
  {
   "cell_type": "code",
   "execution_count": 52,
   "metadata": {},
   "outputs": [
    {
     "data": {
      "text/plain": [
       "torch.Size([2, 31])"
      ]
     },
     "execution_count": 52,
     "metadata": {},
     "output_type": "execute_result"
    }
   ],
   "source": [
    "pp = linear(res2)\n",
    "pp = pp.reshape(2,-1)\n",
    "pp.shape"
   ]
  },
  {
   "cell_type": "code",
   "execution_count": 55,
   "metadata": {},
   "outputs": [
    {
     "data": {
      "text/plain": [
       "(tensor([[0.5100, 0.5100, 0.5100, 0.5100, 0.5100, 0.5100, 0.5100, 0.5100, 0.5100,\n",
       "          0.5100, 0.5100, 0.5100, 0.5100, 0.5100, 0.5100, 0.5100, 0.5100, 0.5100,\n",
       "          0.5100, 0.5100, 0.5100, 0.5100, 0.5100, 0.5100, 0.5100, 0.5100, 0.5100,\n",
       "          0.5100, 0.5100, 0.5100, 0.5100],\n",
       "         [0.5101, 0.5101, 0.5101, 0.5101, 0.5101, 0.5101, 0.5101, 0.5101, 0.5101,\n",
       "          0.5101, 0.5101, 0.5101, 0.5101, 0.5101, 0.5101, 0.5101, 0.5101, 0.5101,\n",
       "          0.5101, 0.5101, 0.5101, 0.5101, 0.5101, 0.5101, 0.5101, 0.5101, 0.5101,\n",
       "          0.5101, 0.5101, 0.5101, 0.5101]], device='cuda:0',\n",
       "        grad_fn=<SigmoidBackward>), Softmax(\n",
       "   dim=tensor([[0.0400, 0.0400, 0.0400, 0.0400, 0.0399, 0.0399, 0.0400, 0.0400, 0.0399,\n",
       "            0.0399, 0.0400, 0.0400, 0.0400, 0.0399, 0.0400, 0.0400, 0.0399, 0.0399,\n",
       "            0.0399, 0.0400, 0.0400, 0.0399, 0.0399, 0.0399, 0.0400, 0.0399, 0.0400,\n",
       "            0.0400, 0.0400, 0.0399, 0.0399],\n",
       "           [0.0405, 0.0405, 0.0405, 0.0405, 0.0405, 0.0405, 0.0405, 0.0405, 0.0405,\n",
       "            0.0405, 0.0405, 0.0405, 0.0405, 0.0405, 0.0405, 0.0405, 0.0405, 0.0405,\n",
       "            0.0405, 0.0405, 0.0405, 0.0405, 0.0405, 0.0405, 0.0405, 0.0405, 0.0405,\n",
       "            0.0405, 0.0405, 0.0405, 0.0405]], device='cuda:0',\n",
       "          grad_fn=<AsStridedBackward>)\n",
       " ))"
      ]
     },
     "execution_count": 55,
     "metadata": {},
     "output_type": "execute_result"
    }
   ],
   "source": [
    "nn.Sigmoid()(pp), nn.Softmax(pp)"
   ]
  },
  {
   "cell_type": "code",
   "execution_count": 15,
   "metadata": {},
   "outputs": [
    {
     "data": {
      "text/plain": [
       "tensor([[0.5931, 0.5938, 0.5944,  ..., 0.6030, 0.6030, 0.6031],\n",
       "        [0.5936, 0.5943, 0.5948,  ..., 0.6037, 0.6038, 0.6038],\n",
       "        [0.5941, 0.5947, 0.5953,  ..., 0.6045, 0.6045, 0.6046],\n",
       "        ...,\n",
       "        [0.6257, 0.6257, 0.6257,  ..., 0.6256, 0.6252, 0.6248],\n",
       "        [0.6256, 0.6256, 0.6256,  ..., 0.6253, 0.6249, 0.6245],\n",
       "        [0.6253, 0.6253, 0.6253,  ..., 0.6251, 0.6246, 0.6243]])"
      ]
     },
     "execution_count": 15,
     "metadata": {},
     "output_type": "execute_result"
    }
   ],
   "source": [
    "heatmap[0][0].float().sigmoid()"
   ]
  },
  {
   "cell_type": "code",
   "execution_count": 24,
   "metadata": {
    "collapsed": true
   },
   "outputs": [],
   "source": [
    "import torch\n",
    "import torch.nn as nn\n",
    "from torchvision import datasets, models, transforms\n",
    "import torchvision\n",
    "# from RoIAlign.roi_align import RoIAlign      # RoIAlign module\n",
    "# from RoIAlign.roi_align import CropAndResizeFunction # crop_and_resize module\n",
    "import cv2\n",
    "import numpy as np\n",
    "import pandas as pd\n",
    "import os, shutil\n",
    "from time import sleep\n",
    "import matplotlib.pyplot as plt\n",
    "import seaborn as sns\n",
    "from tqdm import tqdm_notebook as tqdm\n",
    "\n",
    "class Flatten(torch.nn.Module):\n",
    "    \"\"\"\n",
    "    torch.nn.Sequential에서 사용가능한 flatten 모듈\n",
    "    \"\"\"\n",
    "    def forward(self, x):\n",
    "        batch_size = x.shape[0]\n",
    "        return x.view(batch_size, -1)\n",
    "    \n",
    "class BoxMaker(nn.Module):\n",
    "    def __init__(self):\n",
    "        super(BoxMaker, self).__init__()\n",
    "        avg_pool = torch.nn.AdaptiveAvgPool2d(output_size=(1, 1))\n",
    "        flatten = Flatten()\n",
    "        \n",
    "        # backbone layer\n",
    "        self.backbone = nn.Sequential(\n",
    "            # 1x1 conv\n",
    "            nn.Conv2d(1, 32, kernel_size=(3,3), stride=(1, 1)),#, dilation=2),\n",
    "            nn.BatchNorm2d(32, eps=1e-05, momentum=0.1, affine=True),\n",
    "            nn.ReLU(),\n",
    "            nn.MaxPool2d(2,2),\n",
    "            nn.Conv2d(32, 64, kernel_size=(3,3), stride=(1, 1)),#, dilation=2),\n",
    "            nn.BatchNorm2d(64, eps=1e-05, momentum=0.1, affine=True),\n",
    "            nn.ReLU(),\n",
    "            nn.MaxPool2d(2,2),\n",
    "            nn.Conv2d(64, 256, kernel_size=(3,3), stride=(1, 1)),#, dilation=2),\n",
    "            nn.BatchNorm2d(256, eps=1e-05, momentum=0.1, affine=True),\n",
    "            nn.ReLU(),\n",
    "            nn.MaxPool2d(2,2),\n",
    "            nn.Conv2d(256, 512, kernel_size=(3,3), stride=(1, 1)),\n",
    "            nn.BatchNorm2d(512, eps=1e-05, momentum=0.1, affine=True),\n",
    "            nn.ReLU(), # n x 512 x 24 x 24\n",
    "            avg_pool, # n x 512 x 1 x 1\n",
    "            flatten, # n x 512\n",
    "        )\n",
    "        \n",
    "        self.multihead_attn = nn.MultiheadAttention(embed_dim=512, num_heads=8)\n",
    "\n",
    "                \n",
    "        # fc layer\n",
    "        self.fc = nn.Sequential(\n",
    "            nn.Linear(512, 128),\n",
    "            nn.ReLU(),\n",
    "            nn.Linear(128, 32),\n",
    "            nn.ReLU(),\n",
    "            nn.Linear(32, 1),\n",
    "        )\n",
    "        \n",
    "        self.device = torch.device('cuda:0' if torch.cuda.is_available() else 'cpu')\n",
    "\n",
    "        \n",
    "    def forward(self, inputs):\n",
    "        \"\"\"\n",
    "        inputs - 2,31,224,224\n",
    "        \"\"\"\n",
    "        n_batch = inputs.shape[0] # 2\n",
    "        # CNN backbone\n",
    "        images = inputs.transpose(0,1).reshape(-1,1,224,224) # 62,1,224,224\n",
    "        hh = self.backbone(images) # 62,512 \n",
    "        hh = hh.reshape(-1, n_batch, 512) # 31,2,512\n",
    "        \n",
    "        attn_output, attn_output_weights = self.multihead_attn(hh, hh, hh) # q,k,v - L,N,E - 31,2,512        \n",
    "\n",
    "        res = attn_output.transpose(0,1) # 2,31,512\n",
    "\n",
    "        res2 = res.reshape(-1,512) # 62,512\n",
    "        \n",
    "        pp = self.fc(res2) # 62,1\n",
    "        logit = pp.reshape(n_batch,-1) # 2,31\n",
    "#         logit = pp.squeeze() # 2,31\n",
    "        \n",
    "        return logit\n"
   ]
  },
  {
   "cell_type": "code",
   "execution_count": 25,
   "metadata": {
    "scrolled": true
   },
   "outputs": [
    {
     "name": "stdout",
     "output_type": "stream",
     "text": [
      "----------------------------------------------------------------\n",
      "        Layer (type)               Output Shape         Param #\n",
      "================================================================\n",
      "            Conv2d-1         [-1, 32, 222, 222]             320\n",
      "       BatchNorm2d-2         [-1, 32, 222, 222]              64\n",
      "              ReLU-3         [-1, 32, 222, 222]               0\n",
      "         MaxPool2d-4         [-1, 32, 111, 111]               0\n",
      "            Conv2d-5         [-1, 64, 109, 109]          18,496\n",
      "       BatchNorm2d-6         [-1, 64, 109, 109]             128\n",
      "              ReLU-7         [-1, 64, 109, 109]               0\n",
      "         MaxPool2d-8           [-1, 64, 54, 54]               0\n",
      "            Conv2d-9          [-1, 256, 52, 52]         147,712\n",
      "      BatchNorm2d-10          [-1, 256, 52, 52]             512\n",
      "             ReLU-11          [-1, 256, 52, 52]               0\n",
      "        MaxPool2d-12          [-1, 256, 26, 26]               0\n",
      "           Conv2d-13          [-1, 512, 24, 24]       1,180,160\n",
      "      BatchNorm2d-14          [-1, 512, 24, 24]           1,024\n",
      "             ReLU-15          [-1, 512, 24, 24]               0\n",
      "AdaptiveAvgPool2d-16            [-1, 512, 1, 1]               0\n",
      "          Flatten-17                  [-1, 512]               0\n",
      "MultiheadAttention-18  [[-1, 2, 512], [-1, 4, 4]]               0\n",
      "           Linear-19                  [-1, 128]          65,664\n",
      "             ReLU-20                  [-1, 128]               0\n",
      "           Linear-21                   [-1, 32]           4,128\n",
      "             ReLU-22                   [-1, 32]               0\n",
      "           Linear-23                    [-1, 1]              33\n",
      "================================================================\n",
      "Total params: 1,418,241\n",
      "Trainable params: 1,418,241\n",
      "Non-trainable params: 0\n",
      "----------------------------------------------------------------\n",
      "Input size (MB): 0.77\n",
      "Forward/backward pass size (MB): 81.73\n",
      "Params size (MB): 5.41\n",
      "Estimated Total Size (MB): 87.91\n",
      "----------------------------------------------------------------\n"
     ]
    }
   ],
   "source": [
    "from torchsummary import summary\n",
    "model = BoxMaker()\n",
    "model.to(model.device)\n",
    "summary(model, (4, 224, 224))"
   ]
  },
  {
   "cell_type": "code",
   "execution_count": 26,
   "metadata": {},
   "outputs": [],
   "source": [
    "from torch.optim import lr_scheduler\n",
    "import time \n",
    "import copy\n",
    "def train_model(model, criterion, optimizer, scheduler, num_epochs=25):\n",
    "    global loss_list_train, loss_list_val\n",
    "    since = time.time()\n",
    "\n",
    "    best_model_wts = copy.deepcopy(model.state_dict())\n",
    "    best_loss = float('inf')\n",
    "\n",
    "    for epoch in range(num_epochs):\n",
    "        print('Epoch {}/{}'.format(epoch, num_epochs - 1))\n",
    "        print('-' * 10)\n",
    "\n",
    "        # Each epoch has a training and validation phase\n",
    "        for phase in ['train', 'val']:\n",
    "            if phase == 'train':\n",
    "                model.train()  # Set model to training mode\n",
    "            else:\n",
    "                model.eval()   # Set model to evaluate mode\n",
    "\n",
    "            running_loss = 0.0\n",
    "            running_corrects = 0\n",
    "\n",
    "            # Iterate over data.\n",
    "            for idx, (inputs, boxes_gt, targets) in enumerate(dataloaders[phase]):\n",
    "                inputs = inputs.to(model.device)\n",
    "#                 boxes_gt = boxes_gt.to(model.device) # shape맞춰야함\n",
    "                targets = targets.to(model.device)\n",
    "\n",
    "                # zero the parameter gradients\n",
    "                optimizer.zero_grad()\n",
    "\n",
    "                # forward\n",
    "                # track history if only in train\n",
    "                with torch.set_grad_enabled(phase == 'train'):\n",
    "#                     boxes_pred = model(inputs)\n",
    "                    logits = model(inputs)\n",
    "                    loss = criterion(logits, targets)\n",
    "\n",
    "                    # backward + optimize only if in training phase\n",
    "                    if phase == 'train':\n",
    "                        loss.backward()\n",
    "                        optimizer.step()\n",
    "\n",
    "                # statistics\n",
    "                running_loss += loss.item()\n",
    "                _, preds = torch.max(logits, 1)\n",
    "                __, target_labels = torch.max(targets, 1)\n",
    "                running_corrects += sum(preds == target_labels).item()\n",
    "                \n",
    "                # mini batch statistics\n",
    "                if idx>0 and idx%50==0 and phase=='train':\n",
    "                    cnt = idx*dataloaders[phase].batch_size\n",
    "                    print('[batch]{}, {} Loss: {:.4f}, Acc: {:.4f}'.format(cnt, phase, running_loss/cnt, running_corrects/cnt))\n",
    "                \n",
    "            if phase == 'train':\n",
    "                scheduler.step()\n",
    "\n",
    "            epoch_loss = running_loss / dataset_sizes[phase]\n",
    "            epoch_acc = running_corrects / dataset_sizes[phase]\n",
    "            \n",
    "            if(phase=='train'): loss_list_train.append(epoch_loss)\n",
    "            else: loss_list_val.append(epoch_loss)\n",
    "\n",
    "            print('{} Loss: {:.4f}, Acc: {:.4f}'.format(\n",
    "                phase, epoch_loss, epoch_acc))\n",
    "\n",
    "            # deep copy the model\n",
    "            if phase == 'val' and epoch_loss < best_loss:\n",
    "                best_loss = epoch_loss\n",
    "                best_model_wts = copy.deepcopy(model.state_dict())\n",
    "\n",
    "    time_elapsed = time.time() - since\n",
    "    print('Training complete in {:.0f}m {:.0f}s'.format(\n",
    "        time_elapsed // 60, time_elapsed % 60))\n",
    "    print('Best val loss: {:4f}'.format(best_loss))\n",
    "\n",
    "    # load best model weights\n",
    "    model.load_state_dict(best_model_wts)\n",
    "    return model"
   ]
  },
  {
   "cell_type": "code",
   "execution_count": 27,
   "metadata": {},
   "outputs": [],
   "source": [
    "# model.load_state_dict(torch.load('torch_models/heatmap.pth'))"
   ]
  },
  {
   "cell_type": "code",
   "execution_count": 28,
   "metadata": {
    "collapsed": true
   },
   "outputs": [],
   "source": [
    "# def criterion(box_pred, box_gt):\n",
    "#     \"\"\"\n",
    "#     box - N x 4, cx,cy,w,h (normalized like Yolo data)\n",
    "#     \"\"\"\n",
    "#     loss = (box_pred-box_gt).pow(2)\n",
    "#     loss2 = loss[:,:2]*500 + loss[:, 2:]\n",
    "#     return loss2.sum()"
   ]
  },
  {
   "cell_type": "code",
   "execution_count": 29,
   "metadata": {},
   "outputs": [],
   "source": [
    "criterion = nn.BCEWithLogitsLoss(reduction='sum')\n",
    "\n",
    "loss_list_train = []\n",
    "loss_list_val = []\n",
    "# Observe that only parameters of final layer are being optimized as\n",
    "# optimizer = optim.SGD(params, lr=0.001, momentum=0.9)\n",
    "optimizer = torch.optim.Adam(model.parameters(), lr=0.001)\n",
    "\n",
    "# Decay LR by a factor of 0.1 every 3 epochs\n",
    "exp_lr_scheduler = lr_scheduler.StepLR(optimizer, step_size=3, gamma=0.5)\n",
    "# exp_lr_scheduler = lr_scheduler.StepLR(optimizer, step_size=10, gamma=0.5)"
   ]
  },
  {
   "cell_type": "code",
   "execution_count": 30,
   "metadata": {
    "scrolled": true
   },
   "outputs": [
    {
     "name": "stdout",
     "output_type": "stream",
     "text": [
      "Epoch 0/99\n",
      "----------\n",
      "[batch]200, train Loss: 5.4571, Acc: 0.1550\n",
      "[batch]400, train Loss: 4.5351, Acc: 0.3475\n",
      "[batch]600, train Loss: 3.9590, Acc: 0.4483\n",
      "[batch]800, train Loss: 3.5727, Acc: 0.5062\n",
      "[batch]1000, train Loss: 3.4059, Acc: 0.5320\n",
      "[batch]1200, train Loss: 3.2462, Acc: 0.5525\n",
      "[batch]1400, train Loss: 3.0998, Acc: 0.5729\n",
      "train Loss: 3.0096, Acc: 0.5779\n",
      "val Loss: 2.7667, Acc: 0.6900\n",
      "Epoch 1/99\n",
      "----------\n",
      "[batch]200, train Loss: 2.5694, Acc: 0.6600\n",
      "[batch]400, train Loss: 2.3937, Acc: 0.6575\n",
      "[batch]600, train Loss: 2.3822, Acc: 0.6683\n",
      "[batch]800, train Loss: 2.3580, Acc: 0.6650\n",
      "[batch]1000, train Loss: 2.3096, Acc: 0.6730\n",
      "[batch]1200, train Loss: 2.3132, Acc: 0.6675\n",
      "[batch]1400, train Loss: 2.3081, Acc: 0.6693\n",
      "train Loss: 2.3192, Acc: 0.6617\n",
      "val Loss: 8.0376, Acc: 0.5900\n",
      "Epoch 2/99\n",
      "----------\n",
      "[batch]200, train Loss: 2.1496, Acc: 0.7050\n",
      "[batch]400, train Loss: 2.3175, Acc: 0.6675\n",
      "[batch]600, train Loss: 2.2572, Acc: 0.6817\n",
      "[batch]800, train Loss: 2.2387, Acc: 0.6813\n",
      "[batch]1000, train Loss: 2.2031, Acc: 0.6790\n",
      "[batch]1200, train Loss: 2.1772, Acc: 0.6825\n",
      "[batch]1400, train Loss: 2.2014, Acc: 0.6800\n",
      "train Loss: 2.1970, Acc: 0.6754\n",
      "val Loss: 2.1516, Acc: 0.6500\n",
      "Epoch 3/99\n",
      "----------\n",
      "[batch]200, train Loss: 2.0866, Acc: 0.6900\n",
      "[batch]400, train Loss: 2.1205, Acc: 0.6700\n",
      "[batch]600, train Loss: 2.0878, Acc: 0.6667\n",
      "[batch]800, train Loss: 2.0381, Acc: 0.6750\n",
      "[batch]1000, train Loss: 2.0362, Acc: 0.6710\n",
      "[batch]1200, train Loss: 2.0552, Acc: 0.6667\n",
      "[batch]1400, train Loss: 2.0253, Acc: 0.6779\n",
      "train Loss: 2.0308, Acc: 0.6785\n",
      "val Loss: 2.1846, Acc: 0.6800\n",
      "Epoch 4/99\n",
      "----------\n",
      "[batch]200, train Loss: 2.1134, Acc: 0.6250\n",
      "[batch]400, train Loss: 2.1465, Acc: 0.6500\n",
      "[batch]600, train Loss: 2.1116, Acc: 0.6583\n",
      "[batch]800, train Loss: 2.1071, Acc: 0.6600\n",
      "[batch]1000, train Loss: 2.0622, Acc: 0.6710\n",
      "[batch]1200, train Loss: 2.0905, Acc: 0.6717\n",
      "[batch]1400, train Loss: 2.0801, Acc: 0.6786\n",
      "train Loss: 2.0638, Acc: 0.6735\n",
      "val Loss: 2.1648, Acc: 0.6800\n",
      "Epoch 5/99\n",
      "----------\n",
      "[batch]200, train Loss: 2.1398, Acc: 0.6650\n",
      "[batch]400, train Loss: 2.0800, Acc: 0.6800\n",
      "[batch]600, train Loss: 2.0314, Acc: 0.6800\n",
      "[batch]800, train Loss: 2.0024, Acc: 0.6775\n",
      "[batch]1000, train Loss: 2.0434, Acc: 0.6650\n",
      "[batch]1200, train Loss: 2.0247, Acc: 0.6683\n",
      "[batch]1400, train Loss: 1.9877, Acc: 0.6743\n",
      "train Loss: 1.9479, Acc: 0.6779\n",
      "val Loss: 2.4799, Acc: 0.6900\n",
      "Epoch 6/99\n",
      "----------\n",
      "[batch]200, train Loss: 2.1876, Acc: 0.6450\n",
      "[batch]400, train Loss: 2.0033, Acc: 0.6475\n",
      "[batch]600, train Loss: 1.9541, Acc: 0.6650\n",
      "[batch]800, train Loss: 1.8879, Acc: 0.6800\n",
      "[batch]1000, train Loss: 1.9232, Acc: 0.6740\n",
      "[batch]1200, train Loss: 1.9137, Acc: 0.6783\n",
      "[batch]1400, train Loss: 1.9153, Acc: 0.6779\n",
      "train Loss: 1.9022, Acc: 0.6798\n",
      "val Loss: 2.3250, Acc: 0.7100\n",
      "Epoch 7/99\n",
      "----------\n",
      "[batch]200, train Loss: 1.6974, Acc: 0.7700\n",
      "[batch]400, train Loss: 1.7805, Acc: 0.7300\n",
      "[batch]600, train Loss: 1.8151, Acc: 0.7100\n",
      "[batch]800, train Loss: 1.8310, Acc: 0.7087\n",
      "[batch]1000, train Loss: 1.8377, Acc: 0.6960\n",
      "[batch]1200, train Loss: 1.8553, Acc: 0.6900\n",
      "[batch]1400, train Loss: 1.8468, Acc: 0.6907\n",
      "train Loss: 1.8734, Acc: 0.6829\n",
      "val Loss: 2.3646, Acc: 0.7100\n",
      "Epoch 8/99\n",
      "----------\n",
      "[batch]200, train Loss: 1.8562, Acc: 0.6800\n",
      "[batch]400, train Loss: 1.8593, Acc: 0.6850\n",
      "[batch]600, train Loss: 1.9695, Acc: 0.6617\n",
      "[batch]800, train Loss: 1.8609, Acc: 0.6800\n",
      "[batch]1000, train Loss: 1.8660, Acc: 0.6860\n",
      "[batch]1200, train Loss: 1.8526, Acc: 0.6842\n",
      "[batch]1400, train Loss: 1.8556, Acc: 0.6786\n",
      "train Loss: 1.8423, Acc: 0.6811\n",
      "val Loss: 2.1103, Acc: 0.7100\n",
      "Epoch 9/99\n",
      "----------\n",
      "[batch]200, train Loss: 1.9160, Acc: 0.6800\n",
      "[batch]400, train Loss: 1.9370, Acc: 0.6650\n",
      "[batch]600, train Loss: 1.9163, Acc: 0.6650\n",
      "[batch]800, train Loss: 1.8272, Acc: 0.6913\n",
      "[batch]1000, train Loss: 1.8191, Acc: 0.6860\n",
      "[batch]1200, train Loss: 1.8179, Acc: 0.6833\n",
      "[batch]1400, train Loss: 1.8137, Acc: 0.6829\n",
      "train Loss: 1.8249, Acc: 0.6773\n",
      "val Loss: 2.2331, Acc: 0.7100\n",
      "Epoch 10/99\n",
      "----------\n",
      "[batch]200, train Loss: 1.9018, Acc: 0.6700\n",
      "[batch]400, train Loss: 1.7549, Acc: 0.7050\n",
      "[batch]600, train Loss: 1.7791, Acc: 0.7017\n",
      "[batch]800, train Loss: 1.7999, Acc: 0.6950\n",
      "[batch]1000, train Loss: 1.8117, Acc: 0.6900\n",
      "[batch]1200, train Loss: 1.8017, Acc: 0.6900\n",
      "[batch]1400, train Loss: 1.8152, Acc: 0.6886\n",
      "train Loss: 1.7838, Acc: 0.6861\n",
      "val Loss: 2.1347, Acc: 0.7000\n",
      "Epoch 11/99\n",
      "----------\n",
      "[batch]200, train Loss: 1.7610, Acc: 0.7300\n",
      "[batch]400, train Loss: 1.7858, Acc: 0.6950\n",
      "[batch]600, train Loss: 1.7583, Acc: 0.6850\n",
      "[batch]800, train Loss: 1.7254, Acc: 0.6950\n",
      "[batch]1000, train Loss: 1.7791, Acc: 0.6850\n",
      "[batch]1200, train Loss: 1.8167, Acc: 0.6817\n",
      "[batch]1400, train Loss: 1.7827, Acc: 0.6886\n",
      "train Loss: 1.7820, Acc: 0.6867\n",
      "val Loss: 2.2084, Acc: 0.7200\n",
      "Epoch 12/99\n",
      "----------\n",
      "[batch]200, train Loss: 1.9599, Acc: 0.6700\n",
      "[batch]400, train Loss: 1.8448, Acc: 0.6675\n",
      "[batch]600, train Loss: 1.7647, Acc: 0.6917\n",
      "[batch]800, train Loss: 1.7644, Acc: 0.6900\n",
      "[batch]1000, train Loss: 1.7795, Acc: 0.6870\n",
      "[batch]1200, train Loss: 1.7733, Acc: 0.6858\n",
      "[batch]1400, train Loss: 1.7477, Acc: 0.6929\n",
      "train Loss: 1.7529, Acc: 0.6836\n",
      "val Loss: 2.1400, Acc: 0.7200\n",
      "Epoch 13/99\n",
      "----------\n",
      "[batch]200, train Loss: 1.6763, Acc: 0.7000\n",
      "[batch]400, train Loss: 1.7279, Acc: 0.6875\n",
      "[batch]600, train Loss: 1.7853, Acc: 0.6750\n",
      "[batch]800, train Loss: 1.7519, Acc: 0.6850\n",
      "[batch]1000, train Loss: 1.7433, Acc: 0.6920\n",
      "[batch]1200, train Loss: 1.7221, Acc: 0.6942\n",
      "[batch]1400, train Loss: 1.7377, Acc: 0.6914\n",
      "train Loss: 1.7290, Acc: 0.6898\n",
      "val Loss: 2.0770, Acc: 0.7100\n",
      "Epoch 14/99\n",
      "----------\n",
      "[batch]200, train Loss: 1.8020, Acc: 0.6900\n",
      "[batch]400, train Loss: 1.8861, Acc: 0.6625\n",
      "[batch]600, train Loss: 1.8444, Acc: 0.6617\n",
      "[batch]800, train Loss: 1.7689, Acc: 0.6763\n",
      "[batch]1000, train Loss: 1.7078, Acc: 0.6960\n",
      "[batch]1200, train Loss: 1.6862, Acc: 0.7008\n",
      "[batch]1400, train Loss: 1.7098, Acc: 0.6971\n",
      "train Loss: 1.7140, Acc: 0.6923\n",
      "val Loss: 2.0754, Acc: 0.7200\n",
      "Epoch 15/99\n",
      "----------\n"
     ]
    },
    {
     "ename": "KeyboardInterrupt",
     "evalue": "",
     "output_type": "error",
     "traceback": [
      "\u001b[1;31m---------------------------------------------------------------------------\u001b[0m",
      "\u001b[1;31mKeyboardInterrupt\u001b[0m                         Traceback (most recent call last)",
      "\u001b[1;32m<ipython-input-30-d05c6138013d>\u001b[0m in \u001b[0;36m<module>\u001b[1;34m()\u001b[0m\n\u001b[1;32m----> 1\u001b[1;33m \u001b[0mmodel\u001b[0m \u001b[1;33m=\u001b[0m \u001b[0mtrain_model\u001b[0m\u001b[1;33m(\u001b[0m\u001b[0mmodel\u001b[0m\u001b[1;33m,\u001b[0m \u001b[0mcriterion\u001b[0m\u001b[1;33m,\u001b[0m \u001b[0moptimizer\u001b[0m\u001b[1;33m,\u001b[0m \u001b[0mexp_lr_scheduler\u001b[0m\u001b[1;33m,\u001b[0m \u001b[0mnum_epochs\u001b[0m\u001b[1;33m=\u001b[0m\u001b[1;36m100\u001b[0m\u001b[1;33m)\u001b[0m\u001b[1;33m\u001b[0m\u001b[0m\n\u001b[0m",
      "\u001b[1;32m<ipython-input-26-6d66d8109f0c>\u001b[0m in \u001b[0;36mtrain_model\u001b[1;34m(model, criterion, optimizer, scheduler, num_epochs)\u001b[0m\n\u001b[0;32m     45\u001b[0m \u001b[1;33m\u001b[0m\u001b[0m\n\u001b[0;32m     46\u001b[0m                 \u001b[1;31m# statistics\u001b[0m\u001b[1;33m\u001b[0m\u001b[1;33m\u001b[0m\u001b[0m\n\u001b[1;32m---> 47\u001b[1;33m                 \u001b[0mrunning_loss\u001b[0m \u001b[1;33m+=\u001b[0m \u001b[0mloss\u001b[0m\u001b[1;33m.\u001b[0m\u001b[0mitem\u001b[0m\u001b[1;33m(\u001b[0m\u001b[1;33m)\u001b[0m\u001b[1;33m\u001b[0m\u001b[0m\n\u001b[0m\u001b[0;32m     48\u001b[0m                 \u001b[0m_\u001b[0m\u001b[1;33m,\u001b[0m \u001b[0mpreds\u001b[0m \u001b[1;33m=\u001b[0m \u001b[0mtorch\u001b[0m\u001b[1;33m.\u001b[0m\u001b[0mmax\u001b[0m\u001b[1;33m(\u001b[0m\u001b[0mlogits\u001b[0m\u001b[1;33m,\u001b[0m \u001b[1;36m1\u001b[0m\u001b[1;33m)\u001b[0m\u001b[1;33m\u001b[0m\u001b[0m\n\u001b[0;32m     49\u001b[0m                 \u001b[0m__\u001b[0m\u001b[1;33m,\u001b[0m \u001b[0mtarget_labels\u001b[0m \u001b[1;33m=\u001b[0m \u001b[0mtorch\u001b[0m\u001b[1;33m.\u001b[0m\u001b[0mmax\u001b[0m\u001b[1;33m(\u001b[0m\u001b[0mtargets\u001b[0m\u001b[1;33m,\u001b[0m \u001b[1;36m1\u001b[0m\u001b[1;33m)\u001b[0m\u001b[1;33m\u001b[0m\u001b[0m\n",
      "\u001b[1;31mKeyboardInterrupt\u001b[0m: "
     ]
    }
   ],
   "source": [
    "model = train_model(model, criterion, optimizer, exp_lr_scheduler, num_epochs=100)"
   ]
  },
  {
   "cell_type": "code",
   "execution_count": null,
   "metadata": {
    "collapsed": true
   },
   "outputs": [],
   "source": [
    "2.5~2.8"
   ]
  },
  {
   "cell_type": "code",
   "execution_count": 31,
   "metadata": {},
   "outputs": [
    {
     "data": {
      "image/png": "[encoded data removed]",
      "text/plain": [
       "<Figure size 432x288 with 1 Axes>"
      ]
     },
     "metadata": {},
     "output_type": "display_data"
    }
   ],
   "source": [
    "plt.plot(loss_list_train)\n",
    "plt.plot(loss_list_val)\n",
    "plt.show()"
   ]
  },
  {
   "cell_type": "code",
   "execution_count": 32,
   "metadata": {
    "collapsed": true
   },
   "outputs": [],
   "source": [
    "model.eval()\n",
    "torch.save(model.state_dict(), 'torch_models/heatmap-cls.pth')"
   ]
  },
  {
   "cell_type": "markdown",
   "metadata": {},
   "source": [
    "---\n",
    "# Test"
   ]
  },
  {
   "cell_type": "code",
   "execution_count": 15,
   "metadata": {},
   "outputs": [],
   "source": [
    "import matplotlib.patches as patches\n",
    "\n",
    "my_loader_test = torch.utils.data.DataLoader(my_dataset_val, batch_size=8, #collate_fn=myCollate,\n",
    "                                          shuffle=True, num_workers=0)\n",
    "\n",
    "loader = iter(my_loader_test)\n",
    "model.eval()\n",
    "\n",
    "def cvt_yolobox(bboxes_yolo, size):\n",
    "    \"\"\"\n",
    "    size - original [w,h]\n",
    "    np.array\n",
    "    yolo(cx,cy,w,h) to x,y,w,h\n",
    "    \"\"\"\n",
    "    bboxes = bboxes_yolo.copy() # x,y,w,h\n",
    "\n",
    "    bboxes[:,0] = (bboxes_yolo[:,0] - bboxes_yolo[:,2]/2)*size[1] # x\n",
    "    bboxes[:,1] = (bboxes_yolo[:,1] - bboxes_yolo[:,3]/2)*size[0] # y\n",
    "    bboxes[:,2] = bboxes_yolo[:,2]*size[1]\n",
    "    bboxes[:,3] = bboxes_yolo[:,3]*size[0]\n",
    "    bboxes = bboxes.astype(np.int)\n",
    "    return bboxes"
   ]
  },
  {
   "cell_type": "code",
   "execution_count": 332,
   "metadata": {},
   "outputs": [
    {
     "name": "stdout",
     "output_type": "stream",
     "text": [
      "[ 34  37 104 172]\n"
     ]
    },
    {
     "data": {
      "image/png": "[encoded data removed]",
      "text/plain": [
       "<Figure size 432x288 with 1 Axes>"
      ]
     },
     "metadata": {},
     "output_type": "display_data"
    }
   ],
   "source": [
    "heatmap, box = loader.next()\n",
    "box = box.cpu().numpy() \n",
    "box = cvt_yolobox(box.squeeze(1), heatmap.shape[-2:])\n",
    "# x1,y1,w1,h1 = box[0]\n",
    "# box_adj = model(heatmap.cuda()).detach().cpu().numpy()\n",
    "# box_adj = cvt_yolobox(box_adj, heatmap.shape[-2:])\n",
    "# x2,y2,w2,h2 = box_adj[0]\n",
    "# print(box_adj[0])\n",
    "\n",
    "# Create figure and axes\n",
    "fig,ax = plt.subplots(1)\n",
    "\n",
    "# Display the image\n",
    "imgplot = ax.imshow(heatmap[0][0].cpu(), cmap='jet')\n",
    "imgplot.set_clim(0,1)\n",
    "\n",
    "# Create a Rectangle patch\n",
    "rect = patches.Rectangle((x1,y1),w1,h1, linewidth=2,edgecolor='b',facecolor='none')\n",
    "rect_pred = patches.Rectangle((x2,y2),w2,h2, linewidth=2,edgecolor='r',facecolor='none')\n",
    "\n",
    "# Add the patch to the Axes\n",
    "ax.add_patch(rect)\n",
    "ax.add_patch(rect_pred)\n",
    "\n",
    "plt.show()"
   ]
  },
  {
   "cell_type": "code",
   "execution_count": null,
   "metadata": {
    "collapsed": true
   },
   "outputs": [],
   "source": []
  }
 ],
 "metadata": {
  "kernelspec": {
   "display_name": "Python 3",
   "language": "python",
   "name": "python3"
  },
  "language_info": {
   "codemirror_mode": {
    "name": "ipython",
    "version": 3
   },
   "file_extension": ".py",
   "mimetype": "text/x-python",
   "name": "python",
   "nbconvert_exporter": "python",
   "pygments_lexer": "ipython3",
   "version": "3.6.2"
  }
 },
 "nbformat": 4,
 "nbformat_minor": 2
}
