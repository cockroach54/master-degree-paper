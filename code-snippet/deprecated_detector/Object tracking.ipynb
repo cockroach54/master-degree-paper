{
 "cells": [
  {
   "cell_type": "markdown",
   "metadata": {},
   "source": [
    "https://www.pyimagesearch.com/2018/07/30/opencv-object-tracking/\n",
    "\n",
    "I recommend using either CSRT, KCF, or MOSSE for most object tracking applications:\n",
    "\n",
    "Use CSRT when you need higher object tracking accuracy and can tolerate slower FPS throughput\n",
    "Use KCF when you need faster FPS throughput but can handle slightly lower object tracking accuracy\n",
    "Use MOSSE when you need pure speed"
   ]
  },
  {
   "cell_type": "code",
   "execution_count": 3,
   "metadata": {
    "collapsed": true
   },
   "outputs": [],
   "source": [
    "import cv2\n",
    "import sys\n",
    "import os\n",
    " \n",
    "(major_ver, minor_ver, subminor_ver) = (cv2.__version__).split('.')\n",
    " "
   ]
  },
  {
   "cell_type": "code",
   "execution_count": 16,
   "metadata": {},
   "outputs": [],
   "source": [
    "# Set up tracker.\n",
    "# Instead of MIL, you can also use\n",
    "\n",
    "tracker_types = ['BOOSTING', 'MIL','KCF', 'TLD', 'MEDIANFLOW', 'GOTURN', 'MOSSE', 'CSRT']\n",
    "tracker_type = tracker_types[4]\n",
    "\n",
    "#     if int(minor_ver) < 3:\n",
    "#         tracker = cv2.Tracker_create(tracker_type)\n",
    "#     else:\n",
    "if tracker_type == 'BOOSTING':\n",
    "    tracker = cv2.TrackerBoosting_create()\n",
    "if tracker_type == 'MIL':\n",
    "    tracker = cv2.TrackerMIL_create()\n",
    "if tracker_type == 'KCF':\n",
    "    tracker = cv2.TrackerKCF_create()\n",
    "if tracker_type == 'TLD':\n",
    "    tracker = cv2.TrackerTLD_create()\n",
    "if tracker_type == 'MEDIANFLOW':\n",
    "    tracker = cv2.TrackerMedianFlow_create()\n",
    "if tracker_type == 'GOTURN':\n",
    "    tracker = cv2.TrackerGOTURN_create()\n",
    "if tracker_type == 'MOSSE':\n",
    "    tracker = cv2.TrackerMOSSE_create()\n",
    "if tracker_type == \"CSRT\":\n",
    "    tracker = cv2.TrackerCSRT_create()\n",
    "# ==================================================================\n",
    "    \n",
    "    \n",
    "# Read video\n",
    "videoName = \"BOBBI BROWN-PRIMER PLUS PROTECTION.MOV\"\n",
    "videoPath = os.path.join(\".\\\\video\\\\resized\",videoName)\n",
    "video = cv2.VideoCapture(videoPath)\n",
    "\n",
    "# Exit if video not opened.\n",
    "if not video.isOpened():\n",
    "    print(\"Could not open video\")\n",
    "    sys.exit()\n",
    "\n",
    "# Read first frame..\n",
    "ok, frame = video.read()\n",
    "\n",
    "\n",
    "fgbg = cv2.createBackgroundSubtractorMOG2(varThreshold=100)#, detectShadows=False)\n",
    "# frame = fgbg.apply(frame)\n",
    "if not ok:\n",
    "    print ('Cannot read video file')\n",
    "    sys.exit()\n",
    "\n",
    "# Define an initial bounding box\n",
    "bbox = (287, 23, 86, 320)\n",
    "\n",
    "# Uncomment the line below to select a different bounding box\n",
    "bbox = cv2.selectROI(frame, False)\n",
    "\n",
    "# Initialize tracker with first frame and bounding box\n",
    "ok = tracker.init(frame, bbox)\n",
    "\n",
    "\n",
    "\n",
    "while True:\n",
    "    # Read a new frame\n",
    "    ok, frame = video.read()\n",
    "#     frame = fgbg.apply(frame)\n",
    "    \n",
    "    if not ok:\n",
    "        break\n",
    "\n",
    "    # Start timer\n",
    "    timer = cv2.getTickCount()\n",
    "\n",
    "    # Update tracker\n",
    "    ok, bbox = tracker.update(frame)\n",
    "\n",
    "    # Calculate Frames per second (FPS)\n",
    "    fps = cv2.getTickFrequency() / (cv2.getTickCount() - timer);\n",
    "\n",
    "    # Draw bounding box\n",
    "    if ok:\n",
    "        # Tracking success\n",
    "        p1 = (int(bbox[0]), int(bbox[1]))\n",
    "        p2 = (int(bbox[0] + bbox[2]), int(bbox[1] + bbox[3]))\n",
    "        cv2.rectangle(frame, p1, p2, (255,0,0), 2, 1)\n",
    "    else :\n",
    "        # Tracking failure\n",
    "        cv2.putText(frame, \"Tracking failure detected\", (100,80), cv2.FONT_HERSHEY_SIMPLEX, 0.75,(0,0,255),2)\n",
    "\n",
    "    # Display tracker type on frame\n",
    "    cv2.putText(frame, tracker_type + \" Tracker\", (100,20), cv2.FONT_HERSHEY_SIMPLEX, 0.75, (50,170,50),2);\n",
    "\n",
    "    # Display FPS on frame\n",
    "    cv2.putText(frame, \"FPS : \" + str(int(fps)), (100,50), cv2.FONT_HERSHEY_SIMPLEX, 0.75, (50,170,50), 2);\n",
    "\n",
    "    # Display result\n",
    "    cv2.imshow(\"Tracking\", frame)\n",
    "    \n",
    "    # Exit if ESC pressed\n",
    "    k = cv2.waitKey(1) & 0xff\n",
    "    if k == 27 :\n",
    "#         VideoFileOutput.release()\n",
    "        break\n",
    "\n",
    "video.release()\n",
    "cv2.destroyAllWindows()"
   ]
  },
  {
   "cell_type": "code",
   "execution_count": 10,
   "metadata": {
    "collapsed": true
   },
   "outputs": [],
   "source": [
    "video.release()\n",
    "cv2.destroyAllWindows()"
   ]
  },
  {
   "cell_type": "markdown",
   "metadata": {},
   "source": [
    "---\n",
    "# web cam tracking"
   ]
  },
  {
   "cell_type": "code",
   "execution_count": 14,
   "metadata": {
    "collapsed": true
   },
   "outputs": [],
   "source": [
    "filename=\"output_tracking.avi\"\n",
    "codec=cv2.VideoWriter_fourcc('m','p','4','v')#fourcc stands for four character code\n",
    "framerate=30\n",
    "resolution=(640,480)\n",
    "VideoFileOutput=cv2.VideoWriter(filename,codec, framerate, resolution)\n",
    "\n",
    "def restart_tracker():\n",
    "    global tracker, cap\n",
    "    del(tracker)\n",
    "    tracker = cv2.TrackerCSRT_create()\n",
    "    ok, frame = cap.read()\n",
    "    bbox = cv2.selectROI(frame, False)\n",
    "    tracker.init(frame, bbox)\n",
    "\n",
    "if __name__ == '__main__' :\n",
    " \n",
    "    # Set up tracker.\n",
    "    # Instead of MIL, you can also use\n",
    " \n",
    "    tracker_types = ['BOOSTING', 'MIL','KCF', 'TLD', 'MEDIANFLOW', 'GOTURN', 'MOSSE', 'CSRT']\n",
    "    tracker_type = tracker_types[-1]\n",
    " \n",
    "#     if int(minor_ver) < 3:\n",
    "#         tracker = cv2.Tracker_create(tracker_type)\n",
    "#     else:\n",
    "    if tracker_type == 'BOOSTING':\n",
    "        tracker = cv2.TrackerBoosting_create()\n",
    "    if tracker_type == 'MIL':\n",
    "        tracker = cv2.TrackerMIL_create()\n",
    "    if tracker_type == 'KCF':\n",
    "        tracker = cv2.TrackerKCF_create()\n",
    "    if tracker_type == 'TLD':\n",
    "        tracker = cv2.TrackerTLD_create()\n",
    "    if tracker_type == 'MEDIANFLOW':\n",
    "        tracker = cv2.TrackerMedianFlow_create()\n",
    "    if tracker_type == 'GOTURN':\n",
    "        tracker = cv2.TrackerGOTURN_create()\n",
    "    if tracker_type == 'MOSSE':\n",
    "        tracker = cv2.TrackerMOSSE_create()\n",
    "    if tracker_type == \"CSRT\":\n",
    "        tracker = cv2.TrackerCSRT_create()\n",
    " \n",
    "         \n",
    "    cap=cv2.VideoCapture(0) # 0 stands for very first webcam attachc\n",
    "#     cap=cv2.VideoCapture('inni.mp4') # 0 stands for very first webcam attachc\n",
    "\n",
    "\n",
    "    # Read first frame.\n",
    "    ok, frame = cap.read()\n",
    "    if not ok:\n",
    "        print ('Cannot read video file')\n",
    "        sys.exit()\n",
    "\n",
    "    # Define an initial bounding box\n",
    "    bbox = (287, 23, 86, 320)\n",
    " \n",
    "    # Uncomment the line below to select a different bounding box\n",
    "    bbox = cv2.selectROI(frame, False)\n",
    " \n",
    "    # Initialize tracker with first frame and bounding box\n",
    "    ok = tracker.init(frame, bbox)\n",
    " \n",
    "    while True:\n",
    "        # Read a new frame\n",
    "        ok, frame = cap.read()\n",
    "        if not ok:\n",
    "            break\n",
    "         \n",
    "        # Start timer\n",
    "        timer = cv2.getTickCount()\n",
    " \n",
    "        # Update tracker\n",
    "        ok, bbox = tracker.update(frame)\n",
    " \n",
    "        # Calculate Frames per second (FPS)\n",
    "        fps = cv2.getTickFrequency() / (cv2.getTickCount() - timer);\n",
    " \n",
    "        # Draw bounding box\n",
    "        if ok:\n",
    "            # Tracking success\n",
    "            p1 = (int(bbox[0]), int(bbox[1]))\n",
    "            p2 = (int(bbox[0] + bbox[2]), int(bbox[1] + bbox[3])) # dx, dy 형태로 들어오네\n",
    "            cv2.rectangle(frame, p1, p2, (255,0,0), 2, 1)\n",
    "        else :\n",
    "            # Tracking failure\n",
    "            cv2.putText(frame, \"Tracking failure detected\", (100,80), cv2.FONT_HERSHEY_SIMPLEX, 0.75,(0,0,255),2)\n",
    "            restart_tracker()\n",
    "            \n",
    "        # Display tracker type on frame\n",
    "        cv2.putText(frame, tracker_type + \" Tracker\", (100,20), cv2.FONT_HERSHEY_SIMPLEX, 0.75, (50,170,50),2);\n",
    "     \n",
    "        # Display FPS on frame\n",
    "        cv2.putText(frame, \"FPS : \" + str(int(fps)), (100,50), cv2.FONT_HERSHEY_SIMPLEX, 0.75, (50,170,50), 2);\n",
    " \n",
    "        # Display result\n",
    "        cv2.imshow(\"Tracking\", frame)\n",
    "        \n",
    "        # Write frame\n",
    "        VideoFileOutput.write(frame)\n",
    "    \n",
    "        # Exit if ESC pressed\n",
    "        k = cv2.waitKey(1) & 0xff\n",
    "        if k == 27 :\n",
    "            VideoFileOutput.release()\n",
    "            break\n",
    "\n",
    "cap.release()\n",
    "cv2.destroyAllWindows()    "
   ]
  },
  {
   "cell_type": "code",
   "execution_count": 9,
   "metadata": {
    "collapsed": true
   },
   "outputs": [],
   "source": [
    "cap.release()\n",
    "cv2.destroyAllWindows()    "
   ]
  },
  {
   "cell_type": "markdown",
   "metadata": {
    "collapsed": true
   },
   "source": [
    "---\n",
    "## Background subtraction"
   ]
  },
  {
   "cell_type": "code",
   "execution_count": 89,
   "metadata": {
    "collapsed": true
   },
   "outputs": [],
   "source": [
    "import cv2\n",
    "import numpy as np\n",
    "\n",
    "cap = cv2.VideoCapture(0)\n",
    "# cap = cv2.VideoCapture('boh.mp4')\n",
    "\n",
    "# 옵션 설명 http://layer0.authentise.com/segment-background-using-computer-vision.html\n",
    "fgbg = cv2.createBackgroundSubtractorMOG2(varThreshold=100)\n",
    "# fgbg = cv2.bgsegm.createBackgroundSubtractorGMG()\n",
    "\n",
    "\n",
    "while(1):\n",
    "    ret, frame = cap.read()\n",
    "    if(ret):\n",
    "        fgmask = fgbg.apply(frame)\n",
    "\n",
    "\n",
    "\n",
    "        nlabels, labels, stats, centroids = cv2.connectedComponentsWithStats(fgmask)\n",
    "\n",
    "\n",
    "        data = []\n",
    "        centers = []\n",
    "        for index, centroid in enumerate(centroids):\n",
    "            if stats[index][0] == 0 and stats[index][1] == 0:\n",
    "                continue\n",
    "            if np.any(np.isnan(centroid)):\n",
    "                continue\n",
    "\n",
    "\n",
    "            x, y, width, height, area = stats[index]\n",
    "            centerX, centerY = int(centroid[0]), int(centroid[1])\n",
    "\n",
    "\n",
    "            if area > 1000:\n",
    "                # 유효한 값만 저장\n",
    "                data.append(stats[index])\n",
    "                centers.append([centerX, centerY])\n",
    "            \n",
    "                cv2.circle(frame, (centerX, centerY), 1, (0, 255, 0), 2)\n",
    "                cv2.rectangle(frame, (x, y), (x + width, y + height), (0, 255, 0))\n",
    "\n",
    "                \n",
    "        data = np.array(data)\n",
    "        centers = np.array(centers)\n",
    "        \n",
    "        if(centers.shape[0]>0):\n",
    "            # 종합 영역 그리기\n",
    "            # min X , max Y 필요\n",
    "    #         minX = data[0].min()\n",
    "    #         maxY = (data[1] + data[3]).max()\n",
    "    #         cv2.rectangle(frame, (minX, maxY), (x + width, maxY), (0, 0, 255))\n",
    "#             print((int(centers[:,0].mean()), int(centers[:,1].mean())))\n",
    "            cv2.circle(frame, (int(centers[:,0].mean()), int(centers[:,1].mean())), 1, (0, 0, 255), 2)\n",
    "        \n",
    "        # 영역 각각 그리기\n",
    "        cv2.imshow('mask',fgmask)\n",
    "        cv2.imshow('frame',frame)\n",
    "        \n",
    "\n",
    "        k = cv2.waitKey(30) & 0xff \n",
    "        if k == 27: # esc\n",
    "            break\n",
    "    else: break\n",
    "\n",
    "cap.release()\n",
    "cv2.destroyAllWindows()"
   ]
  },
  {
   "cell_type": "code",
   "execution_count": 78,
   "metadata": {
    "collapsed": true
   },
   "outputs": [],
   "source": [
    "centers.shape\n",
    "\n",
    "cap.release()\n",
    "cv2.destroyAllWindows()"
   ]
  },
  {
   "cell_type": "code",
   "execution_count": 45,
   "metadata": {},
   "outputs": [
    {
     "data": {
      "text/plain": [
       "(963, 5)"
      ]
     },
     "execution_count": 45,
     "metadata": {},
     "output_type": "execute_result"
    }
   ],
   "source": [
    "stats.shape"
   ]
  },
  {
   "cell_type": "code",
   "execution_count": 47,
   "metadata": {
    "scrolled": true
   },
   "outputs": [
    {
     "data": {
      "text/plain": [
       "(11, 5)"
      ]
     },
     "execution_count": 47,
     "metadata": {},
     "output_type": "execute_result"
    }
   ],
   "source": [
    "data.shape"
   ]
  },
  {
   "cell_type": "code",
   "execution_count": 59,
   "metadata": {},
   "outputs": [
    {
     "data": {
      "text/plain": [
       "array([  140,   539,   479,   246, 34719], dtype=int32)"
      ]
     },
     "execution_count": 59,
     "metadata": {},
     "output_type": "execute_result"
    }
   ],
   "source": [
    "(data[1] + data[3])"
   ]
  },
  {
   "cell_type": "code",
   "execution_count": 79,
   "metadata": {},
   "outputs": [
    {
     "ename": "NameError",
     "evalue": "name 'inr' is not defined",
     "output_type": "error",
     "traceback": [
      "\u001b[1;31m---------------------------------------------------------------------------\u001b[0m",
      "\u001b[1;31mNameError\u001b[0m                                 Traceback (most recent call last)",
      "\u001b[1;32m<ipython-input-79-ad4c0fca5de1>\u001b[0m in \u001b[0;36m<module>\u001b[1;34m()\u001b[0m\n\u001b[1;32m----> 1\u001b[1;33m \u001b[0minr\u001b[0m\u001b[1;33m(\u001b[0m\u001b[0mcenters\u001b[0m\u001b[1;33m[\u001b[0m\u001b[1;33m:\u001b[0m\u001b[1;33m]\u001b[0m\u001b[1;33m)\u001b[0m\u001b[1;33m\u001b[0m\u001b[0m\n\u001b[0m",
      "\u001b[1;31mNameError\u001b[0m: name 'inr' is not defined"
     ]
    }
   ],
   "source": [
    "int(centers[:])"
   ]
  },
  {
   "cell_type": "code",
   "execution_count": 83,
   "metadata": {},
   "outputs": [
    {
     "data": {
      "text/plain": [
       "432.44444444444446"
      ]
     },
     "execution_count": 83,
     "metadata": {},
     "output_type": "execute_result"
    }
   ],
   "source": [
    "centers[:,0].mean()"
   ]
  }
 ],
 "metadata": {
  "kernelspec": {
   "display_name": "Python 3",
   "language": "python",
   "name": "python3"
  },
  "language_info": {
   "codemirror_mode": {
    "name": "ipython",
    "version": 3
   },
   "file_extension": ".py",
   "mimetype": "text/x-python",
   "name": "python",
   "nbconvert_exporter": "python",
   "pygments_lexer": "ipython3",
   "version": "3.6.2"
  }
 },
 "nbformat": 4,
 "nbformat_minor": 2
}
