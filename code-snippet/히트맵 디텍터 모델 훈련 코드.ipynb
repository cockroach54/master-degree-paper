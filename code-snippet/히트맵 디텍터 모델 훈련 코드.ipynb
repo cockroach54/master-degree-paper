{
 "cells": [
  {
   "cell_type": "code",
   "execution_count": 1,
   "metadata": {
    "collapsed": true
   },
   "outputs": [],
   "source": [
    "import torch\n",
    "import torch.nn as nn\n",
    "from torch.utils.data import Dataset\n",
    "from torchvision import datasets, models, transforms\n",
    "import cv2\n",
    "from PIL import Image\n",
    "import numpy as np\n",
    "import pandas as pd\n",
    "import os"
   ]
  },
  {
   "cell_type": "code",
   "execution_count": 2,
   "metadata": {
    "collapsed": true
   },
   "outputs": [],
   "source": [
    "os.environ['CUDA_VISIBLE_DEVICES'] = \"0\""
   ]
  },
  {
   "cell_type": "code",
   "execution_count": 3,
   "metadata": {
    "collapsed": true
   },
   "outputs": [],
   "source": [
    "class MyDataset(Dataset):\n",
    "    \"\"\"My dataset.\"\"\"\n",
    "\n",
    "    def __init__(self, root_dir, class_path, transform=None):\n",
    "        super(MyDataset, self\n",
    "             ).__init__()\n",
    "        self.root_dir = root_dir\n",
    "        self.class_path = class_path\n",
    "        self.transform = transform\n",
    "        \n",
    "        # get image list\n",
    "        all_list =  [os.path.splitext(f) for f in os.listdir(self.root_dir)] # jpg + txt\n",
    "#         assert [f for f,e in all_list if e=='.jpg'] == [f for f,e in all_list if e=='.txt'], \"num_image != num_txt\"\n",
    "        self.data_list = [f for f,e in all_list if e=='.jpg']\n",
    "        \n",
    "        # get class list\n",
    "        with open(class_path, 'r', encoding='utf-8') as f:\n",
    "            self.classes = [c for c in f.read().split('\\n')]\n",
    "        self.class_to_idx = {self.classes[i]: i for i in range(len(self.classes))}\n",
    "\n",
    "    def __len__(self):\n",
    "        return len(self.data_list)\n",
    "\n",
    "    def __getitem__(self, idx):\n",
    "        image_path = os.path.join(self.root_dir, self.data_list[idx]+'.jpg')\n",
    "        ann_path = os.path.join(self.root_dir, self.data_list[idx]+'.txt')\n",
    "        img = Image.open(image_path)\n",
    "        with open(ann_path, 'r') as f:\n",
    "            anno = [a.split(' ') for a in f.read().strip().split('\\n')]\n",
    "        anno = np.array(anno)\n",
    "        labels = anno[:,0].astype(np.int) #- 10\n",
    "        bboxes_yolo = anno[:,1:].astype(np.float) # centerX, centerY, w, h [ratio] - yolo style\n",
    "        bboxes = bboxes_yolo.copy() # x,y,w,h\n",
    "\n",
    "        if self.transform:\n",
    "            img = self.transform(img).unsqueeze(0)\n",
    "            \n",
    "        bboxes[:,0] = (bboxes_yolo[:,0] - bboxes_yolo[:,2]/2)*img.shape[3] # x\n",
    "        bboxes[:,1] = (bboxes_yolo[:,1] - bboxes_yolo[:,3]/2)*img.shape[2] # y\n",
    "        bboxes[:,2] = bboxes_yolo[:,2]*img.shape[3]\n",
    "        bboxes[:,3] = bboxes_yolo[:,3]*img.shape[2]\n",
    "        bboxes = bboxes.astype(np.int)\n",
    "\n",
    "        return img, labels, bboxes, bboxes_yolo"
   ]
  },
  {
   "cell_type": "markdown",
   "metadata": {},
   "source": [
    "---\n",
    "# Classification"
   ]
  },
  {
   "cell_type": "code",
   "execution_count": 4,
   "metadata": {
    "collapsed": true
   },
   "outputs": [],
   "source": [
    "import torch\n",
    "import torch.nn as nn\n",
    "import torch.nn.functional as F\n",
    "from torchvision import datasets, models, transforms\n",
    "import cv2\n",
    "from PIL import Image\n",
    "import numpy as np\n",
    "import pandas as pd\n",
    "import os, shutil\n",
    "from time import sleep\n",
    "import subprocess\n",
    "import matplotlib.pyplot as plt\n",
    "import seaborn as sns\n",
    "import torchvision\n",
    "from sklearn.decomposition import PCA\n",
    "from sklearn.mixture import GaussianMixture\n",
    "from torch.distributions.multivariate_normal import MultivariateNormal\n",
    "from tqdm import tqdm_notebook as tqdm\n",
    "# import mymodels\n",
    "# from mymodels.BN_Inception import BN_Inception\n",
    "\n",
    "def my_cos(x,y):\n",
    "    _x = F.normalize(x, p=2, dim=1)\n",
    "    _y = F.normalize(y, p=2, dim=1)\n",
    "    return _x.matmul(_y.transpose(0,1))\n",
    "\n",
    "class Flatten(torch.nn.Module):\n",
    "    \"\"\"\n",
    "    torch.nn.Sequential에서 사용가능한 flatten 모듈\n",
    "    \"\"\"\n",
    "    def forward(self, x):\n",
    "        batch_size = x.shape[0]\n",
    "        return x.view(batch_size, -1)\n",
    "    \n",
    "class OracleModel(nn.Module):\n",
    "    def __init__(self):\n",
    "        \"\"\"Load the pretrained ResNet-152 and replace top fc layer.\"\"\"\n",
    "        super(OracleModel, self).__init__()\n",
    "#         ****torch pretrained net****\n",
    "#         net = models.shufflenetv2.shufflenet_v2_x1_0(pretrained=True) # 1024\n",
    "#         net = torch.hub.load('pytorch/vision', 'mobilenet_v2', pretrained=True)\n",
    "#         net = models.mobilenet_v2(pretrained=True)\n",
    "#         net = models.densenet201(pretrained=True)\n",
    "        net = models.resnet50(pretrained=True)\n",
    "\n",
    "        modules = list(net.children())[:-2]      # resnet conv_5\n",
    "        self.backbone = torch.nn.Sequential(*modules) # 2048\n",
    "        avg_pool = torch.nn.AdaptiveAvgPool2d(output_size=(1, 1))\n",
    "        flatten = Flatten() \n",
    "        \n",
    "        # fc layer\n",
    "        self.fc = nn.Sequential(\n",
    "            avg_pool,\n",
    "            flatten\n",
    "        ) # 2048\n",
    "    \n",
    "        self.device = torch.device('cuda:0' if torch.cuda.is_available() else 'cpu')\n",
    "        self.topk = 3\n",
    "        self.threshold = 0.75\n",
    "        self.feature_len = 2048\n",
    "\n",
    "        self.sort_order_descending = False\n",
    "        self.cos = nn.CosineSimilarity(dim=1, eps=1e-6)\n",
    "        self.roi_upsample = nn.UpsamplingBilinear2d([224,224])\n",
    "        self.roi_transform = transforms.Compose([\n",
    "                        transforms.ToTensor(),\n",
    "                        transforms.Normalize([0.485, 0.456, 0.406], [0.229, 0.224, 0.225])\n",
    "                    ])\n",
    "        \n",
    "    def embed(self, images):\n",
    "        r = self(images)\n",
    "        return self.fc(r)\n",
    "\n",
    "    def forward(self, images):\n",
    "        \"\"\"Extract feature vectors from input images.\"\"\"\n",
    "        return self.backbone(images)\n",
    "#         return self.backbone(images)[3]    \n",
    "    \n",
    "\n",
    "    def makeAllReference_online(self, referenceImgDirPath):\n",
    "        \"\"\"\n",
    "        임베딩 디비 생성... flask 서버용 \n",
    "        utils.makeAllReferenceCSV 에서 csv 저장만 안함\n",
    "        \"\"\"\n",
    "        reference_dataset = torchvision.datasets.ImageFolder(\n",
    "            root=referenceImgDirPath,\n",
    "            transform=transforms.Compose([\n",
    "#                 transforms.Resize([224,224]),\n",
    "                transforms.ToTensor(),\n",
    "                transforms.Normalize([0.485, 0.456, 0.406], [0.229, 0.224, 0.225])\n",
    "            ])\n",
    "        )\n",
    "        reference_loader = torch.utils.data.DataLoader(\n",
    "            reference_dataset,\n",
    "            batch_size=32,\n",
    "            num_workers=0,\n",
    "            shuffle=False\n",
    "        )\n",
    "        \n",
    "        # get all data and input to model\n",
    "        _temp = []\n",
    "        for data, target in tqdm(reference_loader):\n",
    "            outputs = self.embed(data.to(self.device)).data # .data 안하면 메모리 오버플로남...\n",
    "            _temp.append(outputs)\n",
    "\n",
    "        represented = torch.cat(_temp, dim=0)\n",
    "        # raw data label 별 평균 구해두기\n",
    "        self.df_ref_online = pd.DataFrame(represented.cpu().numpy())\n",
    "        self.df_ref_online['label'] = [reference_dataset.classes[i] for i in reference_dataset.targets]\n",
    "        self.reference_means_online = self.df_ref_online.groupby('label').mean()\n",
    "        self.dir_list_online = reference_dataset.classes\n",
    "\n",
    "        # 즉각 임베딩 디비 생성\n",
    "        self.setReferenceDataset(self.dir_list_online, self.df_ref_online, self.reference_means_online)\n",
    "        return self.dir_list_online, self.df_ref_online, self.reference_means_online\n",
    "\n",
    "    def addNewData_online(self, im_arr, label):\n",
    "        \"\"\"\n",
    "        @params im_arr: h X w X 3 (RGB)\n",
    "        @params label: \"praL\"\n",
    "        \"\"\"\n",
    "        data = self.roi_transform(im_arr).unsqueeze(0)\n",
    "        outputs = self.embed(data.to(self.device)).data\n",
    "        new_feature = list(outputs.squeeze().cpu().numpy())\n",
    "        new_feature.append(label)\n",
    "        new_feature[-1]\n",
    "        # concat to prev df_ref_online\n",
    "        self.df_ref_online.loc[self.df_ref_online.shape[0]] = new_feature\n",
    "        # revise reference_means_online \n",
    "        self.reference_means_online = self.df_ref_online.groupby('label').mean()\n",
    "        # 즉각 임베딩 디비 생성\n",
    "        self.setReferenceDataset(self.dir_list_online, self.df_ref_online, self.reference_means_online)\n",
    "        print('[Detector]: addNewData_online -', label)\n",
    "        return\n",
    "\n",
    "    def addNewLabel_online(self, dirPath, label):   \n",
    "        \"\"\"\n",
    "        @params dirPath: \"server/vu-visor/static/images_ext\"\n",
    "        @params label: \"praL\"\n",
    "        \"\"\"\n",
    "        finalDirPath = os.path.join(dirPath, label)\n",
    "        ims = [Image.open(os.path.join(finalDirPath,i)) for i in os.listdir(finalDirPath)] # n_img X h X w X c\n",
    "        ims_tensor = torch.stack([self.roi_transform(im) for im in ims])\n",
    "        outputs = self.embed(ims_tensor.to(self.device)).data\n",
    "        new_features =outputs.cpu().numpy() # n_img X 2048\n",
    "\n",
    "        new_df_ref_online = pd.DataFrame(new_features)\n",
    "        new_df_ref_online['label'] = label\n",
    "        # add new label\n",
    "        if label not in self.dir_list_online: # 중복된 이름 없을 시 새로 등록\n",
    "            self.dir_list_online.append(label)\n",
    "            self.dir_list_online.sort() # 반드시 소팅해서 클래스 번호 재정렬 해줘야함\n",
    "        # concat to prev df_ref_online\n",
    "        _df_ref_online_non_overlap = self.df_ref_online[self.df_ref_online['label']!=label] # 중복된 이전 데이터 제거\n",
    "        self.df_ref_online = pd.concat([_df_ref_online_non_overlap, new_df_ref_online], ignore_index=True)\n",
    "        # revise reference_means_online \n",
    "        self.reference_means_online = self.df_ref_online.groupby('label').mean()\n",
    "        # 즉각 임베딩 디비 생성\n",
    "        self.setReferenceDataset(self.dir_list_online, self.df_ref_online, self.reference_means_online)\n",
    "        print('[Detector]: addNewLabel_online -', label)\n",
    "        return \n",
    "        \n",
    "    # 임베딩 디비 생성\n",
    "    def setReferenceDataset(self, sample_dir_list, df_ref_feature_sampled, reference_means_sampled):\n",
    "        self.reference_classes = sample_dir_list\n",
    "        self.reference_targets = list(df_ref_feature_sampled.iloc[:,-1])\n",
    "        self.embedded_features_cpu = torch.tensor(df_ref_feature_sampled.iloc[:,:-1].values).float().data # float64->float32(torch default), cpu\n",
    "        self.embedded_features = self.embedded_features_cpu.to(self.device) # gpu\n",
    "        self.embedded_means_numpy = reference_means_sampled.values\n",
    "        self.embedded_means = torch.tensor(self.embedded_means_numpy).float().data.to(self.device) # float64->float32(torch default), gpu\n",
    "\n",
    "        self.c2i = {c:i for i,c in enumerate(self.reference_classes)}\n",
    "        self.embedded_labels = torch.tensor([self.c2i[c] for c in self.reference_targets]).to(self.device)\n",
    "        \n",
    "        # make datafames for plot\n",
    "        # ***필요없음 어차피 pca 해야함\n",
    "        self.df_ = pd.DataFrame(np.array(self.embedded_features_cpu))\n",
    "        self.df_['name'] = self.reference_targets\n",
    "        self.centers_ = pd.DataFrame(self.embedded_means_numpy)\n",
    "        self.centers_['name'] = self.reference_classes\n",
    "\n",
    "    def fit_pca(self, n_components=4):\n",
    "        # pca model fit\n",
    "        self.n_components = n_components\n",
    "        self.pca = PCA(n_components=self.n_components) # 2048 차원 다쓰면 나중에 샘플링에서 계산 오류남, sample 개수보다 많으면 촐레스키 분해 에러나는듯\n",
    "        self.transformed = self.pca.fit_transform(self.embedded_features_cpu)\n",
    "\n",
    "        # show PCA features \n",
    "        self.df = pd.DataFrame(self.transformed)\n",
    "        self.df['name'] = self.reference_targets\n",
    "        self.centers = pd.DataFrame(self.pca.transform(self.embedded_means_numpy))\n",
    "        self.centers['name'] = self.reference_classes\n",
    "\n",
    "    def inference_tensor3(self, inputs, metric='cos', knn=True):\n",
    "        \"\"\"\n",
    "        roi 피처맵을(nxcx7x7) 인풋으로 받음\n",
    "        @params metric: [l2, mahalanobis, prob]\n",
    "        @params inputs: # N x C x H x W\n",
    "        \"\"\"            \n",
    "        # inputs shape: Batch*C*H*W\n",
    "        # input to backbone model\n",
    "        self.inputs = inputs\n",
    "        self.outputs = self.fc(self.inputs).data # n_roi X features 2048    \n",
    "\n",
    "        # inference\n",
    "        self.sort_order_descending = True         \n",
    "        if knn: self.dists = my_cos(self.outputs, self.embedded_features)\n",
    "        else: self.dists = my_cos(self.outputs, self.embedded_means)\n",
    "\n",
    "        self.dists_sorted = self.dists.sort(dim=1, descending=self.sort_order_descending)\n",
    "        if knn: self.predicts = self.embedded_labels[self.dists_sorted.indices][:,:self.topk]\n",
    "        else: self.predicts = self.dists_sorted.indices[:,:self.topk]\n",
    "\n",
    "        self.predicts_dist = self.dists_sorted.values[:,:self.topk]\n",
    "        return self.predicts.data, self.predicts_dist.data    \n",
    "    \n",
    "    def inference_tensor_texture(self, inputs, metric='cos', knn=True, SUM=True):\n",
    "        \"\"\"\n",
    "        현재 미니배치 1인 경우만 작동\n",
    "        roi 피처맵을(nxcx7x7) 인풋으로 받음\n",
    "        @params metric: [l2, mahalanobis, prob]\n",
    "        @params inputs: # N x C x H x W\n",
    "        \"\"\"            \n",
    "        # inputs shape: Batch*C*H*W\n",
    "        # input to backbone model\n",
    "        # 1 X 2048 X 7 X 7 --> 7*7 X 2048 --> 1 X 3\n",
    "        # n X 2048 X 7 X 7 --> n*7*7 X 2048 --> n X 3\n",
    "        self.outputs = inputs.data.transpose(1,2).transpose(2,3).reshape(-1,inputs.shape[1])\n",
    "        # self.outputs = inputs.squeeze().transpose(0,1).transpose(1,2).reshape(-1,inputs.shape[1]).data \n",
    "        # 7*7 X features 2048   \n",
    "        \n",
    "        # inference\n",
    "        self.sort_order_descending = True         \n",
    "        if knn: self.dists = my_cos(self.outputs, self.embedded_features)\n",
    "        else: self.dists = my_cos(self.outputs, self.embedded_means)\n",
    "\n",
    "        self.dists_sorted = self.dists.sort(dim=1, descending=self.sort_order_descending)\n",
    "        if knn: self.predicts = self.embedded_labels[self.dists_sorted.indices][:,:self.topk]\n",
    "        else: self.predicts = self.dists_sorted.indices[:,:self.topk]\n",
    "\n",
    "        self.predicts_dist = self.dists_sorted.values[:,:self.topk]\n",
    "\n",
    "        if(SUM):\n",
    "    #             ---- dist sum mode ----\n",
    "            aa = pd.DataFrame(list(zip(self.predicts[:,0].cpu().numpy(), self.predicts_dist[:,0].cpu().numpy())), columns=['label','dist'])\n",
    "            self.aa = aa\n",
    "            # pp = aa.groupby('label').sum()\n",
    "            # pp = pp.sort_values(by='dist', ascending=False)\n",
    "            # pp = list(pp.index[:3])\n",
    "            # if(len(pp)!=self.topk):\n",
    "            #     pp = pp*self.topk\n",
    "            #     pp = pp[:self.topk]\n",
    "            \n",
    "            # 배치별 번호 매기기\n",
    "            self.aa['batch'] =  np.repeat(np.arange(inputs.shape[0]), inputs.shape[2]*inputs.shape[3])\n",
    "            # 다중 그루핑\n",
    "            zz = self.aa.groupby(['batch', 'label']).agg(['sum', 'mean', 'max'])\n",
    "            # 2중 컬럼 인덱스 해제\n",
    "            zz.columns = zz.columns.droplevel(0) \n",
    "            # sum 순으로 정렬\n",
    "            zz = zz.reset_index().sort_values(by=['batch', 'sum'], ascending=False).set_index(['batch', 'label'])\n",
    "            # 배치별 가장 큰 값만 리턴, dist는 선택 레이블의 평균값\n",
    "            preds = zz.groupby('batch').head(1).sort_index(0).index.get_level_values(level=1).tolist()\n",
    "            preds = np.repeat(preds, 3).reshape(-1,3)\n",
    "            return torch.tensor(preds).data\n",
    "        else:\n",
    "    #             ---- voting mode ----\n",
    "            c = Counter(torch.cat([*self.predicts]).cpu().numpy())\n",
    "            self.c = c\n",
    "            pp = list(zip(*(c.most_common()[:3])))[0]\n",
    "            if(len(pp)!=self.topk):\n",
    "                pp = pp*self.topk\n",
    "                pp = pp[:self.topk]    \n",
    "            return torch.tensor([pp]).data        \n",
    "\n",
    "    def inference_tensor4(self, inputs):\n",
    "        \"\"\"\n",
    "        roi 피처맵을(nxcx7x7) 인풋으로 받음\n",
    "        \"\"\"            \n",
    "        # inputs shape: Batch*C*H*W\n",
    "        # input to backbone model\n",
    "        self.inputs = inputs\n",
    "        self.outputs = self.fc(self.inputs).data # n_roi X features 2048    \n",
    "\n",
    "        # inference\n",
    "        self.dists = my_cos(self.outputs, self.embedded_means)\n",
    "        self.predicts_dist = self.dists\n",
    "        return self.predicts_dist.data    \n",
    "\n",
    "    # 각 레이블 별 평균과의 L2 거리 계산 (PCA 적용안함)\n",
    "    def calc_l2(self, label):\n",
    "        mu = self.embedded_means[label]\n",
    "        xx = self.outputs\n",
    "\n",
    "        # 20*1280 X 1280*20 --diag--> 20\n",
    "        # num_roi*dim X dim*num_roi --diag--> num_roi\n",
    "        xx_sub_mu = xx.sub(mu)\n",
    "        l2_dist = xx_sub_mu.matmul(xx_sub_mu.t()).sqrt().diag()\n",
    "        return l2_dist.cpu()\n",
    "\n",
    "    # 각 레이블 별 평균과의 cosine simility 계산 (PCA 적용안함)\n",
    "    def calc_cos(self, label):\n",
    "        mu = self.embedded_means[label]\n",
    "        xx = self.outputs\n",
    "\n",
    "        # 20*1280 X 1280*20 --diag--> 20\n",
    "        # num_roi*dim X dim*num_roi --diag--> num_roi\n",
    "        mu = mu.unsqueeze(0)\n",
    "        cos_dist = self.cos(xx, mu)\n",
    "        return cos_dist.cpu()        \n",
    "\n",
    "    def inference_file(self, imgPath):              \n",
    "        # imgPath = \"./server/oracle_proj/predict.jpg\"\n",
    "        frame = cv2.imread(os.path.join(imgPath), cv2.IMREAD_COLOR)\n",
    "        return self.inference_tensor(frame)\n",
    "\n",
    "    def show_img(self, imgPath):\n",
    "        frame = cv2.imread(os.path.join(imgPath), cv2.IMREAD_COLOR)\n",
    "        # opencv frme input // H*W*C(BGR)\n",
    "        # 0-255 3 channel\n",
    "        inputs = torch.Tensor(cv2.cvtColor(frame, cv2.COLOR_BGR2RGB))/255 # 여기 Tensor 소문자로 바꾸면 안됨... 차이 알아보기\n",
    "        plt.imshow(inputs)\n",
    "        plt.show()\n",
    "        \n",
    "    def show_tensor(self, t):\n",
    "        plt.imshow(t.numpy().transpose([1,2,0]))\n",
    "        plt.show()\n",
    "        \n",
    "    def plot(self):\n",
    "        self.fit_pca(n_components=4)\n",
    "        _outputs = self.pca.transform(self.outputs.cpu())\n",
    "\n",
    "        plt.figure(figsize=(18,9))\n",
    "        plt.title(\"Vector space, pca_n: \"+str(self.feature_len))\n",
    "        ax = sns.scatterplot(x=0, y=1, hue='name', data=self.df, palette=\"Set1\", legend=\"full\")\n",
    "        ax2 = sns.scatterplot(x=0, y=1, hue='name', data=self.centers, palette=\"Set1\", s=150, legend=None, edgecolor='black')\n",
    "        plt.scatter(_outputs[:,0], _outputs[:,1], marker='x', c='black')\n",
    "        plt.show()\n",
    "\n",
    "    # save plot image for web\n",
    "    def save_plot(self, plotPath):\n",
    "        self.fit_pca(n_components=4)\n",
    "        _outputs = self.pca.transform(self.outputs.cpu())\n",
    "\n",
    "        plt.figure(figsize=(9,9))\n",
    "        plt.title(\"Vector space, pca_n: \"+str(self.feature_len))\n",
    "        ax = sns.scatterplot(x=0, y=1, hue='name', data=self.df, palette=\"Set1\", legend=\"full\", s=30)\n",
    "        ax2 = sns.scatterplot(x=0, y=1, hue='name', data=self.centers, palette=\"Set1\", s=150, legend=None, edgecolor='black')\n",
    "        plt.scatter(_outputs[:,0], _outputs[:,1], marker='x', c='black', s=120)\n",
    "        plt.savefig(plotPath)"
   ]
  },
  {
   "cell_type": "code",
   "execution_count": 5,
   "metadata": {},
   "outputs": [
    {
     "data": {
      "text/plain": [
       "OracleModel(\n",
       "  (backbone): Sequential(\n",
       "    (0): Conv2d(3, 64, kernel_size=(7, 7), stride=(2, 2), padding=(3, 3), bias=False)\n",
       "    (1): BatchNorm2d(64, eps=1e-05, momentum=0.1, affine=True, track_running_stats=True)\n",
       "    (2): ReLU(inplace=True)\n",
       "    (3): MaxPool2d(kernel_size=3, stride=2, padding=1, dilation=1, ceil_mode=False)\n",
       "    (4): Sequential(\n",
       "      (0): Bottleneck(\n",
       "        (conv1): Conv2d(64, 64, kernel_size=(1, 1), stride=(1, 1), bias=False)\n",
       "        (bn1): BatchNorm2d(64, eps=1e-05, momentum=0.1, affine=True, track_running_stats=True)\n",
       "        (conv2): Conv2d(64, 64, kernel_size=(3, 3), stride=(1, 1), padding=(1, 1), bias=False)\n",
       "        (bn2): BatchNorm2d(64, eps=1e-05, momentum=0.1, affine=True, track_running_stats=True)\n",
       "        (conv3): Conv2d(64, 256, kernel_size=(1, 1), stride=(1, 1), bias=False)\n",
       "        (bn3): BatchNorm2d(256, eps=1e-05, momentum=0.1, affine=True, track_running_stats=True)\n",
       "        (relu): ReLU(inplace=True)\n",
       "        (downsample): Sequential(\n",
       "          (0): Conv2d(64, 256, kernel_size=(1, 1), stride=(1, 1), bias=False)\n",
       "          (1): BatchNorm2d(256, eps=1e-05, momentum=0.1, affine=True, track_running_stats=True)\n",
       "        )\n",
       "      )\n",
       "      (1): Bottleneck(\n",
       "        (conv1): Conv2d(256, 64, kernel_size=(1, 1), stride=(1, 1), bias=False)\n",
       "        (bn1): BatchNorm2d(64, eps=1e-05, momentum=0.1, affine=True, track_running_stats=True)\n",
       "        (conv2): Conv2d(64, 64, kernel_size=(3, 3), stride=(1, 1), padding=(1, 1), bias=False)\n",
       "        (bn2): BatchNorm2d(64, eps=1e-05, momentum=0.1, affine=True, track_running_stats=True)\n",
       "        (conv3): Conv2d(64, 256, kernel_size=(1, 1), stride=(1, 1), bias=False)\n",
       "        (bn3): BatchNorm2d(256, eps=1e-05, momentum=0.1, affine=True, track_running_stats=True)\n",
       "        (relu): ReLU(inplace=True)\n",
       "      )\n",
       "      (2): Bottleneck(\n",
       "        (conv1): Conv2d(256, 64, kernel_size=(1, 1), stride=(1, 1), bias=False)\n",
       "        (bn1): BatchNorm2d(64, eps=1e-05, momentum=0.1, affine=True, track_running_stats=True)\n",
       "        (conv2): Conv2d(64, 64, kernel_size=(3, 3), stride=(1, 1), padding=(1, 1), bias=False)\n",
       "        (bn2): BatchNorm2d(64, eps=1e-05, momentum=0.1, affine=True, track_running_stats=True)\n",
       "        (conv3): Conv2d(64, 256, kernel_size=(1, 1), stride=(1, 1), bias=False)\n",
       "        (bn3): BatchNorm2d(256, eps=1e-05, momentum=0.1, affine=True, track_running_stats=True)\n",
       "        (relu): ReLU(inplace=True)\n",
       "      )\n",
       "    )\n",
       "    (5): Sequential(\n",
       "      (0): Bottleneck(\n",
       "        (conv1): Conv2d(256, 128, kernel_size=(1, 1), stride=(1, 1), bias=False)\n",
       "        (bn1): BatchNorm2d(128, eps=1e-05, momentum=0.1, affine=True, track_running_stats=True)\n",
       "        (conv2): Conv2d(128, 128, kernel_size=(3, 3), stride=(2, 2), padding=(1, 1), bias=False)\n",
       "        (bn2): BatchNorm2d(128, eps=1e-05, momentum=0.1, affine=True, track_running_stats=True)\n",
       "        (conv3): Conv2d(128, 512, kernel_size=(1, 1), stride=(1, 1), bias=False)\n",
       "        (bn3): BatchNorm2d(512, eps=1e-05, momentum=0.1, affine=True, track_running_stats=True)\n",
       "        (relu): ReLU(inplace=True)\n",
       "        (downsample): Sequential(\n",
       "          (0): Conv2d(256, 512, kernel_size=(1, 1), stride=(2, 2), bias=False)\n",
       "          (1): BatchNorm2d(512, eps=1e-05, momentum=0.1, affine=True, track_running_stats=True)\n",
       "        )\n",
       "      )\n",
       "      (1): Bottleneck(\n",
       "        (conv1): Conv2d(512, 128, kernel_size=(1, 1), stride=(1, 1), bias=False)\n",
       "        (bn1): BatchNorm2d(128, eps=1e-05, momentum=0.1, affine=True, track_running_stats=True)\n",
       "        (conv2): Conv2d(128, 128, kernel_size=(3, 3), stride=(1, 1), padding=(1, 1), bias=False)\n",
       "        (bn2): BatchNorm2d(128, eps=1e-05, momentum=0.1, affine=True, track_running_stats=True)\n",
       "        (conv3): Conv2d(128, 512, kernel_size=(1, 1), stride=(1, 1), bias=False)\n",
       "        (bn3): BatchNorm2d(512, eps=1e-05, momentum=0.1, affine=True, track_running_stats=True)\n",
       "        (relu): ReLU(inplace=True)\n",
       "      )\n",
       "      (2): Bottleneck(\n",
       "        (conv1): Conv2d(512, 128, kernel_size=(1, 1), stride=(1, 1), bias=False)\n",
       "        (bn1): BatchNorm2d(128, eps=1e-05, momentum=0.1, affine=True, track_running_stats=True)\n",
       "        (conv2): Conv2d(128, 128, kernel_size=(3, 3), stride=(1, 1), padding=(1, 1), bias=False)\n",
       "        (bn2): BatchNorm2d(128, eps=1e-05, momentum=0.1, affine=True, track_running_stats=True)\n",
       "        (conv3): Conv2d(128, 512, kernel_size=(1, 1), stride=(1, 1), bias=False)\n",
       "        (bn3): BatchNorm2d(512, eps=1e-05, momentum=0.1, affine=True, track_running_stats=True)\n",
       "        (relu): ReLU(inplace=True)\n",
       "      )\n",
       "      (3): Bottleneck(\n",
       "        (conv1): Conv2d(512, 128, kernel_size=(1, 1), stride=(1, 1), bias=False)\n",
       "        (bn1): BatchNorm2d(128, eps=1e-05, momentum=0.1, affine=True, track_running_stats=True)\n",
       "        (conv2): Conv2d(128, 128, kernel_size=(3, 3), stride=(1, 1), padding=(1, 1), bias=False)\n",
       "        (bn2): BatchNorm2d(128, eps=1e-05, momentum=0.1, affine=True, track_running_stats=True)\n",
       "        (conv3): Conv2d(128, 512, kernel_size=(1, 1), stride=(1, 1), bias=False)\n",
       "        (bn3): BatchNorm2d(512, eps=1e-05, momentum=0.1, affine=True, track_running_stats=True)\n",
       "        (relu): ReLU(inplace=True)\n",
       "      )\n",
       "    )\n",
       "    (6): Sequential(\n",
       "      (0): Bottleneck(\n",
       "        (conv1): Conv2d(512, 256, kernel_size=(1, 1), stride=(1, 1), bias=False)\n",
       "        (bn1): BatchNorm2d(256, eps=1e-05, momentum=0.1, affine=True, track_running_stats=True)\n",
       "        (conv2): Conv2d(256, 256, kernel_size=(3, 3), stride=(2, 2), padding=(1, 1), bias=False)\n",
       "        (bn2): BatchNorm2d(256, eps=1e-05, momentum=0.1, affine=True, track_running_stats=True)\n",
       "        (conv3): Conv2d(256, 1024, kernel_size=(1, 1), stride=(1, 1), bias=False)\n",
       "        (bn3): BatchNorm2d(1024, eps=1e-05, momentum=0.1, affine=True, track_running_stats=True)\n",
       "        (relu): ReLU(inplace=True)\n",
       "        (downsample): Sequential(\n",
       "          (0): Conv2d(512, 1024, kernel_size=(1, 1), stride=(2, 2), bias=False)\n",
       "          (1): BatchNorm2d(1024, eps=1e-05, momentum=0.1, affine=True, track_running_stats=True)\n",
       "        )\n",
       "      )\n",
       "      (1): Bottleneck(\n",
       "        (conv1): Conv2d(1024, 256, kernel_size=(1, 1), stride=(1, 1), bias=False)\n",
       "        (bn1): BatchNorm2d(256, eps=1e-05, momentum=0.1, affine=True, track_running_stats=True)\n",
       "        (conv2): Conv2d(256, 256, kernel_size=(3, 3), stride=(1, 1), padding=(1, 1), bias=False)\n",
       "        (bn2): BatchNorm2d(256, eps=1e-05, momentum=0.1, affine=True, track_running_stats=True)\n",
       "        (conv3): Conv2d(256, 1024, kernel_size=(1, 1), stride=(1, 1), bias=False)\n",
       "        (bn3): BatchNorm2d(1024, eps=1e-05, momentum=0.1, affine=True, track_running_stats=True)\n",
       "        (relu): ReLU(inplace=True)\n",
       "      )\n",
       "      (2): Bottleneck(\n",
       "        (conv1): Conv2d(1024, 256, kernel_size=(1, 1), stride=(1, 1), bias=False)\n",
       "        (bn1): BatchNorm2d(256, eps=1e-05, momentum=0.1, affine=True, track_running_stats=True)\n",
       "        (conv2): Conv2d(256, 256, kernel_size=(3, 3), stride=(1, 1), padding=(1, 1), bias=False)\n",
       "        (bn2): BatchNorm2d(256, eps=1e-05, momentum=0.1, affine=True, track_running_stats=True)\n",
       "        (conv3): Conv2d(256, 1024, kernel_size=(1, 1), stride=(1, 1), bias=False)\n",
       "        (bn3): BatchNorm2d(1024, eps=1e-05, momentum=0.1, affine=True, track_running_stats=True)\n",
       "        (relu): ReLU(inplace=True)\n",
       "      )\n",
       "      (3): Bottleneck(\n",
       "        (conv1): Conv2d(1024, 256, kernel_size=(1, 1), stride=(1, 1), bias=False)\n",
       "        (bn1): BatchNorm2d(256, eps=1e-05, momentum=0.1, affine=True, track_running_stats=True)\n",
       "        (conv2): Conv2d(256, 256, kernel_size=(3, 3), stride=(1, 1), padding=(1, 1), bias=False)\n",
       "        (bn2): BatchNorm2d(256, eps=1e-05, momentum=0.1, affine=True, track_running_stats=True)\n",
       "        (conv3): Conv2d(256, 1024, kernel_size=(1, 1), stride=(1, 1), bias=False)\n",
       "        (bn3): BatchNorm2d(1024, eps=1e-05, momentum=0.1, affine=True, track_running_stats=True)\n",
       "        (relu): ReLU(inplace=True)\n",
       "      )\n",
       "      (4): Bottleneck(\n",
       "        (conv1): Conv2d(1024, 256, kernel_size=(1, 1), stride=(1, 1), bias=False)\n",
       "        (bn1): BatchNorm2d(256, eps=1e-05, momentum=0.1, affine=True, track_running_stats=True)\n",
       "        (conv2): Conv2d(256, 256, kernel_size=(3, 3), stride=(1, 1), padding=(1, 1), bias=False)\n",
       "        (bn2): BatchNorm2d(256, eps=1e-05, momentum=0.1, affine=True, track_running_stats=True)\n",
       "        (conv3): Conv2d(256, 1024, kernel_size=(1, 1), stride=(1, 1), bias=False)\n",
       "        (bn3): BatchNorm2d(1024, eps=1e-05, momentum=0.1, affine=True, track_running_stats=True)\n",
       "        (relu): ReLU(inplace=True)\n",
       "      )\n",
       "      (5): Bottleneck(\n",
       "        (conv1): Conv2d(1024, 256, kernel_size=(1, 1), stride=(1, 1), bias=False)\n",
       "        (bn1): BatchNorm2d(256, eps=1e-05, momentum=0.1, affine=True, track_running_stats=True)\n",
       "        (conv2): Conv2d(256, 256, kernel_size=(3, 3), stride=(1, 1), padding=(1, 1), bias=False)\n",
       "        (bn2): BatchNorm2d(256, eps=1e-05, momentum=0.1, affine=True, track_running_stats=True)\n",
       "        (conv3): Conv2d(256, 1024, kernel_size=(1, 1), stride=(1, 1), bias=False)\n",
       "        (bn3): BatchNorm2d(1024, eps=1e-05, momentum=0.1, affine=True, track_running_stats=True)\n",
       "        (relu): ReLU(inplace=True)\n",
       "      )\n",
       "    )\n",
       "    (7): Sequential(\n",
       "      (0): Bottleneck(\n",
       "        (conv1): Conv2d(1024, 512, kernel_size=(1, 1), stride=(1, 1), bias=False)\n",
       "        (bn1): BatchNorm2d(512, eps=1e-05, momentum=0.1, affine=True, track_running_stats=True)\n",
       "        (conv2): Conv2d(512, 512, kernel_size=(3, 3), stride=(2, 2), padding=(1, 1), bias=False)\n",
       "        (bn2): BatchNorm2d(512, eps=1e-05, momentum=0.1, affine=True, track_running_stats=True)\n",
       "        (conv3): Conv2d(512, 2048, kernel_size=(1, 1), stride=(1, 1), bias=False)\n",
       "        (bn3): BatchNorm2d(2048, eps=1e-05, momentum=0.1, affine=True, track_running_stats=True)\n",
       "        (relu): ReLU(inplace=True)\n",
       "        (downsample): Sequential(\n",
       "          (0): Conv2d(1024, 2048, kernel_size=(1, 1), stride=(2, 2), bias=False)\n",
       "          (1): BatchNorm2d(2048, eps=1e-05, momentum=0.1, affine=True, track_running_stats=True)\n",
       "        )\n",
       "      )\n",
       "      (1): Bottleneck(\n",
       "        (conv1): Conv2d(2048, 512, kernel_size=(1, 1), stride=(1, 1), bias=False)\n",
       "        (bn1): BatchNorm2d(512, eps=1e-05, momentum=0.1, affine=True, track_running_stats=True)\n",
       "        (conv2): Conv2d(512, 512, kernel_size=(3, 3), stride=(1, 1), padding=(1, 1), bias=False)\n",
       "        (bn2): BatchNorm2d(512, eps=1e-05, momentum=0.1, affine=True, track_running_stats=True)\n",
       "        (conv3): Conv2d(512, 2048, kernel_size=(1, 1), stride=(1, 1), bias=False)\n",
       "        (bn3): BatchNorm2d(2048, eps=1e-05, momentum=0.1, affine=True, track_running_stats=True)\n",
       "        (relu): ReLU(inplace=True)\n",
       "      )\n",
       "      (2): Bottleneck(\n",
       "        (conv1): Conv2d(2048, 512, kernel_size=(1, 1), stride=(1, 1), bias=False)\n",
       "        (bn1): BatchNorm2d(512, eps=1e-05, momentum=0.1, affine=True, track_running_stats=True)\n",
       "        (conv2): Conv2d(512, 512, kernel_size=(3, 3), stride=(1, 1), padding=(1, 1), bias=False)\n",
       "        (bn2): BatchNorm2d(512, eps=1e-05, momentum=0.1, affine=True, track_running_stats=True)\n",
       "        (conv3): Conv2d(512, 2048, kernel_size=(1, 1), stride=(1, 1), bias=False)\n",
       "        (bn3): BatchNorm2d(2048, eps=1e-05, momentum=0.1, affine=True, track_running_stats=True)\n",
       "        (relu): ReLU(inplace=True)\n",
       "      )\n",
       "    )\n",
       "  )\n",
       "  (fc): Sequential(\n",
       "    (0): AdaptiveAvgPool2d(output_size=(1, 1))\n",
       "    (1): Flatten()\n",
       "  )\n",
       "  (cos): CosineSimilarity()\n",
       "  (roi_upsample): UpsamplingBilinear2d(size=[224, 224], mode=bilinear)\n",
       ")"
      ]
     },
     "execution_count": 5,
     "metadata": {},
     "output_type": "execute_result"
    }
   ],
   "source": [
    "model = OracleModel()\n",
    "model.to(model.device)\n",
    "model.eval()"
   ]
  },
  {
   "cell_type": "code",
   "execution_count": 6,
   "metadata": {
    "collapsed": true
   },
   "outputs": [],
   "source": [
    "\"\"\"\n",
    "차후 util로 리팩토링\n",
    "\"\"\"\n",
    "import PIL\n",
    "from collections import Counter \n",
    "\n",
    "\n",
    "def myRotation(image):\n",
    "    return TF.rotate(image, 90, expand=True)\n",
    "\n",
    "def myTencCrop(image):\n",
    "    return TF.ten_crop(image, 224, vertical_flip=False)\n",
    "\n",
    "# -------------- 전체 임베딩 피처 디비 생성 --------------\n",
    "def makeAllReferenceCSV2(referenceImgDirPath, featuresPath, meanPath, n_sample=None):\n",
    "    \"\"\"\n",
    "    전체 임베딩 피처 dataframe 생성 후 csv로 저장\n",
    "    \"\"\"\n",
    "    reference_dataset = torchvision.datasets.ImageFolder(\n",
    "        root=referenceImgDirPath,\n",
    "        transform = transforms.Compose([\n",
    "            transforms.Resize([448,448]),\n",
    "            transforms.TenCrop([224,224]), # this is a list of PIL Images        \n",
    "            transforms.Lambda(lambda crops: torch.stack([transforms.Normalize([0.485, 0.456, 0.406], [0.229, 0.224, 0.225])(transforms.ToTensor()(crop)) for crop in crops], dim=0)), # returns a 4D tensor    \n",
    "        ])         \n",
    "    )\n",
    "\n",
    "\n",
    "    reference_loader = torch.utils.data.DataLoader(\n",
    "        reference_dataset,\n",
    "        batch_size=4,\n",
    "        num_workers=0,\n",
    "        shuffle=False\n",
    "    )\n",
    "\n",
    "    # get all data and input to model\n",
    "    _temp = []\n",
    "    _targets = []\n",
    "    for data, target in tqdm(reference_loader):\n",
    "        data = data.reshape(-1, 3,224,224)\n",
    "        target = target.reshape(-1, 1).repeat(1,10).flatten()\n",
    "        outputs = model.embed(data.to(model.device)).data # .data 안하면 메모리 오버플로남...\n",
    "        _temp.append(outputs)       \n",
    "        _targets.append(target)\n",
    "\n",
    "    represented = torch.cat(_temp, dim=0)\n",
    "    _targets = torch.cat(_targets, dim=0).cpu().numpy().astype(int)\n",
    "    # raw data label 별 평균 구해두기\n",
    "    df_ref = pd.DataFrame(represented.cpu().numpy())\n",
    "    df_ref['label'] = [reference_dataset.classes[i] for i in _targets]\n",
    "\n",
    "    # sampling\n",
    "    if(n_sample is not None):\n",
    "        df_ref_sampled = df_ref.groupby('label').apply(pd.DataFrame.sample, n=n_sample).reset_index(drop=True)\n",
    "    else: df_ref_sampled = df_ref # no sampling\n",
    "    reference_means = df_ref_sampled.groupby('label').mean()\n",
    "\n",
    "    # 자료 저장\n",
    "    df_ref_sampled.to_csv(featuresPath, encoding='utf8', index=False)\n",
    "    reference_means.to_csv(meanPath, encoding='utf8', index=True)\n",
    "    return\n",
    "\n",
    "\n",
    "# -------------- 전체 임베딩 피처 디비 생성 --------------\n",
    "def makeAllReferenceCSV(referenceImgDirPath, featuresPath, meanPath, n_sample=None):\n",
    "    \"\"\"\n",
    "    전체 임베딩 피처 dataframe 생성 후 csv로 저장\n",
    "    \"\"\"\n",
    "    reference_dataset = torchvision.datasets.ImageFolder(\n",
    "        root=referenceImgDirPath,\n",
    "        transform=transforms.Compose([\n",
    "#             transforms.RandomRotation(90, expand=True),\n",
    "            transforms.Resize([224,224]),\n",
    "#             myRotation,\n",
    "#             transforms.RandomHorizontalFlip(),\n",
    "#             transforms.RandomRotation(45),\n",
    "            transforms.ToTensor(),\n",
    "            transforms.Normalize([0.485, 0.456, 0.406], [0.229, 0.224, 0.225])\n",
    "        ])\n",
    "    )\n",
    "    reference_loader = torch.utils.data.DataLoader(\n",
    "        reference_dataset,\n",
    "        batch_size=32,\n",
    "        num_workers=0,\n",
    "        shuffle=False\n",
    "    )\n",
    "\n",
    "    # get all data and input to model\n",
    "    _temp = []\n",
    "    for data, target in tqdm(reference_loader):\n",
    "        outputs = model.embed(data.to(model.device)).data # .data 안하면 메모리 오버플로남...\n",
    "        _temp.append(outputs)       \n",
    "\n",
    "    represented = torch.cat(_temp, dim=0)\n",
    "    # raw data label 별 평균 구해두기\n",
    "    df_ref = pd.DataFrame(represented.cpu().numpy())\n",
    "    df_ref['label'] = [reference_dataset.classes[i] for i in reference_dataset.targets*1]\n",
    "    \n",
    "    # sampling\n",
    "    if(n_sample is not None):\n",
    "        df_ref_sampled = df_ref.groupby('label').apply(pd.DataFrame.sample, n=n_sample).reset_index(drop=True)\n",
    "    else: df_ref_sampled = df_ref # no sampling\n",
    "    reference_means = df_ref_sampled.groupby('label').mean()\n",
    "\n",
    "    # 자료 저장\n",
    "    df_ref_sampled.to_csv(featuresPath, encoding='utf8', index=False)\n",
    "    reference_means.to_csv(meanPath, encoding='utf8', index=True)\n",
    "    return\n",
    "\n",
    "\n",
    "def set_sample_val_img(imgValPath, imgValTempPath, n_class_for_val, musthave_list=[]):\n",
    "    \"\"\"\n",
    "    n개 클래스만 validation 샘플링 하는 함수\n",
    "    @param imgValPath = '.\\\\img_real\\\\val'\n",
    "    @param imgValTempPath = '.\\\\img_real\\\\_val_temp'\n",
    "    @param n_class_for_val = 20\n",
    "    @musthave_list = 반드시 포함할 리스트\n",
    "    \"\"\"\n",
    "    all_dir_list = os.listdir(imgValPath)\n",
    "    sample_dir_list = np.random.permutation(all_dir_list)[:n_class_for_val]\n",
    "    for i in musthave_list:\n",
    "        if i not in sample_dir_list: sample_dir_list = np.concatenate([sample_dir_list, [i]])\n",
    "\n",
    "    # 추출될 이미지 저장 폴더 비우기... 비동기 버그 때문에 sleep넣음 \n",
    "    if os.path.isdir(imgValTempPath): shutil.rmtree(imgValTempPath)\n",
    "    sleep(0.1)\n",
    "    os.makedirs(imgValTempPath)\n",
    "\n",
    "    # copy sampled dir\n",
    "    for class_name in tqdm(sample_dir_list):\n",
    "        if not os.path.isdir(os.path.join(imgValTempPath, class_name)):\n",
    "            os.mkdir(os.path.join(imgValTempPath, class_name))\n",
    "        command = ['cmd', '\\/c', 'copy',  os.path.join(imgValPath, class_name) , os.path.join(imgValTempPath, class_name)]    \n",
    "        subprocess.check_output(command)\n",
    "    sample_dir_list.sort() # 토치 데이터로더도 자동으로 이름순 소팅하므로 꼭 해야함\n",
    "    return list(sample_dir_list)\n",
    "\n",
    "def get_sample_reference(featuresPath, meanPath, showData=False):\n",
    "    \"\"\"\n",
    "    n개 클래스 임베딩 & 레이블 & means 추출 \n",
    "    \"\"\"\n",
    "    # load saved embedding features & means\n",
    "    df_ref = pd.read_csv(featuresPath, encoding='utf8')\n",
    "    reference_means = pd.read_csv(meanPath, encoding='utf8', index_col='label')\n",
    "    \n",
    "    if showData:\n",
    "        display(df_ref)\n",
    "        display(reference_means)\n",
    "\n",
    "    df_ref_featere_sampled = None\n",
    "    for c in sample_dir_list:\n",
    "        _df = df_ref[df_ref['label'] == c]\n",
    "        if df_ref_featere_sampled is None: df_ref_featere_sampled = _df\n",
    "        else: df_ref_featere_sampled = df_ref_featere_sampled.append(_df)\n",
    "\n",
    "    df_ref_featere_sampled = df_ref_featere_sampled.reset_index(drop=True)\n",
    "    reference_means_sampled = reference_means.loc[sample_dir_list]\n",
    "    return df_ref_featere_sampled, reference_means_sampled\n",
    "\n",
    "def calcWindowSlidePreds(target_all, preds_all, n_window=7, mode=\"first\"):\n",
    "    \"\"\"\n",
    "    target_all = 정답 리스트\n",
    "    preds_all = 예측값 리스트 \n",
    "    mode = 'all' # first, all\n",
    "    n_window = 3 \n",
    "    @return new_preds_all = []\n",
    "    \"\"\"\n",
    "    \n",
    "    # preds, gt 모아서 데이터프레임화\n",
    "    df = pd.DataFrame(preds_all.numpy())\n",
    "    df['gt']= target_all.numpy()\n",
    "\n",
    "    # 클래스별 인덱스 시작점 계산. 데이터로더 셔플하면 안됨\n",
    "    df_agg = df.groupby('gt').count()\n",
    "    df_agg['end_idx'] = df_agg[0].cumsum()\n",
    "\n",
    "    # 윈도 내 데이터 voting\n",
    "    startidx = 0\n",
    "    new_preds_all = []\n",
    "    for i in df_agg.index:\n",
    "        for idx in range(startidx, df_agg['end_idx'][i]):\n",
    "            bookmarkidx = idx-n_window+1 if idx-n_window>=0 else 0\n",
    "            if idx-n_window<startidx:\n",
    "                bookmarkidx = startidx\n",
    "\n",
    "            if mode=='all': # 1~3위 까지 전체 사용 모드, [::-1] 은 가장 최근 값을 맨 앞으로 보내려고\n",
    "                res = np.concatenate(preds_all[bookmarkidx:idx+1].numpy()[::-1])\n",
    "            elif mode=='first': # 1위만 사용모드       \n",
    "                res = preds_all[bookmarkidx:idx+1, 0].numpy()[::-1]\n",
    "            res_cnt = Counter(res) # counter는 먼저나온 값이 먼저 등록됨, 즉 카운터가 동률이면 최신값이 가장 먼저 나옴\n",
    "#             print(idx-n_window, idx, bookmarkidx, idx+1, res, res_cnt.most_common()[:2], '[Pred]:', res_cnt.most_common()[0][0])\n",
    "            new_preds_all.append(res_cnt.most_common()[0][0])\n",
    "#         print('-------------------------')\n",
    "        startidx = df_agg['end_idx'][i]\n",
    "    return new_preds_all"
   ]
  },
  {
   "cell_type": "code",
   "execution_count": 7,
   "metadata": {
    "collapsed": true
   },
   "outputs": [],
   "source": [
    "# \"\"\"\n",
    "# 전체 피처 데이터 재생성\n",
    "# \"\"\"\n",
    "# referenceImgDirPath = './references/images_trimed_10-10shot' # 10 classes\n",
    "\n",
    "# featuresPath = 'cosmetic_features_cos.csv'\n",
    "# meanPath = 'cosmetic_means_cos.csv'\n",
    "# makeAllReferenceCSV(referenceImgDirPath, featuresPath, meanPath)\n",
    "\n",
    "\n",
    "# # -------------- n개 클래스만 validation 샘플링 세팅 및 폴더정리 ----------------\n",
    "# reference_dataset = torchvision.datasets.ImageFolder(\n",
    "#     root=referenceImgDirPath,\n",
    "#     transform=transforms.Compose([\n",
    "#         transforms.ToTensor(),\n",
    "#         transforms.Normalize([0.485, 0.456, 0.406], [0.229, 0.224, 0.225])\n",
    "#     ])\n",
    "# )\n",
    "# sample_dir_list = reference_dataset.classes\n",
    "\n",
    "# # -------------- 레퍼런스 데이터에서 n개 클래스 임베딩 & 레이블 & means 추출 -----------------\n",
    "# featuresPath = 'cosmetic_features_cos.csv'\n",
    "# meanPath = 'cosmetic_means_cos.csv'\n",
    "\n",
    "# df_ref_featere_sampled, reference_means_sampled = get_sample_reference(featuresPath, meanPath, showData=False)\n",
    "\n",
    "# # ---------------------------- 레퍼런스셋 로드 및 임베딩 세팅 ---------------------------------\n",
    "# model.setReferenceDataset(sample_dir_list, df_ref_featere_sampled, reference_means_sampled)"
   ]
  },
  {
   "cell_type": "markdown",
   "metadata": {},
   "source": [
    "---\n",
    "#  \n",
    "#  \n",
    "# Detecter Performance"
   ]
  },
  {
   "cell_type": "code",
   "execution_count": 8,
   "metadata": {
    "collapsed": true
   },
   "outputs": [],
   "source": [
    "# ------------- non max suppression -------------\n",
    "# https://wns349.github.io/2018/10/16/nms/\n",
    "from itertools import combinations, permutations\n",
    "\n",
    "# Calc IOU\n",
    "def calcIOU(box1, box2):\n",
    "    \"\"\"\n",
    "    box - x,y,w,h\n",
    "    \"\"\"\n",
    "    area_box1 = box1[2]*box1[3]\n",
    "    area_box2 = box2[2]*box2[3]\n",
    "    x1_max = max(box1[0], box2[0])\n",
    "    x2_min = min(box1[0]+box1[2], box2[0]+box2[2])\n",
    "    y1_max = max(box1[1], box2[1])\n",
    "    y2_min = min(box1[1]+box1[3], box2[1]+box2[3])\n",
    "    \n",
    "    area_intersection = max(0, x2_min-x1_max) * max(0, y2_min-y1_max)\n",
    "    area_union = area_box1+area_box2-area_intersection +1e-9\n",
    "    return area_intersection/area_union\n",
    "\n",
    "def non_max_sup_one_class(bboxes, threshold=0.2, descending=False):\n",
    "    \"\"\"\n",
    "    @params threshold - \n",
    "    @params ascending - 기본이 내림차순,\n",
    "    \"\"\"\n",
    "    bboxes = list(bboxes)\n",
    "    bboxes.sort(key = lambda x: x[2], reverse=descending) # 거리값이므로 오름차순, 확률이면 내림차순  \n",
    "    bboxes = np.array(bboxes)\n",
    "    keeps = [True]*len(bboxes)\n",
    "\n",
    "    for i, bbox in enumerate(bboxes):\n",
    "        if not keeps[i]: continue\n",
    "        for j in range(i+1, len(bboxes)):\n",
    "            if not keeps[i]: continue\n",
    "            iou_res = calcIOU(bbox[0], bboxes[j][0])\n",
    "            if iou_res>threshold: keeps[j] = False\n",
    "    return bboxes[keeps]\n",
    "\n",
    "def rpn3(box, n_slice_x, n_slice_y):\n",
    "    \"\"\"\n",
    "    n분할 rpn 조합\n",
    "    @params box: x,y,w,h\n",
    "    @params im: nomalized image tensor N x C x W x H\n",
    "    @return \n",
    "    \"\"\"\n",
    "    w = box[2]/n_slice_x\n",
    "    h = box[3]/n_slice_y\n",
    "    \n",
    "    rois = []\n",
    "    boxes = []\n",
    "    \n",
    "    coords = np.array(np.meshgrid(list(range(n_slice_x+1)), list(range(n_slice_y+1)))).T.reshape(-1,2)\n",
    "    \n",
    "    for a,b in combinations(coords,2):\n",
    "        if a[0]>=b[0] or a[1]>= b[1]: continue # 넓이 없는 사각형 제거\n",
    "#         print(a,b)\n",
    "        boxes.append([box[0]+a[0]*w, box[1]+a[1]*h, \n",
    "                      (b[0]-a[0])*w, (b[1]-a[1])*h]) # x,y,w,h\n",
    "\n",
    "    boxes = torch.tensor(boxes)\n",
    "    return boxes\n",
    "\n",
    "def get_rois(images, featuremaps, bboxes, texture_mode=False, n_slice=3):\n",
    "    \"\"\"\n",
    "    roi-align from feature map\n",
    "    @params images - 원본 이미지 (사이즈 계산용)\n",
    "    @params featuremaps - CNN Backbone 거쳐 나온 것\n",
    "    @params bboxes - 원본 이미지에서의 bboxes (x,y,w,h)\n",
    "    @return 피처맵에서 스케일된 bbox부분 7x7로 roi-align된 피처맵\n",
    "    \"\"\"\n",
    "    # calc bbox ratio\n",
    "    ratio_y = featuremaps.shape[2]/images.shape[2]\n",
    "    ratio_x = featuremaps.shape[3]/images.shape[3]\n",
    "    bboxes_scaled = bboxes.clone()#.detach()\n",
    "\n",
    "    bboxes_scaled[:,0] = bboxes_scaled[:,0]*ratio_x # for x\n",
    "    bboxes_scaled[:,1] = bboxes_scaled[:,1]*ratio_y # for y\n",
    "    bboxes_scaled[:,2] = bboxes_scaled[:,2]*ratio_x # for w\n",
    "    bboxes_scaled[:,3] = bboxes_scaled[:,3]*ratio_y # for h\n",
    "\n",
    "    # x,y,w,h -> x1, y1, x2, y2 그래디언트 학습되는 변수가 아니므로 inplace 계산 들어가도 괜찮다\n",
    "    bboxes_scaled[:, 2] = bboxes_scaled[:, 0] + bboxes_scaled[:, 2]\n",
    "    bboxes_scaled[:, 3] = bboxes_scaled[:, 1] + bboxes_scaled[:, 3]\n",
    "    \n",
    "    crops = torchvision.ops.roi_align(featuremaps, [bboxes_scaled], [7,7])\n",
    "    return crops\n",
    "\n",
    "def box_cvt(box):\n",
    "    \"\"\"\n",
    "    auto grad possable\n",
    "    @params box - N x 4\n",
    "    x,y,w,h --> x1,y1,x2,y2\n",
    "    \"\"\"\n",
    "    box2 = box.clone().float()\n",
    "    box2[:,0] = box[:,0]\n",
    "    box2[:,1] = box[:,1]\n",
    "    box2[:,2] = box[:,0] + box[:,2]\n",
    "    box2[:,3] = box[:,1] + box[:,3]\n",
    "    return box2"
   ]
  },
  {
   "cell_type": "code",
   "execution_count": 9,
   "metadata": {
    "collapsed": true
   },
   "outputs": [],
   "source": [
    "from sklearn.mixture import GaussianMixture\n",
    "from sklearn.utils.testing import ignore_warnings\n",
    "from sklearn.exceptions import ConvergenceWarning\n",
    "import scipy.stats as stats\n",
    "import math\n",
    "\n",
    "def getOrdi(mask, boundary):\n",
    "    \"\"\"\n",
    "    max/min x,y 좌표 구하기\n",
    "    \"\"\"\n",
    "    mask_list = mask.tolist()\n",
    "    mask_T_list = mask.T.tolist()\n",
    "    # x1, y1, x2, y2\n",
    "    x1 = float('inf')\n",
    "    x2 = float('-inf')\n",
    "    y1 = float('inf')\n",
    "    y2 = float('-inf')\n",
    "\n",
    "    for row in mask_list:\n",
    "        try:\n",
    "            xmin = row.index(boundary)\n",
    "            xmax = len(row)-row[::-1].index(boundary)-1\n",
    "            if x1>xmin: x1=xmin\n",
    "            if x2<xmax: x2=xmax\n",
    "        except: pass\n",
    "    for row in mask_T_list:\n",
    "        try:\n",
    "            xmin = row.index(boundary)\n",
    "            xmax = len(row)-row[::-1].index(boundary)-1\n",
    "            if y1>xmin: y1=xmin\n",
    "            if y2<xmax: y2=xmax        \n",
    "        except: pass\n",
    "    return x1, y1, x2, y2\n",
    "\n",
    "def plotGMM(inputs, n_components=5, SHOW_PLOT=False):\n",
    "    \"\"\"\n",
    "    inputs - preds_dist[c_idx]\n",
    "    \"\"\"\n",
    "    X = inputs.flatten().reshape(-1,1).cpu()\n",
    "    # fit GMM\n",
    "    gmm = GaussianMixture(n_components=n_components, init_params='kmeans', random_state=0, tol=1e-9)#, max_iter=n)\n",
    "    with ignore_warnings(category=ConvergenceWarning):\n",
    "        gmm.fit(X)\n",
    "\n",
    "    y=[]\n",
    "    # ------------- get x-range 중요 ---------------\n",
    "    i_max = gmm.means_.argmax()\n",
    "    i_min = gmm.means_.argmin()\n",
    "    mu_max = gmm.means_[i_max][0]\n",
    "    std_max = math.sqrt(gmm.covariances_[i_max][0])\n",
    "    mu_min = gmm.means_[i_min][0]\n",
    "    std_min = math.sqrt(gmm.covariances_[i_min][0])\n",
    "    x = np.linspace(mu_min - 3*std_min, mu_max + 3*std_max, 200)\n",
    "    # ------------- get x-range 중요 ---------------\n",
    "    for i in range(n_components):\n",
    "        mu = gmm.means_[i][0]\n",
    "        var = gmm.covariances_[i][0]\n",
    "        sigma = math.sqrt(var)\n",
    "#         x = np.linspace(0.3,0.9,200)\n",
    "        y.append(stats.norm.pdf(x, mu, sigma)*gmm.weights_[i])\n",
    "        plt.plot(x, y[i])\n",
    "#         x = np.linspace(mu - 3*sigma, mu + 3*sigma, 100)\n",
    "#         y.append(x)\n",
    "#         plt.plot(x, stats.norm.pdf(x, mu, sigma)*gmm.weights_[i])\n",
    "    # find decision boundary\n",
    "    k = gmm.predict(x.reshape(-1,1))\n",
    "    idx = np.where(np.abs(k[1:]-k[:-1])!=0) # 두 responsibility가 교체되는 x값의 인덱스\n",
    "#     print(np.abs(k[1:]-k[:-1])!=0, idx)\n",
    "    boundaries = x[1:][idx]\n",
    "#     # boundaries 가 여러개 나올 수 있는데 그 중 likelihood가 가장 높은 값의 인덱스 선택\n",
    "#     b_idx = gmm.score_samples(boundaries.reshape(-1,1)).argmax()  \n",
    "#     boundary = boundaries[b_idx]\n",
    "    # boundaries 가 여러개 나올 수 있는데 그 중 score 0.05이상의 가장 큰 값 선택\n",
    "    boundary = boundaries[gmm.score_samples(boundaries.reshape(-1,1))>np.log(0.1)][-1]\n",
    "    plt.axvline(x=boundary, c='r') \n",
    "    \n",
    "    if(SHOW_PLOT):\n",
    "        print(boundaries, gmm.score_samples(boundaries.reshape(-1,1)))\n",
    "        sns.distplot(inputs.flatten().cpu().numpy())\n",
    "        plt.show()\n",
    "    return round(boundary, 3), gmm\n",
    "\n",
    "# _, gmm = plotGMM(preds_dist[targets_gt[0]], n_components=5, SHOW_PLOT=True)\n",
    "\n",
    "# import matplotlib.font_manager as fm\n",
    "\n",
    "# font_path = 'C:\\\\Windows\\\\Fonts\\\\NanumBarunGothic.ttf'\n",
    "# font_name = fm.FontProperties(fname=font_path, size=50).get_name()\n",
    "# print(font_name)\n",
    "# plt.rc('font', family=font_name)\n",
    "\n",
    "# # font setting\n",
    "# font_title = {'family': 'NanumBarunGothic', 'size': 18, 'color': 'black'}\n",
    "# font_label = {'family': 'NanumBarunGothic', 'size': 12, 'color': 'black'}\n",
    "\n",
    "def textureDetect(featuremaps, filter_size=(3,3), stride=(1,1), upsample=False):\n",
    "    \"\"\"\n",
    "    box maker\n",
    "    batch N - featuremaps.shape[0]\n",
    "    \"\"\"\n",
    "    # upsample featuremap\n",
    "    boxes_t = []\n",
    "    esp = 1e-4\n",
    "    # x,y 순서 바뀌면 안됨\n",
    "    y_range = np.arange(0,featuremaps.shape[2]-1+esp, stride[0])\n",
    "    x_range = np.arange(0,featuremaps.shape[3]-1+esp, stride[0])\n",
    "    for y in y_range:\n",
    "        for x in x_range:\n",
    "            xx = x-((filter_size[0]-1)/2)\n",
    "            yy = y-((filter_size[1]-1)/2)\n",
    "            ww = filter_size[0]\n",
    "            hh = filter_size[1]\n",
    "            boxes_t.append([xx,yy,xx+ww,yy+hh]) # x,y,x2,y2\n",
    "    boxes_t = torch.tensor(boxes_t).data.cuda().float()\n",
    "\n",
    "    print('<featuremaps-shape>', featuremaps.shape)\n",
    "    crops = torchvision.ops.roi_align(featuremaps, [boxes_t]*featuremaps.shape[0], [1,1]).data\n",
    "    print('<roi-align>', crops.squeeze().shape)\n",
    "    \n",
    "    # inference using cosine similarity via class mean vector\n",
    "    preds_dist = my_cos(crops.squeeze(), model.embedded_means)\n",
    "    print('<class, roi-shape>', preds_dist.shape, len(y_range), len(x_range), '-->  (224,224)')\n",
    "\n",
    "    preds_dist = preds_dist.transpose(1,0).reshape(-1, len(y_range), len(x_range))\n",
    "    # upsamopling to same size for batch process\n",
    "    if(upsample):\n",
    "        preds_dist = nn.UpsamplingBilinear2d([224,224])(preds_dist.unsqueeze(0)).squeeze()\n",
    "    print('[n_box]:', len(boxes_t))\n",
    "    return preds_dist\n",
    "\n",
    "def textureDetectMultiChannel(featuremaps, stride=(1,1), upsample=False):\n",
    "    \"\"\"\n",
    "    box maker\n",
    "    batch N - featuremaps.shape[0]\n",
    "    \"\"\"\n",
    "    boxes_t = []\n",
    "    base_boxes = []\n",
    "    esp = 1e-4\n",
    "#     channels = [(1,1), (3,3), (5,5), (7,7)]\n",
    "    channels = [(1,1),(2,1),(1,2), (3,3),(6,3),(3,6)]#, (5,5),(5,10),(10,5)]\n",
    "    # ------------------- 속도 최적화 필요 ----------------------\n",
    "    # x,y 순서 바뀌면 안됨\n",
    "    #     for filter_size in channels:\n",
    "    y_range = np.arange(0,featuremaps.shape[2]-1+esp, stride[0])\n",
    "    x_range = np.arange(0,featuremaps.shape[3]-1+esp, stride[0])\n",
    "    for y in y_range:\n",
    "        for x in x_range:\n",
    "            xx = x+1/2\n",
    "            yy = y+1/2\n",
    "            xx2 = x+1/2\n",
    "            yy2 = y+1/2\n",
    "            base_boxes.append([xx,yy,xx2,yy2]) # x,y,x2,y2\n",
    "    base_boxes = torch.tensor(base_boxes).data.cuda().float()\n",
    "    \n",
    "    for filter_size in channels:\n",
    "        b = base_boxes.clone()\n",
    "        b[:,0] = b[:,0]-filter_size[0]/2\n",
    "        b[:,1] = b[:,1]-filter_size[1]/2\n",
    "        b[:,2] = b[:,2]+filter_size[0]/2\n",
    "        b[:,3] = b[:,3]+filter_size[1]/2\n",
    "        boxes_t.append(b)\n",
    "    boxes_t = torch.cat(boxes_t)\n",
    "    # ------------------- 속도 최적화 필요 ----------------------\n",
    "    \n",
    "#     print('<featuremaps-shape>', featuremaps.shape)\n",
    "    crops = torchvision.ops.roi_align(featuremaps, [boxes_t]*featuremaps.shape[0], [1,1]).data\n",
    "#     print('<roi-align>', crops.squeeze().shape)\n",
    "    \n",
    "    # inference using cosine similarity via class mean vector\n",
    "    preds_dist = my_cos(crops.squeeze(), model.embedded_means) # ch*h*w, cls\n",
    "#     print('<class, roi-shape>', preds_dist.shape, len(channels), len(y_range), len(x_range), '-->  (224,224)')\n",
    "    preds_dist = preds_dist.transpose(1,0).reshape(-1, len(channels), len(y_range), len(x_range)) # cls, ch*h*w\n",
    "    # upsampling to same size for batch process\n",
    "    if(upsample):\n",
    "        preds_dist = nn.UpsamplingBilinear2d([224,224])(preds_dist)\n",
    "#     print('[n_box]:', len(boxes_t))\n",
    "    return preds_dist # cls,ch,h,w\n",
    "\n",
    "\n",
    "def plotHeatMap(preds):\n",
    "    fig = plt.figure(figsize=(20,15))\n",
    "    for j in range(4):\n",
    "        for i in range(8):\n",
    "            n_fig = i+j*8+1\n",
    "            if(n_fig==32):\n",
    "                break\n",
    "            a=fig.add_subplot(4,8,n_fig)\n",
    "            imgplot = plt.imshow(preds_dist.cpu()[n_fig-1], cmap='jet')\n",
    "            imgplot.set_clim(0,1)\n",
    "            a.set_title(str(n_fig-1)+'//'+voc_val_dataset.classes[n_fig-1].split(' ')[0])\n",
    "    plt.colorbar(ticks=[0.1,0.3,0.5,0.7,0.9], orientation ='horizontal')\n",
    "    plt.show()\n",
    "    return\n",
    "\n",
    "def drawTextureRect(orig_fmap=None, fmap_box=None, box=None, n=4, filter_size=(3,3), stride=(.25, .25), isFirst=True, c=(0,0,255), EROSION=False):\n",
    "    \"\"\"\n",
    "    filter_size - 클수록 멀리봄 \n",
    "    stride - 작을수록 분해능 높음\n",
    "    EROSION - 노이즈 제거\n",
    "    \"\"\"\n",
    "    global featuremaps, frame\n",
    "    \"\"\"box maker\"\"\"\n",
    "    if(isFirst):\n",
    "        preds_dist = textureDetect(featuremaps, filter_size=filter_size, stride=stride)\n",
    "        #     plotHeatMap(preds_dist)\n",
    "    else:\n",
    "        preds_dist = textureDetect(orig_fmap, filter_size=filter_size, stride=stride)\n",
    "        #     plotHeatMap(preds_dist)\n",
    "\n",
    "    print('<>', featuremaps.shape, preds_dist.shape)\n",
    "    \"\"\"use gmm\"\"\"\n",
    "    boundary, gmm = plotGMM(preds_dist[targets_gt[0]], n_components=n, SHOW_PLOT=False)\n",
    "    print('[boundary]:', boundary)\n",
    "\n",
    "    mask = preds_dist[targets_gt[0]]\n",
    "    mask = torch.where(mask>boundary, torch.zeros_like(mask).fill_(255), torch.zeros_like(mask))\n",
    "    mask = mask.cpu().numpy()\n",
    "    \n",
    "    if(EROSION):\n",
    "        kernel = np.ones(filter_size)\n",
    "        mask = cv2.erode(mask.cpu().numpy(), kernel, iterations=3)\n",
    "    \n",
    "#     plt.imshow(mask)\n",
    "#     plt.show()\n",
    "    #     print(mask.shape)\n",
    "    box = getOrdi(mask, 255) # x1, y1, x2, y2\n",
    "    x1, y1, x2, y2 = box\n",
    "    if(isFirst):\n",
    "        r_y = frame.shape[0]/mask.shape[0]\n",
    "        r_x = frame.shape[1]/mask.shape[1]\n",
    "        x1*=r_x; x2*=r_x; y1*=r_y; y2*=r_y\n",
    "    else:\n",
    "        r_y = fmap_box[3]/mask.shape[0]\n",
    "        r_x = fmap_box[2]/mask.shape[1]\n",
    "        x1=fmap_box[0]+x1*r_x; x2=fmap_box[0]+x2*r_x; y1=fmap_box[1]+y1*r_y; y2=fmap_box[1]+y2*r_y\n",
    "    try:\n",
    "        print(boxes_gt, (int(x1), int(y1), int(x2-x1), int(y2-y1)))\n",
    "        cv2.rectangle(frame, (int(x1), int(y1)), (int(x2), int(y2)), c, 1, cv2.LINE_AA)\n",
    "        cv2.putText(frame, 'n:'+str(n), (int(x1)-3, int(y1)-12), cv2.FONT_HERSHEY_SIMPLEX, .5, (50,50,50), 1)\n",
    "    except: pass\n",
    "    return (x1,y1,x2-x1,y2-y1), preds_dist # xywh\n"
   ]
  },
  {
   "cell_type": "code",
   "execution_count": 10,
   "metadata": {
    "scrolled": true
   },
   "outputs": [
    {
     "data": {
      "text/plain": [
       "BoxMaker(\n",
       "  (roi_upsample): UpsamplingBilinear2d(size=[224, 224], mode=bilinear)\n",
       "  (backbone): Sequential(\n",
       "    (0): Conv2d(6, 32, kernel_size=(3, 3), stride=(1, 1), padding=(1, 1))\n",
       "    (1): BatchNorm2d(32, eps=1e-05, momentum=0.1, affine=True, track_running_stats=True)\n",
       "    (2): ReLU()\n",
       "    (3): MaxPool2d(kernel_size=2, stride=2, padding=0, dilation=1, ceil_mode=False)\n",
       "    (4): Conv2d(32, 64, kernel_size=(3, 3), stride=(1, 1), padding=(1, 1))\n",
       "    (5): BatchNorm2d(64, eps=1e-05, momentum=0.1, affine=True, track_running_stats=True)\n",
       "    (6): ReLU()\n",
       "    (7): MaxPool2d(kernel_size=2, stride=2, padding=0, dilation=1, ceil_mode=False)\n",
       "    (8): Conv2d(64, 128, kernel_size=(3, 3), stride=(1, 1), padding=(1, 1))\n",
       "    (9): BatchNorm2d(128, eps=1e-05, momentum=0.1, affine=True, track_running_stats=True)\n",
       "    (10): ReLU()\n",
       "    (11): MaxPool2d(kernel_size=2, stride=2, padding=0, dilation=1, ceil_mode=False)\n",
       "    (12): Conv2d(128, 256, kernel_size=(3, 3), stride=(1, 1), padding=(1, 1))\n",
       "    (13): BatchNorm2d(256, eps=1e-05, momentum=0.1, affine=True, track_running_stats=True)\n",
       "    (14): ReLU()\n",
       "    (15): AdaptiveAvgPool2d(output_size=(1, 1))\n",
       "    (16): Flatten()\n",
       "  )\n",
       "  (backbone2): Sequential(\n",
       "    (0): Conv2d(6, 32, kernel_size=(3, 3), stride=(1, 1), padding=(2, 2), dilation=(2, 2))\n",
       "    (1): BatchNorm2d(32, eps=1e-05, momentum=0.1, affine=True, track_running_stats=True)\n",
       "    (2): ReLU()\n",
       "    (3): MaxPool2d(kernel_size=2, stride=2, padding=0, dilation=1, ceil_mode=False)\n",
       "    (4): Conv2d(32, 64, kernel_size=(3, 3), stride=(1, 1), padding=(2, 2), dilation=(2, 2))\n",
       "    (5): BatchNorm2d(64, eps=1e-05, momentum=0.1, affine=True, track_running_stats=True)\n",
       "    (6): ReLU()\n",
       "    (7): MaxPool2d(kernel_size=2, stride=2, padding=0, dilation=1, ceil_mode=False)\n",
       "    (8): Conv2d(64, 128, kernel_size=(3, 3), stride=(1, 1), padding=(2, 2), dilation=(2, 2))\n",
       "    (9): BatchNorm2d(128, eps=1e-05, momentum=0.1, affine=True, track_running_stats=True)\n",
       "    (10): ReLU()\n",
       "    (11): MaxPool2d(kernel_size=2, stride=2, padding=0, dilation=1, ceil_mode=False)\n",
       "    (12): Conv2d(128, 256, kernel_size=(3, 3), stride=(1, 1), padding=(2, 2), dilation=(2, 2))\n",
       "    (13): BatchNorm2d(256, eps=1e-05, momentum=0.1, affine=True, track_running_stats=True)\n",
       "    (14): ReLU()\n",
       "    (15): AdaptiveAvgPool2d(output_size=(1, 1))\n",
       "    (16): Flatten()\n",
       "  )\n",
       "  (fc): Sequential(\n",
       "    (0): Linear(in_features=512, out_features=128, bias=True)\n",
       "    (1): ReLU()\n",
       "    (2): Linear(in_features=128, out_features=32, bias=True)\n",
       "    (3): ReLU()\n",
       "    (4): Linear(in_features=32, out_features=5, bias=True)\n",
       "  )\n",
       ")"
      ]
     },
     "execution_count": 10,
     "metadata": {},
     "output_type": "execute_result"
    }
   ],
   "source": [
    "def cvt_yolobox(bboxes_yolo, size):\n",
    "    \"\"\"\n",
    "    size - original [w,h]\n",
    "    np.array\n",
    "    yolo(cx,cy,w,h) to x,y,w,h\n",
    "    \"\"\"\n",
    "    bboxes = bboxes_yolo.copy() # x,y,w,h\n",
    "\n",
    "    bboxes[:,0] = (bboxes_yolo[:,0] - bboxes_yolo[:,2]/2)*size[1] # x\n",
    "    bboxes[:,1] = (bboxes_yolo[:,1] - bboxes_yolo[:,3]/2)*size[0] # y\n",
    "    bboxes[:,2] = bboxes_yolo[:,2]*size[1]\n",
    "    bboxes[:,3] = bboxes_yolo[:,3]*size[0]\n",
    "    bboxes = bboxes.astype(np.int)\n",
    "    return bboxes\n",
    "\n",
    "class Sobel(torch.nn.Module):\n",
    "    def __init__(self):\n",
    "        super(Sobel, self).__init__()\n",
    "        sobel_x=torch.tensor([[-1, 0, 1],[-2,0,2],[-1,0,1]]).float().unsqueeze(0).unsqueeze(0)\n",
    "        self.conv1=nn.Conv2d(1,1, kernel_size=3, stride=1, padding=1, bias=False)\n",
    "        self.conv1.weight=nn.Parameter(sobel_x)\n",
    "        \n",
    "        sobel_y=torch.tensor([[1, 2, 1],[0,0,0],[-1,-2,-1]]).float().unsqueeze(0).unsqueeze(0)\n",
    "        self.conv2=nn.Conv2d(1,1, kernel_size=3, stride=1, padding=1, bias=False)\n",
    "        self.conv2.weight=nn.Parameter(sobel_y)\n",
    "        \n",
    "        self.device = torch.device('cuda:0' if torch.cuda.is_available() else 'cpu')\n",
    "        \n",
    "    def forward(self, x):\n",
    "        \"\"\"\n",
    "        x - b,3ch(R,G,B),h,w\n",
    "        return - b,1,h,w\n",
    "        \"\"\"\n",
    "        # RGB to gray\n",
    "        r, g, b = torch.chunk(x, chunks=3, dim=-3)\n",
    "        gray = 0.299 * r + 0.587 * g + 0.110 * b\n",
    "\n",
    "        G_x=self.conv1(gray).data\n",
    "        G_y=self.conv2(gray).data\n",
    "\n",
    "        G=torch.sqrt(torch.pow(G_x,2)+ torch.pow(G_y,2))\n",
    "        return G\n",
    "    \n",
    "class Flatten(torch.nn.Module):\n",
    "    \"\"\"\n",
    "    torch.nn.Sequential에서 사용가능한 flatten 모듈\n",
    "    \"\"\"\n",
    "    def forward(self, x):\n",
    "        batch_size = x.shape[0]\n",
    "        return x.view(batch_size, -1)\n",
    "\n",
    "\n",
    "class Bottleneck(nn.Module):\n",
    "    def __init__(self, inchannel, outchannel, dilation=1, downsample=False):\n",
    "        super(Bottleneck, self).__init__()\n",
    "        self.downsample = downsample\n",
    "        \n",
    "        self.conv1 = nn.Conv2d(inchannel, inchannel, kernel_size=(1,1), stride=(1, 1))\n",
    "        self.bn1 = nn.BatchNorm2d(inchannel, eps=1e-05, momentum=0.1, affine=True)\n",
    "        self.conv2 = nn.Conv2d(inchannel, inchannel, kernel_size=(3,3), stride=(1, 1), padding=dilation, dilation=dilation)\n",
    "        self.bn2 = nn.BatchNorm2d(inchannel, eps=1e-05, momentum=0.1, affine=True)\n",
    "        self.conv3 = nn.Conv2d(inchannel, outchannel, kernel_size=(1,1), stride=(1, 1))\n",
    "        self.bn3 = nn.BatchNorm2d(outchannel, eps=1e-05, momentum=0.1, affine=True)\n",
    "        self.pool = nn.MaxPool2d(2,2)\n",
    "        self.relu = nn.ReLU()\n",
    "        self.identity_conv = nn.Conv2d(1, outchannel, kernel_size=(1,1), stride=(1, 1))\n",
    "        \n",
    "        self.net = nn.Sequential(\n",
    "            self.conv1,\n",
    "            self.bn1,\n",
    "            nn.ReLU(),\n",
    "            self.conv2,\n",
    "            self.bn2,\n",
    "            nn.ReLU(),\n",
    "            self.conv3,\n",
    "            self.bn3,\n",
    "        )\n",
    "        \n",
    "    def forward(self, x):\n",
    "        identity = self.identity_conv(x[:,3:4]) # b*cls,edge_ch,224,224\n",
    "        out = self.net(x)\n",
    "        if(self.downsample):\n",
    "            identity = self.pool(identity)\n",
    "            out = self.pool(out)\n",
    "        out += identity\n",
    "        out = self.relu(out)\n",
    "        return out\n",
    "        \n",
    "        \n",
    "class BoxMaker(nn.Module):\n",
    "    def __init__(self):\n",
    "        super(BoxMaker, self).__init__()\n",
    "        avg_pool = torch.nn.AdaptiveAvgPool2d(output_size=(1, 1))\n",
    "        flatten = Flatten()\n",
    "        self.roi_upsample = nn.UpsamplingBilinear2d([224,224])\n",
    "        \n",
    "        # backbone layer\n",
    "        self.backbone = nn.Sequential(\n",
    "            # 1x1 conv\n",
    "            nn.Conv2d(6, 32, kernel_size=(3,3), stride=(1, 1), padding=(1,1)),\n",
    "            nn.BatchNorm2d(32, eps=1e-05, momentum=0.1, affine=True),\n",
    "            nn.ReLU(),\n",
    "            nn.MaxPool2d(2,2),\n",
    "            nn.Conv2d(32, 64, kernel_size=(3,3), stride=(1, 1), padding=(1,1)),\n",
    "            nn.BatchNorm2d(64, eps=1e-05, momentum=0.1, affine=True),\n",
    "            nn.ReLU(),\n",
    "            nn.MaxPool2d(2,2),\n",
    "            nn.Conv2d(64, 128, kernel_size=(3,3), stride=(1, 1), padding=(1,1)),\n",
    "            nn.BatchNorm2d(128, eps=1e-05, momentum=0.1, affine=True),\n",
    "            nn.ReLU(),\n",
    "            nn.MaxPool2d(2,2),\n",
    "            nn.Conv2d(128, 256, kernel_size=(3,3), stride=(1, 1), padding=(1,1)),\n",
    "            nn.BatchNorm2d(256, eps=1e-05, momentum=0.1, affine=True),\n",
    "            nn.ReLU(), # n x 256 x 24 x 24\n",
    "            avg_pool, # n x 256 x 1 x 1\n",
    "            flatten, # n x 256\n",
    "        )\n",
    "        \n",
    "        self.backbone2 = nn.Sequential(\n",
    "            # 1x1 conv\n",
    "            nn.Conv2d(6, 32, kernel_size=(3,3), stride=(1, 1), padding=(2,2), dilation=2),\n",
    "            nn.BatchNorm2d(32, eps=1e-05, momentum=0.1, affine=True),\n",
    "            nn.ReLU(),\n",
    "            nn.MaxPool2d(2,2),\n",
    "            nn.Conv2d(32, 64, kernel_size=(3,3), stride=(1, 1), padding=(2,2), dilation=2),\n",
    "            nn.BatchNorm2d(64, eps=1e-05, momentum=0.1, affine=True),\n",
    "            nn.ReLU(),\n",
    "            nn.MaxPool2d(2,2),\n",
    "            nn.Conv2d(64, 128, kernel_size=(3,3), stride=(1, 1), padding=(2,2), dilation=2),\n",
    "            nn.BatchNorm2d(128, eps=1e-05, momentum=0.1, affine=True),\n",
    "            nn.ReLU(),\n",
    "            nn.MaxPool2d(2,2),\n",
    "            nn.Conv2d(128, 256, kernel_size=(3,3), stride=(1, 1), padding=(2,2), dilation=2),\n",
    "            nn.BatchNorm2d(256, eps=1e-05, momentum=0.1, affine=True),\n",
    "            nn.ReLU(), # n x 256 x 24 x 24\n",
    "            avg_pool, # n x 256 x 1 x 1\n",
    "            flatten, # n x 256\n",
    "        )\n",
    "        \n",
    "#         self.multihead_attn = nn.MultiheadAttention(embed_dim=512, num_heads=8)\n",
    "                \n",
    "        # fc layer\n",
    "        self.fc = nn.Sequential(\n",
    "            nn.Linear(512, 128),\n",
    "            nn.ReLU(),\n",
    "            nn.Linear(128, 32),\n",
    "            nn.ReLU(),\n",
    "            nn.Linear(32, 5), # score_logit + cx,cy,w,h\n",
    "        )\n",
    "        \n",
    "        self.device = torch.device('cuda:0' if torch.cuda.is_available() else 'cpu')\n",
    "\n",
    "        \n",
    "    def forward(self, inputs):\n",
    "        \"\"\"\n",
    "        inputs - b,cls,ch,224,224\n",
    "        \"\"\"\n",
    "        n_batch = inputs.shape[0] # b\n",
    "        n_channel = inputs.shape[2] # ch\n",
    "        # CNN backbone\n",
    "        images = inputs.transpose(0,1).reshape(-1,n_channel,224,224) # b*cls,ch,224,224\n",
    "        \n",
    "        hh = self.backbone(images) # b*cls,256 \n",
    "        hh2 = self.backbone2(images) # b*cls,256 \n",
    "        hh3 = torch.cat([hh,hh2], dim=1) #b*cls,512\n",
    "        hh3 = hh3.reshape(-1, n_batch, 512) # cls,b,512\n",
    "        \n",
    "#         attn_output, attn_output_weights = self.multihead_attn(hh3, hh3, hh3) # q,k,v - L,N,E - cls,b,512        \n",
    "#         attn_sum = hh3+attn_output # cls,b,512\n",
    "        \n",
    "#         res = attn_sum.transpose(0,1) # b,cls,512\n",
    "        res = hh3.transpose(0,1) # b,cls,512\n",
    "\n",
    "        res2 = res.reshape(-1,512) # b*cls,512\n",
    "        \n",
    "        pp = self.fc(res2) # b*cls,5(1+4)\n",
    "        pp = pp.reshape(n_batch,-1,5) # b,cls,5(1+4)\n",
    "        logit = pp[:,:,0] # b,cls\n",
    "        coords = pp[:,:,1:] # b,cls,4\n",
    "        \n",
    "        return logit, coords\n",
    "\n",
    "sobel = Sobel()\n",
    "sobel.to(sobel.device)\n",
    "boxMaker = BoxMaker()\n",
    "boxMaker.to(boxMaker.device)\n",
    "# boxMaker.load_state_dict(torch.load('torch_models/heatmap-4chan-1130-2.pth', map_location='cuda:0'))\n",
    "# # boxMaker.load_state_dict(torch.load('torch_models/heatmap-edge2-1129.pth', map_location='cuda:0'))\n",
    "# boxMaker.eval()"
   ]
  },
  {
   "cell_type": "markdown",
   "metadata": {},
   "source": [
    "---\n",
    "#  \n",
    "#  \n",
    "# mAP"
   ]
  },
  {
   "cell_type": "code",
   "execution_count": 11,
   "metadata": {
    "collapsed": true
   },
   "outputs": [],
   "source": [
    "def concatSobel(preds_dist, data):\n",
    "    \"\"\"\n",
    "    기존 히트맵 채널들과 sobel edge채널 합치기\n",
    "    preds_dist - cls,ch,h,w\n",
    "    data - b,3(RGB),h,w\n",
    "    return - cls,ch+1,h,w\n",
    "    \"\"\"\n",
    "    _data = nn.UpsamplingNearest2d([224,224])(data)\n",
    "    data_sobel = sobel(_data.cuda())\n",
    "    k = torch.stack([data_sobel[0]]*preds_dist.shape[0])\n",
    "    return torch.cat([preds_dist, k], dim=1)\n",
    "\n",
    "# concatSobel(preds_dist, data).shape\n",
    "\n",
    "def calc_tp_state(boxes_ans, boxes_model, confidiences_model, filename=None, threshold_IOU=0.5):\n",
    "    \"\"\"\n",
    "    average precision 계산용 데이터 프레임 리턴\n",
    "    @params boxes - x,y,w,h\n",
    "    state_array = [[filename, conf, state, iou], [filename, conf, state, iou], ...]\n",
    "    threshold_IOU = 0.5 # 이걸 넘어야 TP, 못넘으면 FP\n",
    "    \"\"\"\n",
    "    state_array = []\n",
    "    for model_box_idx, model_box in enumerate(boxes_model):\n",
    "        state = [filename, confidiences_model[model_box_idx], 0, 0] # default가 FP\n",
    "        for ans_box_idx, ans_box in enumerate(boxes_ans):\n",
    "            _IOU = float(calcIOU(model_box, ans_box))\n",
    "            if _IOU>threshold_IOU: # IOU넘는게 하나라도 있으면 TP인 경우\n",
    "                state = [filename, confidiences_model[model_box_idx], 1, _IOU] # default가 FP\n",
    "                break\n",
    "            if _IOU>state[3]: state[3]=_IOU # FP경우에도 최고 IOU기록\n",
    "        state_array.append(state)\n",
    "    _df = pd.DataFrame(state_array, columns=['image', 'confidience', 'TP', 'IOU'])\n",
    "    return _df\n",
    "\n",
    "from collections import Counter\n",
    "# https://github.com/rafaelpadilla/Object-Detection-Metrics\n",
    "\n",
    "def calc_AP(dataset_classes, label, target_all, dfs):\n",
    "    target = dataset_classes.index(label)\n",
    "    n_gt = Counter(target_all)\n",
    "\n",
    "    _df = dfs[label].sort_values(by='confidience', ascending=False) # sort by conf\n",
    "\n",
    "    _df['FP'] = [0 if tp==1 else 1 for tp in _df['TP']]\n",
    "    _df['cum_TP'] = _df['TP'].cumsum()\n",
    "    _df['cum_FP'] = _df['FP'].cumsum()\n",
    "    _df['precision'] = [tp/(tp+fp) for tp,fp in zip(_df['cum_TP'],_df['cum_FP'])]\n",
    "    _df['recall'] = _df['cum_TP']/n_gt[target]\n",
    "    _df['precision_interpolated'] = [_df['precision'][i:].max() for i in range(len(_df['recall']))] \n",
    "    _df.reset_index(inplace=True)\n",
    "\n",
    "    precisions = [_df['precision_interpolated'][_df['recall'].between(0.1*(i-1),0.1*i,inclusive=True)].min() for i in range(11)]\n",
    "    precisions[0] = 1\n",
    "    precisions = np.array([0 if p is np.nan else p for p in precisions])\n",
    "    AP = precisions.mean()\n",
    "#     print('[class]:', label, ', [AP]:', AP)\n",
    "#     print('[Precisions]', precisions)\n",
    "\n",
    "#     plt.plot(_df['recall'], _df['precision'])\n",
    "#     plt.plot(_df['recall'], _df['precision_interpolated'], color='r')\n",
    "#     plt.grid()\n",
    "#     plt.xlim([0,1]), plt.title(label+' 11 point p-r curve')\n",
    "#     plt.xlabel('recall'), plt.ylabel('precision')\n",
    "#     plt.show()\n",
    "\n",
    "    # display(_df)\n",
    "    return AP, _df"
   ]
  },
  {
   "cell_type": "code",
   "execution_count": 31,
   "metadata": {
    "scrolled": true
   },
   "outputs": [
    {
     "data": {
      "application/vnd.jupyter.widget-view+json": {
       "model_id": "fdcad9301b7c4d6e80ec650bd627ce3e",
       "version_major": 2,
       "version_minor": 0
      },
      "text/plain": [
       "A Jupyter Widget"
      ]
     },
     "metadata": {},
     "output_type": "display_data"
    },
    {
     "name": "stdout",
     "output_type": "stream",
     "text": [
      "--------------- iter: 0 shot: 10 ---------------\n"
     ]
    },
    {
     "data": {
      "application/vnd.jupyter.widget-view+json": {
       "model_id": "c8b849ee716e485e90937c7434829281",
       "version_major": 2,
       "version_minor": 0
      },
      "text/plain": [
       "A Jupyter Widget"
      ]
     },
     "metadata": {},
     "output_type": "display_data"
    },
    {
     "data": {
      "application/vnd.jupyter.widget-view+json": {
       "model_id": "c7d0bce7fd8349dea1ce4821f673200f",
       "version_major": 2,
       "version_minor": 0
      },
      "text/plain": [
       "A Jupyter Widget"
      ]
     },
     "metadata": {},
     "output_type": "display_data"
    },
    {
     "name": "stdout",
     "output_type": "stream",
     "text": [
      "\n"
     ]
    },
    {
     "name": "stderr",
     "output_type": "stream",
     "text": [
      "Exception in thread Thread-66:\n",
      "Traceback (most recent call last):\n",
      "  File \"C:\\ProgramData\\Anaconda3\\lib\\threading.py\", line 916, in _bootstrap_inner\n",
      "    self.run()\n",
      "  File \"C:\\ProgramData\\Anaconda3\\lib\\site-packages\\tqdm\\_monitor.py\", line 63, in run\n",
      "    for instance in self.tqdm_cls._instances:\n",
      "  File \"C:\\ProgramData\\Anaconda3\\lib\\_weakrefset.py\", line 60, in __iter__\n",
      "    for itemref in self.data:\n",
      "RuntimeError: Set changed size during iteration\n",
      "\n"
     ]
    },
    {
     "name": "stdout",
     "output_type": "stream",
     "text": [
      "[Duration]: 1 min 32 sec\n",
      "[SHOT]: 10 [Acc]: 0.5631951466127402 [mAP]: 0.3439932654152058 [IOU-mean]: 0.46453227057367474\n",
      "AHC-AGELESS REAL EYE CREAM FOR FACE - 0.2420\n",
      "AHC-Aura Secret Toneup Cream - 0.5173\n",
      "AHC-ONLY FOR MAN LOTION - 0.4793\n",
      "APIEU-데카소사이드 시카 겔 데이크림 - 0.3956\n",
      "APIEU-스타트업 포어 프라이머 - 0.1550\n",
      "BANILACO-프라임 프라이머 클래식 - 0.2581\n",
      "BELIF-The true cream AQUA BOMB - 0.3393\n",
      "CLIO-스파클링 라인 프리즘 에어 아이섀도우 - 0.3252\n",
      "FERRAGAMO-INCANTO CHARMS - 0.5301\n",
      "FERRARI-SCUDERIA BLACK EAU DE TOILETTE SPRAY - 0.1975\n",
      "--------------- iter: 0 shot: 5 ---------------\n"
     ]
    },
    {
     "data": {
      "application/vnd.jupyter.widget-view+json": {
       "model_id": "b343dc89631e40308b267c23969e4ba5",
       "version_major": 2,
       "version_minor": 0
      },
      "text/plain": [
       "A Jupyter Widget"
      ]
     },
     "metadata": {},
     "output_type": "display_data"
    },
    {
     "data": {
      "application/vnd.jupyter.widget-view+json": {
       "model_id": "c47d9c67fe1c4edc8d3138bd82787703",
       "version_major": 2,
       "version_minor": 0
      },
      "text/plain": [
       "A Jupyter Widget"
      ]
     },
     "metadata": {},
     "output_type": "display_data"
    },
    {
     "name": "stdout",
     "output_type": "stream",
     "text": [
      "[Duration]: 1 min 27 sec\n",
      "[SHOT]: 5 [Acc]: 0.5985844287158746 [mAP]: 0.3356380290069809 [IOU-mean]: 0.4771380705045135\n",
      "AHC-AGELESS REAL EYE CREAM FOR FACE - 0.1866\n",
      "AHC-Aura Secret Toneup Cream - 0.3697\n",
      "AHC-ONLY FOR MAN LOTION - 0.5253\n",
      "APIEU-데카소사이드 시카 겔 데이크림 - 0.3260\n",
      "APIEU-스타트업 포어 프라이머 - 0.1168\n",
      "BANILACO-프라임 프라이머 클래식 - 0.1868\n",
      "BELIF-The true cream AQUA BOMB - 0.3596\n",
      "CLIO-스파클링 라인 프리즘 에어 아이섀도우 - 0.3525\n",
      "FERRAGAMO-INCANTO CHARMS - 0.5707\n",
      "FERRARI-SCUDERIA BLACK EAU DE TOILETTE SPRAY - 0.3618\n",
      "--------------- iter: 0 shot: 3 ---------------\n"
     ]
    },
    {
     "data": {
      "application/vnd.jupyter.widget-view+json": {
       "model_id": "acb5b983ba7f4c8bbaa7dfe1e65a8fd6",
       "version_major": 2,
       "version_minor": 0
      },
      "text/plain": [
       "A Jupyter Widget"
      ]
     },
     "metadata": {},
     "output_type": "display_data"
    },
    {
     "data": {
      "application/vnd.jupyter.widget-view+json": {
       "model_id": "85ff3c42b07a40eb99c355bf10d48cb7",
       "version_major": 2,
       "version_minor": 0
      },
      "text/plain": [
       "A Jupyter Widget"
      ]
     },
     "metadata": {},
     "output_type": "display_data"
    },
    {
     "name": "stdout",
     "output_type": "stream",
     "text": [
      "[Duration]: 1 min 27 sec\n",
      "[SHOT]: 3 [Acc]: 0.5995955510616785 [mAP]: 0.36300530004565684 [IOU-mean]: 0.48554709404791707\n",
      "AHC-AGELESS REAL EYE CREAM FOR FACE - 0.1152\n",
      "AHC-Aura Secret Toneup Cream - 0.4859\n",
      "AHC-ONLY FOR MAN LOTION - 0.5240\n",
      "APIEU-데카소사이드 시카 겔 데이크림 - 0.4077\n",
      "APIEU-스타트업 포어 프라이머 - 0.0956\n",
      "BANILACO-프라임 프라이머 클래식 - 0.2631\n",
      "BELIF-The true cream AQUA BOMB - 0.5106\n",
      "CLIO-스파클링 라인 프리즘 에어 아이섀도우 - 0.3864\n",
      "FERRAGAMO-INCANTO CHARMS - 0.5431\n",
      "FERRARI-SCUDERIA BLACK EAU DE TOILETTE SPRAY - 0.2979\n",
      "--------------- iter: 0 shot: 1 ---------------\n"
     ]
    },
    {
     "data": {
      "application/vnd.jupyter.widget-view+json": {
       "model_id": "a1ee42b81f544b958669ca74d1538bb2",
       "version_major": 2,
       "version_minor": 0
      },
      "text/plain": [
       "A Jupyter Widget"
      ]
     },
     "metadata": {},
     "output_type": "display_data"
    },
    {
     "data": {
      "application/vnd.jupyter.widget-view+json": {
       "model_id": "f2350174eae44b24bea2f73ae19e522a",
       "version_major": 2,
       "version_minor": 0
      },
      "text/plain": [
       "A Jupyter Widget"
      ]
     },
     "metadata": {},
     "output_type": "display_data"
    },
    {
     "name": "stdout",
     "output_type": "stream",
     "text": [
      "[Duration]: 1 min 27 sec\n",
      "[SHOT]: 1 [Acc]: 0.6127401415571284 [mAP]: 0.2814741803444365 [IOU-mean]: 0.4488383495193295\n",
      "AHC-AGELESS REAL EYE CREAM FOR FACE - 0.0974\n",
      "AHC-Aura Secret Toneup Cream - 0.2570\n",
      "AHC-ONLY FOR MAN LOTION - 0.6452\n",
      "APIEU-데카소사이드 시카 겔 데이크림 - 0.3555\n",
      "APIEU-스타트업 포어 프라이머 - 0.0909\n",
      "BANILACO-프라임 프라이머 클래식 - 0.1109\n",
      "BELIF-The true cream AQUA BOMB - 0.1879\n",
      "CLIO-스파클링 라인 프리즘 에어 아이섀도우 - 0.3108\n",
      "FERRAGAMO-INCANTO CHARMS - 0.5944\n",
      "FERRARI-SCUDERIA BLACK EAU DE TOILETTE SPRAY - 0.1643\n",
      "\n"
     ]
    },
    {
     "data": {
      "application/vnd.jupyter.widget-view+json": {
       "model_id": "e7b20fb2aa37408abb592b2b6f475216",
       "version_major": 2,
       "version_minor": 0
      },
      "text/plain": [
       "A Jupyter Widget"
      ]
     },
     "metadata": {},
     "output_type": "display_data"
    },
    {
     "name": "stdout",
     "output_type": "stream",
     "text": [
      "--------------- iter: 1 shot: 10 ---------------\n"
     ]
    },
    {
     "data": {
      "application/vnd.jupyter.widget-view+json": {
       "model_id": "422d154bfbc2477397397548a37acb1c",
       "version_major": 2,
       "version_minor": 0
      },
      "text/plain": [
       "A Jupyter Widget"
      ]
     },
     "metadata": {},
     "output_type": "display_data"
    },
    {
     "data": {
      "application/vnd.jupyter.widget-view+json": {
       "model_id": "71b2896cc9b44d4f802f293549d3241b",
       "version_major": 2,
       "version_minor": 0
      },
      "text/plain": [
       "A Jupyter Widget"
      ]
     },
     "metadata": {},
     "output_type": "display_data"
    },
    {
     "name": "stdout",
     "output_type": "stream",
     "text": [
      "[Duration]: 1 min 31 sec\n",
      "[SHOT]: 10 [Acc]: 0.6016177957532861 [mAP]: 0.35597269044992913 [IOU-mean]: 0.4651602215281451\n",
      "AHC-AGELESS REAL EYE CREAM FOR FACE - 0.4260\n",
      "AHC-Aura Secret Toneup Cream - 0.4732\n",
      "AHC-ONLY FOR MAN LOTION - 0.5617\n",
      "APIEU-데카소사이드 시카 겔 데이크림 - 0.3685\n",
      "APIEU-스타트업 포어 프라이머 - 0.1125\n",
      "BANILACO-프라임 프라이머 클래식 - 0.3238\n",
      "BELIF-The true cream AQUA BOMB - 0.2727\n",
      "CLIO-스파클링 라인 프리즘 에어 아이섀도우 - 0.3000\n",
      "FERRAGAMO-INCANTO CHARMS - 0.5269\n",
      "FERRARI-SCUDERIA BLACK EAU DE TOILETTE SPRAY - 0.1938\n",
      "--------------- iter: 1 shot: 5 ---------------\n"
     ]
    },
    {
     "data": {
      "application/vnd.jupyter.widget-view+json": {
       "model_id": "157c968b43ee4f4f8994bb13202f2b96",
       "version_major": 2,
       "version_minor": 0
      },
      "text/plain": [
       "A Jupyter Widget"
      ]
     },
     "metadata": {},
     "output_type": "display_data"
    },
    {
     "data": {
      "application/vnd.jupyter.widget-view+json": {
       "model_id": "5a8a63906fa44112af1220a7612e57fd",
       "version_major": 2,
       "version_minor": 0
      },
      "text/plain": [
       "A Jupyter Widget"
      ]
     },
     "metadata": {},
     "output_type": "display_data"
    },
    {
     "name": "stdout",
     "output_type": "stream",
     "text": [
      "[Duration]: 1 min 28 sec\n",
      "[SHOT]: 5 [Acc]: 0.5975733063700708 [mAP]: 0.35072171766324933 [IOU-mean]: 0.4760176968714646\n",
      "AHC-AGELESS REAL EYE CREAM FOR FACE - 0.1328\n",
      "AHC-Aura Secret Toneup Cream - 0.4040\n",
      "AHC-ONLY FOR MAN LOTION - 0.5818\n",
      "APIEU-데카소사이드 시카 겔 데이크림 - 0.3921\n",
      "APIEU-스타트업 포어 프라이머 - 0.1258\n",
      "BANILACO-프라임 프라이머 클래식 - 0.2484\n",
      "BELIF-The true cream AQUA BOMB - 0.3502\n",
      "CLIO-스파클링 라인 프리즘 에어 아이섀도우 - 0.3015\n",
      "FERRAGAMO-INCANTO CHARMS - 0.5713\n",
      "FERRARI-SCUDERIA BLACK EAU DE TOILETTE SPRAY - 0.3988\n",
      "--------------- iter: 1 shot: 3 ---------------\n"
     ]
    },
    {
     "data": {
      "application/vnd.jupyter.widget-view+json": {
       "model_id": "87eebdb86d924bb0af236593ce01d0d7",
       "version_major": 2,
       "version_minor": 0
      },
      "text/plain": [
       "A Jupyter Widget"
      ]
     },
     "metadata": {},
     "output_type": "display_data"
    },
    {
     "data": {
      "application/vnd.jupyter.widget-view+json": {
       "model_id": "06fe357025204cd988ca1940cf6785bb",
       "version_major": 2,
       "version_minor": 0
      },
      "text/plain": [
       "A Jupyter Widget"
      ]
     },
     "metadata": {},
     "output_type": "display_data"
    },
    {
     "name": "stdout",
     "output_type": "stream",
     "text": [
      "[Duration]: 1 min 27 sec\n",
      "[SHOT]: 3 [Acc]: 0.5722952477249748 [mAP]: 0.3395595204836389 [IOU-mean]: 0.48154607663049737\n",
      "AHC-AGELESS REAL EYE CREAM FOR FACE - 0.1992\n",
      "AHC-Aura Secret Toneup Cream - 0.4434\n",
      "AHC-ONLY FOR MAN LOTION - 0.5015\n",
      "APIEU-데카소사이드 시카 겔 데이크림 - 0.3695\n",
      "APIEU-스타트업 포어 프라이머 - 0.1933\n",
      "BANILACO-프라임 프라이머 클래식 - 0.1704\n",
      "BELIF-The true cream AQUA BOMB - 0.2411\n",
      "CLIO-스파클링 라인 프리즘 에어 아이섀도우 - 0.3235\n",
      "FERRAGAMO-INCANTO CHARMS - 0.5761\n",
      "FERRARI-SCUDERIA BLACK EAU DE TOILETTE SPRAY - 0.3770\n",
      "--------------- iter: 1 shot: 1 ---------------\n"
     ]
    },
    {
     "data": {
      "application/vnd.jupyter.widget-view+json": {
       "model_id": "8be0b4a541d04005bceebc8179a0c868",
       "version_major": 2,
       "version_minor": 0
      },
      "text/plain": [
       "A Jupyter Widget"
      ]
     },
     "metadata": {},
     "output_type": "display_data"
    },
    {
     "data": {
      "application/vnd.jupyter.widget-view+json": {
       "model_id": "419e319d0f0948878f1633135b995fc3",
       "version_major": 2,
       "version_minor": 0
      },
      "text/plain": [
       "A Jupyter Widget"
      ]
     },
     "metadata": {},
     "output_type": "display_data"
    },
    {
     "name": "stdout",
     "output_type": "stream",
     "text": [
      "[Duration]: 1 min 26 sec\n",
      "[SHOT]: 1 [Acc]: 0.5480283114256825 [mAP]: 0.2846847213704822 [IOU-mean]: 0.44703982070962267\n",
      "AHC-AGELESS REAL EYE CREAM FOR FACE - 0.0961\n",
      "AHC-Aura Secret Toneup Cream - 0.2457\n",
      "AHC-ONLY FOR MAN LOTION - 0.5971\n",
      "APIEU-데카소사이드 시카 겔 데이크림 - 0.3041\n",
      "APIEU-스타트업 포어 프라이머 - 0.0909\n",
      "BANILACO-프라임 프라이머 클래식 - 0.0971\n",
      "BELIF-The true cream AQUA BOMB - 0.2341\n",
      "CLIO-스파클링 라인 프리즘 에어 아이섀도우 - 0.3842\n",
      "FERRAGAMO-INCANTO CHARMS - 0.6259\n",
      "FERRARI-SCUDERIA BLACK EAU DE TOILETTE SPRAY - 0.1711\n",
      "\n"
     ]
    },
    {
     "data": {
      "application/vnd.jupyter.widget-view+json": {
       "model_id": "d104776a940244c8bf39ae7e02a610c4",
       "version_major": 2,
       "version_minor": 0
      },
      "text/plain": [
       "A Jupyter Widget"
      ]
     },
     "metadata": {},
     "output_type": "display_data"
    },
    {
     "name": "stdout",
     "output_type": "stream",
     "text": [
      "--------------- iter: 2 shot: 10 ---------------\n"
     ]
    },
    {
     "data": {
      "application/vnd.jupyter.widget-view+json": {
       "model_id": "ca069e56e881495da40284d61dcf917b",
       "version_major": 2,
       "version_minor": 0
      },
      "text/plain": [
       "A Jupyter Widget"
      ]
     },
     "metadata": {},
     "output_type": "display_data"
    },
    {
     "data": {
      "application/vnd.jupyter.widget-view+json": {
       "model_id": "452787f5939d4910b6a6243b02dfaf0a",
       "version_major": 2,
       "version_minor": 0
      },
      "text/plain": [
       "A Jupyter Widget"
      ]
     },
     "metadata": {},
     "output_type": "display_data"
    },
    {
     "name": "stdout",
     "output_type": "stream",
     "text": [
      "[Duration]: 1 min 29 sec\n",
      "[SHOT]: 10 [Acc]: 0.5844287158746209 [mAP]: 0.35901916154122604 [IOU-mean]: 0.46487713638689326\n",
      "AHC-AGELESS REAL EYE CREAM FOR FACE - 0.4387\n",
      "AHC-Aura Secret Toneup Cream - 0.5716\n",
      "AHC-ONLY FOR MAN LOTION - 0.5181\n",
      "APIEU-데카소사이드 시카 겔 데이크림 - 0.4068\n",
      "APIEU-스타트업 포어 프라이머 - 0.1081\n",
      "BANILACO-프라임 프라이머 클래식 - 0.2508\n",
      "BELIF-The true cream AQUA BOMB - 0.2820\n",
      "CLIO-스파클링 라인 프리즘 에어 아이섀도우 - 0.3301\n",
      "FERRAGAMO-INCANTO CHARMS - 0.5477\n",
      "FERRARI-SCUDERIA BLACK EAU DE TOILETTE SPRAY - 0.1358\n",
      "--------------- iter: 2 shot: 5 ---------------\n"
     ]
    },
    {
     "data": {
      "application/vnd.jupyter.widget-view+json": {
       "model_id": "c10a4a9812ff4ff1a211fda7013d5e3f",
       "version_major": 2,
       "version_minor": 0
      },
      "text/plain": [
       "A Jupyter Widget"
      ]
     },
     "metadata": {},
     "output_type": "display_data"
    },
    {
     "data": {
      "application/vnd.jupyter.widget-view+json": {
       "model_id": "2efaf8e6030b4bc2848c44c8863a0f76",
       "version_major": 2,
       "version_minor": 0
      },
      "text/plain": [
       "A Jupyter Widget"
      ]
     },
     "metadata": {},
     "output_type": "display_data"
    },
    {
     "name": "stdout",
     "output_type": "stream",
     "text": [
      "[Duration]: 1 min 28 sec\n",
      "[SHOT]: 5 [Acc]: 0.6268958543983822 [mAP]: 0.36417255815740834 [IOU-mean]: 0.47557675804569943\n",
      "AHC-AGELESS REAL EYE CREAM FOR FACE - 0.1089\n",
      "AHC-Aura Secret Toneup Cream - 0.4581\n",
      "AHC-ONLY FOR MAN LOTION - 0.5736\n",
      "APIEU-데카소사이드 시카 겔 데이크림 - 0.4175\n",
      "APIEU-스타트업 포어 프라이머 - 0.1296\n",
      "BANILACO-프라임 프라이머 클래식 - 0.3629\n",
      "BELIF-The true cream AQUA BOMB - 0.3709\n",
      "CLIO-스파클링 라인 프리즘 에어 아이섀도우 - 0.2873\n",
      "FERRAGAMO-INCANTO CHARMS - 0.5561\n",
      "FERRARI-SCUDERIA BLACK EAU DE TOILETTE SPRAY - 0.3762\n",
      "--------------- iter: 2 shot: 3 ---------------\n"
     ]
    },
    {
     "data": {
      "application/vnd.jupyter.widget-view+json": {
       "model_id": "017e7d65c5c1414e92bc99ef286ed541",
       "version_major": 2,
       "version_minor": 0
      },
      "text/plain": [
       "A Jupyter Widget"
      ]
     },
     "metadata": {},
     "output_type": "display_data"
    },
    {
     "data": {
      "application/vnd.jupyter.widget-view+json": {
       "model_id": "db2933562d3b4eb5984a272b0cee30b0",
       "version_major": 2,
       "version_minor": 0
      },
      "text/plain": [
       "A Jupyter Widget"
      ]
     },
     "metadata": {},
     "output_type": "display_data"
    },
    {
     "name": "stdout",
     "output_type": "stream",
     "text": [
      "[Duration]: 1 min 27 sec\n",
      "[SHOT]: 3 [Acc]: 0.6117290192113246 [mAP]: 0.35832515930348025 [IOU-mean]: 0.47564383498906215\n",
      "AHC-AGELESS REAL EYE CREAM FOR FACE - 0.1566\n",
      "AHC-Aura Secret Toneup Cream - 0.3972\n",
      "AHC-ONLY FOR MAN LOTION - 0.4814\n",
      "APIEU-데카소사이드 시카 겔 데이크림 - 0.3960\n",
      "APIEU-스타트업 포어 프라이머 - 0.1018\n",
      "BANILACO-프라임 프라이머 클래식 - 0.3514\n",
      "BELIF-The true cream AQUA BOMB - 0.4352\n",
      "CLIO-스파클링 라인 프리즘 에어 아이섀도우 - 0.3506\n",
      "FERRAGAMO-INCANTO CHARMS - 0.6587\n",
      "FERRARI-SCUDERIA BLACK EAU DE TOILETTE SPRAY - 0.2538\n",
      "--------------- iter: 2 shot: 1 ---------------\n"
     ]
    },
    {
     "data": {
      "application/vnd.jupyter.widget-view+json": {
       "model_id": "edeea9a4ccfb40e88af8e138ced321e1",
       "version_major": 2,
       "version_minor": 0
      },
      "text/plain": [
       "A Jupyter Widget"
      ]
     },
     "metadata": {},
     "output_type": "display_data"
    },
    {
     "data": {
      "application/vnd.jupyter.widget-view+json": {
       "model_id": "cef52bab16c84c33a77b5d475f570c0e",
       "version_major": 2,
       "version_minor": 0
      },
      "text/plain": [
       "A Jupyter Widget"
      ]
     },
     "metadata": {},
     "output_type": "display_data"
    },
    {
     "name": "stdout",
     "output_type": "stream",
     "text": [
      "[Duration]: 1 min 27 sec\n",
      "[SHOT]: 1 [Acc]: 0.6036400404448938 [mAP]: 0.28408558617067103 [IOU-mean]: 0.45678359889345294\n",
      "AHC-AGELESS REAL EYE CREAM FOR FACE - 0.0942\n",
      "AHC-Aura Secret Toneup Cream - 0.4788\n",
      "AHC-ONLY FOR MAN LOTION - 0.2550\n",
      "APIEU-데카소사이드 시카 겔 데이크림 - 0.3356\n",
      "APIEU-스타트업 포어 프라이머 - 0.0909\n",
      "BANILACO-프라임 프라이머 클래식 - 0.2412\n",
      "BELIF-The true cream AQUA BOMB - 0.1654\n",
      "CLIO-스파클링 라인 프리즘 에어 아이섀도우 - 0.3803\n",
      "FERRAGAMO-INCANTO CHARMS - 0.5436\n",
      "FERRARI-SCUDERIA BLACK EAU DE TOILETTE SPRAY - 0.2553\n",
      "\n"
     ]
    },
    {
     "data": {
      "application/vnd.jupyter.widget-view+json": {
       "model_id": "2bdbf110a2ca42e7928e11f012ecd564",
       "version_major": 2,
       "version_minor": 0
      },
      "text/plain": [
       "A Jupyter Widget"
      ]
     },
     "metadata": {},
     "output_type": "display_data"
    },
    {
     "name": "stdout",
     "output_type": "stream",
     "text": [
      "--------------- iter: 3 shot: 10 ---------------\n"
     ]
    },
    {
     "data": {
      "application/vnd.jupyter.widget-view+json": {
       "model_id": "a2c9806cd111442a8032fb8b38c4fced",
       "version_major": 2,
       "version_minor": 0
      },
      "text/plain": [
       "A Jupyter Widget"
      ]
     },
     "metadata": {},
     "output_type": "display_data"
    },
    {
     "data": {
      "application/vnd.jupyter.widget-view+json": {
       "model_id": "5c398680bd66478dae1795e596bf6ab6",
       "version_major": 2,
       "version_minor": 0
      },
      "text/plain": [
       "A Jupyter Widget"
      ]
     },
     "metadata": {},
     "output_type": "display_data"
    },
    {
     "name": "stdout",
     "output_type": "stream",
     "text": [
      "[Duration]: 1 min 31 sec\n",
      "[SHOT]: 10 [Acc]: 0.6147623862487361 [mAP]: 0.35938102904840735 [IOU-mean]: 0.46967143218312696\n",
      "AHC-AGELESS REAL EYE CREAM FOR FACE - 0.2612\n",
      "AHC-Aura Secret Toneup Cream - 0.5674\n",
      "AHC-ONLY FOR MAN LOTION - 0.5004\n",
      "APIEU-데카소사이드 시카 겔 데이크림 - 0.4307\n",
      "APIEU-스타트업 포어 프라이머 - 0.1368\n",
      "BANILACO-프라임 프라이머 클래식 - 0.3446\n",
      "BELIF-The true cream AQUA BOMB - 0.2976\n",
      "CLIO-스파클링 라인 프리즘 에어 아이섀도우 - 0.3372\n",
      "FERRAGAMO-INCANTO CHARMS - 0.5377\n",
      "FERRARI-SCUDERIA BLACK EAU DE TOILETTE SPRAY - 0.1797\n",
      "--------------- iter: 3 shot: 5 ---------------\n"
     ]
    },
    {
     "data": {
      "application/vnd.jupyter.widget-view+json": {
       "model_id": "3f75d2e14f614efdb008a2f3ed6f7d7e",
       "version_major": 2,
       "version_minor": 0
      },
      "text/plain": [
       "A Jupyter Widget"
      ]
     },
     "metadata": {},
     "output_type": "display_data"
    },
    {
     "data": {
      "application/vnd.jupyter.widget-view+json": {
       "model_id": "328485371d4f4f65ab20445358bafbb3",
       "version_major": 2,
       "version_minor": 0
      },
      "text/plain": [
       "A Jupyter Widget"
      ]
     },
     "metadata": {},
     "output_type": "display_data"
    },
    {
     "name": "stdout",
     "output_type": "stream",
     "text": [
      "[Duration]: 1 min 28 sec\n",
      "[SHOT]: 5 [Acc]: 0.6006066734074823 [mAP]: 0.34153543814941656 [IOU-mean]: 0.4709745108840198\n",
      "AHC-AGELESS REAL EYE CREAM FOR FACE - 0.2051\n",
      "AHC-Aura Secret Toneup Cream - 0.3691\n",
      "AHC-ONLY FOR MAN LOTION - 0.5586\n",
      "APIEU-데카소사이드 시카 겔 데이크림 - 0.4116\n",
      "APIEU-스타트업 포어 프라이머 - 0.0995\n",
      "BANILACO-프라임 프라이머 클래식 - 0.2168\n",
      "BELIF-The true cream AQUA BOMB - 0.2973\n",
      "CLIO-스파클링 라인 프리즘 에어 아이섀도우 - 0.3002\n",
      "FERRAGAMO-INCANTO CHARMS - 0.5677\n",
      "FERRARI-SCUDERIA BLACK EAU DE TOILETTE SPRAY - 0.3891\n",
      "--------------- iter: 3 shot: 3 ---------------\n"
     ]
    },
    {
     "data": {
      "application/vnd.jupyter.widget-view+json": {
       "model_id": "7f70120baba748d3b821eb209c9a1764",
       "version_major": 2,
       "version_minor": 0
      },
      "text/plain": [
       "A Jupyter Widget"
      ]
     },
     "metadata": {},
     "output_type": "display_data"
    },
    {
     "data": {
      "application/vnd.jupyter.widget-view+json": {
       "model_id": "f41ea6b92fbe4d09b2c82bb09b49b0dd",
       "version_major": 2,
       "version_minor": 0
      },
      "text/plain": [
       "A Jupyter Widget"
      ]
     },
     "metadata": {},
     "output_type": "display_data"
    },
    {
     "name": "stdout",
     "output_type": "stream",
     "text": [
      "[Duration]: 1 min 27 sec\n",
      "[SHOT]: 3 [Acc]: 0.570273003033367 [mAP]: 0.3340392010031057 [IOU-mean]: 0.47634125102680513\n",
      "AHC-AGELESS REAL EYE CREAM FOR FACE - 0.1369\n",
      "AHC-Aura Secret Toneup Cream - 0.4315\n",
      "AHC-ONLY FOR MAN LOTION - 0.5595\n",
      "APIEU-데카소사이드 시카 겔 데이크림 - 0.3308\n",
      "APIEU-스타트업 포어 프라이머 - 0.1404\n",
      "BANILACO-프라임 프라이머 클래식 - 0.1818\n",
      "BELIF-The true cream AQUA BOMB - 0.3527\n",
      "CLIO-스파클링 라인 프리즘 에어 아이섀도우 - 0.3702\n",
      "FERRAGAMO-INCANTO CHARMS - 0.6225\n",
      "FERRARI-SCUDERIA BLACK EAU DE TOILETTE SPRAY - 0.2137\n",
      "--------------- iter: 3 shot: 1 ---------------\n"
     ]
    },
    {
     "data": {
      "application/vnd.jupyter.widget-view+json": {
       "model_id": "c1fad95d24774e2dbad156b83e0ea839",
       "version_major": 2,
       "version_minor": 0
      },
      "text/plain": [
       "A Jupyter Widget"
      ]
     },
     "metadata": {},
     "output_type": "display_data"
    },
    {
     "data": {
      "application/vnd.jupyter.widget-view+json": {
       "model_id": "156ee2136c244689a8c1d761632cd733",
       "version_major": 2,
       "version_minor": 0
      },
      "text/plain": [
       "A Jupyter Widget"
      ]
     },
     "metadata": {},
     "output_type": "display_data"
    },
    {
     "name": "stdout",
     "output_type": "stream",
     "text": [
      "[Duration]: 1 min 27 sec\n",
      "[SHOT]: 1 [Acc]: 0.5267947421638018 [mAP]: 0.22869247220500544 [IOU-mean]: 0.4243329371277646\n",
      "AHC-AGELESS REAL EYE CREAM FOR FACE - 0.0983\n",
      "AHC-Aura Secret Toneup Cream - 0.1830\n",
      "AHC-ONLY FOR MAN LOTION - 0.2940\n",
      "APIEU-데카소사이드 시카 겔 데이크림 - 0.2380\n",
      "APIEU-스타트업 포어 프라이머 - 0.1007\n",
      "BANILACO-프라임 프라이머 클래식 - 0.0926\n",
      "BELIF-The true cream AQUA BOMB - 0.2574\n",
      "CLIO-스파클링 라인 프리즘 에어 아이섀도우 - 0.2679\n",
      "FERRAGAMO-INCANTO CHARMS - 0.6244\n",
      "FERRARI-SCUDERIA BLACK EAU DE TOILETTE SPRAY - 0.1300\n",
      "\n"
     ]
    },
    {
     "data": {
      "application/vnd.jupyter.widget-view+json": {
       "model_id": "a6a5ca9b9d65493d88a9b92d5ce2e62b",
       "version_major": 2,
       "version_minor": 0
      },
      "text/plain": [
       "A Jupyter Widget"
      ]
     },
     "metadata": {},
     "output_type": "display_data"
    },
    {
     "name": "stdout",
     "output_type": "stream",
     "text": [
      "--------------- iter: 4 shot: 10 ---------------\n"
     ]
    },
    {
     "data": {
      "application/vnd.jupyter.widget-view+json": {
       "model_id": "742fa24303924f6e8fb0fdef493232ba",
       "version_major": 2,
       "version_minor": 0
      },
      "text/plain": [
       "A Jupyter Widget"
      ]
     },
     "metadata": {},
     "output_type": "display_data"
    },
    {
     "data": {
      "application/vnd.jupyter.widget-view+json": {
       "model_id": "5170fd5058644601a6a8748da4a93163",
       "version_major": 2,
       "version_minor": 0
      },
      "text/plain": [
       "A Jupyter Widget"
      ]
     },
     "metadata": {},
     "output_type": "display_data"
    },
    {
     "name": "stdout",
     "output_type": "stream",
     "text": [
      "[Duration]: 1 min 30 sec\n",
      "[SHOT]: 10 [Acc]: 0.621840242669363 [mAP]: 0.3613916934766408 [IOU-mean]: 0.4566809667728246\n",
      "AHC-AGELESS REAL EYE CREAM FOR FACE - 0.2072\n",
      "AHC-Aura Secret Toneup Cream - 0.5454\n",
      "AHC-ONLY FOR MAN LOTION - 0.5843\n",
      "APIEU-데카소사이드 시카 겔 데이크림 - 0.3973\n",
      "APIEU-스타트업 포어 프라이머 - 0.1326\n",
      "BANILACO-프라임 프라이머 클래식 - 0.2929\n",
      "BELIF-The true cream AQUA BOMB - 0.2299\n",
      "CLIO-스파클링 라인 프리즘 에어 아이섀도우 - 0.3666\n",
      "FERRAGAMO-INCANTO CHARMS - 0.5393\n",
      "FERRARI-SCUDERIA BLACK EAU DE TOILETTE SPRAY - 0.3180\n",
      "--------------- iter: 4 shot: 5 ---------------\n"
     ]
    },
    {
     "data": {
      "application/vnd.jupyter.widget-view+json": {
       "model_id": "07596d01dd7845448e194d1a7f88e32a",
       "version_major": 2,
       "version_minor": 0
      },
      "text/plain": [
       "A Jupyter Widget"
      ]
     },
     "metadata": {},
     "output_type": "display_data"
    },
    {
     "data": {
      "application/vnd.jupyter.widget-view+json": {
       "model_id": "048e64e153fa4d94829facda89152c91",
       "version_major": 2,
       "version_minor": 0
      },
      "text/plain": [
       "A Jupyter Widget"
      ]
     },
     "metadata": {},
     "output_type": "display_data"
    },
    {
     "name": "stdout",
     "output_type": "stream",
     "text": [
      "[Duration]: 1 min 27 sec\n",
      "[SHOT]: 5 [Acc]: 0.6188068756319515 [mAP]: 0.3645552344796977 [IOU-mean]: 0.4751633929391933\n",
      "AHC-AGELESS REAL EYE CREAM FOR FACE - 0.2390\n",
      "AHC-Aura Secret Toneup Cream - 0.4940\n",
      "AHC-ONLY FOR MAN LOTION - 0.5363\n",
      "APIEU-데카소사이드 시카 겔 데이크림 - 0.4096\n",
      "APIEU-스타트업 포어 프라이머 - 0.1127\n",
      "BANILACO-프라임 프라이머 클래식 - 0.2045\n",
      "BELIF-The true cream AQUA BOMB - 0.4024\n",
      "CLIO-스파클링 라인 프리즘 에어 아이섀도우 - 0.3062\n",
      "FERRAGAMO-INCANTO CHARMS - 0.5570\n",
      "FERRARI-SCUDERIA BLACK EAU DE TOILETTE SPRAY - 0.3834\n",
      "--------------- iter: 4 shot: 3 ---------------\n"
     ]
    },
    {
     "data": {
      "application/vnd.jupyter.widget-view+json": {
       "model_id": "c922d613042f4e008d75c85a8b16ec06",
       "version_major": 2,
       "version_minor": 0
      },
      "text/plain": [
       "A Jupyter Widget"
      ]
     },
     "metadata": {},
     "output_type": "display_data"
    },
    {
     "data": {
      "application/vnd.jupyter.widget-view+json": {
       "model_id": "effb02bdbdab4bf4a4c822796f99b15f",
       "version_major": 2,
       "version_minor": 0
      },
      "text/plain": [
       "A Jupyter Widget"
      ]
     },
     "metadata": {},
     "output_type": "display_data"
    },
    {
     "name": "stdout",
     "output_type": "stream",
     "text": [
      "[Duration]: 1 min 28 sec\n",
      "[SHOT]: 3 [Acc]: 0.6258847320525783 [mAP]: 0.34946275316621933 [IOU-mean]: 0.47560375180336506\n",
      "AHC-AGELESS REAL EYE CREAM FOR FACE - 0.1227\n",
      "AHC-Aura Secret Toneup Cream - 0.3828\n",
      "AHC-ONLY FOR MAN LOTION - 0.5878\n",
      "APIEU-데카소사이드 시카 겔 데이크림 - 0.4153\n",
      "APIEU-스타트업 포어 프라이머 - 0.1188\n",
      "BANILACO-프라임 프라이머 클래식 - 0.2418\n",
      "BELIF-The true cream AQUA BOMB - 0.3665\n",
      "CLIO-스파클링 라인 프리즘 에어 아이섀도우 - 0.3279\n",
      "FERRAGAMO-INCANTO CHARMS - 0.5655\n",
      "FERRARI-SCUDERIA BLACK EAU DE TOILETTE SPRAY - 0.3650\n",
      "--------------- iter: 4 shot: 1 ---------------\n"
     ]
    },
    {
     "data": {
      "application/vnd.jupyter.widget-view+json": {
       "model_id": "03a11590b98442ec88e0f7a0a6dadf37",
       "version_major": 2,
       "version_minor": 0
      },
      "text/plain": [
       "A Jupyter Widget"
      ]
     },
     "metadata": {},
     "output_type": "display_data"
    },
    {
     "data": {
      "application/vnd.jupyter.widget-view+json": {
       "model_id": "8316c1c686824af1ab31f2781e7ccf48",
       "version_major": 2,
       "version_minor": 0
      },
      "text/plain": [
       "A Jupyter Widget"
      ]
     },
     "metadata": {},
     "output_type": "display_data"
    },
    {
     "name": "stdout",
     "output_type": "stream",
     "text": [
      "[Duration]: 1 min 27 sec\n",
      "[SHOT]: 1 [Acc]: 0.570273003033367 [mAP]: 0.27994783819873925 [IOU-mean]: 0.4417749387136763\n",
      "AHC-AGELESS REAL EYE CREAM FOR FACE - 0.0930\n",
      "AHC-Aura Secret Toneup Cream - 0.1553\n",
      "AHC-ONLY FOR MAN LOTION - 0.4388\n",
      "APIEU-데카소사이드 시카 겔 데이크림 - 0.3366\n",
      "APIEU-스타트업 포어 프라이머 - 0.0909\n",
      "BANILACO-프라임 프라이머 클래식 - 0.3347\n",
      "BELIF-The true cream AQUA BOMB - 0.2426\n",
      "CLIO-스파클링 라인 프리즘 에어 아이섀도우 - 0.3668\n",
      "FERRAGAMO-INCANTO CHARMS - 0.5693\n",
      "FERRARI-SCUDERIA BLACK EAU DE TOILETTE SPRAY - 0.1711\n",
      "\n"
     ]
    },
    {
     "data": {
      "application/vnd.jupyter.widget-view+json": {
       "model_id": "5a7cacc96a7847c1a45c07c9d1da991e",
       "version_major": 2,
       "version_minor": 0
      },
      "text/plain": [
       "A Jupyter Widget"
      ]
     },
     "metadata": {},
     "output_type": "display_data"
    },
    {
     "name": "stdout",
     "output_type": "stream",
     "text": [
      "--------------- iter: 5 shot: 10 ---------------\n"
     ]
    },
    {
     "data": {
      "application/vnd.jupyter.widget-view+json": {
       "model_id": "bbad5a8f70c04f01b227d157071dd00c",
       "version_major": 2,
       "version_minor": 0
      },
      "text/plain": [
       "A Jupyter Widget"
      ]
     },
     "metadata": {},
     "output_type": "display_data"
    },
    {
     "data": {
      "application/vnd.jupyter.widget-view+json": {
       "model_id": "dd1b9e84aec94e0bb847dc25ee5aca39",
       "version_major": 2,
       "version_minor": 0
      },
      "text/plain": [
       "A Jupyter Widget"
      ]
     },
     "metadata": {},
     "output_type": "display_data"
    },
    {
     "name": "stdout",
     "output_type": "stream",
     "text": [
      "[Duration]: 1 min 33 sec\n",
      "[SHOT]: 10 [Acc]: 0.6107178968655207 [mAP]: 0.35532402456416684 [IOU-mean]: 0.4618354422446148\n",
      "AHC-AGELESS REAL EYE CREAM FOR FACE - 0.2254\n",
      "AHC-Aura Secret Toneup Cream - 0.4020\n",
      "AHC-ONLY FOR MAN LOTION - 0.5780\n",
      "APIEU-데카소사이드 시카 겔 데이크림 - 0.4688\n",
      "APIEU-스타트업 포어 프라이머 - 0.1334\n",
      "BANILACO-프라임 프라이머 클래식 - 0.4338\n",
      "BELIF-The true cream AQUA BOMB - 0.2898\n",
      "CLIO-스파클링 라인 프리즘 에어 아이섀도우 - 0.2464\n",
      "FERRAGAMO-INCANTO CHARMS - 0.5478\n",
      "FERRARI-SCUDERIA BLACK EAU DE TOILETTE SPRAY - 0.2275\n",
      "--------------- iter: 5 shot: 5 ---------------\n"
     ]
    },
    {
     "data": {
      "application/vnd.jupyter.widget-view+json": {
       "model_id": "031a85f4c5e646d3b23458694eed5abb",
       "version_major": 2,
       "version_minor": 0
      },
      "text/plain": [
       "A Jupyter Widget"
      ]
     },
     "metadata": {},
     "output_type": "display_data"
    },
    {
     "data": {
      "application/vnd.jupyter.widget-view+json": {
       "model_id": "9a1ce3033d024d8e9c39db10dc2e7feb",
       "version_major": 2,
       "version_minor": 0
      },
      "text/plain": [
       "A Jupyter Widget"
      ]
     },
     "metadata": {},
     "output_type": "display_data"
    },
    {
     "name": "stdout",
     "output_type": "stream",
     "text": [
      "[Duration]: 1 min 29 sec\n",
      "[SHOT]: 5 [Acc]: 0.583417593528817 [mAP]: 0.3540187125716684 [IOU-mean]: 0.4794424980487091\n",
      "AHC-AGELESS REAL EYE CREAM FOR FACE - 0.0944\n",
      "AHC-Aura Secret Toneup Cream - 0.4705\n",
      "AHC-ONLY FOR MAN LOTION - 0.5562\n",
      "APIEU-데카소사이드 시카 겔 데이크림 - 0.4023\n",
      "APIEU-스타트업 포어 프라이머 - 0.1032\n",
      "BANILACO-프라임 프라이머 클래식 - 0.4011\n",
      "BELIF-The true cream AQUA BOMB - 0.3266\n",
      "CLIO-스파클링 라인 프리즘 에어 아이섀도우 - 0.2969\n",
      "FERRAGAMO-INCANTO CHARMS - 0.5646\n",
      "FERRARI-SCUDERIA BLACK EAU DE TOILETTE SPRAY - 0.3239\n",
      "--------------- iter: 5 shot: 3 ---------------\n"
     ]
    },
    {
     "data": {
      "application/vnd.jupyter.widget-view+json": {
       "model_id": "8d417b74d3104623ac1252b1f0859d14",
       "version_major": 2,
       "version_minor": 0
      },
      "text/plain": [
       "A Jupyter Widget"
      ]
     },
     "metadata": {},
     "output_type": "display_data"
    },
    {
     "data": {
      "application/vnd.jupyter.widget-view+json": {
       "model_id": "a15485ac19054526b1fe7c8e4ced698d",
       "version_major": 2,
       "version_minor": 0
      },
      "text/plain": [
       "A Jupyter Widget"
      ]
     },
     "metadata": {},
     "output_type": "display_data"
    },
    {
     "name": "stdout",
     "output_type": "stream",
     "text": [
      "[Duration]: 1 min 29 sec\n",
      "[SHOT]: 3 [Acc]: 0.5227502527805864 [mAP]: 0.3255450483710213 [IOU-mean]: 0.4768802429868626\n",
      "AHC-AGELESS REAL EYE CREAM FOR FACE - 0.1626\n",
      "AHC-Aura Secret Toneup Cream - 0.2438\n",
      "AHC-ONLY FOR MAN LOTION - 0.5773\n",
      "APIEU-데카소사이드 시카 겔 데이크림 - 0.4156\n",
      "APIEU-스타트업 포어 프라이머 - 0.1\n",
      "BANILACO-프라임 프라이머 클래식 - 0.1454\n",
      "BELIF-The true cream AQUA BOMB - 0.3454\n",
      "CLIO-스파클링 라인 프리즘 에어 아이섀도우 - 0.3723\n",
      "FERRAGAMO-INCANTO CHARMS - 0.4758\n",
      "FERRARI-SCUDERIA BLACK EAU DE TOILETTE SPRAY - 0.4168\n",
      "--------------- iter: 5 shot: 1 ---------------\n"
     ]
    },
    {
     "data": {
      "application/vnd.jupyter.widget-view+json": {
       "model_id": "83e6f3e978974f8b93052ab7bee72e62",
       "version_major": 2,
       "version_minor": 0
      },
      "text/plain": [
       "A Jupyter Widget"
      ]
     },
     "metadata": {},
     "output_type": "display_data"
    },
    {
     "data": {
      "application/vnd.jupyter.widget-view+json": {
       "model_id": "bf287a67d58e470cbbdfa2427decc187",
       "version_major": 2,
       "version_minor": 0
      },
      "text/plain": [
       "A Jupyter Widget"
      ]
     },
     "metadata": {},
     "output_type": "display_data"
    },
    {
     "name": "stdout",
     "output_type": "stream",
     "text": [
      "[Duration]: 1 min 29 sec\n",
      "[SHOT]: 1 [Acc]: 0.5631951466127402 [mAP]: 0.2519641193880399 [IOU-mean]: 0.45662712888684803\n",
      "AHC-AGELESS REAL EYE CREAM FOR FACE - 0.2052\n",
      "AHC-Aura Secret Toneup Cream - 0.1326\n",
      "AHC-ONLY FOR MAN LOTION - 0.3035\n",
      "APIEU-데카소사이드 시카 겔 데이크림 - 0.2828\n",
      "APIEU-스타트업 포어 프라이머 - 0.1429\n",
      "BANILACO-프라임 프라이머 클래식 - 0.2610\n",
      "BELIF-The true cream AQUA BOMB - 0.1263\n",
      "CLIO-스파클링 라인 프리즘 에어 아이섀도우 - 0.2891\n",
      "FERRAGAMO-INCANTO CHARMS - 0.5429\n",
      "FERRARI-SCUDERIA BLACK EAU DE TOILETTE SPRAY - 0.2328\n",
      "\n"
     ]
    },
    {
     "data": {
      "application/vnd.jupyter.widget-view+json": {
       "model_id": "8823fec0b2654f93bf50499e1beea282",
       "version_major": 2,
       "version_minor": 0
      },
      "text/plain": [
       "A Jupyter Widget"
      ]
     },
     "metadata": {},
     "output_type": "display_data"
    },
    {
     "name": "stdout",
     "output_type": "stream",
     "text": [
      "--------------- iter: 6 shot: 10 ---------------\n"
     ]
    },
    {
     "data": {
      "application/vnd.jupyter.widget-view+json": {
       "model_id": "181394334b35441e9220aff9cb894c67",
       "version_major": 2,
       "version_minor": 0
      },
      "text/plain": [
       "A Jupyter Widget"
      ]
     },
     "metadata": {},
     "output_type": "display_data"
    },
    {
     "data": {
      "application/vnd.jupyter.widget-view+json": {
       "model_id": "dd73592a310048b5b4ba2a01458ab4d5",
       "version_major": 2,
       "version_minor": 0
      },
      "text/plain": [
       "A Jupyter Widget"
      ]
     },
     "metadata": {},
     "output_type": "display_data"
    },
    {
     "name": "stdout",
     "output_type": "stream",
     "text": [
      "[Duration]: 1 min 31 sec\n",
      "[SHOT]: 10 [Acc]: 0.5682507583417593 [mAP]: 0.33663639675405144 [IOU-mean]: 0.4687755147562079\n",
      "AHC-AGELESS REAL EYE CREAM FOR FACE - 0.2681\n",
      "AHC-Aura Secret Toneup Cream - 0.4928\n",
      "AHC-ONLY FOR MAN LOTION - 0.5980\n",
      "APIEU-데카소사이드 시카 겔 데이크림 - 0.3809\n",
      "APIEU-스타트업 포어 프라이머 - 0.1874\n",
      "BANILACO-프라임 프라이머 클래식 - 0.2330\n",
      "BELIF-The true cream AQUA BOMB - 0.1601\n",
      "CLIO-스파클링 라인 프리즘 에어 아이섀도우 - 0.3087\n",
      "FERRAGAMO-INCANTO CHARMS - 0.5847\n",
      "FERRARI-SCUDERIA BLACK EAU DE TOILETTE SPRAY - 0.1522\n",
      "--------------- iter: 6 shot: 5 ---------------\n"
     ]
    },
    {
     "data": {
      "application/vnd.jupyter.widget-view+json": {
       "model_id": "0e94ca7a975f4154ad75ad2874c52f0b",
       "version_major": 2,
       "version_minor": 0
      },
      "text/plain": [
       "A Jupyter Widget"
      ]
     },
     "metadata": {},
     "output_type": "display_data"
    },
    {
     "data": {
      "application/vnd.jupyter.widget-view+json": {
       "model_id": "5057b9d7a6bc4eb198cc06c086b2e9aa",
       "version_major": 2,
       "version_minor": 0
      },
      "text/plain": [
       "A Jupyter Widget"
      ]
     },
     "metadata": {},
     "output_type": "display_data"
    },
    {
     "name": "stdout",
     "output_type": "stream",
     "text": [
      "[Duration]: 1 min 28 sec\n",
      "[SHOT]: 5 [Acc]: 0.6258847320525783 [mAP]: 0.3486590899783487 [IOU-mean]: 0.476621426875478\n",
      "AHC-AGELESS REAL EYE CREAM FOR FACE - 0.2061\n",
      "AHC-Aura Secret Toneup Cream - 0.3392\n",
      "AHC-ONLY FOR MAN LOTION - 0.5760\n",
      "APIEU-데카소사이드 시카 겔 데이크림 - 0.4157\n",
      "APIEU-스타트업 포어 프라이머 - 0.1086\n",
      "BANILACO-프라임 프라이머 클래식 - 0.2642\n",
      "BELIF-The true cream AQUA BOMB - 0.3453\n",
      "CLIO-스파클링 라인 프리즘 에어 아이섀도우 - 0.3608\n",
      "FERRAGAMO-INCANTO CHARMS - 0.5723\n",
      "FERRARI-SCUDERIA BLACK EAU DE TOILETTE SPRAY - 0.2979\n",
      "--------------- iter: 6 shot: 3 ---------------\n"
     ]
    },
    {
     "data": {
      "application/vnd.jupyter.widget-view+json": {
       "model_id": "5faaa2cdacf04e4195d3cd834c450c02",
       "version_major": 2,
       "version_minor": 0
      },
      "text/plain": [
       "A Jupyter Widget"
      ]
     },
     "metadata": {},
     "output_type": "display_data"
    },
    {
     "data": {
      "application/vnd.jupyter.widget-view+json": {
       "model_id": "dcaa09772d3649caa5a94a8fe2e2b96f",
       "version_major": 2,
       "version_minor": 0
      },
      "text/plain": [
       "A Jupyter Widget"
      ]
     },
     "metadata": {},
     "output_type": "display_data"
    },
    {
     "name": "stdout",
     "output_type": "stream",
     "text": [
      "[Duration]: 1 min 27 sec\n",
      "[SHOT]: 3 [Acc]: 0.5995955510616785 [mAP]: 0.35989588951169005 [IOU-mean]: 0.47748385106860325\n",
      "AHC-AGELESS REAL EYE CREAM FOR FACE - 0.1224\n",
      "AHC-Aura Secret Toneup Cream - 0.4362\n",
      "AHC-ONLY FOR MAN LOTION - 0.6455\n",
      "APIEU-데카소사이드 시카 겔 데이크림 - 0.4005\n",
      "APIEU-스타트업 포어 프라이머 - 0.0930\n",
      "BANILACO-프라임 프라이머 클래식 - 0.2265\n",
      "BELIF-The true cream AQUA BOMB - 0.3189\n",
      "CLIO-스파클링 라인 프리즘 에어 아이섀도우 - 0.3835\n",
      "FERRAGAMO-INCANTO CHARMS - 0.5748\n",
      "FERRARI-SCUDERIA BLACK EAU DE TOILETTE SPRAY - 0.3973\n",
      "--------------- iter: 6 shot: 1 ---------------\n"
     ]
    },
    {
     "data": {
      "application/vnd.jupyter.widget-view+json": {
       "model_id": "1f19b64134a545a6942c4b765c6e36c8",
       "version_major": 2,
       "version_minor": 0
      },
      "text/plain": [
       "A Jupyter Widget"
      ]
     },
     "metadata": {},
     "output_type": "display_data"
    },
    {
     "data": {
      "application/vnd.jupyter.widget-view+json": {
       "model_id": "52bc7483c31c469cb2c5875eb5570996",
       "version_major": 2,
       "version_minor": 0
      },
      "text/plain": [
       "A Jupyter Widget"
      ]
     },
     "metadata": {},
     "output_type": "display_data"
    },
    {
     "name": "stdout",
     "output_type": "stream",
     "text": [
      "[Duration]: 1 min 27 sec\n",
      "[SHOT]: 1 [Acc]: 0.641051567239636 [mAP]: 0.3160675482467551 [IOU-mean]: 0.4516413121505879\n",
      "AHC-AGELESS REAL EYE CREAM FOR FACE - 0.0917\n",
      "AHC-Aura Secret Toneup Cream - 0.4243\n",
      "AHC-ONLY FOR MAN LOTION - 0.5874\n",
      "APIEU-데카소사이드 시카 겔 데이크림 - 0.3046\n",
      "APIEU-스타트업 포어 프라이머 - 0.1217\n",
      "BANILACO-프라임 프라이머 클래식 - 0.2632\n",
      "BELIF-The true cream AQUA BOMB - 0.1272\n",
      "CLIO-스파클링 라인 프리즘 에어 아이섀도우 - 0.3892\n",
      "FERRAGAMO-INCANTO CHARMS - 0.6004\n",
      "FERRARI-SCUDERIA BLACK EAU DE TOILETTE SPRAY - 0.2504\n",
      "\n"
     ]
    },
    {
     "data": {
      "application/vnd.jupyter.widget-view+json": {
       "model_id": "fc72f1cb79334e88b3bb218b189de20d",
       "version_major": 2,
       "version_minor": 0
      },
      "text/plain": [
       "A Jupyter Widget"
      ]
     },
     "metadata": {},
     "output_type": "display_data"
    },
    {
     "name": "stdout",
     "output_type": "stream",
     "text": [
      "--------------- iter: 7 shot: 10 ---------------\n"
     ]
    },
    {
     "data": {
      "application/vnd.jupyter.widget-view+json": {
       "model_id": "b3f0388898484096ad73763828df8968",
       "version_major": 2,
       "version_minor": 0
      },
      "text/plain": [
       "A Jupyter Widget"
      ]
     },
     "metadata": {},
     "output_type": "display_data"
    },
    {
     "data": {
      "application/vnd.jupyter.widget-view+json": {
       "model_id": "8451e3dc300a4244a041857ba6e41129",
       "version_major": 2,
       "version_minor": 0
      },
      "text/plain": [
       "A Jupyter Widget"
      ]
     },
     "metadata": {},
     "output_type": "display_data"
    },
    {
     "name": "stdout",
     "output_type": "stream",
     "text": [
      "[Duration]: 1 min 29 sec\n",
      "[SHOT]: 10 [Acc]: 0.6339737108190091 [mAP]: 0.3506582648806811 [IOU-mean]: 0.4600213358180618\n",
      "AHC-AGELESS REAL EYE CREAM FOR FACE - 0.1685\n",
      "AHC-Aura Secret Toneup Cream - 0.5541\n",
      "AHC-ONLY FOR MAN LOTION - 0.4964\n",
      "APIEU-데카소사이드 시카 겔 데이크림 - 0.4214\n",
      "APIEU-스타트업 포어 프라이머 - 0.1307\n",
      "BANILACO-프라임 프라이머 클래식 - 0.2136\n",
      "BELIF-The true cream AQUA BOMB - 0.2950\n",
      "CLIO-스파클링 라인 프리즘 에어 아이섀도우 - 0.3246\n",
      "FERRAGAMO-INCANTO CHARMS - 0.5397\n",
      "FERRARI-SCUDERIA BLACK EAU DE TOILETTE SPRAY - 0.3622\n",
      "--------------- iter: 7 shot: 5 ---------------\n"
     ]
    },
    {
     "data": {
      "application/vnd.jupyter.widget-view+json": {
       "model_id": "de2f8e0e04fc4edeb63b4ce49de62dda",
       "version_major": 2,
       "version_minor": 0
      },
      "text/plain": [
       "A Jupyter Widget"
      ]
     },
     "metadata": {},
     "output_type": "display_data"
    },
    {
     "data": {
      "application/vnd.jupyter.widget-view+json": {
       "model_id": "bb87915cebbb4f2fab77b81a0684d15c",
       "version_major": 2,
       "version_minor": 0
      },
      "text/plain": [
       "A Jupyter Widget"
      ]
     },
     "metadata": {},
     "output_type": "display_data"
    },
    {
     "name": "stdout",
     "output_type": "stream",
     "text": [
      "[Duration]: 1 min 28 sec\n",
      "[SHOT]: 5 [Acc]: 0.6268958543983822 [mAP]: 0.3566986371001937 [IOU-mean]: 0.47488917002814124\n",
      "AHC-AGELESS REAL EYE CREAM FOR FACE - 0.1894\n",
      "AHC-Aura Secret Toneup Cream - 0.4074\n",
      "AHC-ONLY FOR MAN LOTION - 0.6004\n",
      "APIEU-데카소사이드 시카 겔 데이크림 - 0.4229\n",
      "APIEU-스타트업 포어 프라이머 - 0.1055\n",
      "BANILACO-프라임 프라이머 클래식 - 0.2944\n",
      "BELIF-The true cream AQUA BOMB - 0.3270\n",
      "CLIO-스파클링 라인 프리즘 에어 아이섀도우 - 0.2803\n",
      "FERRAGAMO-INCANTO CHARMS - 0.5635\n",
      "FERRARI-SCUDERIA BLACK EAU DE TOILETTE SPRAY - 0.3757\n",
      "--------------- iter: 7 shot: 3 ---------------\n"
     ]
    },
    {
     "data": {
      "application/vnd.jupyter.widget-view+json": {
       "model_id": "46a472029f4c44ef98b29e073416d7cb",
       "version_major": 2,
       "version_minor": 0
      },
      "text/plain": [
       "A Jupyter Widget"
      ]
     },
     "metadata": {},
     "output_type": "display_data"
    },
    {
     "data": {
      "application/vnd.jupyter.widget-view+json": {
       "model_id": "3327e6302bb6402d88304bb86046fbd7",
       "version_major": 2,
       "version_minor": 0
      },
      "text/plain": [
       "A Jupyter Widget"
      ]
     },
     "metadata": {},
     "output_type": "display_data"
    },
    {
     "name": "stdout",
     "output_type": "stream",
     "text": [
      "[Duration]: 1 min 29 sec\n",
      "[SHOT]: 3 [Acc]: 0.5025278058645096 [mAP]: 0.30223753398828773 [IOU-mean]: 0.49322966957244463\n",
      "AHC-AGELESS REAL EYE CREAM FOR FACE - 0.2410\n",
      "AHC-Aura Secret Toneup Cream - 0.3189\n",
      "AHC-ONLY FOR MAN LOTION - 0.5337\n",
      "APIEU-데카소사이드 시카 겔 데이크림 - 0.4095\n",
      "APIEU-스타트업 포어 프라이머 - 0.1135\n",
      "BANILACO-프라임 프라이머 클래식 - 0.1363\n",
      "BELIF-The true cream AQUA BOMB - 0.1538\n",
      "CLIO-스파클링 라인 프리즘 에어 아이섀도우 - 0.3156\n",
      "FERRAGAMO-INCANTO CHARMS - 0.5791\n",
      "FERRARI-SCUDERIA BLACK EAU DE TOILETTE SPRAY - 0.2204\n",
      "--------------- iter: 7 shot: 1 ---------------\n"
     ]
    },
    {
     "data": {
      "application/vnd.jupyter.widget-view+json": {
       "model_id": "1b4ff7def71a4ce3998913d19babe223",
       "version_major": 2,
       "version_minor": 0
      },
      "text/plain": [
       "A Jupyter Widget"
      ]
     },
     "metadata": {},
     "output_type": "display_data"
    },
    {
     "data": {
      "application/vnd.jupyter.widget-view+json": {
       "model_id": "16e60e7dbd7b49c798d4842dd3dcbe91",
       "version_major": 2,
       "version_minor": 0
      },
      "text/plain": [
       "A Jupyter Widget"
      ]
     },
     "metadata": {},
     "output_type": "display_data"
    },
    {
     "name": "stdout",
     "output_type": "stream",
     "text": [
      "[Duration]: 1 min 27 sec\n",
      "[SHOT]: 1 [Acc]: 0.5540950455005056 [mAP]: 0.2702530324974744 [IOU-mean]: 0.44373100466463106\n",
      "AHC-AGELESS REAL EYE CREAM FOR FACE - 0.2569\n",
      "AHC-Aura Secret Toneup Cream - 0.2171\n",
      "AHC-ONLY FOR MAN LOTION - 0.1064\n",
      "APIEU-데카소사이드 시카 겔 데이크림 - 0.3742\n",
      "APIEU-스타트업 포어 프라이머 - 0.1547\n",
      "BANILACO-프라임 프라이머 클래식 - 0.2032\n",
      "BELIF-The true cream AQUA BOMB - 0.1959\n",
      "CLIO-스파클링 라인 프리즘 에어 아이섀도우 - 0.3094\n",
      "FERRAGAMO-INCANTO CHARMS - 0.6058\n",
      "FERRARI-SCUDERIA BLACK EAU DE TOILETTE SPRAY - 0.2785\n",
      "\n"
     ]
    },
    {
     "data": {
      "application/vnd.jupyter.widget-view+json": {
       "model_id": "48f3e31b197c40b18267459bab239f0e",
       "version_major": 2,
       "version_minor": 0
      },
      "text/plain": [
       "A Jupyter Widget"
      ]
     },
     "metadata": {},
     "output_type": "display_data"
    },
    {
     "name": "stdout",
     "output_type": "stream",
     "text": [
      "--------------- iter: 8 shot: 10 ---------------\n"
     ]
    },
    {
     "data": {
      "application/vnd.jupyter.widget-view+json": {
       "model_id": "87b902f154e543ae9ab57695d669c60b",
       "version_major": 2,
       "version_minor": 0
      },
      "text/plain": [
       "A Jupyter Widget"
      ]
     },
     "metadata": {},
     "output_type": "display_data"
    },
    {
     "data": {
      "application/vnd.jupyter.widget-view+json": {
       "model_id": "a3ac5336e9004b249ddf0cf85221b8d5",
       "version_major": 2,
       "version_minor": 0
      },
      "text/plain": [
       "A Jupyter Widget"
      ]
     },
     "metadata": {},
     "output_type": "display_data"
    },
    {
     "name": "stdout",
     "output_type": "stream",
     "text": [
      "[Duration]: 1 min 30 sec\n",
      "[SHOT]: 10 [Acc]: 0.6177957532861477 [mAP]: 0.33917531703856435 [IOU-mean]: 0.4585396510532881\n",
      "AHC-AGELESS REAL EYE CREAM FOR FACE - 0.2971\n",
      "AHC-Aura Secret Toneup Cream - 0.4813\n",
      "AHC-ONLY FOR MAN LOTION - 0.5589\n",
      "APIEU-데카소사이드 시카 겔 데이크림 - 0.3894\n",
      "APIEU-스타트업 포어 프라이머 - 0.1663\n",
      "BANILACO-프라임 프라이머 클래식 - 0.3087\n",
      "BELIF-The true cream AQUA BOMB - 0.2310\n",
      "CLIO-스파클링 라인 프리즘 에어 아이섀도우 - 0.2449\n",
      "FERRAGAMO-INCANTO CHARMS - 0.5241\n",
      "FERRARI-SCUDERIA BLACK EAU DE TOILETTE SPRAY - 0.1896\n",
      "--------------- iter: 8 shot: 5 ---------------\n"
     ]
    },
    {
     "data": {
      "application/vnd.jupyter.widget-view+json": {
       "model_id": "2eba4b8d130c4d6ba928ceeb818620f6",
       "version_major": 2,
       "version_minor": 0
      },
      "text/plain": [
       "A Jupyter Widget"
      ]
     },
     "metadata": {},
     "output_type": "display_data"
    },
    {
     "data": {
      "application/vnd.jupyter.widget-view+json": {
       "model_id": "82433246c90f440f92748fa03a917aa3",
       "version_major": 2,
       "version_minor": 0
      },
      "text/plain": [
       "A Jupyter Widget"
      ]
     },
     "metadata": {},
     "output_type": "display_data"
    },
    {
     "name": "stdout",
     "output_type": "stream",
     "text": [
      "[Duration]: 1 min 27 sec\n",
      "[SHOT]: 5 [Acc]: 0.5803842264914054 [mAP]: 0.34702218433393084 [IOU-mean]: 0.47762273909586234\n",
      "AHC-AGELESS REAL EYE CREAM FOR FACE - 0.1791\n",
      "AHC-Aura Secret Toneup Cream - 0.4782\n",
      "AHC-ONLY FOR MAN LOTION - 0.5477\n",
      "APIEU-데카소사이드 시카 겔 데이크림 - 0.3377\n",
      "APIEU-스타트업 포어 프라이머 - 0.1060\n",
      "BANILACO-프라임 프라이머 클래식 - 0.2244\n",
      "BELIF-The true cream AQUA BOMB - 0.3500\n",
      "CLIO-스파클링 라인 프리즘 에어 아이섀도우 - 0.3548\n",
      "FERRAGAMO-INCANTO CHARMS - 0.5696\n",
      "FERRARI-SCUDERIA BLACK EAU DE TOILETTE SPRAY - 0.3221\n",
      "--------------- iter: 8 shot: 3 ---------------\n"
     ]
    },
    {
     "data": {
      "application/vnd.jupyter.widget-view+json": {
       "model_id": "e11baf5ae754453096d20311dd850040",
       "version_major": 2,
       "version_minor": 0
      },
      "text/plain": [
       "A Jupyter Widget"
      ]
     },
     "metadata": {},
     "output_type": "display_data"
    },
    {
     "data": {
      "application/vnd.jupyter.widget-view+json": {
       "model_id": "c75a507fb0984a24845656fb16d5f36b",
       "version_major": 2,
       "version_minor": 0
      },
      "text/plain": [
       "A Jupyter Widget"
      ]
     },
     "metadata": {},
     "output_type": "display_data"
    },
    {
     "name": "stdout",
     "output_type": "stream",
     "text": [
      "[Duration]: 1 min 27 sec\n",
      "[SHOT]: 3 [Acc]: 0.512639029322548 [mAP]: 0.3259624030332545 [IOU-mean]: 0.47199933916609077\n",
      "AHC-AGELESS REAL EYE CREAM FOR FACE - 0.1156\n",
      "AHC-Aura Secret Toneup Cream - 0.3628\n",
      "AHC-ONLY FOR MAN LOTION - 0.5808\n",
      "APIEU-데카소사이드 시카 겔 데이크림 - 0.3301\n",
      "APIEU-스타트업 포어 프라이머 - 0.1050\n",
      "BANILACO-프라임 프라이머 클래식 - 0.0909\n",
      "BELIF-The true cream AQUA BOMB - 0.3709\n",
      "CLIO-스파클링 라인 프리즘 에어 아이섀도우 - 0.3082\n",
      "FERRAGAMO-INCANTO CHARMS - 0.6030\n",
      "FERRARI-SCUDERIA BLACK EAU DE TOILETTE SPRAY - 0.3918\n",
      "--------------- iter: 8 shot: 1 ---------------\n"
     ]
    },
    {
     "data": {
      "application/vnd.jupyter.widget-view+json": {
       "model_id": "231e8e981cd24d888ebccc16046de1cd",
       "version_major": 2,
       "version_minor": 0
      },
      "text/plain": [
       "A Jupyter Widget"
      ]
     },
     "metadata": {},
     "output_type": "display_data"
    },
    {
     "data": {
      "application/vnd.jupyter.widget-view+json": {
       "model_id": "8f2e32afeee84eb28c29fab0cfbe63d0",
       "version_major": 2,
       "version_minor": 0
      },
      "text/plain": [
       "A Jupyter Widget"
      ]
     },
     "metadata": {},
     "output_type": "display_data"
    },
    {
     "name": "stdout",
     "output_type": "stream",
     "text": [
      "[Duration]: 1 min 27 sec\n",
      "[SHOT]: 1 [Acc]: 0.5257836198179979 [mAP]: 0.2557219795547805 [IOU-mean]: 0.43939846947024547\n",
      "AHC-AGELESS REAL EYE CREAM FOR FACE - 0.0933\n",
      "AHC-Aura Secret Toneup Cream - 0.3383\n",
      "AHC-ONLY FOR MAN LOTION - 0.1227\n",
      "APIEU-데카소사이드 시카 겔 데이크림 - 0.3735\n",
      "APIEU-스타트업 포어 프라이머 - 0.1557\n",
      "BANILACO-프라임 프라이머 클래식 - 0.0979\n",
      "BELIF-The true cream AQUA BOMB - 0.2524\n",
      "CLIO-스파클링 라인 프리즘 에어 아이섀도우 - 0.3607\n",
      "FERRAGAMO-INCANTO CHARMS - 0.6320\n",
      "FERRARI-SCUDERIA BLACK EAU DE TOILETTE SPRAY - 0.1303\n",
      "\n"
     ]
    },
    {
     "data": {
      "application/vnd.jupyter.widget-view+json": {
       "model_id": "17ba91709dc1482783f3cee76d619740",
       "version_major": 2,
       "version_minor": 0
      },
      "text/plain": [
       "A Jupyter Widget"
      ]
     },
     "metadata": {},
     "output_type": "display_data"
    },
    {
     "name": "stdout",
     "output_type": "stream",
     "text": [
      "--------------- iter: 9 shot: 10 ---------------\n"
     ]
    },
    {
     "data": {
      "application/vnd.jupyter.widget-view+json": {
       "model_id": "e33c9643c2c14c0bb974afe934a1a50d",
       "version_major": 2,
       "version_minor": 0
      },
      "text/plain": [
       "A Jupyter Widget"
      ]
     },
     "metadata": {},
     "output_type": "display_data"
    },
    {
     "data": {
      "application/vnd.jupyter.widget-view+json": {
       "model_id": "270d12bc804c4e788f040f3cb33bb0a0",
       "version_major": 2,
       "version_minor": 0
      },
      "text/plain": [
       "A Jupyter Widget"
      ]
     },
     "metadata": {},
     "output_type": "display_data"
    },
    {
     "name": "stdout",
     "output_type": "stream",
     "text": [
      "[Duration]: 1 min 31 sec\n",
      "[SHOT]: 10 [Acc]: 0.6380182002022244 [mAP]: 0.37346284317021383 [IOU-mean]: 0.4642111111594283\n",
      "AHC-AGELESS REAL EYE CREAM FOR FACE - 0.3298\n",
      "AHC-Aura Secret Toneup Cream - 0.4629\n",
      "AHC-ONLY FOR MAN LOTION - 0.5945\n",
      "APIEU-데카소사이드 시카 겔 데이크림 - 0.4284\n",
      "APIEU-스타트업 포어 프라이머 - 0.1272\n",
      "BANILACO-프라임 프라이머 클래식 - 0.4215\n",
      "BELIF-The true cream AQUA BOMB - 0.3222\n",
      "CLIO-스파클링 라인 프리즘 에어 아이섀도우 - 0.2796\n",
      "FERRAGAMO-INCANTO CHARMS - 0.5377\n",
      "FERRARI-SCUDERIA BLACK EAU DE TOILETTE SPRAY - 0.2304\n",
      "--------------- iter: 9 shot: 5 ---------------\n"
     ]
    },
    {
     "data": {
      "application/vnd.jupyter.widget-view+json": {
       "model_id": "23d11bd0336b4f49bf9a6e570f7727d4",
       "version_major": 2,
       "version_minor": 0
      },
      "text/plain": [
       "A Jupyter Widget"
      ]
     },
     "metadata": {},
     "output_type": "display_data"
    },
    {
     "data": {
      "application/vnd.jupyter.widget-view+json": {
       "model_id": "f81d9a3d186c41e1b8212e9d915b853d",
       "version_major": 2,
       "version_minor": 0
      },
      "text/plain": [
       "A Jupyter Widget"
      ]
     },
     "metadata": {},
     "output_type": "display_data"
    },
    {
     "name": "stdout",
     "output_type": "stream",
     "text": [
      "[Duration]: 1 min 30 sec\n",
      "[SHOT]: 5 [Acc]: 0.6016177957532861 [mAP]: 0.36094919025253336 [IOU-mean]: 0.47680782763281776\n",
      "AHC-AGELESS REAL EYE CREAM FOR FACE - 0.2048\n",
      "AHC-Aura Secret Toneup Cream - 0.4747\n",
      "AHC-ONLY FOR MAN LOTION - 0.5435\n",
      "APIEU-데카소사이드 시카 겔 데이크림 - 0.3853\n",
      "APIEU-스타트업 포어 프라이머 - 0.1118\n",
      "BANILACO-프라임 프라이머 클래식 - 0.2020\n",
      "BELIF-The true cream AQUA BOMB - 0.4296\n",
      "CLIO-스파클링 라인 프리즘 에어 아이섀도우 - 0.3672\n",
      "FERRAGAMO-INCANTO CHARMS - 0.5662\n",
      "FERRARI-SCUDERIA BLACK EAU DE TOILETTE SPRAY - 0.3238\n",
      "--------------- iter: 9 shot: 3 ---------------\n"
     ]
    },
    {
     "data": {
      "application/vnd.jupyter.widget-view+json": {
       "model_id": "911888a433d54a90a7c26916c8ad3ecf",
       "version_major": 2,
       "version_minor": 0
      },
      "text/plain": [
       "A Jupyter Widget"
      ]
     },
     "metadata": {},
     "output_type": "display_data"
    },
    {
     "data": {
      "application/vnd.jupyter.widget-view+json": {
       "model_id": "087623a61d2c489fb17637ba8a2668c6",
       "version_major": 2,
       "version_minor": 0
      },
      "text/plain": [
       "A Jupyter Widget"
      ]
     },
     "metadata": {},
     "output_type": "display_data"
    },
    {
     "name": "stdout",
     "output_type": "stream",
     "text": [
      "[Duration]: 1 min 28 sec\n",
      "[SHOT]: 3 [Acc]: 0.6006066734074823 [mAP]: 0.34324740510675306 [IOU-mean]: 0.46714494884940744\n",
      "AHC-AGELESS REAL EYE CREAM FOR FACE - 0.3159\n",
      "AHC-Aura Secret Toneup Cream - 0.3376\n",
      "AHC-ONLY FOR MAN LOTION - 0.2226\n",
      "APIEU-데카소사이드 시카 겔 데이크림 - 0.4010\n",
      "APIEU-스타트업 포어 프라이머 - 0.1532\n",
      "BANILACO-프라임 프라이머 클래식 - 0.3356\n",
      "BELIF-The true cream AQUA BOMB - 0.3307\n",
      "CLIO-스파클링 라인 프리즘 에어 아이섀도우 - 0.4395\n",
      "FERRAGAMO-INCANTO CHARMS - 0.5754\n",
      "FERRARI-SCUDERIA BLACK EAU DE TOILETTE SPRAY - 0.3204\n",
      "--------------- iter: 9 shot: 1 ---------------\n"
     ]
    },
    {
     "data": {
      "application/vnd.jupyter.widget-view+json": {
       "model_id": "b608c70c0a2f4c3789fac2c52deb8a6e",
       "version_major": 2,
       "version_minor": 0
      },
      "text/plain": [
       "A Jupyter Widget"
      ]
     },
     "metadata": {},
     "output_type": "display_data"
    },
    {
     "data": {
      "application/vnd.jupyter.widget-view+json": {
       "model_id": "fb1e9a3b5f2149d1ba0b4f56b58baabc",
       "version_major": 2,
       "version_minor": 0
      },
      "text/plain": [
       "A Jupyter Widget"
      ]
     },
     "metadata": {},
     "output_type": "display_data"
    },
    {
     "name": "stdout",
     "output_type": "stream",
     "text": [
      "[Duration]: 1 min 28 sec\n",
      "[SHOT]: 1 [Acc]: 0.564206268958544 [mAP]: 0.26416608523576934 [IOU-mean]: 0.42908484307169553\n",
      "AHC-AGELESS REAL EYE CREAM FOR FACE - 0.0916\n",
      "AHC-Aura Secret Toneup Cream - 0.2593\n",
      "AHC-ONLY FOR MAN LOTION - 0.5645\n",
      "APIEU-데카소사이드 시카 겔 데이크림 - 0.3473\n",
      "APIEU-스타트업 포어 프라이머 - 0.1249\n",
      "BANILACO-프라임 프라이머 클래식 - 0.1229\n",
      "BELIF-The true cream AQUA BOMB - 0.1136\n",
      "CLIO-스파클링 라인 프리즘 에어 아이섀도우 - 0.3203\n",
      "FERRAGAMO-INCANTO CHARMS - 0.5374\n",
      "FERRARI-SCUDERIA BLACK EAU DE TOILETTE SPRAY - 0.1594\n",
      "\n"
     ]
    },
    {
     "data": {
      "application/vnd.jupyter.widget-view+json": {
       "model_id": "14e4a656905f4b5fb6b10c6031eba6f3",
       "version_major": 2,
       "version_minor": 0
      },
      "text/plain": [
       "A Jupyter Widget"
      ]
     },
     "metadata": {},
     "output_type": "display_data"
    },
    {
     "name": "stdout",
     "output_type": "stream",
     "text": [
      "--------------- iter: 10 shot: 10 ---------------\n"
     ]
    },
    {
     "data": {
      "application/vnd.jupyter.widget-view+json": {
       "model_id": "cfc8edac43de4109b26b5a1f32368979",
       "version_major": 2,
       "version_minor": 0
      },
      "text/plain": [
       "A Jupyter Widget"
      ]
     },
     "metadata": {},
     "output_type": "display_data"
    },
    {
     "data": {
      "application/vnd.jupyter.widget-view+json": {
       "model_id": "277cd26f2aa14d4080def8f20321c3bd",
       "version_major": 2,
       "version_minor": 0
      },
      "text/plain": [
       "A Jupyter Widget"
      ]
     },
     "metadata": {},
     "output_type": "display_data"
    },
    {
     "name": "stdout",
     "output_type": "stream",
     "text": [
      "[Duration]: 1 min 31 sec\n",
      "[SHOT]: 10 [Acc]: 0.6056622851365016 [mAP]: 0.354401389427634 [IOU-mean]: 0.4553244818751564\n",
      "AHC-AGELESS REAL EYE CREAM FOR FACE - 0.1599\n",
      "AHC-Aura Secret Toneup Cream - 0.4830\n",
      "AHC-ONLY FOR MAN LOTION - 0.5118\n",
      "APIEU-데카소사이드 시카 겔 데이크림 - 0.3661\n",
      "APIEU-스타트업 포어 프라이머 - 0.0996\n",
      "BANILACO-프라임 프라이머 클래식 - 0.3322\n",
      "BELIF-The true cream AQUA BOMB - 0.2836\n",
      "CLIO-스파클링 라인 프리즘 에어 아이섀도우 - 0.3212\n",
      "FERRAGAMO-INCANTO CHARMS - 0.5265\n",
      "FERRARI-SCUDERIA BLACK EAU DE TOILETTE SPRAY - 0.4595\n",
      "--------------- iter: 10 shot: 5 ---------------\n"
     ]
    },
    {
     "data": {
      "application/vnd.jupyter.widget-view+json": {
       "model_id": "2e485aa0241d4e138f876e5ec5e0b6ee",
       "version_major": 2,
       "version_minor": 0
      },
      "text/plain": [
       "A Jupyter Widget"
      ]
     },
     "metadata": {},
     "output_type": "display_data"
    },
    {
     "data": {
      "application/vnd.jupyter.widget-view+json": {
       "model_id": "55fd60913b1b4b7883874c91c1845672",
       "version_major": 2,
       "version_minor": 0
      },
      "text/plain": [
       "A Jupyter Widget"
      ]
     },
     "metadata": {},
     "output_type": "display_data"
    },
    {
     "name": "stdout",
     "output_type": "stream",
     "text": [
      "[Duration]: 1 min 29 sec\n",
      "[SHOT]: 5 [Acc]: 0.6552072800808898 [mAP]: 0.3656217703192955 [IOU-mean]: 0.47548069060037124\n",
      "AHC-AGELESS REAL EYE CREAM FOR FACE - 0.2022\n",
      "AHC-Aura Secret Toneup Cream - 0.4703\n",
      "AHC-ONLY FOR MAN LOTION - 0.6269\n",
      "APIEU-데카소사이드 시카 겔 데이크림 - 0.3578\n",
      "APIEU-스타트업 포어 프라이머 - 0.1205\n",
      "BANILACO-프라임 프라이머 클래식 - 0.2674\n",
      "BELIF-The true cream AQUA BOMB - 0.2720\n",
      "CLIO-스파클링 라인 프리즘 에어 아이섀도우 - 0.3744\n",
      "FERRAGAMO-INCANTO CHARMS - 0.5606\n",
      "FERRARI-SCUDERIA BLACK EAU DE TOILETTE SPRAY - 0.4036\n",
      "--------------- iter: 10 shot: 3 ---------------\n"
     ]
    },
    {
     "data": {
      "application/vnd.jupyter.widget-view+json": {
       "model_id": "94cd2ee30dac40e6bf4f2bac4ae1517b",
       "version_major": 2,
       "version_minor": 0
      },
      "text/plain": [
       "A Jupyter Widget"
      ]
     },
     "metadata": {},
     "output_type": "display_data"
    },
    {
     "data": {
      "application/vnd.jupyter.widget-view+json": {
       "model_id": "30bfab2f954748819af6bf7ebdc96fbc",
       "version_major": 2,
       "version_minor": 0
      },
      "text/plain": [
       "A Jupyter Widget"
      ]
     },
     "metadata": {},
     "output_type": "display_data"
    },
    {
     "name": "stdout",
     "output_type": "stream",
     "text": [
      "[Duration]: 1 min 28 sec\n",
      "[SHOT]: 3 [Acc]: 0.5429726996966633 [mAP]: 0.3533171501969709 [IOU-mean]: 0.4817168107228043\n",
      "AHC-AGELESS REAL EYE CREAM FOR FACE - 0.1501\n",
      "AHC-Aura Secret Toneup Cream - 0.3893\n",
      "AHC-ONLY FOR MAN LOTION - 0.5207\n",
      "APIEU-데카소사이드 시카 겔 데이크림 - 0.4138\n",
      "APIEU-스타트업 포어 프라이머 - 0.1697\n",
      "BANILACO-프라임 프라이머 클래식 - 0.1818\n",
      "BELIF-The true cream AQUA BOMB - 0.3471\n",
      "CLIO-스파클링 라인 프리즘 에어 아이섀도우 - 0.4538\n",
      "FERRAGAMO-INCANTO CHARMS - 0.5709\n",
      "FERRARI-SCUDERIA BLACK EAU DE TOILETTE SPRAY - 0.3356\n",
      "--------------- iter: 10 shot: 1 ---------------\n"
     ]
    },
    {
     "data": {
      "application/vnd.jupyter.widget-view+json": {
       "model_id": "4ddefb04ba57426494380271f48a390c",
       "version_major": 2,
       "version_minor": 0
      },
      "text/plain": [
       "A Jupyter Widget"
      ]
     },
     "metadata": {},
     "output_type": "display_data"
    },
    {
     "data": {
      "application/vnd.jupyter.widget-view+json": {
       "model_id": "a3f8fc95dfa7401ba94e2785fafc9137",
       "version_major": 2,
       "version_minor": 0
      },
      "text/plain": [
       "A Jupyter Widget"
      ]
     },
     "metadata": {},
     "output_type": "display_data"
    },
    {
     "name": "stdout",
     "output_type": "stream",
     "text": [
      "[Duration]: 1 min 27 sec\n",
      "[SHOT]: 1 [Acc]: 0.6643073811931244 [mAP]: 0.30374469788859254 [IOU-mean]: 0.4575673727981588\n",
      "AHC-AGELESS REAL EYE CREAM FOR FACE - 0.0909\n",
      "AHC-Aura Secret Toneup Cream - 0.3700\n",
      "AHC-ONLY FOR MAN LOTION - 0.4859\n",
      "APIEU-데카소사이드 시카 겔 데이크림 - 0.2827\n",
      "APIEU-스타트업 포어 프라이머 - 0.1071\n",
      "BANILACO-프라임 프라이머 클래식 - 0.2869\n",
      "BELIF-The true cream AQUA BOMB - 0.2903\n",
      "CLIO-스파클링 라인 프리즘 에어 아이섀도우 - 0.3876\n",
      "FERRAGAMO-INCANTO CHARMS - 0.5346\n",
      "FERRARI-SCUDERIA BLACK EAU DE TOILETTE SPRAY - 0.2010\n",
      "\n"
     ]
    },
    {
     "data": {
      "application/vnd.jupyter.widget-view+json": {
       "model_id": "794fbf734eea4b109aa78a3ea55f3eba",
       "version_major": 2,
       "version_minor": 0
      },
      "text/plain": [
       "A Jupyter Widget"
      ]
     },
     "metadata": {},
     "output_type": "display_data"
    },
    {
     "name": "stdout",
     "output_type": "stream",
     "text": [
      "--------------- iter: 11 shot: 10 ---------------\n"
     ]
    },
    {
     "data": {
      "application/vnd.jupyter.widget-view+json": {
       "model_id": "18616d2623d44fc2855aa4fa9f09e43c",
       "version_major": 2,
       "version_minor": 0
      },
      "text/plain": [
       "A Jupyter Widget"
      ]
     },
     "metadata": {},
     "output_type": "display_data"
    },
    {
     "data": {
      "application/vnd.jupyter.widget-view+json": {
       "model_id": "4f4019c8b8264f31abe4e14fc34454dc",
       "version_major": 2,
       "version_minor": 0
      },
      "text/plain": [
       "A Jupyter Widget"
      ]
     },
     "metadata": {},
     "output_type": "display_data"
    },
    {
     "name": "stdout",
     "output_type": "stream",
     "text": [
      "[Duration]: 1 min 31 sec\n",
      "[SHOT]: 10 [Acc]: 0.6188068756319515 [mAP]: 0.3524517952937404 [IOU-mean]: 0.47386220811901064\n",
      "AHC-AGELESS REAL EYE CREAM FOR FACE - 0.2213\n",
      "AHC-Aura Secret Toneup Cream - 0.5094\n",
      "AHC-ONLY FOR MAN LOTION - 0.5601\n",
      "APIEU-데카소사이드 시카 겔 데이크림 - 0.4247\n",
      "APIEU-스타트업 포어 프라이머 - 0.1362\n",
      "BANILACO-프라임 프라이머 클래식 - 0.3216\n",
      "BELIF-The true cream AQUA BOMB - 0.2758\n",
      "CLIO-스파클링 라인 프리즘 에어 아이섀도우 - 0.3539\n",
      "FERRAGAMO-INCANTO CHARMS - 0.5404\n",
      "FERRARI-SCUDERIA BLACK EAU DE TOILETTE SPRAY - 0.1806\n",
      "--------------- iter: 11 shot: 5 ---------------\n"
     ]
    },
    {
     "data": {
      "application/vnd.jupyter.widget-view+json": {
       "model_id": "a6e3be7a277f4f93b73ebb2322522051",
       "version_major": 2,
       "version_minor": 0
      },
      "text/plain": [
       "A Jupyter Widget"
      ]
     },
     "metadata": {},
     "output_type": "display_data"
    },
    {
     "data": {
      "application/vnd.jupyter.widget-view+json": {
       "model_id": "99b7f160db81462ba8caba1185b042e3",
       "version_major": 2,
       "version_minor": 0
      },
      "text/plain": [
       "A Jupyter Widget"
      ]
     },
     "metadata": {},
     "output_type": "display_data"
    },
    {
     "name": "stdout",
     "output_type": "stream",
     "text": [
      "[Duration]: 1 min 27 sec\n",
      "[SHOT]: 5 [Acc]: 0.6309403437815976 [mAP]: 0.36832564345369245 [IOU-mean]: 0.47632773229767567\n",
      "AHC-AGELESS REAL EYE CREAM FOR FACE - 0.1887\n",
      "AHC-Aura Secret Toneup Cream - 0.4715\n",
      "AHC-ONLY FOR MAN LOTION - 0.6303\n",
      "APIEU-데카소사이드 시카 겔 데이크림 - 0.4084\n",
      "APIEU-스타트업 포어 프라이머 - 0.1354\n",
      "BANILACO-프라임 프라이머 클래식 - 0.3150\n",
      "BELIF-The true cream AQUA BOMB - 0.3006\n",
      "CLIO-스파클링 라인 프리즘 에어 아이섀도우 - 0.3504\n",
      "FERRAGAMO-INCANTO CHARMS - 0.5682\n",
      "FERRARI-SCUDERIA BLACK EAU DE TOILETTE SPRAY - 0.3144\n",
      "--------------- iter: 11 shot: 3 ---------------\n"
     ]
    },
    {
     "data": {
      "application/vnd.jupyter.widget-view+json": {
       "model_id": "48a68389437e4c8ea4fcd0afcb09dcf6",
       "version_major": 2,
       "version_minor": 0
      },
      "text/plain": [
       "A Jupyter Widget"
      ]
     },
     "metadata": {},
     "output_type": "display_data"
    },
    {
     "data": {
      "application/vnd.jupyter.widget-view+json": {
       "model_id": "87e5f6ff04354e45b58bfd682a18a826",
       "version_major": 2,
       "version_minor": 0
      },
      "text/plain": [
       "A Jupyter Widget"
      ]
     },
     "metadata": {},
     "output_type": "display_data"
    },
    {
     "name": "stdout",
     "output_type": "stream",
     "text": [
      "[Duration]: 1 min 28 sec\n",
      "[SHOT]: 3 [Acc]: 0.5672396359959555 [mAP]: 0.3014130156839318 [IOU-mean]: 0.47422801947298376\n",
      "AHC-AGELESS REAL EYE CREAM FOR FACE - 0.2794\n",
      "AHC-Aura Secret Toneup Cream - 0.2894\n",
      "AHC-ONLY FOR MAN LOTION - 0.2311\n",
      "APIEU-데카소사이드 시카 겔 데이크림 - 0.4225\n",
      "APIEU-스타트업 포어 프라이머 - 0.1002\n",
      "BANILACO-프라임 프라이머 클래식 - 0.1545\n",
      "BELIF-The true cream AQUA BOMB - 0.3199\n",
      "CLIO-스파클링 라인 프리즘 에어 아이섀도우 - 0.3044\n",
      "FERRAGAMO-INCANTO CHARMS - 0.5996\n",
      "FERRARI-SCUDERIA BLACK EAU DE TOILETTE SPRAY - 0.3126\n",
      "--------------- iter: 11 shot: 1 ---------------\n"
     ]
    },
    {
     "data": {
      "application/vnd.jupyter.widget-view+json": {
       "model_id": "b8bcb35bc123428c9b0e2dba94e1c8fe",
       "version_major": 2,
       "version_minor": 0
      },
      "text/plain": [
       "A Jupyter Widget"
      ]
     },
     "metadata": {},
     "output_type": "display_data"
    },
    {
     "data": {
      "application/vnd.jupyter.widget-view+json": {
       "model_id": "00363bcfb6154a5eb955197e55f7e505",
       "version_major": 2,
       "version_minor": 0
      },
      "text/plain": [
       "A Jupyter Widget"
      ]
     },
     "metadata": {},
     "output_type": "display_data"
    },
    {
     "name": "stdout",
     "output_type": "stream",
     "text": [
      "[Duration]: 1 min 28 sec\n",
      "[SHOT]: 1 [Acc]: 0.5652173913043478 [mAP]: 0.2860048895627746 [IOU-mean]: 0.4500845851691174\n",
      "AHC-AGELESS REAL EYE CREAM FOR FACE - 0.0925\n",
      "AHC-Aura Secret Toneup Cream - 0.3923\n",
      "AHC-ONLY FOR MAN LOTION - 0.4221\n",
      "APIEU-데카소사이드 시카 겔 데이크림 - 0.3307\n",
      "APIEU-스타트업 포어 프라이머 - 0.0991\n",
      "BANILACO-프라임 프라이머 클래식 - 0.0909\n",
      "BELIF-The true cream AQUA BOMB - 0.2960\n",
      "CLIO-스파클링 라인 프리즘 에어 아이섀도우 - 0.2900\n",
      "FERRAGAMO-INCANTO CHARMS - 0.6483\n",
      "FERRARI-SCUDERIA BLACK EAU DE TOILETTE SPRAY - 0.1976\n",
      "\n"
     ]
    },
    {
     "data": {
      "application/vnd.jupyter.widget-view+json": {
       "model_id": "bba65f92ef4643e184e4032bef6b2deb",
       "version_major": 2,
       "version_minor": 0
      },
      "text/plain": [
       "A Jupyter Widget"
      ]
     },
     "metadata": {},
     "output_type": "display_data"
    },
    {
     "name": "stdout",
     "output_type": "stream",
     "text": [
      "--------------- iter: 12 shot: 10 ---------------\n"
     ]
    },
    {
     "data": {
      "application/vnd.jupyter.widget-view+json": {
       "model_id": "62ee2a96d54e4f81a4ea0f93b06a8e0c",
       "version_major": 2,
       "version_minor": 0
      },
      "text/plain": [
       "A Jupyter Widget"
      ]
     },
     "metadata": {},
     "output_type": "display_data"
    },
    {
     "data": {
      "application/vnd.jupyter.widget-view+json": {
       "model_id": "41fcd7d634c9437d81d86aa356693898",
       "version_major": 2,
       "version_minor": 0
      },
      "text/plain": [
       "A Jupyter Widget"
      ]
     },
     "metadata": {},
     "output_type": "display_data"
    },
    {
     "name": "stdout",
     "output_type": "stream",
     "text": [
      "[Duration]: 1 min 31 sec\n",
      "[SHOT]: 10 [Acc]: 0.6339737108190091 [mAP]: 0.3734962480262539 [IOU-mean]: 0.46291420070870704\n",
      "AHC-AGELESS REAL EYE CREAM FOR FACE - 0.3715\n",
      "AHC-Aura Secret Toneup Cream - 0.4453\n",
      "AHC-ONLY FOR MAN LOTION - 0.5825\n",
      "APIEU-데카소사이드 시카 겔 데이크림 - 0.4609\n",
      "APIEU-스타트업 포어 프라이머 - 0.1070\n",
      "BANILACO-프라임 프라이머 클래식 - 0.3307\n",
      "BELIF-The true cream AQUA BOMB - 0.2981\n",
      "CLIO-스파클링 라인 프리즘 에어 아이섀도우 - 0.3470\n",
      "FERRAGAMO-INCANTO CHARMS - 0.5354\n",
      "FERRARI-SCUDERIA BLACK EAU DE TOILETTE SPRAY - 0.2561\n",
      "--------------- iter: 12 shot: 5 ---------------\n"
     ]
    },
    {
     "data": {
      "application/vnd.jupyter.widget-view+json": {
       "model_id": "a3f4d4a0924649c7a537c59114ae80d3",
       "version_major": 2,
       "version_minor": 0
      },
      "text/plain": [
       "A Jupyter Widget"
      ]
     },
     "metadata": {},
     "output_type": "display_data"
    },
    {
     "data": {
      "application/vnd.jupyter.widget-view+json": {
       "model_id": "b58b0c513f0f415fa6330d6bb4dc78a3",
       "version_major": 2,
       "version_minor": 0
      },
      "text/plain": [
       "A Jupyter Widget"
      ]
     },
     "metadata": {},
     "output_type": "display_data"
    },
    {
     "name": "stdout",
     "output_type": "stream",
     "text": [
      "[Duration]: 1 min 28 sec\n",
      "[SHOT]: 5 [Acc]: 0.621840242669363 [mAP]: 0.35413009626860903 [IOU-mean]: 0.48152256200675775\n",
      "AHC-AGELESS REAL EYE CREAM FOR FACE - 0.2031\n",
      "AHC-Aura Secret Toneup Cream - 0.4146\n",
      "AHC-ONLY FOR MAN LOTION - 0.5864\n",
      "APIEU-데카소사이드 시카 겔 데이크림 - 0.3737\n",
      "APIEU-스타트업 포어 프라이머 - 0.1185\n",
      "BANILACO-프라임 프라이머 클래식 - 0.1818\n",
      "BELIF-The true cream AQUA BOMB - 0.3787\n",
      "CLIO-스파클링 라인 프리즘 에어 아이섀도우 - 0.3559\n",
      "FERRAGAMO-INCANTO CHARMS - 0.5594\n",
      "FERRARI-SCUDERIA BLACK EAU DE TOILETTE SPRAY - 0.3687\n",
      "--------------- iter: 12 shot: 3 ---------------\n"
     ]
    },
    {
     "data": {
      "application/vnd.jupyter.widget-view+json": {
       "model_id": "a0cdefbb73bc41a2945a33bd1b460a92",
       "version_major": 2,
       "version_minor": 0
      },
      "text/plain": [
       "A Jupyter Widget"
      ]
     },
     "metadata": {},
     "output_type": "display_data"
    },
    {
     "data": {
      "application/vnd.jupyter.widget-view+json": {
       "model_id": "01fbc228942040de89256bb749578750",
       "version_major": 2,
       "version_minor": 0
      },
      "text/plain": [
       "A Jupyter Widget"
      ]
     },
     "metadata": {},
     "output_type": "display_data"
    },
    {
     "name": "stdout",
     "output_type": "stream",
     "text": [
      "[Duration]: 1 min 27 sec\n",
      "[SHOT]: 3 [Acc]: 0.5682507583417593 [mAP]: 0.3271733994295756 [IOU-mean]: 0.4737533891377679\n",
      "AHC-AGELESS REAL EYE CREAM FOR FACE - 0.0949\n",
      "AHC-Aura Secret Toneup Cream - 0.3668\n",
      "AHC-ONLY FOR MAN LOTION - 0.5955\n",
      "APIEU-데카소사이드 시카 겔 데이크림 - 0.3719\n",
      "APIEU-스타트업 포어 프라이머 - 0.1130\n",
      "BANILACO-프라임 프라이머 클래식 - 0.1123\n",
      "BELIF-The true cream AQUA BOMB - 0.3212\n",
      "CLIO-스파클링 라인 프리즘 에어 아이섀도우 - 0.3271\n",
      "FERRAGAMO-INCANTO CHARMS - 0.5404\n",
      "FERRARI-SCUDERIA BLACK EAU DE TOILETTE SPRAY - 0.4283\n",
      "--------------- iter: 12 shot: 1 ---------------\n"
     ]
    },
    {
     "data": {
      "application/vnd.jupyter.widget-view+json": {
       "model_id": "666717c432834d5282846a1c5ed59c0d",
       "version_major": 2,
       "version_minor": 0
      },
      "text/plain": [
       "A Jupyter Widget"
      ]
     },
     "metadata": {},
     "output_type": "display_data"
    },
    {
     "data": {
      "application/vnd.jupyter.widget-view+json": {
       "model_id": "d63e1785e05743adbb725c596c1a23ee",
       "version_major": 2,
       "version_minor": 0
      },
      "text/plain": [
       "A Jupyter Widget"
      ]
     },
     "metadata": {},
     "output_type": "display_data"
    },
    {
     "name": "stdout",
     "output_type": "stream",
     "text": [
      "[Duration]: 1 min 27 sec\n",
      "[SHOT]: 1 [Acc]: 0.5975733063700708 [mAP]: 0.285141677847999 [IOU-mean]: 0.4537003360678328\n",
      "AHC-AGELESS REAL EYE CREAM FOR FACE - 0.1060\n",
      "AHC-Aura Secret Toneup Cream - 0.4107\n",
      "AHC-ONLY FOR MAN LOTION - 0.5989\n",
      "APIEU-데카소사이드 시카 겔 데이크림 - 0.2764\n",
      "APIEU-스타트업 포어 프라이머 - 0.0909\n",
      "BANILACO-프라임 프라이머 클래식 - 0.1122\n",
      "BELIF-The true cream AQUA BOMB - 0.1940\n",
      "CLIO-스파클링 라인 프리즘 에어 아이섀도우 - 0.3202\n",
      "FERRAGAMO-INCANTO CHARMS - 0.5563\n",
      "FERRARI-SCUDERIA BLACK EAU DE TOILETTE SPRAY - 0.1854\n",
      "\n"
     ]
    },
    {
     "data": {
      "application/vnd.jupyter.widget-view+json": {
       "model_id": "e2684b610b3e4e7fa41a3bc3c100fe8a",
       "version_major": 2,
       "version_minor": 0
      },
      "text/plain": [
       "A Jupyter Widget"
      ]
     },
     "metadata": {},
     "output_type": "display_data"
    },
    {
     "name": "stdout",
     "output_type": "stream",
     "text": [
      "--------------- iter: 13 shot: 10 ---------------\n"
     ]
    },
    {
     "data": {
      "application/vnd.jupyter.widget-view+json": {
       "model_id": "dc46fe2a28184b6ea3be214f93b59ccd",
       "version_major": 2,
       "version_minor": 0
      },
      "text/plain": [
       "A Jupyter Widget"
      ]
     },
     "metadata": {},
     "output_type": "display_data"
    },
    {
     "data": {
      "application/vnd.jupyter.widget-view+json": {
       "model_id": "519d118946834424927323d5f61ccc1b",
       "version_major": 2,
       "version_minor": 0
      },
      "text/plain": [
       "A Jupyter Widget"
      ]
     },
     "metadata": {},
     "output_type": "display_data"
    },
    {
     "name": "stdout",
     "output_type": "stream",
     "text": [
      "[Duration]: 1 min 31 sec\n",
      "[SHOT]: 10 [Acc]: 0.5692618806875632 [mAP]: 0.3288676034629778 [IOU-mean]: 0.46014873413378476\n",
      "AHC-AGELESS REAL EYE CREAM FOR FACE - 0.1803\n",
      "AHC-Aura Secret Toneup Cream - 0.3827\n",
      "AHC-ONLY FOR MAN LOTION - 0.5192\n",
      "APIEU-데카소사이드 시카 겔 데이크림 - 0.4831\n",
      "APIEU-스타트업 포어 프라이머 - 0.0909\n",
      "BANILACO-프라임 프라이머 클래식 - 0.3092\n",
      "BELIF-The true cream AQUA BOMB - 0.2181\n",
      "CLIO-스파클링 라인 프리즘 에어 아이섀도우 - 0.3205\n",
      "FERRAGAMO-INCANTO CHARMS - 0.5379\n",
      "FERRARI-SCUDERIA BLACK EAU DE TOILETTE SPRAY - 0.2464\n",
      "--------------- iter: 13 shot: 5 ---------------\n"
     ]
    },
    {
     "data": {
      "application/vnd.jupyter.widget-view+json": {
       "model_id": "179f8ce69fd2472892a52c4b725641d7",
       "version_major": 2,
       "version_minor": 0
      },
      "text/plain": [
       "A Jupyter Widget"
      ]
     },
     "metadata": {},
     "output_type": "display_data"
    },
    {
     "data": {
      "application/vnd.jupyter.widget-view+json": {
       "model_id": "4e8c182192e44b54a21f4e08591b7d81",
       "version_major": 2,
       "version_minor": 0
      },
      "text/plain": [
       "A Jupyter Widget"
      ]
     },
     "metadata": {},
     "output_type": "display_data"
    },
    {
     "name": "stdout",
     "output_type": "stream",
     "text": [
      "[Duration]: 1 min 28 sec\n",
      "[SHOT]: 5 [Acc]: 0.6370070778564206 [mAP]: 0.355013981966419 [IOU-mean]: 0.48257826151716154\n",
      "AHC-AGELESS REAL EYE CREAM FOR FACE - 0.2267\n",
      "AHC-Aura Secret Toneup Cream - 0.4801\n",
      "AHC-ONLY FOR MAN LOTION - 0.5873\n",
      "APIEU-데카소사이드 시카 겔 데이크림 - 0.3555\n",
      "APIEU-스타트업 포어 프라이머 - 0.1712\n",
      "BANILACO-프라임 프라이머 클래식 - 0.2631\n",
      "BELIF-The true cream AQUA BOMB - 0.2967\n",
      "CLIO-스파클링 라인 프리즘 에어 아이섀도우 - 0.3731\n",
      "FERRAGAMO-INCANTO CHARMS - 0.5524\n",
      "FERRARI-SCUDERIA BLACK EAU DE TOILETTE SPRAY - 0.2434\n",
      "--------------- iter: 13 shot: 3 ---------------\n"
     ]
    },
    {
     "data": {
      "application/vnd.jupyter.widget-view+json": {
       "model_id": "e60bc32843ee4870934eb466550ac689",
       "version_major": 2,
       "version_minor": 0
      },
      "text/plain": [
       "A Jupyter Widget"
      ]
     },
     "metadata": {},
     "output_type": "display_data"
    },
    {
     "data": {
      "application/vnd.jupyter.widget-view+json": {
       "model_id": "30a5de0075a7432db3a307b2637e784a",
       "version_major": 2,
       "version_minor": 0
      },
      "text/plain": [
       "A Jupyter Widget"
      ]
     },
     "metadata": {},
     "output_type": "display_data"
    },
    {
     "name": "stdout",
     "output_type": "stream",
     "text": [
      "[Duration]: 1 min 29 sec\n",
      "[SHOT]: 3 [Acc]: 0.6612740141557129 [mAP]: 0.392643085847051 [IOU-mean]: 0.4801097398292352\n",
      "AHC-AGELESS REAL EYE CREAM FOR FACE - 0.2750\n",
      "AHC-Aura Secret Toneup Cream - 0.4809\n",
      "AHC-ONLY FOR MAN LOTION - 0.6194\n",
      "APIEU-데카소사이드 시카 겔 데이크림 - 0.3944\n",
      "APIEU-스타트업 포어 프라이머 - 0.1040\n",
      "BANILACO-프라임 프라이머 클래식 - 0.4646\n",
      "BELIF-The true cream AQUA BOMB - 0.3662\n",
      "CLIO-스파클링 라인 프리즘 에어 아이섀도우 - 0.2765\n",
      "FERRAGAMO-INCANTO CHARMS - 0.5836\n",
      "FERRARI-SCUDERIA BLACK EAU DE TOILETTE SPRAY - 0.3614\n",
      "--------------- iter: 13 shot: 1 ---------------\n"
     ]
    },
    {
     "data": {
      "application/vnd.jupyter.widget-view+json": {
       "model_id": "b74e2a527a6c4ecdb82a8d0d388b23cf",
       "version_major": 2,
       "version_minor": 0
      },
      "text/plain": [
       "A Jupyter Widget"
      ]
     },
     "metadata": {},
     "output_type": "display_data"
    },
    {
     "data": {
      "application/vnd.jupyter.widget-view+json": {
       "model_id": "cb3b3a952e8a4bfdbd5c6a03ebcc8189",
       "version_major": 2,
       "version_minor": 0
      },
      "text/plain": [
       "A Jupyter Widget"
      ]
     },
     "metadata": {},
     "output_type": "display_data"
    },
    {
     "name": "stdout",
     "output_type": "stream",
     "text": [
      "[Duration]: 1 min 29 sec\n",
      "[SHOT]: 1 [Acc]: 0.6107178968655207 [mAP]: 0.2670371202870201 [IOU-mean]: 0.42995984855562797\n",
      "AHC-AGELESS REAL EYE CREAM FOR FACE - 0.1019\n",
      "AHC-Aura Secret Toneup Cream - 0.2757\n",
      "AHC-ONLY FOR MAN LOTION - 0.3029\n",
      "APIEU-데카소사이드 시카 겔 데이크림 - 0.3035\n",
      "APIEU-스타트업 포어 프라이머 - 0.0909\n",
      "BANILACO-프라임 프라이머 클래식 - 0.2849\n",
      "BELIF-The true cream AQUA BOMB - 0.2738\n",
      "CLIO-스파클링 라인 프리즘 에어 아이섀도우 - 0.3363\n",
      "FERRAGAMO-INCANTO CHARMS - 0.5242\n",
      "FERRARI-SCUDERIA BLACK EAU DE TOILETTE SPRAY - 0.1756\n",
      "\n"
     ]
    },
    {
     "data": {
      "application/vnd.jupyter.widget-view+json": {
       "model_id": "1251e193f4534c07bef17129069464ff",
       "version_major": 2,
       "version_minor": 0
      },
      "text/plain": [
       "A Jupyter Widget"
      ]
     },
     "metadata": {},
     "output_type": "display_data"
    },
    {
     "name": "stdout",
     "output_type": "stream",
     "text": [
      "--------------- iter: 14 shot: 10 ---------------\n"
     ]
    },
    {
     "data": {
      "application/vnd.jupyter.widget-view+json": {
       "model_id": "014e92d6f5704376b772ff757fee7a8e",
       "version_major": 2,
       "version_minor": 0
      },
      "text/plain": [
       "A Jupyter Widget"
      ]
     },
     "metadata": {},
     "output_type": "display_data"
    },
    {
     "data": {
      "application/vnd.jupyter.widget-view+json": {
       "model_id": "8c240728cf9d4bc5be8baa652e540128",
       "version_major": 2,
       "version_minor": 0
      },
      "text/plain": [
       "A Jupyter Widget"
      ]
     },
     "metadata": {},
     "output_type": "display_data"
    },
    {
     "name": "stdout",
     "output_type": "stream",
     "text": [
      "[Duration]: 1 min 32 sec\n",
      "[SHOT]: 10 [Acc]: 0.6713852376137512 [mAP]: 0.36482454191391567 [IOU-mean]: 0.466761941208878\n",
      "AHC-AGELESS REAL EYE CREAM FOR FACE - 0.2410\n",
      "AHC-Aura Secret Toneup Cream - 0.4984\n",
      "AHC-ONLY FOR MAN LOTION - 0.6697\n",
      "APIEU-데카소사이드 시카 겔 데이크림 - 0.3871\n",
      "APIEU-스타트업 포어 프라이머 - 0.1273\n",
      "BANILACO-프라임 프라이머 클래식 - 0.2889\n",
      "BELIF-The true cream AQUA BOMB - 0.2585\n",
      "CLIO-스파클링 라인 프리즘 에어 아이섀도우 - 0.3466\n",
      "FERRAGAMO-INCANTO CHARMS - 0.5252\n",
      "FERRARI-SCUDERIA BLACK EAU DE TOILETTE SPRAY - 0.3052\n",
      "--------------- iter: 14 shot: 5 ---------------\n"
     ]
    },
    {
     "data": {
      "application/vnd.jupyter.widget-view+json": {
       "model_id": "5c0195dd383440389629ee6727024464",
       "version_major": 2,
       "version_minor": 0
      },
      "text/plain": [
       "A Jupyter Widget"
      ]
     },
     "metadata": {},
     "output_type": "display_data"
    },
    {
     "data": {
      "application/vnd.jupyter.widget-view+json": {
       "model_id": "6915d31ffd9049a4bb6f09f0ad53ffa5",
       "version_major": 2,
       "version_minor": 0
      },
      "text/plain": [
       "A Jupyter Widget"
      ]
     },
     "metadata": {},
     "output_type": "display_data"
    },
    {
     "name": "stdout",
     "output_type": "stream",
     "text": [
      "[Duration]: 1 min 28 sec\n",
      "[SHOT]: 5 [Acc]: 0.627906976744186 [mAP]: 0.3584295633002382 [IOU-mean]: 0.4750942254130125\n",
      "AHC-AGELESS REAL EYE CREAM FOR FACE - 0.2010\n",
      "AHC-Aura Secret Toneup Cream - 0.4618\n",
      "AHC-ONLY FOR MAN LOTION - 0.5993\n",
      "APIEU-데카소사이드 시카 겔 데이크림 - 0.3292\n",
      "APIEU-스타트업 포어 프라이머 - 0.1153\n",
      "BANILACO-프라임 프라이머 클래식 - 0.3314\n",
      "BELIF-The true cream AQUA BOMB - 0.2745\n",
      "CLIO-스파클링 라인 프리즘 에어 아이섀도우 - 0.3117\n",
      "FERRAGAMO-INCANTO CHARMS - 0.5604\n",
      "FERRARI-SCUDERIA BLACK EAU DE TOILETTE SPRAY - 0.3993\n",
      "--------------- iter: 14 shot: 3 ---------------\n"
     ]
    },
    {
     "data": {
      "application/vnd.jupyter.widget-view+json": {
       "model_id": "41e4a84fe9094c88a50c40f9c4cc98b4",
       "version_major": 2,
       "version_minor": 0
      },
      "text/plain": [
       "A Jupyter Widget"
      ]
     },
     "metadata": {},
     "output_type": "display_data"
    },
    {
     "data": {
      "application/vnd.jupyter.widget-view+json": {
       "model_id": "91f4239b63ec407d802a9a6a43195e85",
       "version_major": 2,
       "version_minor": 0
      },
      "text/plain": [
       "A Jupyter Widget"
      ]
     },
     "metadata": {},
     "output_type": "display_data"
    },
    {
     "name": "stdout",
     "output_type": "stream",
     "text": [
      "[Duration]: 1 min 28 sec\n",
      "[SHOT]: 3 [Acc]: 0.5753286147623863 [mAP]: 0.34240419927412097 [IOU-mean]: 0.4743227746591435\n",
      "AHC-AGELESS REAL EYE CREAM FOR FACE - 0.0925\n",
      "AHC-Aura Secret Toneup Cream - 0.3875\n",
      "AHC-ONLY FOR MAN LOTION - 0.5382\n",
      "APIEU-데카소사이드 시카 겔 데이크림 - 0.4560\n",
      "APIEU-스타트업 포어 프라이머 - 0.1003\n",
      "BANILACO-프라임 프라이머 클래식 - 0.2644\n",
      "BELIF-The true cream AQUA BOMB - 0.3107\n",
      "CLIO-스파클링 라인 프리즘 에어 아이섀도우 - 0.3864\n",
      "FERRAGAMO-INCANTO CHARMS - 0.5576\n",
      "FERRARI-SCUDERIA BLACK EAU DE TOILETTE SPRAY - 0.3300\n",
      "--------------- iter: 14 shot: 1 ---------------\n"
     ]
    },
    {
     "data": {
      "application/vnd.jupyter.widget-view+json": {
       "model_id": "d96d9fb3574e4de7b45644e40ea2fad2",
       "version_major": 2,
       "version_minor": 0
      },
      "text/plain": [
       "A Jupyter Widget"
      ]
     },
     "metadata": {},
     "output_type": "display_data"
    },
    {
     "data": {
      "application/vnd.jupyter.widget-view+json": {
       "model_id": "06e655a5fcb64d0daf62a70d6c5bf4b9",
       "version_major": 2,
       "version_minor": 0
      },
      "text/plain": [
       "A Jupyter Widget"
      ]
     },
     "metadata": {},
     "output_type": "display_data"
    },
    {
     "name": "stdout",
     "output_type": "stream",
     "text": [
      "[Duration]: 1 min 28 sec\n",
      "[SHOT]: 1 [Acc]: 0.4914054600606673 [mAP]: 0.23850940326412612 [IOU-mean]: 0.4441865388062925\n",
      "AHC-AGELESS REAL EYE CREAM FOR FACE - 0.0971\n",
      "AHC-Aura Secret Toneup Cream - 0.2474\n",
      "AHC-ONLY FOR MAN LOTION - 0.2355\n",
      "APIEU-데카소사이드 시카 겔 데이크림 - 0.1212\n",
      "APIEU-스타트업 포어 프라이머 - 0.1375\n",
      "BANILACO-프라임 프라이머 클래식 - 0.3150\n",
      "BELIF-The true cream AQUA BOMB - 0.1356\n",
      "CLIO-스파클링 라인 프리즘 에어 아이섀도우 - 0.2610\n",
      "FERRAGAMO-INCANTO CHARMS - 0.6097\n",
      "FERRARI-SCUDERIA BLACK EAU DE TOILETTE SPRAY - 0.2246\n",
      "\n"
     ]
    }
   ],
   "source": [
    "import time\n",
    "from datetime import datetime\n",
    "#  ref - floor, frontview, office // val - floor2, frontview2, wall\n",
    "# validation_21, reference_21_train // reference_21_val // all_10\n",
    "# 21 10 바꾸기 주의, MyDataset도 바꿔야함 -10 해야함\n",
    "root_dir = './references/all_10'\n",
    "class_path = './references/obj_10.names'\n",
    "# 21 10 바꾸기 주의, MyDataset도 바꿔야함 -10 해야함\n",
    "# root_dir = './references/validation_21'\n",
    "# class_path = './references/obj_21.names'\n",
    "\n",
    "# ---------------------------- val set 로드 ---------------------------------\n",
    "voc_val_dataset = MyDataset(root_dir, class_path, \n",
    "        transform=transforms.Compose([\n",
    "#         myRotation,\n",
    "#         transforms.RandomRotation(90, expand=True),\n",
    "        transforms.ToTensor()\n",
    "    ]))\n",
    "\n",
    "voc_transform = transforms.Compose([\n",
    "        transforms.Normalize([0.485, 0.456, 0.406], [0.229, 0.224, 0.225])\n",
    "    ])\n",
    "\n",
    "voc_classes = voc_val_dataset.classes\n",
    "# assert val_dataset.classes==sample_dir_list, \"샘플링 클래스와 데이터로더 클래스가 다름\"\n",
    "# ---------------------------- val set 정확도 측정 ---------------------------------\n",
    "\n",
    "cols = ['timestamp', 'model', 'ref', 'val', 'similarity', 'shot', 'train-data', 'memo', 'acc', 'mAP', 'IOU', \n",
    "        *['AP'+str(c) for c in range(10)]]\n",
    "savePath = 'mAP-result-log-1218.csv'\n",
    "try:\n",
    "    res_df = pd.read_csv(savePath)\n",
    "except:\n",
    "    res_df = pd.DataFrame(columns=cols)\n",
    "\n",
    "    \n",
    "fps=0\n",
    "SHOW_IMAGE = False # 이미지 볼지 말지\n",
    "# USE_KNN = False\n",
    "\n",
    "boxMakerPath = 'heatmap-3chan-1219.pth'\n",
    "# boxMakerPath = 'heatmap-6chan-1216.pth'\n",
    "# boxMakerPath = 'heatmap-6chan-1218-21.pth'\n",
    "# boxMakerPath = 'heatmap-7chan-1217.pth' # edge\n",
    "# boxMakerPath = 'heatmap-9chan-1219.pth'\n",
    "\n",
    "boxMaker.load_state_dict(torch.load('torch_models/'+boxMakerPath, map_location='cuda:0'))\n",
    "boxMaker.eval()\n",
    "\n",
    "memo = 'decay 0.1 per 2 chance'\n",
    "trainData = 'voc 11'\n",
    "similarity = 'cosine'\n",
    "\n",
    "\"\"\"\n",
    "전체 피처 데이터 재생성\n",
    "\"\"\"\n",
    "for ii in range(15):\n",
    "    for shot in tqdm([10, 5, 3 ,1]):\n",
    "        print('--------------- iter:', ii, 'shot:', shot, '---------------')\n",
    "        startTime = time.time()\n",
    "\n",
    "#         # 1,3 shot은 고른걸로\n",
    "#         if shot in [1]: \n",
    "#             if ii==0: referenceImgDirPath = './references/images_trimed_10-%dshot'%shot # 10 classe\n",
    "#             else: continue\n",
    "#         else: referenceImgDirPath = './references/images_trimed_10-10shot' # 10 classes\n",
    "# #         referenceImgDirPath = './references/images_trimed_21' # 21 classes\n",
    "        if shot in [1,3,5]: referenceImgDirPath = './references/images_trimed_10-10shot' # 21 classes\n",
    "        else: referenceImgDirPath = './references/images_trimed_10' # 21 classes      \n",
    "\n",
    "        featuresPath = 'cosmetic_features_cos.csv'\n",
    "        meanPath = 'cosmetic_means_cos.csv'\n",
    "        makeAllReferenceCSV(referenceImgDirPath, featuresPath, meanPath, n_sample=shot)\n",
    "\n",
    "\n",
    "        # -------------- n개 클래스만 validation 샘플링 세팅 및 폴더정리 ----------------\n",
    "        reference_dataset = torchvision.datasets.ImageFolder(\n",
    "            root=referenceImgDirPath,\n",
    "            transform=transforms.Compose([\n",
    "                transforms.ToTensor(),\n",
    "                transforms.Normalize([0.485, 0.456, 0.406], [0.229, 0.224, 0.225])\n",
    "            ])\n",
    "        )\n",
    "        sample_dir_list = reference_dataset.classes\n",
    "\n",
    "        # -------------- 레퍼런스 데이터에서 n개 클래스 임베딩 & 레이블 & means 추출 -----------------\n",
    "        featuresPath = 'cosmetic_features_cos.csv'\n",
    "        meanPath = 'cosmetic_means_cos.csv'\n",
    "\n",
    "        df_ref_featere_sampled, reference_means_sampled = get_sample_reference(featuresPath, meanPath, showData=False)\n",
    "\n",
    "        # ---------------------------- 레퍼런스셋 로드 및 임베딩 세팅 ---------------------------------\n",
    "        model.setReferenceDataset(sample_dir_list, df_ref_featere_sampled, reference_means_sampled)\n",
    "\n",
    "\n",
    "\n",
    "        # ---------------detection-------------\n",
    "        target_all_mAP = []\n",
    "        ious = []\n",
    "        dfs = {c:pd.DataFrame(columns=['image', 'confidience', 'TP', 'IOU']) for c in voc_classes} # average precision 저장\n",
    "        correct = 0\n",
    "        \n",
    "        # print('[num_class]:', len(sample_dir_list), sample_dir_list)\n",
    "        for i in tqdm(np.random.permutation(len(voc_val_dataset))):\n",
    "        # for i in tqdm(range(len(voc_val_dataset))):\n",
    "            data, targets_gt, boxes_gt, boxes_gt_yolo = voc_val_dataset[i] # 정답 데이터, 레이블, bbox\n",
    "            target_all_mAP = np.concatenate([target_all_mAP,  targets_gt])\n",
    "\n",
    "            frame = data.clone().detach().mul(255).squeeze().numpy().astype(np.uint8).transpose([1,2,0])\n",
    "            frame = cv2.cvtColor(frame, cv2.COLOR_BGR2RGB) # opencv image need to convert BGR -> RGB\n",
    "\n",
    "            im_tensor = voc_transform(data.squeeze()).to(model.device).data.unsqueeze(0)\n",
    "            featuremaps = model(im_tensor)\n",
    "\n",
    "            preds_dist = textureDetectMultiChannel(featuremaps, stride=(0.25, 0.25), upsample=True)\n",
    "\n",
    "\n",
    "#             logit, boxes_adj = boxMaker(concatSobel(preds_dist, data).unsqueeze(0).data)\n",
    "            logit, boxes_adj = boxMaker(preds_dist.unsqueeze(0).data)\n",
    "            pred_d, pred = torch.max(logit, 1)\n",
    "        #     print('[Logit]', pred_d.float().sigmoid().item())\n",
    "            boxes_adj = cvt_yolobox(boxes_adj[:,pred.item()].detach().cpu().numpy(), frame.shape[:2])\n",
    "            iou = torchvision.ops.box_iou(box_cvt(torch.tensor(boxes_gt).cuda()), \n",
    "                                box_cvt(torch.tensor(boxes_adj).cuda())).item()\n",
    "            ious.append(iou)\n",
    "        #     print('[IOU]', iou)\n",
    "            isRight = pred.item()==targets_gt[0]\n",
    "            if isRight: correct+=1\n",
    "#             res = str(isRight)+' [GT]:'+str(targets_gt[0])+' [Pred]:'+str(pred.item())+' - '+str(pred_d.float().sigmoid().item())[:5]\n",
    "        #     print(res)  \n",
    "\n",
    "\n",
    "            preds_np = pred.cpu().numpy()     \n",
    "            for t in set(preds_np): # iterate all class // 현재는 하나만\n",
    "                keep_gt = targets_gt==t\n",
    "                keep_p = preds_np==t\n",
    "                _df = calc_tp_state(boxes_gt[keep_gt], boxes_adj[keep_p], pred_d.detach().float().sigmoid().cpu().numpy()[keep_p], filename='-', threshold_IOU=0.5) # class 하나만 가정, \n",
    "                _class = voc_classes[t]\n",
    "                dfs[_class] = dfs[_class].append(_df, ignore_index=True) # update df             \n",
    "        \n",
    "        # ------------- acc --------------\n",
    "        acc = correct/len(voc_val_dataset)\n",
    "\n",
    "        iou_mean = sum(ious)/len(ious)\n",
    "        # ----------------------ap------------------------    \n",
    "        AP_list = []\n",
    "        df_res_list = {}\n",
    "        for cls in voc_classes:\n",
    "            AP, df_res = calc_AP(voc_classes, cls, target_all_mAP, dfs)\n",
    "            AP_list.append(AP)\n",
    "            df_res_list[cls] = df_res\n",
    "        AP_list = np.array(AP_list)\n",
    "\n",
    "        mAP = AP_list.mean()\n",
    "\n",
    "        endTime = time.time()\n",
    "        print('[Duration]:', int(endTime-startTime)//60, 'min', int(endTime-startTime)%60, 'sec')\n",
    "        print('[SHOT]:',shot, '[Acc]:',acc, '[mAP]:', mAP, '[IOU-mean]:',iou_mean)        \n",
    "        for c,ap in zip(voc_classes, AP_list):\n",
    "            print(c, '-', str(ap)[:6])\n",
    "\n",
    "        # save result\n",
    "        result = pd.Series([str(datetime.now())[:19], boxMakerPath, referenceImgDirPath, root_dir, similarity,\n",
    "                            shot, trainData, memo, acc, mAP, iou_mean, *AP_list], index=cols)\n",
    "        res_df = res_df.append(pd.Series(result, index=cols), ignore_index=True)\n",
    "        res_df.to_csv(savePath,index=False)\n",
    "        res_df.to_csv(savePath+'.bak',index=False)    "
   ]
  },
  {
   "cell_type": "code",
   "execution_count": 14,
   "metadata": {
    "scrolled": true
   },
   "outputs": [
    {
     "data": {
      "application/vnd.jupyter.widget-view+json": {
       "model_id": "651c985b15b242daae97fe7925929d2d",
       "version_major": 2,
       "version_minor": 0
      },
      "text/plain": [
       "A Jupyter Widget"
      ]
     },
     "metadata": {},
     "output_type": "display_data"
    },
    {
     "name": "stdout",
     "output_type": "stream",
     "text": [
      "--------------- iter: 0 shot: 1 ---------------\n"
     ]
    },
    {
     "data": {
      "application/vnd.jupyter.widget-view+json": {
       "model_id": "9bd76527c17a4f7881a08eba4fb3659e",
       "version_major": 2,
       "version_minor": 0
      },
      "text/plain": [
       "A Jupyter Widget"
      ]
     },
     "metadata": {},
     "output_type": "display_data"
    },
    {
     "data": {
      "application/vnd.jupyter.widget-view+json": {
       "model_id": "fe0ed405895448b4be80762c83dfdc9c",
       "version_major": 2,
       "version_minor": 0
      },
      "text/plain": [
       "A Jupyter Widget"
      ]
     },
     "metadata": {},
     "output_type": "display_data"
    },
    {
     "name": "stdout",
     "output_type": "stream",
     "text": [
      "[Duration]: 0 min 45 sec\n",
      "[SHOT]: 1 [Acc]: 0.9241706161137441 [mAP]: 0.5088249780898354 [IOU-mean]: 0.5107237977368572\n",
      "AHC-ONLY FOR MAN LOTION - 0.3883\n",
      "APIEU-데카소사이드 시카 겔 데이크림 - 0.6293\n",
      "--------------- iter: 0 shot: 3 ---------------\n"
     ]
    },
    {
     "data": {
      "application/vnd.jupyter.widget-view+json": {
       "model_id": "c8b37fa0c240404aa581474a0e92b90a",
       "version_major": 2,
       "version_minor": 0
      },
      "text/plain": [
       "A Jupyter Widget"
      ]
     },
     "metadata": {},
     "output_type": "display_data"
    },
    {
     "data": {
      "application/vnd.jupyter.widget-view+json": {
       "model_id": "f9d66bd054fb4d02ad404cf575d49941",
       "version_major": 2,
       "version_minor": 0
      },
      "text/plain": [
       "A Jupyter Widget"
      ]
     },
     "metadata": {},
     "output_type": "display_data"
    },
    {
     "name": "stdout",
     "output_type": "stream",
     "text": [
      "[Duration]: 0 min 46 sec\n",
      "[SHOT]: 3 [Acc]: 0.981042654028436 [mAP]: 0.7625341607824478 [IOU-mean]: 0.5784421860818615\n",
      "AHC-ONLY FOR MAN LOTION - 0.8478\n",
      "APIEU-데카소사이드 시카 겔 데이크림 - 0.6772\n",
      "--------------- iter: 0 shot: 5 ---------------\n"
     ]
    },
    {
     "data": {
      "application/vnd.jupyter.widget-view+json": {
       "model_id": "372e92d1419e474489b3046bb9c58a2d",
       "version_major": 2,
       "version_minor": 0
      },
      "text/plain": [
       "A Jupyter Widget"
      ]
     },
     "metadata": {},
     "output_type": "display_data"
    },
    {
     "data": {
      "application/vnd.jupyter.widget-view+json": {
       "model_id": "031b91990b5e491db026b42a01bd97eb",
       "version_major": 2,
       "version_minor": 0
      },
      "text/plain": [
       "A Jupyter Widget"
      ]
     },
     "metadata": {},
     "output_type": "display_data"
    },
    {
     "name": "stdout",
     "output_type": "stream",
     "text": [
      "[Duration]: 0 min 45 sec\n",
      "[SHOT]: 5 [Acc]: 0.985781990521327 [mAP]: 0.6988482248659652 [IOU-mean]: 0.5729257039972956\n",
      "AHC-ONLY FOR MAN LOTION - 0.7612\n",
      "APIEU-데카소사이드 시카 겔 데이크림 - 0.6364\n",
      "--------------- iter: 0 shot: 10 ---------------\n"
     ]
    },
    {
     "data": {
      "application/vnd.jupyter.widget-view+json": {
       "model_id": "0448dabcedfa4492bc3fed1d96f4563b",
       "version_major": 2,
       "version_minor": 0
      },
      "text/plain": [
       "A Jupyter Widget"
      ]
     },
     "metadata": {},
     "output_type": "display_data"
    },
    {
     "data": {
      "application/vnd.jupyter.widget-view+json": {
       "model_id": "ac698f88d958435e8cc9476fbf03e877",
       "version_major": 2,
       "version_minor": 0
      },
      "text/plain": [
       "A Jupyter Widget"
      ]
     },
     "metadata": {},
     "output_type": "display_data"
    },
    {
     "ename": "KeyboardInterrupt",
     "evalue": "",
     "output_type": "error",
     "traceback": [
      "\u001b[1;31m---------------------------------------------------------------------------\u001b[0m",
      "\u001b[1;31mKeyboardInterrupt\u001b[0m                         Traceback (most recent call last)",
      "\u001b[1;32m<ipython-input-14-d09b86835d46>\u001b[0m in \u001b[0;36m<module>\u001b[1;34m()\u001b[0m\n\u001b[0;32m    120\u001b[0m             \u001b[0mpred_d\u001b[0m\u001b[1;33m,\u001b[0m \u001b[0mpred\u001b[0m \u001b[1;33m=\u001b[0m \u001b[0mtorch\u001b[0m\u001b[1;33m.\u001b[0m\u001b[0mmax\u001b[0m\u001b[1;33m(\u001b[0m\u001b[0mlogit\u001b[0m\u001b[1;33m,\u001b[0m \u001b[1;36m1\u001b[0m\u001b[1;33m)\u001b[0m\u001b[1;33m\u001b[0m\u001b[0m\n\u001b[0;32m    121\u001b[0m         \u001b[1;31m#     print('[Logit]', pred_d.float().sigmoid().item())\u001b[0m\u001b[1;33m\u001b[0m\u001b[1;33m\u001b[0m\u001b[0m\n\u001b[1;32m--> 122\u001b[1;33m             \u001b[0mboxes_adj\u001b[0m \u001b[1;33m=\u001b[0m \u001b[0mcvt_yolobox\u001b[0m\u001b[1;33m(\u001b[0m\u001b[0mboxes_adj\u001b[0m\u001b[1;33m[\u001b[0m\u001b[1;33m:\u001b[0m\u001b[1;33m,\u001b[0m\u001b[0mpred\u001b[0m\u001b[1;33m.\u001b[0m\u001b[0mitem\u001b[0m\u001b[1;33m(\u001b[0m\u001b[1;33m)\u001b[0m\u001b[1;33m]\u001b[0m\u001b[1;33m.\u001b[0m\u001b[0mdetach\u001b[0m\u001b[1;33m(\u001b[0m\u001b[1;33m)\u001b[0m\u001b[1;33m.\u001b[0m\u001b[0mcpu\u001b[0m\u001b[1;33m(\u001b[0m\u001b[1;33m)\u001b[0m\u001b[1;33m.\u001b[0m\u001b[0mnumpy\u001b[0m\u001b[1;33m(\u001b[0m\u001b[1;33m)\u001b[0m\u001b[1;33m,\u001b[0m \u001b[0mframe\u001b[0m\u001b[1;33m.\u001b[0m\u001b[0mshape\u001b[0m\u001b[1;33m[\u001b[0m\u001b[1;33m:\u001b[0m\u001b[1;36m2\u001b[0m\u001b[1;33m]\u001b[0m\u001b[1;33m)\u001b[0m\u001b[1;33m\u001b[0m\u001b[0m\n\u001b[0m\u001b[0;32m    123\u001b[0m             iou = torchvision.ops.box_iou(box_cvt(torch.tensor(boxes_gt).cuda()), \n\u001b[0;32m    124\u001b[0m                                 box_cvt(torch.tensor(boxes_adj).cuda())).item()\n",
      "\u001b[1;31mKeyboardInterrupt\u001b[0m: "
     ]
    }
   ],
   "source": [
    "import time\n",
    "from datetime import datetime\n",
    "#  ref - floor, frontview, office // val - floor2, frontview2, wall\n",
    "# validation_21, reference_21_train // reference_21_val // all_10\n",
    "# 21 10 바꾸기 주의, MyDataset도 바꿔야함 -10 해야함\n",
    "root_dir = './references/all_2'\n",
    "class_path = './references/obj_2.names'\n",
    "# 21 10 바꾸기 주의, MyDataset도 바꿔야함 -10 해야함\n",
    "# root_dir = './references/validation_21'\n",
    "# class_path = './references/obj_21.names'\n",
    "\n",
    "# ---------------------------- val set 로드 ---------------------------------\n",
    "voc_val_dataset = MyDataset(root_dir, class_path, \n",
    "        transform=transforms.Compose([\n",
    "#         myRotation,\n",
    "#         transforms.RandomRotation(90, expand=True),\n",
    "        transforms.ToTensor()\n",
    "    ]))\n",
    "\n",
    "voc_transform = transforms.Compose([\n",
    "        transforms.Normalize([0.485, 0.456, 0.406], [0.229, 0.224, 0.225])\n",
    "    ])\n",
    "\n",
    "voc_classes = voc_val_dataset.classes\n",
    "# assert val_dataset.classes==sample_dir_list, \"샘플링 클래스와 데이터로더 클래스가 다름\"\n",
    "# ---------------------------- val set 정확도 측정 ---------------------------------\n",
    "\n",
    "cols = ['timestamp', 'model', 'ref', 'val', 'similarity', 'shot', 'train-data', 'memo', 'acc', 'mAP', 'IOU',\n",
    "                *['AP'+str(c) for c in range(2)]]\n",
    "savePath = 'mAP-result-log-1218-attn2.csv'\n",
    "try:\n",
    "    res_df = pd.read_csv(savePath)\n",
    "except:\n",
    "    res_df = pd.DataFrame(columns=cols)\n",
    "\n",
    "    \n",
    "fps=0\n",
    "SHOW_IMAGE = False # 이미지 볼지 말지\n",
    "# USE_KNN = False\n",
    "\n",
    "# boxMakerPath = 'heatmap-3chan-1219.pth'\n",
    "boxMakerPath = 'heatmap-6chan-1223-no-attn.pth'\n",
    "# boxMakerPath = 'heatmap-6chan-1218-21.pth'\n",
    "# boxMakerPath = 'heatmap-7chan-1217.pth' # edge\n",
    "# boxMakerPath = 'heatmap-9chan-1219.pth'\n",
    "\n",
    "boxMaker.load_state_dict(torch.load('torch_models/'+boxMakerPath, map_location='cuda:0'))\n",
    "boxMaker.eval()\n",
    "\n",
    "memo = 'decay 0.1 per 2 chance'\n",
    "trainData = 'voc 11'\n",
    "similarity = 'cosine'\n",
    "mmm = []\n",
    "\"\"\"\n",
    "전체 피처 데이터 재생성\n",
    "\"\"\"\n",
    "for ii in range(30):\n",
    "    for shot in tqdm([1,3,5,10]):\n",
    "        print('--------------- iter:', ii, 'shot:', shot, '---------------')\n",
    "        startTime = time.time()\n",
    "\n",
    "#         # 1,3 shot은 고른걸로\n",
    "#         if shot in [1]: \n",
    "#             if ii==0: referenceImgDirPath = './references/images_trimed_10-%dshot'%shot # 10 classe\n",
    "#             else: continue\n",
    "#         else: referenceImgDirPath = './references/images_trimed_10-10shot' # 10 classes\n",
    "# #         referenceImgDirPath = './references/images_trimed_21' # 21 classes\n",
    "        if shot in [1,3,5]: referenceImgDirPath = './references/images_trimed_2-10shot' # 21 classes\n",
    "        else: referenceImgDirPath = './references/images_trimed_2' # 21 classes      \n",
    "\n",
    "        featuresPath = 'cosmetic_features_cos.csv'\n",
    "        meanPath = 'cosmetic_means_cos.csv'\n",
    "        makeAllReferenceCSV(referenceImgDirPath, featuresPath, meanPath, n_sample=shot)\n",
    "\n",
    "\n",
    "        # -------------- n개 클래스만 validation 샘플링 세팅 및 폴더정리 ----------------\n",
    "        reference_dataset = torchvision.datasets.ImageFolder(\n",
    "            root=referenceImgDirPath,\n",
    "            transform=transforms.Compose([\n",
    "                transforms.ToTensor(),\n",
    "                transforms.Normalize([0.485, 0.456, 0.406], [0.229, 0.224, 0.225])\n",
    "            ])\n",
    "        )\n",
    "        sample_dir_list = reference_dataset.classes\n",
    "\n",
    "        # -------------- 레퍼런스 데이터에서 n개 클래스 임베딩 & 레이블 & means 추출 -----------------\n",
    "        featuresPath = 'cosmetic_features_cos.csv'\n",
    "        meanPath = 'cosmetic_means_cos.csv'\n",
    "\n",
    "        df_ref_featere_sampled, reference_means_sampled = get_sample_reference(featuresPath, meanPath, showData=False)\n",
    "\n",
    "        # ---------------------------- 레퍼런스셋 로드 및 임베딩 세팅 ---------------------------------\n",
    "        model.setReferenceDataset(sample_dir_list, df_ref_featere_sampled, reference_means_sampled)\n",
    "\n",
    "\n",
    "\n",
    "        # ---------------detection-------------\n",
    "        target_all_mAP = []\n",
    "        ious = []\n",
    "        dfs = {c:pd.DataFrame(columns=['image', 'confidience', 'TP', 'IOU']) for c in voc_classes} # average precision 저장\n",
    "        correct = 0\n",
    "        \n",
    "        # print('[num_class]:', len(sample_dir_list), sample_dir_list)\n",
    "        for i in tqdm(np.random.permutation(len(voc_val_dataset))):\n",
    "        # for i in tqdm(range(len(voc_val_dataset))):\n",
    "            data, targets_gt, boxes_gt, boxes_gt_yolo = voc_val_dataset[i] # 정답 데이터, 레이블, bbox\n",
    "            target_all_mAP = np.concatenate([target_all_mAP,  targets_gt])\n",
    "\n",
    "            frame = data.clone().detach().mul(255).squeeze().numpy().astype(np.uint8).transpose([1,2,0])\n",
    "            frame = cv2.cvtColor(frame, cv2.COLOR_BGR2RGB) # opencv image need to convert BGR -> RGB\n",
    "\n",
    "            im_tensor = voc_transform(data.squeeze()).to(model.device).data.unsqueeze(0)\n",
    "            featuremaps = model(im_tensor)\n",
    "\n",
    "            preds_dist = textureDetectMultiChannel(featuremaps, stride=(0.25, 0.25), upsample=True)\n",
    "\n",
    "\n",
    "#             logit, boxes_adj = boxMaker(concatSobel(preds_dist, data).unsqueeze(0).data)\n",
    "            logit, boxes_adj = boxMaker(preds_dist.unsqueeze(0).data)\n",
    "            pred_d, pred = torch.max(logit, 1)\n",
    "        #     print('[Logit]', pred_d.float().sigmoid().item())\n",
    "            boxes_adj = cvt_yolobox(boxes_adj[:,pred.item()].detach().cpu().numpy(), frame.shape[:2])\n",
    "            iou = torchvision.ops.box_iou(box_cvt(torch.tensor(boxes_gt).cuda()), \n",
    "                                box_cvt(torch.tensor(boxes_adj).cuda())).item()\n",
    "            ious.append(iou)\n",
    "        #     print('[IOU]', iou)\n",
    "            isRight = pred.item()==targets_gt[0]\n",
    "            if isRight: correct+=1\n",
    "#             res = str(isRight)+' [GT]:'+str(targets_gt[0])+' [Pred]:'+str(pred.item())+' - '+str(pred_d.float().sigmoid().item())[:5]\n",
    "        #     print(res)  \n",
    "\n",
    "\n",
    "            preds_np = pred.cpu().numpy()     \n",
    "            for t in set(preds_np): # iterate all class // 현재는 하나만\n",
    "                keep_gt = targets_gt==t\n",
    "                keep_p = preds_np==t\n",
    "                _df = calc_tp_state(boxes_gt[keep_gt], boxes_adj[keep_p], pred_d.detach().float().sigmoid().cpu().numpy()[keep_p], filename='-', threshold_IOU=0.5) # class 하나만 가정, \n",
    "                _class = voc_classes[t]\n",
    "                dfs[_class] = dfs[_class].append(_df, ignore_index=True) # update df             \n",
    "        \n",
    "        # ------------- acc --------------\n",
    "        acc = correct/len(voc_val_dataset)\n",
    "\n",
    "        iou_mean = sum(ious)/len(ious)\n",
    "        # ----------------------ap------------------------    \n",
    "        AP_list = []\n",
    "        df_res_list = {}\n",
    "        for cls in voc_classes:\n",
    "            AP, df_res = calc_AP(voc_classes, cls, target_all_mAP, dfs)\n",
    "            AP_list.append(AP)\n",
    "            df_res_list[cls] = df_res\n",
    "        AP_list = np.array(AP_list)\n",
    "\n",
    "        mAP = AP_list.mean()\n",
    "\n",
    "        endTime = time.time()\n",
    "        print('[Duration]:', int(endTime-startTime)//60, 'min', int(endTime-startTime)%60, 'sec')\n",
    "        print('[SHOT]:',shot, '[Acc]:',acc, '[mAP]:', mAP, '[IOU-mean]:',iou_mean)        \n",
    "        for c,ap in zip(voc_classes, AP_list):\n",
    "            print(c, '-', str(ap)[:6])\n",
    "\n",
    "        mmm.append(mAP)\n",
    "#         # save result\n",
    "#         result = pd.Series([str(datetime.now())[:19], boxMakerPath, referenceImgDirPath, root_dir, similarity,\n",
    "#                             shot, trainData, memo, acc, mAP, iou_mean, *AP_list], index=cols)\n",
    "#         res_df = res_df.append(pd.Series(result, index=cols), ignore_index=True)\n",
    "#         res_df.to_csv(savePath,index=False)\n",
    "#         res_df.to_csv(savePath+'.bak',index=False)    "
   ]
  },
  {
   "cell_type": "code",
   "execution_count": 13,
   "metadata": {},
   "outputs": [
    {
     "data": {
      "text/html": [
       "<div>\n",
       "<style>\n",
       "    .dataframe thead tr:only-child th {\n",
       "        text-align: right;\n",
       "    }\n",
       "\n",
       "    .dataframe thead th {\n",
       "        text-align: left;\n",
       "    }\n",
       "\n",
       "    .dataframe tbody tr th {\n",
       "        vertical-align: top;\n",
       "    }\n",
       "</style>\n",
       "<table border=\"1\" class=\"dataframe\">\n",
       "  <thead>\n",
       "    <tr style=\"text-align: right;\">\n",
       "      <th></th>\n",
       "      <th>timestamp</th>\n",
       "      <th>model</th>\n",
       "      <th>ref</th>\n",
       "      <th>val</th>\n",
       "      <th>similarity</th>\n",
       "      <th>shot</th>\n",
       "      <th>train-data</th>\n",
       "      <th>memo</th>\n",
       "      <th>acc</th>\n",
       "      <th>mAP</th>\n",
       "      <th>IOU</th>\n",
       "      <th>AP0</th>\n",
       "      <th>AP1</th>\n",
       "    </tr>\n",
       "  </thead>\n",
       "  <tbody>\n",
       "    <tr>\n",
       "      <th>0</th>\n",
       "      <td>2019-12-22 17:42:36</td>\n",
       "      <td>heatmap-6chan-1216.pth</td>\n",
       "      <td>./references/images_trimed_2-10shot</td>\n",
       "      <td>./references/all_2</td>\n",
       "      <td>cosine</td>\n",
       "      <td>1</td>\n",
       "      <td>voc 11</td>\n",
       "      <td>decay 0.1 per 2 chance</td>\n",
       "      <td>0.895735</td>\n",
       "      <td>0.468858</td>\n",
       "      <td>0.494971</td>\n",
       "      <td>0.397946</td>\n",
       "      <td>0.539771</td>\n",
       "    </tr>\n",
       "    <tr>\n",
       "      <th>1</th>\n",
       "      <td>2019-12-22 17:43:22</td>\n",
       "      <td>heatmap-6chan-1216.pth</td>\n",
       "      <td>./references/images_trimed_2-10shot</td>\n",
       "      <td>./references/all_2</td>\n",
       "      <td>cosine</td>\n",
       "      <td>3</td>\n",
       "      <td>voc 11</td>\n",
       "      <td>decay 0.1 per 2 chance</td>\n",
       "      <td>0.981043</td>\n",
       "      <td>0.489954</td>\n",
       "      <td>0.536775</td>\n",
       "      <td>0.471694</td>\n",
       "      <td>0.508214</td>\n",
       "    </tr>\n",
       "    <tr>\n",
       "      <th>2</th>\n",
       "      <td>2019-12-22 17:44:08</td>\n",
       "      <td>heatmap-6chan-1216.pth</td>\n",
       "      <td>./references/images_trimed_2-10shot</td>\n",
       "      <td>./references/all_2</td>\n",
       "      <td>cosine</td>\n",
       "      <td>5</td>\n",
       "      <td>voc 11</td>\n",
       "      <td>decay 0.1 per 2 chance</td>\n",
       "      <td>0.990521</td>\n",
       "      <td>0.553405</td>\n",
       "      <td>0.538578</td>\n",
       "      <td>0.609672</td>\n",
       "      <td>0.497139</td>\n",
       "    </tr>\n",
       "    <tr>\n",
       "      <th>3</th>\n",
       "      <td>2019-12-22 17:44:54</td>\n",
       "      <td>heatmap-6chan-1216.pth</td>\n",
       "      <td>./references/images_trimed_2</td>\n",
       "      <td>./references/all_2</td>\n",
       "      <td>cosine</td>\n",
       "      <td>10</td>\n",
       "      <td>voc 11</td>\n",
       "      <td>decay 0.1 per 2 chance</td>\n",
       "      <td>0.981043</td>\n",
       "      <td>0.508362</td>\n",
       "      <td>0.519684</td>\n",
       "      <td>0.527978</td>\n",
       "      <td>0.488746</td>\n",
       "    </tr>\n",
       "    <tr>\n",
       "      <th>4</th>\n",
       "      <td>2019-12-22 17:45:39</td>\n",
       "      <td>heatmap-6chan-1216.pth</td>\n",
       "      <td>./references/images_trimed_2-10shot</td>\n",
       "      <td>./references/all_2</td>\n",
       "      <td>cosine</td>\n",
       "      <td>1</td>\n",
       "      <td>voc 11</td>\n",
       "      <td>decay 0.1 per 2 chance</td>\n",
       "      <td>0.952607</td>\n",
       "      <td>0.462381</td>\n",
       "      <td>0.508459</td>\n",
       "      <td>0.482064</td>\n",
       "      <td>0.442698</td>\n",
       "    </tr>\n",
       "    <tr>\n",
       "      <th>5</th>\n",
       "      <td>2019-12-22 17:46:25</td>\n",
       "      <td>heatmap-6chan-1216.pth</td>\n",
       "      <td>./references/images_trimed_2-10shot</td>\n",
       "      <td>./references/all_2</td>\n",
       "      <td>cosine</td>\n",
       "      <td>3</td>\n",
       "      <td>voc 11</td>\n",
       "      <td>decay 0.1 per 2 chance</td>\n",
       "      <td>0.985782</td>\n",
       "      <td>0.548734</td>\n",
       "      <td>0.534870</td>\n",
       "      <td>0.629901</td>\n",
       "      <td>0.467566</td>\n",
       "    </tr>\n",
       "    <tr>\n",
       "      <th>6</th>\n",
       "      <td>2019-12-22 17:47:10</td>\n",
       "      <td>heatmap-6chan-1216.pth</td>\n",
       "      <td>./references/images_trimed_2-10shot</td>\n",
       "      <td>./references/all_2</td>\n",
       "      <td>cosine</td>\n",
       "      <td>5</td>\n",
       "      <td>voc 11</td>\n",
       "      <td>decay 0.1 per 2 chance</td>\n",
       "      <td>0.990521</td>\n",
       "      <td>0.561403</td>\n",
       "      <td>0.543246</td>\n",
       "      <td>0.610180</td>\n",
       "      <td>0.512626</td>\n",
       "    </tr>\n",
       "    <tr>\n",
       "      <th>7</th>\n",
       "      <td>2019-12-22 17:47:56</td>\n",
       "      <td>heatmap-6chan-1216.pth</td>\n",
       "      <td>./references/images_trimed_2</td>\n",
       "      <td>./references/all_2</td>\n",
       "      <td>cosine</td>\n",
       "      <td>10</td>\n",
       "      <td>voc 11</td>\n",
       "      <td>decay 0.1 per 2 chance</td>\n",
       "      <td>0.990521</td>\n",
       "      <td>0.450853</td>\n",
       "      <td>0.529316</td>\n",
       "      <td>0.447112</td>\n",
       "      <td>0.454593</td>\n",
       "    </tr>\n",
       "    <tr>\n",
       "      <th>8</th>\n",
       "      <td>2019-12-22 17:48:42</td>\n",
       "      <td>heatmap-6chan-1216.pth</td>\n",
       "      <td>./references/images_trimed_2-10shot</td>\n",
       "      <td>./references/all_2</td>\n",
       "      <td>cosine</td>\n",
       "      <td>1</td>\n",
       "      <td>voc 11</td>\n",
       "      <td>decay 0.1 per 2 chance</td>\n",
       "      <td>0.962085</td>\n",
       "      <td>0.508596</td>\n",
       "      <td>0.530790</td>\n",
       "      <td>0.646610</td>\n",
       "      <td>0.370582</td>\n",
       "    </tr>\n",
       "    <tr>\n",
       "      <th>9</th>\n",
       "      <td>2019-12-22 17:49:27</td>\n",
       "      <td>heatmap-6chan-1216.pth</td>\n",
       "      <td>./references/images_trimed_2-10shot</td>\n",
       "      <td>./references/all_2</td>\n",
       "      <td>cosine</td>\n",
       "      <td>3</td>\n",
       "      <td>voc 11</td>\n",
       "      <td>decay 0.1 per 2 chance</td>\n",
       "      <td>0.981043</td>\n",
       "      <td>0.579386</td>\n",
       "      <td>0.553185</td>\n",
       "      <td>0.686387</td>\n",
       "      <td>0.472384</td>\n",
       "    </tr>\n",
       "    <tr>\n",
       "      <th>10</th>\n",
       "      <td>2019-12-22 17:50:12</td>\n",
       "      <td>heatmap-6chan-1216.pth</td>\n",
       "      <td>./references/images_trimed_2-10shot</td>\n",
       "      <td>./references/all_2</td>\n",
       "      <td>cosine</td>\n",
       "      <td>5</td>\n",
       "      <td>voc 11</td>\n",
       "      <td>decay 0.1 per 2 chance</td>\n",
       "      <td>0.985782</td>\n",
       "      <td>0.572074</td>\n",
       "      <td>0.542260</td>\n",
       "      <td>0.599649</td>\n",
       "      <td>0.544499</td>\n",
       "    </tr>\n",
       "    <tr>\n",
       "      <th>11</th>\n",
       "      <td>2019-12-22 17:50:58</td>\n",
       "      <td>heatmap-6chan-1216.pth</td>\n",
       "      <td>./references/images_trimed_2</td>\n",
       "      <td>./references/all_2</td>\n",
       "      <td>cosine</td>\n",
       "      <td>10</td>\n",
       "      <td>voc 11</td>\n",
       "      <td>decay 0.1 per 2 chance</td>\n",
       "      <td>0.995261</td>\n",
       "      <td>0.535864</td>\n",
       "      <td>0.534074</td>\n",
       "      <td>0.608839</td>\n",
       "      <td>0.462889</td>\n",
       "    </tr>\n",
       "    <tr>\n",
       "      <th>12</th>\n",
       "      <td>2019-12-22 17:51:43</td>\n",
       "      <td>heatmap-6chan-1216.pth</td>\n",
       "      <td>./references/images_trimed_2-10shot</td>\n",
       "      <td>./references/all_2</td>\n",
       "      <td>cosine</td>\n",
       "      <td>1</td>\n",
       "      <td>voc 11</td>\n",
       "      <td>decay 0.1 per 2 chance</td>\n",
       "      <td>0.985782</td>\n",
       "      <td>0.565255</td>\n",
       "      <td>0.542737</td>\n",
       "      <td>0.660910</td>\n",
       "      <td>0.469600</td>\n",
       "    </tr>\n",
       "    <tr>\n",
       "      <th>13</th>\n",
       "      <td>2019-12-22 17:52:29</td>\n",
       "      <td>heatmap-6chan-1216.pth</td>\n",
       "      <td>./references/images_trimed_2-10shot</td>\n",
       "      <td>./references/all_2</td>\n",
       "      <td>cosine</td>\n",
       "      <td>3</td>\n",
       "      <td>voc 11</td>\n",
       "      <td>decay 0.1 per 2 chance</td>\n",
       "      <td>0.981043</td>\n",
       "      <td>0.555215</td>\n",
       "      <td>0.539618</td>\n",
       "      <td>0.607613</td>\n",
       "      <td>0.502818</td>\n",
       "    </tr>\n",
       "    <tr>\n",
       "      <th>14</th>\n",
       "      <td>2019-12-22 17:53:14</td>\n",
       "      <td>heatmap-6chan-1216.pth</td>\n",
       "      <td>./references/images_trimed_2-10shot</td>\n",
       "      <td>./references/all_2</td>\n",
       "      <td>cosine</td>\n",
       "      <td>5</td>\n",
       "      <td>voc 11</td>\n",
       "      <td>decay 0.1 per 2 chance</td>\n",
       "      <td>0.990521</td>\n",
       "      <td>0.550617</td>\n",
       "      <td>0.536711</td>\n",
       "      <td>0.622211</td>\n",
       "      <td>0.479024</td>\n",
       "    </tr>\n",
       "    <tr>\n",
       "      <th>15</th>\n",
       "      <td>2019-12-22 17:54:00</td>\n",
       "      <td>heatmap-6chan-1216.pth</td>\n",
       "      <td>./references/images_trimed_2</td>\n",
       "      <td>./references/all_2</td>\n",
       "      <td>cosine</td>\n",
       "      <td>10</td>\n",
       "      <td>voc 11</td>\n",
       "      <td>decay 0.1 per 2 chance</td>\n",
       "      <td>0.981043</td>\n",
       "      <td>0.531918</td>\n",
       "      <td>0.531499</td>\n",
       "      <td>0.589388</td>\n",
       "      <td>0.474448</td>\n",
       "    </tr>\n",
       "    <tr>\n",
       "      <th>16</th>\n",
       "      <td>2019-12-22 17:54:46</td>\n",
       "      <td>heatmap-6chan-1216.pth</td>\n",
       "      <td>./references/images_trimed_2-10shot</td>\n",
       "      <td>./references/all_2</td>\n",
       "      <td>cosine</td>\n",
       "      <td>1</td>\n",
       "      <td>voc 11</td>\n",
       "      <td>decay 0.1 per 2 chance</td>\n",
       "      <td>0.976303</td>\n",
       "      <td>0.562700</td>\n",
       "      <td>0.518869</td>\n",
       "      <td>0.599136</td>\n",
       "      <td>0.526264</td>\n",
       "    </tr>\n",
       "    <tr>\n",
       "      <th>17</th>\n",
       "      <td>2019-12-22 17:55:31</td>\n",
       "      <td>heatmap-6chan-1216.pth</td>\n",
       "      <td>./references/images_trimed_2-10shot</td>\n",
       "      <td>./references/all_2</td>\n",
       "      <td>cosine</td>\n",
       "      <td>3</td>\n",
       "      <td>voc 11</td>\n",
       "      <td>decay 0.1 per 2 chance</td>\n",
       "      <td>0.985782</td>\n",
       "      <td>0.513944</td>\n",
       "      <td>0.534023</td>\n",
       "      <td>0.572618</td>\n",
       "      <td>0.455269</td>\n",
       "    </tr>\n",
       "    <tr>\n",
       "      <th>18</th>\n",
       "      <td>2019-12-22 17:56:17</td>\n",
       "      <td>heatmap-6chan-1216.pth</td>\n",
       "      <td>./references/images_trimed_2-10shot</td>\n",
       "      <td>./references/all_2</td>\n",
       "      <td>cosine</td>\n",
       "      <td>5</td>\n",
       "      <td>voc 11</td>\n",
       "      <td>decay 0.1 per 2 chance</td>\n",
       "      <td>0.995261</td>\n",
       "      <td>0.555420</td>\n",
       "      <td>0.537962</td>\n",
       "      <td>0.624060</td>\n",
       "      <td>0.486780</td>\n",
       "    </tr>\n",
       "    <tr>\n",
       "      <th>19</th>\n",
       "      <td>2019-12-22 17:57:03</td>\n",
       "      <td>heatmap-6chan-1216.pth</td>\n",
       "      <td>./references/images_trimed_2</td>\n",
       "      <td>./references/all_2</td>\n",
       "      <td>cosine</td>\n",
       "      <td>10</td>\n",
       "      <td>voc 11</td>\n",
       "      <td>decay 0.1 per 2 chance</td>\n",
       "      <td>0.985782</td>\n",
       "      <td>0.600598</td>\n",
       "      <td>0.543962</td>\n",
       "      <td>0.620027</td>\n",
       "      <td>0.581168</td>\n",
       "    </tr>\n",
       "    <tr>\n",
       "      <th>20</th>\n",
       "      <td>2019-12-22 17:57:48</td>\n",
       "      <td>heatmap-6chan-1216.pth</td>\n",
       "      <td>./references/images_trimed_2-10shot</td>\n",
       "      <td>./references/all_2</td>\n",
       "      <td>cosine</td>\n",
       "      <td>1</td>\n",
       "      <td>voc 11</td>\n",
       "      <td>decay 0.1 per 2 chance</td>\n",
       "      <td>0.919431</td>\n",
       "      <td>0.500833</td>\n",
       "      <td>0.499672</td>\n",
       "      <td>0.490548</td>\n",
       "      <td>0.511118</td>\n",
       "    </tr>\n",
       "    <tr>\n",
       "      <th>21</th>\n",
       "      <td>2019-12-22 17:58:34</td>\n",
       "      <td>heatmap-6chan-1216.pth</td>\n",
       "      <td>./references/images_trimed_2-10shot</td>\n",
       "      <td>./references/all_2</td>\n",
       "      <td>cosine</td>\n",
       "      <td>3</td>\n",
       "      <td>voc 11</td>\n",
       "      <td>decay 0.1 per 2 chance</td>\n",
       "      <td>0.976303</td>\n",
       "      <td>0.505226</td>\n",
       "      <td>0.530629</td>\n",
       "      <td>0.564620</td>\n",
       "      <td>0.445833</td>\n",
       "    </tr>\n",
       "    <tr>\n",
       "      <th>22</th>\n",
       "      <td>2019-12-22 17:59:19</td>\n",
       "      <td>heatmap-6chan-1216.pth</td>\n",
       "      <td>./references/images_trimed_2-10shot</td>\n",
       "      <td>./references/all_2</td>\n",
       "      <td>cosine</td>\n",
       "      <td>5</td>\n",
       "      <td>voc 11</td>\n",
       "      <td>decay 0.1 per 2 chance</td>\n",
       "      <td>0.966825</td>\n",
       "      <td>0.534640</td>\n",
       "      <td>0.528999</td>\n",
       "      <td>0.519389</td>\n",
       "      <td>0.549892</td>\n",
       "    </tr>\n",
       "    <tr>\n",
       "      <th>23</th>\n",
       "      <td>2019-12-22 18:00:05</td>\n",
       "      <td>heatmap-6chan-1216.pth</td>\n",
       "      <td>./references/images_trimed_2</td>\n",
       "      <td>./references/all_2</td>\n",
       "      <td>cosine</td>\n",
       "      <td>10</td>\n",
       "      <td>voc 11</td>\n",
       "      <td>decay 0.1 per 2 chance</td>\n",
       "      <td>0.985782</td>\n",
       "      <td>0.513557</td>\n",
       "      <td>0.524338</td>\n",
       "      <td>0.510547</td>\n",
       "      <td>0.516566</td>\n",
       "    </tr>\n",
       "    <tr>\n",
       "      <th>24</th>\n",
       "      <td>2019-12-22 18:00:50</td>\n",
       "      <td>heatmap-6chan-1216.pth</td>\n",
       "      <td>./references/images_trimed_2-10shot</td>\n",
       "      <td>./references/all_2</td>\n",
       "      <td>cosine</td>\n",
       "      <td>1</td>\n",
       "      <td>voc 11</td>\n",
       "      <td>decay 0.1 per 2 chance</td>\n",
       "      <td>0.981043</td>\n",
       "      <td>0.601753</td>\n",
       "      <td>0.549002</td>\n",
       "      <td>0.590322</td>\n",
       "      <td>0.613183</td>\n",
       "    </tr>\n",
       "    <tr>\n",
       "      <th>25</th>\n",
       "      <td>2019-12-22 18:01:35</td>\n",
       "      <td>heatmap-6chan-1216.pth</td>\n",
       "      <td>./references/images_trimed_2-10shot</td>\n",
       "      <td>./references/all_2</td>\n",
       "      <td>cosine</td>\n",
       "      <td>3</td>\n",
       "      <td>voc 11</td>\n",
       "      <td>decay 0.1 per 2 chance</td>\n",
       "      <td>0.985782</td>\n",
       "      <td>0.578106</td>\n",
       "      <td>0.533369</td>\n",
       "      <td>0.564252</td>\n",
       "      <td>0.591960</td>\n",
       "    </tr>\n",
       "    <tr>\n",
       "      <th>26</th>\n",
       "      <td>2019-12-22 18:02:21</td>\n",
       "      <td>heatmap-6chan-1216.pth</td>\n",
       "      <td>./references/images_trimed_2-10shot</td>\n",
       "      <td>./references/all_2</td>\n",
       "      <td>cosine</td>\n",
       "      <td>5</td>\n",
       "      <td>voc 11</td>\n",
       "      <td>decay 0.1 per 2 chance</td>\n",
       "      <td>0.990521</td>\n",
       "      <td>0.533590</td>\n",
       "      <td>0.548438</td>\n",
       "      <td>0.574772</td>\n",
       "      <td>0.492408</td>\n",
       "    </tr>\n",
       "    <tr>\n",
       "      <th>27</th>\n",
       "      <td>2019-12-22 18:03:07</td>\n",
       "      <td>heatmap-6chan-1216.pth</td>\n",
       "      <td>./references/images_trimed_2</td>\n",
       "      <td>./references/all_2</td>\n",
       "      <td>cosine</td>\n",
       "      <td>10</td>\n",
       "      <td>voc 11</td>\n",
       "      <td>decay 0.1 per 2 chance</td>\n",
       "      <td>0.990521</td>\n",
       "      <td>0.462162</td>\n",
       "      <td>0.511533</td>\n",
       "      <td>0.427667</td>\n",
       "      <td>0.496657</td>\n",
       "    </tr>\n",
       "    <tr>\n",
       "      <th>28</th>\n",
       "      <td>2019-12-22 18:03:52</td>\n",
       "      <td>heatmap-6chan-1216.pth</td>\n",
       "      <td>./references/images_trimed_2-10shot</td>\n",
       "      <td>./references/all_2</td>\n",
       "      <td>cosine</td>\n",
       "      <td>1</td>\n",
       "      <td>voc 11</td>\n",
       "      <td>decay 0.1 per 2 chance</td>\n",
       "      <td>0.895735</td>\n",
       "      <td>0.564612</td>\n",
       "      <td>0.518858</td>\n",
       "      <td>0.594266</td>\n",
       "      <td>0.534959</td>\n",
       "    </tr>\n",
       "    <tr>\n",
       "      <th>29</th>\n",
       "      <td>2019-12-22 18:04:37</td>\n",
       "      <td>heatmap-6chan-1216.pth</td>\n",
       "      <td>./references/images_trimed_2-10shot</td>\n",
       "      <td>./references/all_2</td>\n",
       "      <td>cosine</td>\n",
       "      <td>3</td>\n",
       "      <td>voc 11</td>\n",
       "      <td>decay 0.1 per 2 chance</td>\n",
       "      <td>0.981043</td>\n",
       "      <td>0.522932</td>\n",
       "      <td>0.542017</td>\n",
       "      <td>0.600336</td>\n",
       "      <td>0.445528</td>\n",
       "    </tr>\n",
       "    <tr>\n",
       "      <th>...</th>\n",
       "      <td>...</td>\n",
       "      <td>...</td>\n",
       "      <td>...</td>\n",
       "      <td>...</td>\n",
       "      <td>...</td>\n",
       "      <td>...</td>\n",
       "      <td>...</td>\n",
       "      <td>...</td>\n",
       "      <td>...</td>\n",
       "      <td>...</td>\n",
       "      <td>...</td>\n",
       "      <td>...</td>\n",
       "      <td>...</td>\n",
       "    </tr>\n",
       "    <tr>\n",
       "      <th>90</th>\n",
       "      <td>2019-12-22 18:50:56</td>\n",
       "      <td>heatmap-6chan-1216.pth</td>\n",
       "      <td>./references/images_trimed_2-10shot</td>\n",
       "      <td>./references/all_2</td>\n",
       "      <td>cosine</td>\n",
       "      <td>5</td>\n",
       "      <td>voc 11</td>\n",
       "      <td>decay 0.1 per 2 chance</td>\n",
       "      <td>0.985782</td>\n",
       "      <td>0.547235</td>\n",
       "      <td>0.536411</td>\n",
       "      <td>0.607414</td>\n",
       "      <td>0.487057</td>\n",
       "    </tr>\n",
       "    <tr>\n",
       "      <th>91</th>\n",
       "      <td>2019-12-22 18:51:42</td>\n",
       "      <td>heatmap-6chan-1216.pth</td>\n",
       "      <td>./references/images_trimed_2</td>\n",
       "      <td>./references/all_2</td>\n",
       "      <td>cosine</td>\n",
       "      <td>10</td>\n",
       "      <td>voc 11</td>\n",
       "      <td>decay 0.1 per 2 chance</td>\n",
       "      <td>0.995261</td>\n",
       "      <td>0.409202</td>\n",
       "      <td>0.492640</td>\n",
       "      <td>0.416071</td>\n",
       "      <td>0.402333</td>\n",
       "    </tr>\n",
       "    <tr>\n",
       "      <th>92</th>\n",
       "      <td>2019-12-22 18:52:27</td>\n",
       "      <td>heatmap-6chan-1216.pth</td>\n",
       "      <td>./references/images_trimed_2-10shot</td>\n",
       "      <td>./references/all_2</td>\n",
       "      <td>cosine</td>\n",
       "      <td>1</td>\n",
       "      <td>voc 11</td>\n",
       "      <td>decay 0.1 per 2 chance</td>\n",
       "      <td>0.990521</td>\n",
       "      <td>0.535771</td>\n",
       "      <td>0.529985</td>\n",
       "      <td>0.633481</td>\n",
       "      <td>0.438061</td>\n",
       "    </tr>\n",
       "    <tr>\n",
       "      <th>93</th>\n",
       "      <td>2019-12-22 18:53:13</td>\n",
       "      <td>heatmap-6chan-1216.pth</td>\n",
       "      <td>./references/images_trimed_2-10shot</td>\n",
       "      <td>./references/all_2</td>\n",
       "      <td>cosine</td>\n",
       "      <td>3</td>\n",
       "      <td>voc 11</td>\n",
       "      <td>decay 0.1 per 2 chance</td>\n",
       "      <td>0.990521</td>\n",
       "      <td>0.605887</td>\n",
       "      <td>0.558045</td>\n",
       "      <td>0.727633</td>\n",
       "      <td>0.484140</td>\n",
       "    </tr>\n",
       "    <tr>\n",
       "      <th>94</th>\n",
       "      <td>2019-12-22 18:53:58</td>\n",
       "      <td>heatmap-6chan-1216.pth</td>\n",
       "      <td>./references/images_trimed_2-10shot</td>\n",
       "      <td>./references/all_2</td>\n",
       "      <td>cosine</td>\n",
       "      <td>5</td>\n",
       "      <td>voc 11</td>\n",
       "      <td>decay 0.1 per 2 chance</td>\n",
       "      <td>0.985782</td>\n",
       "      <td>0.564222</td>\n",
       "      <td>0.540160</td>\n",
       "      <td>0.641852</td>\n",
       "      <td>0.486593</td>\n",
       "    </tr>\n",
       "    <tr>\n",
       "      <th>95</th>\n",
       "      <td>2019-12-22 18:54:44</td>\n",
       "      <td>heatmap-6chan-1216.pth</td>\n",
       "      <td>./references/images_trimed_2</td>\n",
       "      <td>./references/all_2</td>\n",
       "      <td>cosine</td>\n",
       "      <td>10</td>\n",
       "      <td>voc 11</td>\n",
       "      <td>decay 0.1 per 2 chance</td>\n",
       "      <td>0.985782</td>\n",
       "      <td>0.543408</td>\n",
       "      <td>0.536063</td>\n",
       "      <td>0.509370</td>\n",
       "      <td>0.577445</td>\n",
       "    </tr>\n",
       "    <tr>\n",
       "      <th>96</th>\n",
       "      <td>2019-12-22 18:55:30</td>\n",
       "      <td>heatmap-6chan-1216.pth</td>\n",
       "      <td>./references/images_trimed_2-10shot</td>\n",
       "      <td>./references/all_2</td>\n",
       "      <td>cosine</td>\n",
       "      <td>1</td>\n",
       "      <td>voc 11</td>\n",
       "      <td>decay 0.1 per 2 chance</td>\n",
       "      <td>0.990521</td>\n",
       "      <td>0.608730</td>\n",
       "      <td>0.537625</td>\n",
       "      <td>0.622461</td>\n",
       "      <td>0.594999</td>\n",
       "    </tr>\n",
       "    <tr>\n",
       "      <th>97</th>\n",
       "      <td>2019-12-22 18:56:15</td>\n",
       "      <td>heatmap-6chan-1216.pth</td>\n",
       "      <td>./references/images_trimed_2-10shot</td>\n",
       "      <td>./references/all_2</td>\n",
       "      <td>cosine</td>\n",
       "      <td>3</td>\n",
       "      <td>voc 11</td>\n",
       "      <td>decay 0.1 per 2 chance</td>\n",
       "      <td>0.985782</td>\n",
       "      <td>0.521024</td>\n",
       "      <td>0.544912</td>\n",
       "      <td>0.542027</td>\n",
       "      <td>0.500021</td>\n",
       "    </tr>\n",
       "    <tr>\n",
       "      <th>98</th>\n",
       "      <td>2019-12-22 18:57:01</td>\n",
       "      <td>heatmap-6chan-1216.pth</td>\n",
       "      <td>./references/images_trimed_2-10shot</td>\n",
       "      <td>./references/all_2</td>\n",
       "      <td>cosine</td>\n",
       "      <td>5</td>\n",
       "      <td>voc 11</td>\n",
       "      <td>decay 0.1 per 2 chance</td>\n",
       "      <td>0.981043</td>\n",
       "      <td>0.448705</td>\n",
       "      <td>0.529017</td>\n",
       "      <td>0.399839</td>\n",
       "      <td>0.497572</td>\n",
       "    </tr>\n",
       "    <tr>\n",
       "      <th>99</th>\n",
       "      <td>2019-12-22 18:57:47</td>\n",
       "      <td>heatmap-6chan-1216.pth</td>\n",
       "      <td>./references/images_trimed_2</td>\n",
       "      <td>./references/all_2</td>\n",
       "      <td>cosine</td>\n",
       "      <td>10</td>\n",
       "      <td>voc 11</td>\n",
       "      <td>decay 0.1 per 2 chance</td>\n",
       "      <td>0.976303</td>\n",
       "      <td>0.467993</td>\n",
       "      <td>0.524050</td>\n",
       "      <td>0.420307</td>\n",
       "      <td>0.515679</td>\n",
       "    </tr>\n",
       "    <tr>\n",
       "      <th>100</th>\n",
       "      <td>2019-12-22 18:58:33</td>\n",
       "      <td>heatmap-6chan-1216.pth</td>\n",
       "      <td>./references/images_trimed_2-10shot</td>\n",
       "      <td>./references/all_2</td>\n",
       "      <td>cosine</td>\n",
       "      <td>1</td>\n",
       "      <td>voc 11</td>\n",
       "      <td>decay 0.1 per 2 chance</td>\n",
       "      <td>0.914692</td>\n",
       "      <td>0.460599</td>\n",
       "      <td>0.504571</td>\n",
       "      <td>0.477804</td>\n",
       "      <td>0.443394</td>\n",
       "    </tr>\n",
       "    <tr>\n",
       "      <th>101</th>\n",
       "      <td>2019-12-22 18:59:18</td>\n",
       "      <td>heatmap-6chan-1216.pth</td>\n",
       "      <td>./references/images_trimed_2-10shot</td>\n",
       "      <td>./references/all_2</td>\n",
       "      <td>cosine</td>\n",
       "      <td>3</td>\n",
       "      <td>voc 11</td>\n",
       "      <td>decay 0.1 per 2 chance</td>\n",
       "      <td>0.962085</td>\n",
       "      <td>0.514272</td>\n",
       "      <td>0.539437</td>\n",
       "      <td>0.523298</td>\n",
       "      <td>0.505245</td>\n",
       "    </tr>\n",
       "    <tr>\n",
       "      <th>102</th>\n",
       "      <td>2019-12-22 19:00:04</td>\n",
       "      <td>heatmap-6chan-1216.pth</td>\n",
       "      <td>./references/images_trimed_2-10shot</td>\n",
       "      <td>./references/all_2</td>\n",
       "      <td>cosine</td>\n",
       "      <td>5</td>\n",
       "      <td>voc 11</td>\n",
       "      <td>decay 0.1 per 2 chance</td>\n",
       "      <td>0.985782</td>\n",
       "      <td>0.530072</td>\n",
       "      <td>0.537341</td>\n",
       "      <td>0.587206</td>\n",
       "      <td>0.472938</td>\n",
       "    </tr>\n",
       "    <tr>\n",
       "      <th>103</th>\n",
       "      <td>2019-12-22 19:00:50</td>\n",
       "      <td>heatmap-6chan-1216.pth</td>\n",
       "      <td>./references/images_trimed_2</td>\n",
       "      <td>./references/all_2</td>\n",
       "      <td>cosine</td>\n",
       "      <td>10</td>\n",
       "      <td>voc 11</td>\n",
       "      <td>decay 0.1 per 2 chance</td>\n",
       "      <td>0.981043</td>\n",
       "      <td>0.537486</td>\n",
       "      <td>0.528393</td>\n",
       "      <td>0.573735</td>\n",
       "      <td>0.501237</td>\n",
       "    </tr>\n",
       "    <tr>\n",
       "      <th>104</th>\n",
       "      <td>2019-12-22 19:01:36</td>\n",
       "      <td>heatmap-6chan-1216.pth</td>\n",
       "      <td>./references/images_trimed_2-10shot</td>\n",
       "      <td>./references/all_2</td>\n",
       "      <td>cosine</td>\n",
       "      <td>1</td>\n",
       "      <td>voc 11</td>\n",
       "      <td>decay 0.1 per 2 chance</td>\n",
       "      <td>0.962085</td>\n",
       "      <td>0.426250</td>\n",
       "      <td>0.503803</td>\n",
       "      <td>0.325177</td>\n",
       "      <td>0.527324</td>\n",
       "    </tr>\n",
       "    <tr>\n",
       "      <th>105</th>\n",
       "      <td>2019-12-22 19:02:22</td>\n",
       "      <td>heatmap-6chan-1216.pth</td>\n",
       "      <td>./references/images_trimed_2-10shot</td>\n",
       "      <td>./references/all_2</td>\n",
       "      <td>cosine</td>\n",
       "      <td>3</td>\n",
       "      <td>voc 11</td>\n",
       "      <td>decay 0.1 per 2 chance</td>\n",
       "      <td>0.981043</td>\n",
       "      <td>0.514801</td>\n",
       "      <td>0.527353</td>\n",
       "      <td>0.554855</td>\n",
       "      <td>0.474747</td>\n",
       "    </tr>\n",
       "    <tr>\n",
       "      <th>106</th>\n",
       "      <td>2019-12-22 19:03:08</td>\n",
       "      <td>heatmap-6chan-1216.pth</td>\n",
       "      <td>./references/images_trimed_2-10shot</td>\n",
       "      <td>./references/all_2</td>\n",
       "      <td>cosine</td>\n",
       "      <td>5</td>\n",
       "      <td>voc 11</td>\n",
       "      <td>decay 0.1 per 2 chance</td>\n",
       "      <td>0.990521</td>\n",
       "      <td>0.545695</td>\n",
       "      <td>0.529515</td>\n",
       "      <td>0.605583</td>\n",
       "      <td>0.485808</td>\n",
       "    </tr>\n",
       "    <tr>\n",
       "      <th>107</th>\n",
       "      <td>2019-12-22 19:03:54</td>\n",
       "      <td>heatmap-6chan-1216.pth</td>\n",
       "      <td>./references/images_trimed_2</td>\n",
       "      <td>./references/all_2</td>\n",
       "      <td>cosine</td>\n",
       "      <td>10</td>\n",
       "      <td>voc 11</td>\n",
       "      <td>decay 0.1 per 2 chance</td>\n",
       "      <td>0.990521</td>\n",
       "      <td>0.572813</td>\n",
       "      <td>0.530657</td>\n",
       "      <td>0.581675</td>\n",
       "      <td>0.563950</td>\n",
       "    </tr>\n",
       "    <tr>\n",
       "      <th>108</th>\n",
       "      <td>2019-12-22 19:04:40</td>\n",
       "      <td>heatmap-6chan-1216.pth</td>\n",
       "      <td>./references/images_trimed_2-10shot</td>\n",
       "      <td>./references/all_2</td>\n",
       "      <td>cosine</td>\n",
       "      <td>1</td>\n",
       "      <td>voc 11</td>\n",
       "      <td>decay 0.1 per 2 chance</td>\n",
       "      <td>0.990521</td>\n",
       "      <td>0.551794</td>\n",
       "      <td>0.534389</td>\n",
       "      <td>0.680546</td>\n",
       "      <td>0.423042</td>\n",
       "    </tr>\n",
       "    <tr>\n",
       "      <th>109</th>\n",
       "      <td>2019-12-22 19:05:26</td>\n",
       "      <td>heatmap-6chan-1216.pth</td>\n",
       "      <td>./references/images_trimed_2-10shot</td>\n",
       "      <td>./references/all_2</td>\n",
       "      <td>cosine</td>\n",
       "      <td>3</td>\n",
       "      <td>voc 11</td>\n",
       "      <td>decay 0.1 per 2 chance</td>\n",
       "      <td>0.976303</td>\n",
       "      <td>0.544138</td>\n",
       "      <td>0.540184</td>\n",
       "      <td>0.550776</td>\n",
       "      <td>0.537500</td>\n",
       "    </tr>\n",
       "    <tr>\n",
       "      <th>110</th>\n",
       "      <td>2019-12-22 19:06:11</td>\n",
       "      <td>heatmap-6chan-1216.pth</td>\n",
       "      <td>./references/images_trimed_2-10shot</td>\n",
       "      <td>./references/all_2</td>\n",
       "      <td>cosine</td>\n",
       "      <td>5</td>\n",
       "      <td>voc 11</td>\n",
       "      <td>decay 0.1 per 2 chance</td>\n",
       "      <td>0.985782</td>\n",
       "      <td>0.511658</td>\n",
       "      <td>0.543080</td>\n",
       "      <td>0.546140</td>\n",
       "      <td>0.477177</td>\n",
       "    </tr>\n",
       "    <tr>\n",
       "      <th>111</th>\n",
       "      <td>2019-12-22 19:06:58</td>\n",
       "      <td>heatmap-6chan-1216.pth</td>\n",
       "      <td>./references/images_trimed_2</td>\n",
       "      <td>./references/all_2</td>\n",
       "      <td>cosine</td>\n",
       "      <td>10</td>\n",
       "      <td>voc 11</td>\n",
       "      <td>decay 0.1 per 2 chance</td>\n",
       "      <td>0.985782</td>\n",
       "      <td>0.485154</td>\n",
       "      <td>0.529716</td>\n",
       "      <td>0.481649</td>\n",
       "      <td>0.488658</td>\n",
       "    </tr>\n",
       "    <tr>\n",
       "      <th>112</th>\n",
       "      <td>2019-12-22 19:07:43</td>\n",
       "      <td>heatmap-6chan-1216.pth</td>\n",
       "      <td>./references/images_trimed_2-10shot</td>\n",
       "      <td>./references/all_2</td>\n",
       "      <td>cosine</td>\n",
       "      <td>1</td>\n",
       "      <td>voc 11</td>\n",
       "      <td>decay 0.1 per 2 chance</td>\n",
       "      <td>0.981043</td>\n",
       "      <td>0.601753</td>\n",
       "      <td>0.549002</td>\n",
       "      <td>0.590322</td>\n",
       "      <td>0.613183</td>\n",
       "    </tr>\n",
       "    <tr>\n",
       "      <th>113</th>\n",
       "      <td>2019-12-22 19:08:29</td>\n",
       "      <td>heatmap-6chan-1216.pth</td>\n",
       "      <td>./references/images_trimed_2-10shot</td>\n",
       "      <td>./references/all_2</td>\n",
       "      <td>cosine</td>\n",
       "      <td>3</td>\n",
       "      <td>voc 11</td>\n",
       "      <td>decay 0.1 per 2 chance</td>\n",
       "      <td>0.971564</td>\n",
       "      <td>0.552602</td>\n",
       "      <td>0.544335</td>\n",
       "      <td>0.723014</td>\n",
       "      <td>0.382190</td>\n",
       "    </tr>\n",
       "    <tr>\n",
       "      <th>114</th>\n",
       "      <td>2019-12-22 19:09:15</td>\n",
       "      <td>heatmap-6chan-1216.pth</td>\n",
       "      <td>./references/images_trimed_2-10shot</td>\n",
       "      <td>./references/all_2</td>\n",
       "      <td>cosine</td>\n",
       "      <td>5</td>\n",
       "      <td>voc 11</td>\n",
       "      <td>decay 0.1 per 2 chance</td>\n",
       "      <td>0.985782</td>\n",
       "      <td>0.549654</td>\n",
       "      <td>0.531099</td>\n",
       "      <td>0.510994</td>\n",
       "      <td>0.588314</td>\n",
       "    </tr>\n",
       "    <tr>\n",
       "      <th>115</th>\n",
       "      <td>2019-12-22 19:10:02</td>\n",
       "      <td>heatmap-6chan-1216.pth</td>\n",
       "      <td>./references/images_trimed_2</td>\n",
       "      <td>./references/all_2</td>\n",
       "      <td>cosine</td>\n",
       "      <td>10</td>\n",
       "      <td>voc 11</td>\n",
       "      <td>decay 0.1 per 2 chance</td>\n",
       "      <td>0.985782</td>\n",
       "      <td>0.548973</td>\n",
       "      <td>0.528044</td>\n",
       "      <td>0.610244</td>\n",
       "      <td>0.487702</td>\n",
       "    </tr>\n",
       "    <tr>\n",
       "      <th>116</th>\n",
       "      <td>2019-12-22 19:10:48</td>\n",
       "      <td>heatmap-6chan-1216.pth</td>\n",
       "      <td>./references/images_trimed_2-10shot</td>\n",
       "      <td>./references/all_2</td>\n",
       "      <td>cosine</td>\n",
       "      <td>1</td>\n",
       "      <td>voc 11</td>\n",
       "      <td>decay 0.1 per 2 chance</td>\n",
       "      <td>0.990521</td>\n",
       "      <td>0.564074</td>\n",
       "      <td>0.538826</td>\n",
       "      <td>0.673276</td>\n",
       "      <td>0.454871</td>\n",
       "    </tr>\n",
       "    <tr>\n",
       "      <th>117</th>\n",
       "      <td>2019-12-22 19:11:33</td>\n",
       "      <td>heatmap-6chan-1216.pth</td>\n",
       "      <td>./references/images_trimed_2-10shot</td>\n",
       "      <td>./references/all_2</td>\n",
       "      <td>cosine</td>\n",
       "      <td>3</td>\n",
       "      <td>voc 11</td>\n",
       "      <td>decay 0.1 per 2 chance</td>\n",
       "      <td>0.990521</td>\n",
       "      <td>0.592839</td>\n",
       "      <td>0.532615</td>\n",
       "      <td>0.610502</td>\n",
       "      <td>0.575175</td>\n",
       "    </tr>\n",
       "    <tr>\n",
       "      <th>118</th>\n",
       "      <td>2019-12-22 19:12:19</td>\n",
       "      <td>heatmap-6chan-1216.pth</td>\n",
       "      <td>./references/images_trimed_2-10shot</td>\n",
       "      <td>./references/all_2</td>\n",
       "      <td>cosine</td>\n",
       "      <td>5</td>\n",
       "      <td>voc 11</td>\n",
       "      <td>decay 0.1 per 2 chance</td>\n",
       "      <td>0.981043</td>\n",
       "      <td>0.499141</td>\n",
       "      <td>0.522841</td>\n",
       "      <td>0.498874</td>\n",
       "      <td>0.499408</td>\n",
       "    </tr>\n",
       "    <tr>\n",
       "      <th>119</th>\n",
       "      <td>2019-12-22 19:13:06</td>\n",
       "      <td>heatmap-6chan-1216.pth</td>\n",
       "      <td>./references/images_trimed_2</td>\n",
       "      <td>./references/all_2</td>\n",
       "      <td>cosine</td>\n",
       "      <td>10</td>\n",
       "      <td>voc 11</td>\n",
       "      <td>decay 0.1 per 2 chance</td>\n",
       "      <td>0.981043</td>\n",
       "      <td>0.520855</td>\n",
       "      <td>0.522469</td>\n",
       "      <td>0.536916</td>\n",
       "      <td>0.504794</td>\n",
       "    </tr>\n",
       "  </tbody>\n",
       "</table>\n",
       "<p>120 rows × 13 columns</p>\n",
       "</div>"
      ],
      "text/plain": [
       "               timestamp                   model  \\\n",
       "0    2019-12-22 17:42:36  heatmap-6chan-1216.pth   \n",
       "1    2019-12-22 17:43:22  heatmap-6chan-1216.pth   \n",
       "2    2019-12-22 17:44:08  heatmap-6chan-1216.pth   \n",
       "3    2019-12-22 17:44:54  heatmap-6chan-1216.pth   \n",
       "4    2019-12-22 17:45:39  heatmap-6chan-1216.pth   \n",
       "5    2019-12-22 17:46:25  heatmap-6chan-1216.pth   \n",
       "6    2019-12-22 17:47:10  heatmap-6chan-1216.pth   \n",
       "7    2019-12-22 17:47:56  heatmap-6chan-1216.pth   \n",
       "8    2019-12-22 17:48:42  heatmap-6chan-1216.pth   \n",
       "9    2019-12-22 17:49:27  heatmap-6chan-1216.pth   \n",
       "10   2019-12-22 17:50:12  heatmap-6chan-1216.pth   \n",
       "11   2019-12-22 17:50:58  heatmap-6chan-1216.pth   \n",
       "12   2019-12-22 17:51:43  heatmap-6chan-1216.pth   \n",
       "13   2019-12-22 17:52:29  heatmap-6chan-1216.pth   \n",
       "14   2019-12-22 17:53:14  heatmap-6chan-1216.pth   \n",
       "15   2019-12-22 17:54:00  heatmap-6chan-1216.pth   \n",
       "16   2019-12-22 17:54:46  heatmap-6chan-1216.pth   \n",
       "17   2019-12-22 17:55:31  heatmap-6chan-1216.pth   \n",
       "18   2019-12-22 17:56:17  heatmap-6chan-1216.pth   \n",
       "19   2019-12-22 17:57:03  heatmap-6chan-1216.pth   \n",
       "20   2019-12-22 17:57:48  heatmap-6chan-1216.pth   \n",
       "21   2019-12-22 17:58:34  heatmap-6chan-1216.pth   \n",
       "22   2019-12-22 17:59:19  heatmap-6chan-1216.pth   \n",
       "23   2019-12-22 18:00:05  heatmap-6chan-1216.pth   \n",
       "24   2019-12-22 18:00:50  heatmap-6chan-1216.pth   \n",
       "25   2019-12-22 18:01:35  heatmap-6chan-1216.pth   \n",
       "26   2019-12-22 18:02:21  heatmap-6chan-1216.pth   \n",
       "27   2019-12-22 18:03:07  heatmap-6chan-1216.pth   \n",
       "28   2019-12-22 18:03:52  heatmap-6chan-1216.pth   \n",
       "29   2019-12-22 18:04:37  heatmap-6chan-1216.pth   \n",
       "..                   ...                     ...   \n",
       "90   2019-12-22 18:50:56  heatmap-6chan-1216.pth   \n",
       "91   2019-12-22 18:51:42  heatmap-6chan-1216.pth   \n",
       "92   2019-12-22 18:52:27  heatmap-6chan-1216.pth   \n",
       "93   2019-12-22 18:53:13  heatmap-6chan-1216.pth   \n",
       "94   2019-12-22 18:53:58  heatmap-6chan-1216.pth   \n",
       "95   2019-12-22 18:54:44  heatmap-6chan-1216.pth   \n",
       "96   2019-12-22 18:55:30  heatmap-6chan-1216.pth   \n",
       "97   2019-12-22 18:56:15  heatmap-6chan-1216.pth   \n",
       "98   2019-12-22 18:57:01  heatmap-6chan-1216.pth   \n",
       "99   2019-12-22 18:57:47  heatmap-6chan-1216.pth   \n",
       "100  2019-12-22 18:58:33  heatmap-6chan-1216.pth   \n",
       "101  2019-12-22 18:59:18  heatmap-6chan-1216.pth   \n",
       "102  2019-12-22 19:00:04  heatmap-6chan-1216.pth   \n",
       "103  2019-12-22 19:00:50  heatmap-6chan-1216.pth   \n",
       "104  2019-12-22 19:01:36  heatmap-6chan-1216.pth   \n",
       "105  2019-12-22 19:02:22  heatmap-6chan-1216.pth   \n",
       "106  2019-12-22 19:03:08  heatmap-6chan-1216.pth   \n",
       "107  2019-12-22 19:03:54  heatmap-6chan-1216.pth   \n",
       "108  2019-12-22 19:04:40  heatmap-6chan-1216.pth   \n",
       "109  2019-12-22 19:05:26  heatmap-6chan-1216.pth   \n",
       "110  2019-12-22 19:06:11  heatmap-6chan-1216.pth   \n",
       "111  2019-12-22 19:06:58  heatmap-6chan-1216.pth   \n",
       "112  2019-12-22 19:07:43  heatmap-6chan-1216.pth   \n",
       "113  2019-12-22 19:08:29  heatmap-6chan-1216.pth   \n",
       "114  2019-12-22 19:09:15  heatmap-6chan-1216.pth   \n",
       "115  2019-12-22 19:10:02  heatmap-6chan-1216.pth   \n",
       "116  2019-12-22 19:10:48  heatmap-6chan-1216.pth   \n",
       "117  2019-12-22 19:11:33  heatmap-6chan-1216.pth   \n",
       "118  2019-12-22 19:12:19  heatmap-6chan-1216.pth   \n",
       "119  2019-12-22 19:13:06  heatmap-6chan-1216.pth   \n",
       "\n",
       "                                     ref                 val similarity  shot  \\\n",
       "0    ./references/images_trimed_2-10shot  ./references/all_2     cosine     1   \n",
       "1    ./references/images_trimed_2-10shot  ./references/all_2     cosine     3   \n",
       "2    ./references/images_trimed_2-10shot  ./references/all_2     cosine     5   \n",
       "3           ./references/images_trimed_2  ./references/all_2     cosine    10   \n",
       "4    ./references/images_trimed_2-10shot  ./references/all_2     cosine     1   \n",
       "5    ./references/images_trimed_2-10shot  ./references/all_2     cosine     3   \n",
       "6    ./references/images_trimed_2-10shot  ./references/all_2     cosine     5   \n",
       "7           ./references/images_trimed_2  ./references/all_2     cosine    10   \n",
       "8    ./references/images_trimed_2-10shot  ./references/all_2     cosine     1   \n",
       "9    ./references/images_trimed_2-10shot  ./references/all_2     cosine     3   \n",
       "10   ./references/images_trimed_2-10shot  ./references/all_2     cosine     5   \n",
       "11          ./references/images_trimed_2  ./references/all_2     cosine    10   \n",
       "12   ./references/images_trimed_2-10shot  ./references/all_2     cosine     1   \n",
       "13   ./references/images_trimed_2-10shot  ./references/all_2     cosine     3   \n",
       "14   ./references/images_trimed_2-10shot  ./references/all_2     cosine     5   \n",
       "15          ./references/images_trimed_2  ./references/all_2     cosine    10   \n",
       "16   ./references/images_trimed_2-10shot  ./references/all_2     cosine     1   \n",
       "17   ./references/images_trimed_2-10shot  ./references/all_2     cosine     3   \n",
       "18   ./references/images_trimed_2-10shot  ./references/all_2     cosine     5   \n",
       "19          ./references/images_trimed_2  ./references/all_2     cosine    10   \n",
       "20   ./references/images_trimed_2-10shot  ./references/all_2     cosine     1   \n",
       "21   ./references/images_trimed_2-10shot  ./references/all_2     cosine     3   \n",
       "22   ./references/images_trimed_2-10shot  ./references/all_2     cosine     5   \n",
       "23          ./references/images_trimed_2  ./references/all_2     cosine    10   \n",
       "24   ./references/images_trimed_2-10shot  ./references/all_2     cosine     1   \n",
       "25   ./references/images_trimed_2-10shot  ./references/all_2     cosine     3   \n",
       "26   ./references/images_trimed_2-10shot  ./references/all_2     cosine     5   \n",
       "27          ./references/images_trimed_2  ./references/all_2     cosine    10   \n",
       "28   ./references/images_trimed_2-10shot  ./references/all_2     cosine     1   \n",
       "29   ./references/images_trimed_2-10shot  ./references/all_2     cosine     3   \n",
       "..                                   ...                 ...        ...   ...   \n",
       "90   ./references/images_trimed_2-10shot  ./references/all_2     cosine     5   \n",
       "91          ./references/images_trimed_2  ./references/all_2     cosine    10   \n",
       "92   ./references/images_trimed_2-10shot  ./references/all_2     cosine     1   \n",
       "93   ./references/images_trimed_2-10shot  ./references/all_2     cosine     3   \n",
       "94   ./references/images_trimed_2-10shot  ./references/all_2     cosine     5   \n",
       "95          ./references/images_trimed_2  ./references/all_2     cosine    10   \n",
       "96   ./references/images_trimed_2-10shot  ./references/all_2     cosine     1   \n",
       "97   ./references/images_trimed_2-10shot  ./references/all_2     cosine     3   \n",
       "98   ./references/images_trimed_2-10shot  ./references/all_2     cosine     5   \n",
       "99          ./references/images_trimed_2  ./references/all_2     cosine    10   \n",
       "100  ./references/images_trimed_2-10shot  ./references/all_2     cosine     1   \n",
       "101  ./references/images_trimed_2-10shot  ./references/all_2     cosine     3   \n",
       "102  ./references/images_trimed_2-10shot  ./references/all_2     cosine     5   \n",
       "103         ./references/images_trimed_2  ./references/all_2     cosine    10   \n",
       "104  ./references/images_trimed_2-10shot  ./references/all_2     cosine     1   \n",
       "105  ./references/images_trimed_2-10shot  ./references/all_2     cosine     3   \n",
       "106  ./references/images_trimed_2-10shot  ./references/all_2     cosine     5   \n",
       "107         ./references/images_trimed_2  ./references/all_2     cosine    10   \n",
       "108  ./references/images_trimed_2-10shot  ./references/all_2     cosine     1   \n",
       "109  ./references/images_trimed_2-10shot  ./references/all_2     cosine     3   \n",
       "110  ./references/images_trimed_2-10shot  ./references/all_2     cosine     5   \n",
       "111         ./references/images_trimed_2  ./references/all_2     cosine    10   \n",
       "112  ./references/images_trimed_2-10shot  ./references/all_2     cosine     1   \n",
       "113  ./references/images_trimed_2-10shot  ./references/all_2     cosine     3   \n",
       "114  ./references/images_trimed_2-10shot  ./references/all_2     cosine     5   \n",
       "115         ./references/images_trimed_2  ./references/all_2     cosine    10   \n",
       "116  ./references/images_trimed_2-10shot  ./references/all_2     cosine     1   \n",
       "117  ./references/images_trimed_2-10shot  ./references/all_2     cosine     3   \n",
       "118  ./references/images_trimed_2-10shot  ./references/all_2     cosine     5   \n",
       "119         ./references/images_trimed_2  ./references/all_2     cosine    10   \n",
       "\n",
       "    train-data                    memo       acc       mAP       IOU  \\\n",
       "0       voc 11  decay 0.1 per 2 chance  0.895735  0.468858  0.494971   \n",
       "1       voc 11  decay 0.1 per 2 chance  0.981043  0.489954  0.536775   \n",
       "2       voc 11  decay 0.1 per 2 chance  0.990521  0.553405  0.538578   \n",
       "3       voc 11  decay 0.1 per 2 chance  0.981043  0.508362  0.519684   \n",
       "4       voc 11  decay 0.1 per 2 chance  0.952607  0.462381  0.508459   \n",
       "5       voc 11  decay 0.1 per 2 chance  0.985782  0.548734  0.534870   \n",
       "6       voc 11  decay 0.1 per 2 chance  0.990521  0.561403  0.543246   \n",
       "7       voc 11  decay 0.1 per 2 chance  0.990521  0.450853  0.529316   \n",
       "8       voc 11  decay 0.1 per 2 chance  0.962085  0.508596  0.530790   \n",
       "9       voc 11  decay 0.1 per 2 chance  0.981043  0.579386  0.553185   \n",
       "10      voc 11  decay 0.1 per 2 chance  0.985782  0.572074  0.542260   \n",
       "11      voc 11  decay 0.1 per 2 chance  0.995261  0.535864  0.534074   \n",
       "12      voc 11  decay 0.1 per 2 chance  0.985782  0.565255  0.542737   \n",
       "13      voc 11  decay 0.1 per 2 chance  0.981043  0.555215  0.539618   \n",
       "14      voc 11  decay 0.1 per 2 chance  0.990521  0.550617  0.536711   \n",
       "15      voc 11  decay 0.1 per 2 chance  0.981043  0.531918  0.531499   \n",
       "16      voc 11  decay 0.1 per 2 chance  0.976303  0.562700  0.518869   \n",
       "17      voc 11  decay 0.1 per 2 chance  0.985782  0.513944  0.534023   \n",
       "18      voc 11  decay 0.1 per 2 chance  0.995261  0.555420  0.537962   \n",
       "19      voc 11  decay 0.1 per 2 chance  0.985782  0.600598  0.543962   \n",
       "20      voc 11  decay 0.1 per 2 chance  0.919431  0.500833  0.499672   \n",
       "21      voc 11  decay 0.1 per 2 chance  0.976303  0.505226  0.530629   \n",
       "22      voc 11  decay 0.1 per 2 chance  0.966825  0.534640  0.528999   \n",
       "23      voc 11  decay 0.1 per 2 chance  0.985782  0.513557  0.524338   \n",
       "24      voc 11  decay 0.1 per 2 chance  0.981043  0.601753  0.549002   \n",
       "25      voc 11  decay 0.1 per 2 chance  0.985782  0.578106  0.533369   \n",
       "26      voc 11  decay 0.1 per 2 chance  0.990521  0.533590  0.548438   \n",
       "27      voc 11  decay 0.1 per 2 chance  0.990521  0.462162  0.511533   \n",
       "28      voc 11  decay 0.1 per 2 chance  0.895735  0.564612  0.518858   \n",
       "29      voc 11  decay 0.1 per 2 chance  0.981043  0.522932  0.542017   \n",
       "..         ...                     ...       ...       ...       ...   \n",
       "90      voc 11  decay 0.1 per 2 chance  0.985782  0.547235  0.536411   \n",
       "91      voc 11  decay 0.1 per 2 chance  0.995261  0.409202  0.492640   \n",
       "92      voc 11  decay 0.1 per 2 chance  0.990521  0.535771  0.529985   \n",
       "93      voc 11  decay 0.1 per 2 chance  0.990521  0.605887  0.558045   \n",
       "94      voc 11  decay 0.1 per 2 chance  0.985782  0.564222  0.540160   \n",
       "95      voc 11  decay 0.1 per 2 chance  0.985782  0.543408  0.536063   \n",
       "96      voc 11  decay 0.1 per 2 chance  0.990521  0.608730  0.537625   \n",
       "97      voc 11  decay 0.1 per 2 chance  0.985782  0.521024  0.544912   \n",
       "98      voc 11  decay 0.1 per 2 chance  0.981043  0.448705  0.529017   \n",
       "99      voc 11  decay 0.1 per 2 chance  0.976303  0.467993  0.524050   \n",
       "100     voc 11  decay 0.1 per 2 chance  0.914692  0.460599  0.504571   \n",
       "101     voc 11  decay 0.1 per 2 chance  0.962085  0.514272  0.539437   \n",
       "102     voc 11  decay 0.1 per 2 chance  0.985782  0.530072  0.537341   \n",
       "103     voc 11  decay 0.1 per 2 chance  0.981043  0.537486  0.528393   \n",
       "104     voc 11  decay 0.1 per 2 chance  0.962085  0.426250  0.503803   \n",
       "105     voc 11  decay 0.1 per 2 chance  0.981043  0.514801  0.527353   \n",
       "106     voc 11  decay 0.1 per 2 chance  0.990521  0.545695  0.529515   \n",
       "107     voc 11  decay 0.1 per 2 chance  0.990521  0.572813  0.530657   \n",
       "108     voc 11  decay 0.1 per 2 chance  0.990521  0.551794  0.534389   \n",
       "109     voc 11  decay 0.1 per 2 chance  0.976303  0.544138  0.540184   \n",
       "110     voc 11  decay 0.1 per 2 chance  0.985782  0.511658  0.543080   \n",
       "111     voc 11  decay 0.1 per 2 chance  0.985782  0.485154  0.529716   \n",
       "112     voc 11  decay 0.1 per 2 chance  0.981043  0.601753  0.549002   \n",
       "113     voc 11  decay 0.1 per 2 chance  0.971564  0.552602  0.544335   \n",
       "114     voc 11  decay 0.1 per 2 chance  0.985782  0.549654  0.531099   \n",
       "115     voc 11  decay 0.1 per 2 chance  0.985782  0.548973  0.528044   \n",
       "116     voc 11  decay 0.1 per 2 chance  0.990521  0.564074  0.538826   \n",
       "117     voc 11  decay 0.1 per 2 chance  0.990521  0.592839  0.532615   \n",
       "118     voc 11  decay 0.1 per 2 chance  0.981043  0.499141  0.522841   \n",
       "119     voc 11  decay 0.1 per 2 chance  0.981043  0.520855  0.522469   \n",
       "\n",
       "          AP0       AP1  \n",
       "0    0.397946  0.539771  \n",
       "1    0.471694  0.508214  \n",
       "2    0.609672  0.497139  \n",
       "3    0.527978  0.488746  \n",
       "4    0.482064  0.442698  \n",
       "5    0.629901  0.467566  \n",
       "6    0.610180  0.512626  \n",
       "7    0.447112  0.454593  \n",
       "8    0.646610  0.370582  \n",
       "9    0.686387  0.472384  \n",
       "10   0.599649  0.544499  \n",
       "11   0.608839  0.462889  \n",
       "12   0.660910  0.469600  \n",
       "13   0.607613  0.502818  \n",
       "14   0.622211  0.479024  \n",
       "15   0.589388  0.474448  \n",
       "16   0.599136  0.526264  \n",
       "17   0.572618  0.455269  \n",
       "18   0.624060  0.486780  \n",
       "19   0.620027  0.581168  \n",
       "20   0.490548  0.511118  \n",
       "21   0.564620  0.445833  \n",
       "22   0.519389  0.549892  \n",
       "23   0.510547  0.516566  \n",
       "24   0.590322  0.613183  \n",
       "25   0.564252  0.591960  \n",
       "26   0.574772  0.492408  \n",
       "27   0.427667  0.496657  \n",
       "28   0.594266  0.534959  \n",
       "29   0.600336  0.445528  \n",
       "..        ...       ...  \n",
       "90   0.607414  0.487057  \n",
       "91   0.416071  0.402333  \n",
       "92   0.633481  0.438061  \n",
       "93   0.727633  0.484140  \n",
       "94   0.641852  0.486593  \n",
       "95   0.509370  0.577445  \n",
       "96   0.622461  0.594999  \n",
       "97   0.542027  0.500021  \n",
       "98   0.399839  0.497572  \n",
       "99   0.420307  0.515679  \n",
       "100  0.477804  0.443394  \n",
       "101  0.523298  0.505245  \n",
       "102  0.587206  0.472938  \n",
       "103  0.573735  0.501237  \n",
       "104  0.325177  0.527324  \n",
       "105  0.554855  0.474747  \n",
       "106  0.605583  0.485808  \n",
       "107  0.581675  0.563950  \n",
       "108  0.680546  0.423042  \n",
       "109  0.550776  0.537500  \n",
       "110  0.546140  0.477177  \n",
       "111  0.481649  0.488658  \n",
       "112  0.590322  0.613183  \n",
       "113  0.723014  0.382190  \n",
       "114  0.510994  0.588314  \n",
       "115  0.610244  0.487702  \n",
       "116  0.673276  0.454871  \n",
       "117  0.610502  0.575175  \n",
       "118  0.498874  0.499408  \n",
       "119  0.536916  0.504794  \n",
       "\n",
       "[120 rows x 13 columns]"
      ]
     },
     "execution_count": 13,
     "metadata": {},
     "output_type": "execute_result"
    }
   ],
   "source": [
    "res_df"
   ]
  }
 ],
 "metadata": {
  "kernelspec": {
   "display_name": "Python [default]",
   "language": "python",
   "name": "python3"
  },
  "language_info": {
   "codemirror_mode": {
    "name": "ipython",
    "version": 3
   },
   "file_extension": ".py",
   "mimetype": "text/x-python",
   "name": "python",
   "nbconvert_exporter": "python",
   "pygments_lexer": "ipython3",
   "version": "3.6.5"
  }
 },
 "nbformat": 4,
 "nbformat_minor": 2
}
