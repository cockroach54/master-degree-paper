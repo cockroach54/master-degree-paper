{
 "cells": [
  {
   "cell_type": "code",
   "execution_count": 27,
   "metadata": {},
   "outputs": [],
   "source": [
    "valDirList = ['new-cosmetic-floor2', 'new-cosmetic-frontview2', 'new-cosmetic-wall']\n",
    "refDirList = ['new-cosmetic-floor', 'new-cosmetic-frontview', 'new-cosmetic-office']\n",
    "dir_path = 'C:\\\\Users\\\\LSW\\\\Desktop\\\\Smart_mirror\\\\Yolo_mark\\\\x64\\\\Release\\\\cosmetic-data'\n",
    "\n",
    "for d in refDirList:\n",
    "    aa = d.split('-')[-1] # 구분자\n",
    "    orig_dir = os.path.join(dir_path, d, 'temp')\n",
    "    new_dir = os.path.join(dir_path, 'reference_21_train')\n",
    "    new_dir2 = os.path.join(dir_path, 'reference_21_val')\n",
    "    \n",
    "    for i,f in enumerate(os.listdir(orig_dir)):\n",
    "        fn, ext = os.path.splitext(f)\n",
    "        new_fn = fn+'-'+aa+ext\n",
    "        orig_path = os.path.join(orig_dir, f)\n",
    "        new_path = os.path.join(new_dir, new_fn)\n",
    "        new_path2 = os.path.join(new_dir2, new_fn)\n",
    "        if(i%16==0 or i%16==1): shutil.copy(orig_path, new_path2)\n",
    "        else: shutil.copy(orig_path, new_path)\n",
    "#         for f in os.listdir(orig_dir)[10:]:\n",
    "#             new_path = 'validation_21'\n",
    "#             shutil.copy(orig_path, new_path)            \n",
    "# #         print(orig_dir, new_dir)"
   ]
  },
  {
   "cell_type": "markdown",
   "metadata": {},
   "source": [
    "---\n",
    "# ---"
   ]
  },
  {
   "cell_type": "code",
   "execution_count": 1,
   "metadata": {
    "collapsed": true
   },
   "outputs": [],
   "source": [
    "class_path = 'C:\\\\Users\\\\LSW\\\\Desktop\\\\Smart_mirror\\\\Yolo_mark\\\\x64\\\\Release\\\\cosmetic-data\\\\obj.names'\n",
    "with open(class_path, 'r', encoding='utf-8') as f:\n",
    "    classes = [c for c in f.read().split('\\n')]"
   ]
  },
  {
   "cell_type": "code",
   "execution_count": 2,
   "metadata": {
    "collapsed": true
   },
   "outputs": [],
   "source": [
    "import os\n",
    "import shutil"
   ]
  },
  {
   "cell_type": "code",
   "execution_count": 21,
   "metadata": {
    "collapsed": true
   },
   "outputs": [],
   "source": [
    "path = 'images_trimed'\n",
    "os.mkdir(os.path.join('references',path))\n",
    "for c in classes:\n",
    "    os.mkdir(os.path.join('references', path, c))"
   ]
  },
  {
   "cell_type": "code",
   "execution_count": 7,
   "metadata": {
    "collapsed": true,
    "scrolled": true
   },
   "outputs": [],
   "source": [
    "orig2class = {c.split(' ')[0]:c for c in classes}"
   ]
  },
  {
   "cell_type": "code",
   "execution_count": 13,
   "metadata": {
    "collapsed": true
   },
   "outputs": [],
   "source": [
    "\"\"\"\n",
    "bbox to images_bbox\n",
    "클래스별로 나누기\n",
    "\"\"\"\n",
    "valDirList = ['new-cosmetic-floor2', 'new-cosmetic-frontview2', 'new-cosmetic-wall']\n",
    "\n",
    "for d in valDirList:\n",
    "    \n",
    "    orig_dir = os.path.join(d, 'bbox')\n",
    "    new_dir = os.path.join(d, 'images_bbox')\n",
    "    \n",
    "    os.mkdir(new_dir)\n",
    "    for c in classes:\n",
    "        os.mkdir(os.path.join(new_dir, c))\n",
    "        \n",
    "    for m in os.listdir(orig_dir):\n",
    "        orig_path = os.path.join(orig_dir, m)\n",
    "        new_path = os.path.join(new_dir, orig2class[m.split(' ')[0]], m)\n",
    "        try: shutil.copy(orig_path, new_path)\n",
    "        except: pass"
   ]
  },
  {
   "cell_type": "markdown",
   "metadata": {},
   "source": [
    "---\n",
    "#  references로 이미지 모으기"
   ]
  },
  {
   "cell_type": "code",
   "execution_count": 23,
   "metadata": {
    "collapsed": true
   },
   "outputs": [],
   "source": [
    "valDirList = ['new-cosmetic-floor', 'new-cosmetic-frontview', 'new-cosmetic-office']\n",
    "idx = 0\n",
    "for d in valDirList:\n",
    "    for im in os.listdir(os.path.join(d, 'bbox')):\n",
    "        head = im.split(' ')[0]\n",
    "        fn = head+'_'+str(idx)+'.jpg'\n",
    "        orig_path = os.path.join(d, 'bbox', im)\n",
    "        new_path = os.path.join('references', 'images_trimed', orig2class[head], fn)\n",
    "        shutil.copy(orig_path, new_path)\n",
    "        idx+=1"
   ]
  },
  {
   "cell_type": "code",
   "execution_count": 25,
   "metadata": {
    "collapsed": true
   },
   "outputs": [],
   "source": [
    "valDirList = ['new-cosmetic-floor', 'new-cosmetic-frontview', 'new-cosmetic-office']\n",
    "idx = 0\n",
    "for d in valDirList:\n",
    "    for c in os.listdir(os.path.join(d, 'images_ext')):\n",
    "        for im in os.listdir(os.path.join(d, 'images_ext', c)):\n",
    "            head = im.split(' ')[0]\n",
    "            fn = head+'_'+str(idx)+'.jpg'\n",
    "            orig_path = os.path.join(d, 'images_ext', c, im)\n",
    "            new_path = os.path.join('references', 'original', orig2class[head], fn)\n",
    "            shutil.copy(orig_path, new_path)\n",
    "            idx+=1"
   ]
  },
  {
   "cell_type": "code",
   "execution_count": 27,
   "metadata": {
    "collapsed": true
   },
   "outputs": [],
   "source": [
    "valDirList = ['new-cosmetic-floor', 'new-cosmetic-frontview', 'new-cosmetic-office']\n",
    "idx = 0\n",
    "for d in valDirList:\n",
    "    for c in os.listdir(os.path.join(d, 'images_full')):\n",
    "        for im in os.listdir(os.path.join(d, 'images_full', c)):\n",
    "            head = im.split(' ')[0]\n",
    "            fn = head+'_'+str(idx)+'.jpg'\n",
    "            orig_path = os.path.join(d, 'images_full', c, im)\n",
    "            new_path = os.path.join('references', 'full', orig2class[head], fn)\n",
    "            shutil.copy(orig_path, new_path)\n",
    "            idx+=1"
   ]
  }
 ],
 "metadata": {
  "kernelspec": {
   "display_name": "Python 3",
   "language": "python",
   "name": "python3"
  },
  "language_info": {
   "codemirror_mode": {
    "name": "ipython",
    "version": 3
   },
   "file_extension": ".py",
   "mimetype": "text/x-python",
   "name": "python",
   "nbconvert_exporter": "python",
   "pygments_lexer": "ipython3",
   "version": "3.6.2"
  }
 },
 "nbformat": 4,
 "nbformat_minor": 2
}
